{
  "nbformat": 4,
  "nbformat_minor": 0,
  "metadata": {
    "colab": {
      "name": "01_폐암 환자 생존률.ipynb",
      "provenance": []
    },
    "kernelspec": {
      "name": "python3",
      "display_name": "Python 3"
    }
  },
  "cells": [
    {
      "cell_type": "code",
      "metadata": {
        "id": "Z-pk8tIGYJk4"
      },
      "source": [
        "import numpy as np\r\n",
        "import tensorflow as tf"
      ],
      "execution_count": 1,
      "outputs": []
    },
    {
      "cell_type": "code",
      "metadata": {
        "id": "ZUXKPCK5Yfgs"
      },
      "source": [
        "seed = 2021\r\n",
        "np.random.seed(seed)\r\n",
        "tf.random.set_seed(seed)"
      ],
      "execution_count": 2,
      "outputs": []
    },
    {
      "cell_type": "code",
      "metadata": {
        "colab": {
          "resources": {
            "http://localhost:8080/nbextensions/google.colab/files.js": {
              "data": "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",
              "ok": true,
              "headers": [
                [
                  "content-type",
                  "application/javascript"
                ]
              ],
              "status": 200,
              "status_text": ""
            }
          },
          "base_uri": "https://localhost:8080/",
          "height": 93
        },
        "id": "DuBtIG9aYlmf",
        "outputId": "052ac987-b6fb-4bf1-e05a-db2a44a1f940"
      },
      "source": [
        "import pandas as pd\r\n",
        "from google.colab import files\r\n",
        "uploaded = files.upload()\r\n",
        "filename = list(uploaded.keys())[0]\r\n",
        "filename"
      ],
      "execution_count": 3,
      "outputs": [
        {
          "output_type": "display_data",
          "data": {
            "text/html": [
              "\n",
              "     <input type=\"file\" id=\"files-4ddddead-aa16-421e-906f-5cdecede7625\" name=\"files[]\" multiple disabled\n",
              "        style=\"border:none\" />\n",
              "     <output id=\"result-4ddddead-aa16-421e-906f-5cdecede7625\">\n",
              "      Upload widget is only available when the cell has been executed in the\n",
              "      current browser session. Please rerun this cell to enable.\n",
              "      </output>\n",
              "      <script src=\"/nbextensions/google.colab/files.js\"></script> "
            ],
            "text/plain": [
              "<IPython.core.display.HTML object>"
            ]
          },
          "metadata": {
            "tags": []
          }
        },
        {
          "output_type": "stream",
          "text": [
            "Saving ThoraricSurgery.csv to ThoraricSurgery.csv\n"
          ],
          "name": "stdout"
        },
        {
          "output_type": "execute_result",
          "data": {
            "application/vnd.google.colaboratory.intrinsic+json": {
              "type": "string"
            },
            "text/plain": [
              "'ThoraricSurgery.csv'"
            ]
          },
          "metadata": {
            "tags": []
          },
          "execution_count": 3
        }
      ]
    },
    {
      "cell_type": "code",
      "metadata": {
        "colab": {
          "base_uri": "https://localhost:8080/",
          "height": 204
        },
        "id": "L0wlcO2lYu4u",
        "outputId": "4ecfe139-531d-41b8-a19e-29ab86f9ce25"
      },
      "source": [
        "df = pd.read_csv(filename, header=None)\r\n",
        "df.head()"
      ],
      "execution_count": 4,
      "outputs": [
        {
          "output_type": "execute_result",
          "data": {
            "text/html": [
              "<div>\n",
              "<style scoped>\n",
              "    .dataframe tbody tr th:only-of-type {\n",
              "        vertical-align: middle;\n",
              "    }\n",
              "\n",
              "    .dataframe tbody tr th {\n",
              "        vertical-align: top;\n",
              "    }\n",
              "\n",
              "    .dataframe thead th {\n",
              "        text-align: right;\n",
              "    }\n",
              "</style>\n",
              "<table border=\"1\" class=\"dataframe\">\n",
              "  <thead>\n",
              "    <tr style=\"text-align: right;\">\n",
              "      <th></th>\n",
              "      <th>0</th>\n",
              "      <th>1</th>\n",
              "      <th>2</th>\n",
              "      <th>3</th>\n",
              "      <th>4</th>\n",
              "      <th>5</th>\n",
              "      <th>6</th>\n",
              "      <th>7</th>\n",
              "      <th>8</th>\n",
              "      <th>9</th>\n",
              "      <th>10</th>\n",
              "      <th>11</th>\n",
              "      <th>12</th>\n",
              "      <th>13</th>\n",
              "      <th>14</th>\n",
              "      <th>15</th>\n",
              "      <th>16</th>\n",
              "      <th>17</th>\n",
              "    </tr>\n",
              "  </thead>\n",
              "  <tbody>\n",
              "    <tr>\n",
              "      <th>0</th>\n",
              "      <td>293</td>\n",
              "      <td>1</td>\n",
              "      <td>3.80</td>\n",
              "      <td>2.80</td>\n",
              "      <td>0</td>\n",
              "      <td>0</td>\n",
              "      <td>0</td>\n",
              "      <td>0</td>\n",
              "      <td>0</td>\n",
              "      <td>0</td>\n",
              "      <td>12</td>\n",
              "      <td>0</td>\n",
              "      <td>0</td>\n",
              "      <td>0</td>\n",
              "      <td>1</td>\n",
              "      <td>0</td>\n",
              "      <td>62</td>\n",
              "      <td>0</td>\n",
              "    </tr>\n",
              "    <tr>\n",
              "      <th>1</th>\n",
              "      <td>1</td>\n",
              "      <td>2</td>\n",
              "      <td>2.88</td>\n",
              "      <td>2.16</td>\n",
              "      <td>1</td>\n",
              "      <td>0</td>\n",
              "      <td>0</td>\n",
              "      <td>0</td>\n",
              "      <td>1</td>\n",
              "      <td>1</td>\n",
              "      <td>14</td>\n",
              "      <td>0</td>\n",
              "      <td>0</td>\n",
              "      <td>0</td>\n",
              "      <td>1</td>\n",
              "      <td>0</td>\n",
              "      <td>60</td>\n",
              "      <td>0</td>\n",
              "    </tr>\n",
              "    <tr>\n",
              "      <th>2</th>\n",
              "      <td>8</td>\n",
              "      <td>2</td>\n",
              "      <td>3.19</td>\n",
              "      <td>2.50</td>\n",
              "      <td>1</td>\n",
              "      <td>0</td>\n",
              "      <td>0</td>\n",
              "      <td>0</td>\n",
              "      <td>1</td>\n",
              "      <td>0</td>\n",
              "      <td>11</td>\n",
              "      <td>0</td>\n",
              "      <td>0</td>\n",
              "      <td>1</td>\n",
              "      <td>1</td>\n",
              "      <td>0</td>\n",
              "      <td>66</td>\n",
              "      <td>1</td>\n",
              "    </tr>\n",
              "    <tr>\n",
              "      <th>3</th>\n",
              "      <td>14</td>\n",
              "      <td>2</td>\n",
              "      <td>3.98</td>\n",
              "      <td>3.06</td>\n",
              "      <td>2</td>\n",
              "      <td>0</td>\n",
              "      <td>0</td>\n",
              "      <td>0</td>\n",
              "      <td>1</td>\n",
              "      <td>1</td>\n",
              "      <td>14</td>\n",
              "      <td>0</td>\n",
              "      <td>0</td>\n",
              "      <td>0</td>\n",
              "      <td>1</td>\n",
              "      <td>0</td>\n",
              "      <td>80</td>\n",
              "      <td>1</td>\n",
              "    </tr>\n",
              "    <tr>\n",
              "      <th>4</th>\n",
              "      <td>17</td>\n",
              "      <td>2</td>\n",
              "      <td>2.21</td>\n",
              "      <td>1.88</td>\n",
              "      <td>0</td>\n",
              "      <td>0</td>\n",
              "      <td>1</td>\n",
              "      <td>0</td>\n",
              "      <td>0</td>\n",
              "      <td>0</td>\n",
              "      <td>12</td>\n",
              "      <td>0</td>\n",
              "      <td>0</td>\n",
              "      <td>0</td>\n",
              "      <td>1</td>\n",
              "      <td>0</td>\n",
              "      <td>56</td>\n",
              "      <td>0</td>\n",
              "    </tr>\n",
              "  </tbody>\n",
              "</table>\n",
              "</div>"
            ],
            "text/plain": [
              "    0   1     2     3   4   5   6   7   8   9   10  11  12  13  14  15  16  17\n",
              "0  293   1  3.80  2.80   0   0   0   0   0   0  12   0   0   0   1   0  62   0\n",
              "1    1   2  2.88  2.16   1   0   0   0   1   1  14   0   0   0   1   0  60   0\n",
              "2    8   2  3.19  2.50   1   0   0   0   1   0  11   0   0   1   1   0  66   1\n",
              "3   14   2  3.98  3.06   2   0   0   0   1   1  14   0   0   0   1   0  80   1\n",
              "4   17   2  2.21  1.88   0   0   1   0   0   0  12   0   0   0   1   0  56   0"
            ]
          },
          "metadata": {
            "tags": []
          },
          "execution_count": 4
        }
      ]
    },
    {
      "cell_type": "code",
      "metadata": {
        "colab": {
          "base_uri": "https://localhost:8080/"
        },
        "id": "UIWvY2KYY-Yq",
        "outputId": "c130011e-8436-42c1-a382-58f3d840330f"
      },
      "source": [
        "df.info()"
      ],
      "execution_count": 5,
      "outputs": [
        {
          "output_type": "stream",
          "text": [
            "<class 'pandas.core.frame.DataFrame'>\n",
            "RangeIndex: 470 entries, 0 to 469\n",
            "Data columns (total 18 columns):\n",
            " #   Column  Non-Null Count  Dtype  \n",
            "---  ------  --------------  -----  \n",
            " 0   0       470 non-null    int64  \n",
            " 1   1       470 non-null    int64  \n",
            " 2   2       470 non-null    float64\n",
            " 3   3       470 non-null    float64\n",
            " 4   4       470 non-null    int64  \n",
            " 5   5       470 non-null    int64  \n",
            " 6   6       470 non-null    int64  \n",
            " 7   7       470 non-null    int64  \n",
            " 8   8       470 non-null    int64  \n",
            " 9   9       470 non-null    int64  \n",
            " 10  10      470 non-null    int64  \n",
            " 11  11      470 non-null    int64  \n",
            " 12  12      470 non-null    int64  \n",
            " 13  13      470 non-null    int64  \n",
            " 14  14      470 non-null    int64  \n",
            " 15  15      470 non-null    int64  \n",
            " 16  16      470 non-null    int64  \n",
            " 17  17      470 non-null    int64  \n",
            "dtypes: float64(2), int64(16)\n",
            "memory usage: 66.2 KB\n"
          ],
          "name": "stdout"
        }
      ]
    },
    {
      "cell_type": "code",
      "metadata": {
        "colab": {
          "base_uri": "https://localhost:8080/",
          "height": 317
        },
        "id": "XOZ4KATeZCHK",
        "outputId": "1547492b-d151-4eee-ee5a-8afc5a1afb88"
      },
      "source": [
        "df.describe()"
      ],
      "execution_count": 6,
      "outputs": [
        {
          "output_type": "execute_result",
          "data": {
            "text/html": [
              "<div>\n",
              "<style scoped>\n",
              "    .dataframe tbody tr th:only-of-type {\n",
              "        vertical-align: middle;\n",
              "    }\n",
              "\n",
              "    .dataframe tbody tr th {\n",
              "        vertical-align: top;\n",
              "    }\n",
              "\n",
              "    .dataframe thead th {\n",
              "        text-align: right;\n",
              "    }\n",
              "</style>\n",
              "<table border=\"1\" class=\"dataframe\">\n",
              "  <thead>\n",
              "    <tr style=\"text-align: right;\">\n",
              "      <th></th>\n",
              "      <th>0</th>\n",
              "      <th>1</th>\n",
              "      <th>2</th>\n",
              "      <th>3</th>\n",
              "      <th>4</th>\n",
              "      <th>5</th>\n",
              "      <th>6</th>\n",
              "      <th>7</th>\n",
              "      <th>8</th>\n",
              "      <th>9</th>\n",
              "      <th>10</th>\n",
              "      <th>11</th>\n",
              "      <th>12</th>\n",
              "      <th>13</th>\n",
              "      <th>14</th>\n",
              "      <th>15</th>\n",
              "      <th>16</th>\n",
              "      <th>17</th>\n",
              "    </tr>\n",
              "  </thead>\n",
              "  <tbody>\n",
              "    <tr>\n",
              "      <th>count</th>\n",
              "      <td>470.000000</td>\n",
              "      <td>470.000000</td>\n",
              "      <td>470.000000</td>\n",
              "      <td>470.000000</td>\n",
              "      <td>470.000000</td>\n",
              "      <td>470.000000</td>\n",
              "      <td>470.000000</td>\n",
              "      <td>470.000000</td>\n",
              "      <td>470.000000</td>\n",
              "      <td>470.000000</td>\n",
              "      <td>470.000000</td>\n",
              "      <td>470.000000</td>\n",
              "      <td>470.000000</td>\n",
              "      <td>470.000000</td>\n",
              "      <td>470.000000</td>\n",
              "      <td>470.000000</td>\n",
              "      <td>470.000000</td>\n",
              "      <td>470.000000</td>\n",
              "    </tr>\n",
              "    <tr>\n",
              "      <th>mean</th>\n",
              "      <td>235.500000</td>\n",
              "      <td>3.095745</td>\n",
              "      <td>3.281638</td>\n",
              "      <td>4.568702</td>\n",
              "      <td>0.780851</td>\n",
              "      <td>0.065957</td>\n",
              "      <td>0.144681</td>\n",
              "      <td>0.065957</td>\n",
              "      <td>0.687234</td>\n",
              "      <td>0.165957</td>\n",
              "      <td>11.736170</td>\n",
              "      <td>0.074468</td>\n",
              "      <td>0.004255</td>\n",
              "      <td>0.017021</td>\n",
              "      <td>0.821277</td>\n",
              "      <td>0.004255</td>\n",
              "      <td>62.534043</td>\n",
              "      <td>0.148936</td>\n",
              "    </tr>\n",
              "    <tr>\n",
              "      <th>std</th>\n",
              "      <td>135.821574</td>\n",
              "      <td>0.722309</td>\n",
              "      <td>0.871395</td>\n",
              "      <td>11.767857</td>\n",
              "      <td>0.535375</td>\n",
              "      <td>0.248472</td>\n",
              "      <td>0.352154</td>\n",
              "      <td>0.248472</td>\n",
              "      <td>0.464114</td>\n",
              "      <td>0.372439</td>\n",
              "      <td>0.702243</td>\n",
              "      <td>0.262811</td>\n",
              "      <td>0.065163</td>\n",
              "      <td>0.129488</td>\n",
              "      <td>0.383529</td>\n",
              "      <td>0.065163</td>\n",
              "      <td>8.706902</td>\n",
              "      <td>0.356405</td>\n",
              "    </tr>\n",
              "    <tr>\n",
              "      <th>min</th>\n",
              "      <td>1.000000</td>\n",
              "      <td>1.000000</td>\n",
              "      <td>1.440000</td>\n",
              "      <td>0.960000</td>\n",
              "      <td>0.000000</td>\n",
              "      <td>0.000000</td>\n",
              "      <td>0.000000</td>\n",
              "      <td>0.000000</td>\n",
              "      <td>0.000000</td>\n",
              "      <td>0.000000</td>\n",
              "      <td>11.000000</td>\n",
              "      <td>0.000000</td>\n",
              "      <td>0.000000</td>\n",
              "      <td>0.000000</td>\n",
              "      <td>0.000000</td>\n",
              "      <td>0.000000</td>\n",
              "      <td>21.000000</td>\n",
              "      <td>0.000000</td>\n",
              "    </tr>\n",
              "    <tr>\n",
              "      <th>25%</th>\n",
              "      <td>118.250000</td>\n",
              "      <td>3.000000</td>\n",
              "      <td>2.600000</td>\n",
              "      <td>1.960000</td>\n",
              "      <td>0.000000</td>\n",
              "      <td>0.000000</td>\n",
              "      <td>0.000000</td>\n",
              "      <td>0.000000</td>\n",
              "      <td>0.000000</td>\n",
              "      <td>0.000000</td>\n",
              "      <td>11.000000</td>\n",
              "      <td>0.000000</td>\n",
              "      <td>0.000000</td>\n",
              "      <td>0.000000</td>\n",
              "      <td>1.000000</td>\n",
              "      <td>0.000000</td>\n",
              "      <td>57.000000</td>\n",
              "      <td>0.000000</td>\n",
              "    </tr>\n",
              "    <tr>\n",
              "      <th>50%</th>\n",
              "      <td>235.500000</td>\n",
              "      <td>3.000000</td>\n",
              "      <td>3.160000</td>\n",
              "      <td>2.400000</td>\n",
              "      <td>1.000000</td>\n",
              "      <td>0.000000</td>\n",
              "      <td>0.000000</td>\n",
              "      <td>0.000000</td>\n",
              "      <td>1.000000</td>\n",
              "      <td>0.000000</td>\n",
              "      <td>12.000000</td>\n",
              "      <td>0.000000</td>\n",
              "      <td>0.000000</td>\n",
              "      <td>0.000000</td>\n",
              "      <td>1.000000</td>\n",
              "      <td>0.000000</td>\n",
              "      <td>62.000000</td>\n",
              "      <td>0.000000</td>\n",
              "    </tr>\n",
              "    <tr>\n",
              "      <th>75%</th>\n",
              "      <td>352.750000</td>\n",
              "      <td>3.000000</td>\n",
              "      <td>3.807500</td>\n",
              "      <td>3.080000</td>\n",
              "      <td>1.000000</td>\n",
              "      <td>0.000000</td>\n",
              "      <td>0.000000</td>\n",
              "      <td>0.000000</td>\n",
              "      <td>1.000000</td>\n",
              "      <td>0.000000</td>\n",
              "      <td>12.000000</td>\n",
              "      <td>0.000000</td>\n",
              "      <td>0.000000</td>\n",
              "      <td>0.000000</td>\n",
              "      <td>1.000000</td>\n",
              "      <td>0.000000</td>\n",
              "      <td>69.000000</td>\n",
              "      <td>0.000000</td>\n",
              "    </tr>\n",
              "    <tr>\n",
              "      <th>max</th>\n",
              "      <td>470.000000</td>\n",
              "      <td>8.000000</td>\n",
              "      <td>6.300000</td>\n",
              "      <td>86.300000</td>\n",
              "      <td>2.000000</td>\n",
              "      <td>1.000000</td>\n",
              "      <td>1.000000</td>\n",
              "      <td>1.000000</td>\n",
              "      <td>1.000000</td>\n",
              "      <td>1.000000</td>\n",
              "      <td>14.000000</td>\n",
              "      <td>1.000000</td>\n",
              "      <td>1.000000</td>\n",
              "      <td>1.000000</td>\n",
              "      <td>1.000000</td>\n",
              "      <td>1.000000</td>\n",
              "      <td>87.000000</td>\n",
              "      <td>1.000000</td>\n",
              "    </tr>\n",
              "  </tbody>\n",
              "</table>\n",
              "</div>"
            ],
            "text/plain": [
              "               0           1           2   ...          15          16          17\n",
              "count  470.000000  470.000000  470.000000  ...  470.000000  470.000000  470.000000\n",
              "mean   235.500000    3.095745    3.281638  ...    0.004255   62.534043    0.148936\n",
              "std    135.821574    0.722309    0.871395  ...    0.065163    8.706902    0.356405\n",
              "min      1.000000    1.000000    1.440000  ...    0.000000   21.000000    0.000000\n",
              "25%    118.250000    3.000000    2.600000  ...    0.000000   57.000000    0.000000\n",
              "50%    235.500000    3.000000    3.160000  ...    0.000000   62.000000    0.000000\n",
              "75%    352.750000    3.000000    3.807500  ...    0.000000   69.000000    0.000000\n",
              "max    470.000000    8.000000    6.300000  ...    1.000000   87.000000    1.000000\n",
              "\n",
              "[8 rows x 18 columns]"
            ]
          },
          "metadata": {
            "tags": []
          },
          "execution_count": 6
        }
      ]
    },
    {
      "cell_type": "code",
      "metadata": {
        "id": "cpyv0QHNZEju"
      },
      "source": [
        "from sklearn.preprocessing import StandardScaler\r\n",
        "scaler = StandardScaler()\r\n",
        "scaled_X = scaler.fit_transform(df.iloc[:, :-1])\r\n",
        "label = df.iloc[:, -1].values"
      ],
      "execution_count": 7,
      "outputs": []
    },
    {
      "cell_type": "code",
      "metadata": {
        "colab": {
          "base_uri": "https://localhost:8080/"
        },
        "id": "sEkQT-cVZ0JL",
        "outputId": "6d3aa808-e4c4-463f-a2a4-aaba1e86687b"
      },
      "source": [
        "from sklearn.model_selection import train_test_split\r\n",
        "X_train, X_test, y_train, y_test = train_test_split(scaled_X, label, stratify=label, random_state=seed)\r\n",
        "X_train.shape, X_test.shape"
      ],
      "execution_count": 8,
      "outputs": [
        {
          "output_type": "execute_result",
          "data": {
            "text/plain": [
              "((352, 17), (118, 17))"
            ]
          },
          "metadata": {
            "tags": []
          },
          "execution_count": 8
        }
      ]
    },
    {
      "cell_type": "code",
      "metadata": {
        "id": "_6n-QJ87aNLT"
      },
      "source": [
        "from tensorflow.keras.models import Sequential\r\n",
        "from tensorflow.keras.layers import Dense"
      ],
      "execution_count": 9,
      "outputs": []
    },
    {
      "cell_type": "code",
      "metadata": {
        "colab": {
          "base_uri": "https://localhost:8080/"
        },
        "id": "Ypjh4LuYamNX",
        "outputId": "b765a517-43f8-462d-a24e-98d7a1abacb4"
      },
      "source": [
        "model = Sequential([\r\n",
        "                    Dense(24, input_dim=17, activation='relu'),\r\n",
        "                    Dense(10, activation='relu'),\r\n",
        "                    Dense(1, activation='sigmoid')\r\n",
        "])\r\n",
        "model.summary()"
      ],
      "execution_count": 10,
      "outputs": [
        {
          "output_type": "stream",
          "text": [
            "Model: \"sequential\"\n",
            "_________________________________________________________________\n",
            "Layer (type)                 Output Shape              Param #   \n",
            "=================================================================\n",
            "dense (Dense)                (None, 24)                432       \n",
            "_________________________________________________________________\n",
            "dense_1 (Dense)              (None, 10)                250       \n",
            "_________________________________________________________________\n",
            "dense_2 (Dense)              (None, 1)                 11        \n",
            "=================================================================\n",
            "Total params: 693\n",
            "Trainable params: 693\n",
            "Non-trainable params: 0\n",
            "_________________________________________________________________\n"
          ],
          "name": "stdout"
        }
      ]
    },
    {
      "cell_type": "code",
      "metadata": {
        "id": "3nDnYog0bLOL"
      },
      "source": [
        "model.compile(loss='binary_crossentropy', optimizer='adam', metrics=['accuracy'])"
      ],
      "execution_count": 11,
      "outputs": []
    },
    {
      "cell_type": "code",
      "metadata": {
        "id": "yRIhphQWbb4A"
      },
      "source": [
        "import os\r\n",
        "MODEL_DIR = './model/'\r\n",
        "if not os.path.exists(MODEL_DIR):\r\n",
        "  os.mkdir(MODEL_DIR)\r\n",
        "modelpath = MODEL_DIR + \"best{epoch:03d}-{val_loss:.4f}.hdf5\""
      ],
      "execution_count": 12,
      "outputs": []
    },
    {
      "cell_type": "code",
      "metadata": {
        "id": "lWApuFJebq9Z"
      },
      "source": [
        "from tensorflow.keras.callbacks import ModelCheckpoint, EarlyStopping\r\n",
        "checkpointer = ModelCheckpoint(filepath=modelpath, monitor='val_loss', verbose=1, save_best_only=True)\r\n",
        "early_stopping = EarlyStopping(monitor='val_loss', patience=30)"
      ],
      "execution_count": 13,
      "outputs": []
    },
    {
      "cell_type": "code",
      "metadata": {
        "colab": {
          "base_uri": "https://localhost:8080/"
        },
        "id": "G4ekLk5zcXfF",
        "outputId": "fa0c4081-8580-455b-f5ee-515f11bb1900"
      },
      "source": [
        "history = model.fit(X_train, y_train, validation_split=0.2, epochs=500, batch_size=200, verbose=0, callbacks=[checkpointer, early_stopping])"
      ],
      "execution_count": 14,
      "outputs": [
        {
          "output_type": "stream",
          "text": [
            "\n",
            "Epoch 00001: val_loss improved from inf to 0.92893, saving model to ./model/best001-0.9289.hdf5\n",
            "\n",
            "Epoch 00002: val_loss improved from 0.92893 to 0.89889, saving model to ./model/best002-0.8989.hdf5\n",
            "\n",
            "Epoch 00003: val_loss improved from 0.89889 to 0.87022, saving model to ./model/best003-0.8702.hdf5\n",
            "\n",
            "Epoch 00004: val_loss improved from 0.87022 to 0.84300, saving model to ./model/best004-0.8430.hdf5\n",
            "\n",
            "Epoch 00005: val_loss improved from 0.84300 to 0.81720, saving model to ./model/best005-0.8172.hdf5\n",
            "\n",
            "Epoch 00006: val_loss improved from 0.81720 to 0.79281, saving model to ./model/best006-0.7928.hdf5\n",
            "\n",
            "Epoch 00007: val_loss improved from 0.79281 to 0.77022, saving model to ./model/best007-0.7702.hdf5\n",
            "\n",
            "Epoch 00008: val_loss improved from 0.77022 to 0.74898, saving model to ./model/best008-0.7490.hdf5\n",
            "\n",
            "Epoch 00009: val_loss improved from 0.74898 to 0.72904, saving model to ./model/best009-0.7290.hdf5\n",
            "\n",
            "Epoch 00010: val_loss improved from 0.72904 to 0.70987, saving model to ./model/best010-0.7099.hdf5\n",
            "\n",
            "Epoch 00011: val_loss improved from 0.70987 to 0.69209, saving model to ./model/best011-0.6921.hdf5\n",
            "\n",
            "Epoch 00012: val_loss improved from 0.69209 to 0.67568, saving model to ./model/best012-0.6757.hdf5\n",
            "\n",
            "Epoch 00013: val_loss improved from 0.67568 to 0.66035, saving model to ./model/best013-0.6604.hdf5\n",
            "\n",
            "Epoch 00014: val_loss improved from 0.66035 to 0.64605, saving model to ./model/best014-0.6461.hdf5\n",
            "\n",
            "Epoch 00015: val_loss improved from 0.64605 to 0.63306, saving model to ./model/best015-0.6331.hdf5\n",
            "\n",
            "Epoch 00016: val_loss improved from 0.63306 to 0.62104, saving model to ./model/best016-0.6210.hdf5\n",
            "\n",
            "Epoch 00017: val_loss improved from 0.62104 to 0.60991, saving model to ./model/best017-0.6099.hdf5\n",
            "\n",
            "Epoch 00018: val_loss improved from 0.60991 to 0.59925, saving model to ./model/best018-0.5992.hdf5\n",
            "\n",
            "Epoch 00019: val_loss improved from 0.59925 to 0.58886, saving model to ./model/best019-0.5889.hdf5\n",
            "\n",
            "Epoch 00020: val_loss improved from 0.58886 to 0.57875, saving model to ./model/best020-0.5788.hdf5\n",
            "\n",
            "Epoch 00021: val_loss improved from 0.57875 to 0.56942, saving model to ./model/best021-0.5694.hdf5\n",
            "\n",
            "Epoch 00022: val_loss improved from 0.56942 to 0.56060, saving model to ./model/best022-0.5606.hdf5\n",
            "\n",
            "Epoch 00023: val_loss improved from 0.56060 to 0.55246, saving model to ./model/best023-0.5525.hdf5\n",
            "\n",
            "Epoch 00024: val_loss improved from 0.55246 to 0.54512, saving model to ./model/best024-0.5451.hdf5\n",
            "\n",
            "Epoch 00025: val_loss improved from 0.54512 to 0.53810, saving model to ./model/best025-0.5381.hdf5\n",
            "\n",
            "Epoch 00026: val_loss improved from 0.53810 to 0.53142, saving model to ./model/best026-0.5314.hdf5\n",
            "\n",
            "Epoch 00027: val_loss improved from 0.53142 to 0.52523, saving model to ./model/best027-0.5252.hdf5\n",
            "\n",
            "Epoch 00028: val_loss improved from 0.52523 to 0.51951, saving model to ./model/best028-0.5195.hdf5\n",
            "\n",
            "Epoch 00029: val_loss improved from 0.51951 to 0.51423, saving model to ./model/best029-0.5142.hdf5\n",
            "\n",
            "Epoch 00030: val_loss improved from 0.51423 to 0.50919, saving model to ./model/best030-0.5092.hdf5\n",
            "\n",
            "Epoch 00031: val_loss improved from 0.50919 to 0.50444, saving model to ./model/best031-0.5044.hdf5\n",
            "\n",
            "Epoch 00032: val_loss improved from 0.50444 to 0.50005, saving model to ./model/best032-0.5001.hdf5\n",
            "\n",
            "Epoch 00033: val_loss improved from 0.50005 to 0.49604, saving model to ./model/best033-0.4960.hdf5\n",
            "\n",
            "Epoch 00034: val_loss improved from 0.49604 to 0.49235, saving model to ./model/best034-0.4923.hdf5\n",
            "\n",
            "Epoch 00035: val_loss improved from 0.49235 to 0.48896, saving model to ./model/best035-0.4890.hdf5\n",
            "\n",
            "Epoch 00036: val_loss improved from 0.48896 to 0.48587, saving model to ./model/best036-0.4859.hdf5\n",
            "\n",
            "Epoch 00037: val_loss improved from 0.48587 to 0.48310, saving model to ./model/best037-0.4831.hdf5\n",
            "\n",
            "Epoch 00038: val_loss improved from 0.48310 to 0.48059, saving model to ./model/best038-0.4806.hdf5\n",
            "\n",
            "Epoch 00039: val_loss improved from 0.48059 to 0.47838, saving model to ./model/best039-0.4784.hdf5\n",
            "\n",
            "Epoch 00040: val_loss improved from 0.47838 to 0.47630, saving model to ./model/best040-0.4763.hdf5\n",
            "\n",
            "Epoch 00041: val_loss improved from 0.47630 to 0.47438, saving model to ./model/best041-0.4744.hdf5\n",
            "\n",
            "Epoch 00042: val_loss improved from 0.47438 to 0.47265, saving model to ./model/best042-0.4727.hdf5\n",
            "\n",
            "Epoch 00043: val_loss improved from 0.47265 to 0.47109, saving model to ./model/best043-0.4711.hdf5\n",
            "\n",
            "Epoch 00044: val_loss improved from 0.47109 to 0.46962, saving model to ./model/best044-0.4696.hdf5\n",
            "\n",
            "Epoch 00045: val_loss improved from 0.46962 to 0.46832, saving model to ./model/best045-0.4683.hdf5\n",
            "\n",
            "Epoch 00046: val_loss improved from 0.46832 to 0.46717, saving model to ./model/best046-0.4672.hdf5\n",
            "\n",
            "Epoch 00047: val_loss improved from 0.46717 to 0.46610, saving model to ./model/best047-0.4661.hdf5\n",
            "\n",
            "Epoch 00048: val_loss improved from 0.46610 to 0.46514, saving model to ./model/best048-0.4651.hdf5\n",
            "\n",
            "Epoch 00049: val_loss improved from 0.46514 to 0.46428, saving model to ./model/best049-0.4643.hdf5\n",
            "\n",
            "Epoch 00050: val_loss improved from 0.46428 to 0.46346, saving model to ./model/best050-0.4635.hdf5\n",
            "\n",
            "Epoch 00051: val_loss improved from 0.46346 to 0.46268, saving model to ./model/best051-0.4627.hdf5\n",
            "\n",
            "Epoch 00052: val_loss improved from 0.46268 to 0.46184, saving model to ./model/best052-0.4618.hdf5\n",
            "\n",
            "Epoch 00053: val_loss improved from 0.46184 to 0.46094, saving model to ./model/best053-0.4609.hdf5\n",
            "\n",
            "Epoch 00054: val_loss improved from 0.46094 to 0.46022, saving model to ./model/best054-0.4602.hdf5\n",
            "\n",
            "Epoch 00055: val_loss improved from 0.46022 to 0.45954, saving model to ./model/best055-0.4595.hdf5\n",
            "\n",
            "Epoch 00056: val_loss improved from 0.45954 to 0.45882, saving model to ./model/best056-0.4588.hdf5\n",
            "\n",
            "Epoch 00057: val_loss improved from 0.45882 to 0.45818, saving model to ./model/best057-0.4582.hdf5\n",
            "\n",
            "Epoch 00058: val_loss improved from 0.45818 to 0.45758, saving model to ./model/best058-0.4576.hdf5\n",
            "\n",
            "Epoch 00059: val_loss improved from 0.45758 to 0.45717, saving model to ./model/best059-0.4572.hdf5\n",
            "\n",
            "Epoch 00060: val_loss improved from 0.45717 to 0.45686, saving model to ./model/best060-0.4569.hdf5\n",
            "\n",
            "Epoch 00061: val_loss improved from 0.45686 to 0.45655, saving model to ./model/best061-0.4566.hdf5\n",
            "\n",
            "Epoch 00062: val_loss improved from 0.45655 to 0.45632, saving model to ./model/best062-0.4563.hdf5\n",
            "\n",
            "Epoch 00063: val_loss improved from 0.45632 to 0.45607, saving model to ./model/best063-0.4561.hdf5\n",
            "\n",
            "Epoch 00064: val_loss improved from 0.45607 to 0.45568, saving model to ./model/best064-0.4557.hdf5\n",
            "\n",
            "Epoch 00065: val_loss improved from 0.45568 to 0.45522, saving model to ./model/best065-0.4552.hdf5\n",
            "\n",
            "Epoch 00066: val_loss improved from 0.45522 to 0.45481, saving model to ./model/best066-0.4548.hdf5\n",
            "\n",
            "Epoch 00067: val_loss improved from 0.45481 to 0.45450, saving model to ./model/best067-0.4545.hdf5\n",
            "\n",
            "Epoch 00068: val_loss improved from 0.45450 to 0.45435, saving model to ./model/best068-0.4544.hdf5\n",
            "\n",
            "Epoch 00069: val_loss improved from 0.45435 to 0.45421, saving model to ./model/best069-0.4542.hdf5\n",
            "\n",
            "Epoch 00070: val_loss improved from 0.45421 to 0.45398, saving model to ./model/best070-0.4540.hdf5\n",
            "\n",
            "Epoch 00071: val_loss improved from 0.45398 to 0.45385, saving model to ./model/best071-0.4539.hdf5\n",
            "\n",
            "Epoch 00072: val_loss improved from 0.45385 to 0.45374, saving model to ./model/best072-0.4537.hdf5\n",
            "\n",
            "Epoch 00073: val_loss improved from 0.45374 to 0.45364, saving model to ./model/best073-0.4536.hdf5\n",
            "\n",
            "Epoch 00074: val_loss improved from 0.45364 to 0.45350, saving model to ./model/best074-0.4535.hdf5\n",
            "\n",
            "Epoch 00075: val_loss improved from 0.45350 to 0.45320, saving model to ./model/best075-0.4532.hdf5\n",
            "\n",
            "Epoch 00076: val_loss improved from 0.45320 to 0.45304, saving model to ./model/best076-0.4530.hdf5\n",
            "\n",
            "Epoch 00077: val_loss improved from 0.45304 to 0.45297, saving model to ./model/best077-0.4530.hdf5\n",
            "\n",
            "Epoch 00078: val_loss improved from 0.45297 to 0.45290, saving model to ./model/best078-0.4529.hdf5\n",
            "\n",
            "Epoch 00079: val_loss did not improve from 0.45290\n",
            "\n",
            "Epoch 00080: val_loss improved from 0.45290 to 0.45285, saving model to ./model/best080-0.4529.hdf5\n",
            "\n",
            "Epoch 00081: val_loss improved from 0.45285 to 0.45278, saving model to ./model/best081-0.4528.hdf5\n",
            "\n",
            "Epoch 00082: val_loss improved from 0.45278 to 0.45277, saving model to ./model/best082-0.4528.hdf5\n",
            "\n",
            "Epoch 00083: val_loss did not improve from 0.45277\n",
            "\n",
            "Epoch 00084: val_loss did not improve from 0.45277\n",
            "\n",
            "Epoch 00085: val_loss did not improve from 0.45277\n",
            "\n",
            "Epoch 00086: val_loss did not improve from 0.45277\n",
            "\n",
            "Epoch 00087: val_loss did not improve from 0.45277\n",
            "\n",
            "Epoch 00088: val_loss did not improve from 0.45277\n",
            "\n",
            "Epoch 00089: val_loss did not improve from 0.45277\n",
            "\n",
            "Epoch 00090: val_loss did not improve from 0.45277\n",
            "\n",
            "Epoch 00091: val_loss did not improve from 0.45277\n",
            "\n",
            "Epoch 00092: val_loss did not improve from 0.45277\n",
            "\n",
            "Epoch 00093: val_loss did not improve from 0.45277\n",
            "\n",
            "Epoch 00094: val_loss did not improve from 0.45277\n",
            "\n",
            "Epoch 00095: val_loss did not improve from 0.45277\n",
            "\n",
            "Epoch 00096: val_loss did not improve from 0.45277\n",
            "\n",
            "Epoch 00097: val_loss did not improve from 0.45277\n",
            "\n",
            "Epoch 00098: val_loss did not improve from 0.45277\n",
            "\n",
            "Epoch 00099: val_loss did not improve from 0.45277\n",
            "\n",
            "Epoch 00100: val_loss did not improve from 0.45277\n",
            "\n",
            "Epoch 00101: val_loss did not improve from 0.45277\n",
            "\n",
            "Epoch 00102: val_loss did not improve from 0.45277\n",
            "\n",
            "Epoch 00103: val_loss did not improve from 0.45277\n",
            "\n",
            "Epoch 00104: val_loss did not improve from 0.45277\n",
            "\n",
            "Epoch 00105: val_loss did not improve from 0.45277\n",
            "\n",
            "Epoch 00106: val_loss did not improve from 0.45277\n",
            "\n",
            "Epoch 00107: val_loss did not improve from 0.45277\n",
            "\n",
            "Epoch 00108: val_loss did not improve from 0.45277\n",
            "\n",
            "Epoch 00109: val_loss did not improve from 0.45277\n",
            "\n",
            "Epoch 00110: val_loss did not improve from 0.45277\n",
            "\n",
            "Epoch 00111: val_loss did not improve from 0.45277\n",
            "\n",
            "Epoch 00112: val_loss did not improve from 0.45277\n"
          ],
          "name": "stdout"
        }
      ]
    },
    {
      "cell_type": "code",
      "metadata": {
        "colab": {
          "base_uri": "https://localhost:8080/"
        },
        "id": "Vx0pQEe0cm4U",
        "outputId": "478f4c56-7162-46ec-dd5e-70e7ab7c2f4c"
      },
      "source": [
        "from tensorflow.keras.models import load_model\r\n",
        "\r\n",
        "best_model = load_model('./model/best082-0.4528.hdf5')\r\n",
        "acc = best_model.evaluate(X_test, y_test)\r\n",
        "print(f'Accuracy: {acc[1]:.4f}')"
      ],
      "execution_count": 15,
      "outputs": [
        {
          "output_type": "stream",
          "text": [
            "4/4 [==============================] - 0s 3ms/step - loss: 0.4447 - accuracy: 0.8559\n",
            "Accuracy: 0.8559\n"
          ],
          "name": "stdout"
        }
      ]
    },
    {
      "cell_type": "code",
      "metadata": {
        "id": "IfmvOrt7c-0-"
      },
      "source": [
        "import matplotlib.pyplot as plt\r\n",
        "%matplotlib inline"
      ],
      "execution_count": 16,
      "outputs": []
    },
    {
      "cell_type": "code",
      "metadata": {
        "id": "MuBg1CDOdFPW"
      },
      "source": [
        "y_vloss = history.history['val_loss']\r\n",
        "y_acc = history.history['accuracy']\r\n",
        "y_vacc = history.history['val_accuracy']\r\n",
        "y_loss = history.history['loss']"
      ],
      "execution_count": 17,
      "outputs": []
    },
    {
      "cell_type": "code",
      "metadata": {
        "colab": {
          "base_uri": "https://localhost:8080/",
          "height": 483
        },
        "id": "wMAjMD2ldGcA",
        "outputId": "1cabedf8-0c46-46bf-f5c7-8f0803d992ee"
      },
      "source": [
        "x_len = np.arange(len(y_acc))\r\n",
        "plt.figure(figsize=(12, 8))\r\n",
        "plt.plot(x_len, y_loss, \"-o\", c='red', markersize=2, label='loss')\r\n",
        "plt.plot(x_len, y_vacc, \"-o\", c='blue', markersize=2, label='val_accuracy')\r\n",
        "plt.plot(x_len, y_vloss, \"-o\", c='orange', markersize=2, label='val_loss')\r\n",
        "plt.plot(x_len, y_acc, \"-o\", c='green', markersize=2, label='accuracy')\r\n",
        "plt.legend()\r\n",
        "plt.show()"
      ],
      "execution_count": 19,
      "outputs": [
        {
          "output_type": "display_data",
          "data": {
            "image/png": "[encoded data removed]",
            "text/plain": [
              "<Figure size 864x576 with 1 Axes>"
            ]
          },
          "metadata": {
            "tags": [],
            "needs_background": "light"
          }
        }
      ]
    },
    {
      "cell_type": "code",
      "metadata": {
        "id": "eH72LnEldLuE"
      },
      "source": [
        ""
      ],
      "execution_count": null,
      "outputs": []
    }
  ]
}