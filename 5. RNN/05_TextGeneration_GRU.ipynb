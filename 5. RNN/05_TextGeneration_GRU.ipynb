{
  "nbformat": 4,
  "nbformat_minor": 0,
  "metadata": {
    "colab": {
      "name": "05_TextGeneration-GRU.ipynb",
      "provenance": [],
      "collapsed_sections": []
    },
    "kernelspec": {
      "name": "python3",
      "display_name": "Python 3"
    },
    "accelerator": "GPU"
  },
  "cells": [
    {
      "cell_type": "markdown",
      "metadata": {
        "id": "V2ltme8EhwTj"
      },
      "source": [
        "# LSTM을 이용한 텍스트 생성\r\n",
        "- 데이터 다운로드: 캐글 New York Times Comments\r\n",
        "- ArticlesApril2018.csv"
      ]
    },
    {
      "cell_type": "code",
      "metadata": {
        "id": "81msFllen7RQ"
      },
      "source": [
        "import numpy as np\r\n",
        "import tensorflow as tf\r\n",
        "from tensorflow.keras.preprocessing.text import Tokenizer\r\n",
        "from tensorflow.keras.preprocessing.sequence import pad_sequences\r\n",
        "from tensorflow.keras.utils import to_categorical"
      ],
      "execution_count": 1,
      "outputs": []
    },
    {
      "cell_type": "code",
      "metadata": {
        "id": "YnifYn6zn9tY"
      },
      "source": [
        "seed = 2021\r\n",
        "np.random.seed(seed)\r\n",
        "tf.random.set_seed(seed)"
      ],
      "execution_count": 2,
      "outputs": []
    },
    {
      "cell_type": "markdown",
      "metadata": {
        "id": "jX344M26jJkv"
      },
      "source": [
        "### 파일 업로드"
      ]
    },
    {
      "cell_type": "code",
      "metadata": {
        "colab": {
          "resources": {
            "http://localhost:8080/nbextensions/google.colab/files.js": {
              "data": "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",
              "ok": true,
              "headers": [
                [
                  "content-type",
                  "application/javascript"
                ]
              ],
              "status": 200,
              "status_text": ""
            }
          },
          "base_uri": "https://localhost:8080/",
          "height": 73
        },
        "id": "LPYGSdYdhvq7",
        "outputId": "a69f5028-1ead-4c7a-9dee-9449353e9258"
      },
      "source": [
        "from google.colab import files\r\n",
        "\r\n",
        "uploaded = files.upload()\r\n",
        "filename = list(uploaded.keys())[0]"
      ],
      "execution_count": 3,
      "outputs": [
        {
          "output_type": "display_data",
          "data": {
            "text/html": [
              "\n",
              "     <input type=\"file\" id=\"files-119f22fb-8fad-4518-9774-2e6d1404389b\" name=\"files[]\" multiple disabled\n",
              "        style=\"border:none\" />\n",
              "     <output id=\"result-119f22fb-8fad-4518-9774-2e6d1404389b\">\n",
              "      Upload widget is only available when the cell has been executed in the\n",
              "      current browser session. Please rerun this cell to enable.\n",
              "      </output>\n",
              "      <script src=\"/nbextensions/google.colab/files.js\"></script> "
            ],
            "text/plain": [
              "<IPython.core.display.HTML object>"
            ]
          },
          "metadata": {
            "tags": []
          }
        },
        {
          "output_type": "stream",
          "text": [
            "Saving ArticlesApril2018.csv to ArticlesApril2018.csv\n"
          ],
          "name": "stdout"
        }
      ]
    },
    {
      "cell_type": "code",
      "metadata": {
        "colab": {
          "base_uri": "https://localhost:8080/",
          "height": 578
        },
        "id": "v_d2VsF3i67q",
        "outputId": "3c53828f-b24c-4361-e710-4a4f5af7d9db"
      },
      "source": [
        "import pandas as pd\r\n",
        "\r\n",
        "df = pd.read_csv(filename, encoding='latin1')\r\n",
        "df.head()"
      ],
      "execution_count": 4,
      "outputs": [
        {
          "output_type": "execute_result",
          "data": {
            "text/html": [
              "<div>\n",
              "<style scoped>\n",
              "    .dataframe tbody tr th:only-of-type {\n",
              "        vertical-align: middle;\n",
              "    }\n",
              "\n",
              "    .dataframe tbody tr th {\n",
              "        vertical-align: top;\n",
              "    }\n",
              "\n",
              "    .dataframe thead th {\n",
              "        text-align: right;\n",
              "    }\n",
              "</style>\n",
              "<table border=\"1\" class=\"dataframe\">\n",
              "  <thead>\n",
              "    <tr style=\"text-align: right;\">\n",
              "      <th></th>\n",
              "      <th>articleID</th>\n",
              "      <th>articleWordCount</th>\n",
              "      <th>byline</th>\n",
              "      <th>documentType</th>\n",
              "      <th>headline</th>\n",
              "      <th>keywords</th>\n",
              "      <th>multimedia</th>\n",
              "      <th>newDesk</th>\n",
              "      <th>printPage</th>\n",
              "      <th>pubDate</th>\n",
              "      <th>sectionName</th>\n",
              "      <th>snippet</th>\n",
              "      <th>source</th>\n",
              "      <th>typeOfMaterial</th>\n",
              "      <th>webURL</th>\n",
              "    </tr>\n",
              "  </thead>\n",
              "  <tbody>\n",
              "    <tr>\n",
              "      <th>0</th>\n",
              "      <td>5adf6684068401528a2aa69b</td>\n",
              "      <td>781</td>\n",
              "      <td>By JOHN BRANCH</td>\n",
              "      <td>article</td>\n",
              "      <td>Former N.F.L. Cheerleadersâ Settlement Offer...</td>\n",
              "      <td>['Workplace Hazards and Violations', 'Football...</td>\n",
              "      <td>68</td>\n",
              "      <td>Sports</td>\n",
              "      <td>0</td>\n",
              "      <td>2018-04-24 17:16:49</td>\n",
              "      <td>Pro Football</td>\n",
              "      <td>âI understand that they could meet with us, ...</td>\n",
              "      <td>The New York Times</td>\n",
              "      <td>News</td>\n",
              "      <td>https://www.nytimes.com/2018/04/24/sports/foot...</td>\n",
              "    </tr>\n",
              "    <tr>\n",
              "      <th>1</th>\n",
              "      <td>5adf653f068401528a2aa697</td>\n",
              "      <td>656</td>\n",
              "      <td>By LISA FRIEDMAN</td>\n",
              "      <td>article</td>\n",
              "      <td>E.P.A. to Unveil a New Rule. Its Effect: Less ...</td>\n",
              "      <td>['Environmental Protection Agency', 'Pruitt, S...</td>\n",
              "      <td>68</td>\n",
              "      <td>Climate</td>\n",
              "      <td>0</td>\n",
              "      <td>2018-04-24 17:11:21</td>\n",
              "      <td>Unknown</td>\n",
              "      <td>The agency plans to publish a new regulation T...</td>\n",
              "      <td>The New York Times</td>\n",
              "      <td>News</td>\n",
              "      <td>https://www.nytimes.com/2018/04/24/climate/epa...</td>\n",
              "    </tr>\n",
              "    <tr>\n",
              "      <th>2</th>\n",
              "      <td>5adf4626068401528a2aa628</td>\n",
              "      <td>2427</td>\n",
              "      <td>By PETE WELLS</td>\n",
              "      <td>article</td>\n",
              "      <td>The New Noma, Explained</td>\n",
              "      <td>['Restaurants', 'Noma (Copenhagen, Restaurant)...</td>\n",
              "      <td>66</td>\n",
              "      <td>Dining</td>\n",
              "      <td>0</td>\n",
              "      <td>2018-04-24 14:58:44</td>\n",
              "      <td>Unknown</td>\n",
              "      <td>Whatâs it like to eat at the second incarnat...</td>\n",
              "      <td>The New York Times</td>\n",
              "      <td>News</td>\n",
              "      <td>https://www.nytimes.com/2018/04/24/dining/noma...</td>\n",
              "    </tr>\n",
              "    <tr>\n",
              "      <th>3</th>\n",
              "      <td>5adf40d2068401528a2aa619</td>\n",
              "      <td>626</td>\n",
              "      <td>By JULIE HIRSCHFELD DAVIS and PETER BAKER</td>\n",
              "      <td>article</td>\n",
              "      <td>Unknown</td>\n",
              "      <td>['Macron, Emmanuel (1977- )', 'Trump, Donald J...</td>\n",
              "      <td>68</td>\n",
              "      <td>Washington</td>\n",
              "      <td>0</td>\n",
              "      <td>2018-04-24 14:35:57</td>\n",
              "      <td>Europe</td>\n",
              "      <td>President Trump welcomed President Emmanuel Ma...</td>\n",
              "      <td>The New York Times</td>\n",
              "      <td>News</td>\n",
              "      <td>https://www.nytimes.com/2018/04/24/world/europ...</td>\n",
              "    </tr>\n",
              "    <tr>\n",
              "      <th>4</th>\n",
              "      <td>5adf3d64068401528a2aa60f</td>\n",
              "      <td>815</td>\n",
              "      <td>By IAN AUSTEN and DAN BILEFSKY</td>\n",
              "      <td>article</td>\n",
              "      <td>Unknown</td>\n",
              "      <td>['Toronto, Ontario, Attack (April, 2018)', 'Mu...</td>\n",
              "      <td>68</td>\n",
              "      <td>Foreign</td>\n",
              "      <td>0</td>\n",
              "      <td>2018-04-24 14:21:21</td>\n",
              "      <td>Canada</td>\n",
              "      <td>Alek Minassian, 25, a resident of Torontoâs ...</td>\n",
              "      <td>The New York Times</td>\n",
              "      <td>News</td>\n",
              "      <td>https://www.nytimes.com/2018/04/24/world/canad...</td>\n",
              "    </tr>\n",
              "  </tbody>\n",
              "</table>\n",
              "</div>"
            ],
            "text/plain": [
              "                  articleID  ...                                             webURL\n",
              "0  5adf6684068401528a2aa69b  ...  https://www.nytimes.com/2018/04/24/sports/foot...\n",
              "1  5adf653f068401528a2aa697  ...  https://www.nytimes.com/2018/04/24/climate/epa...\n",
              "2  5adf4626068401528a2aa628  ...  https://www.nytimes.com/2018/04/24/dining/noma...\n",
              "3  5adf40d2068401528a2aa619  ...  https://www.nytimes.com/2018/04/24/world/europ...\n",
              "4  5adf3d64068401528a2aa60f  ...  https://www.nytimes.com/2018/04/24/world/canad...\n",
              "\n",
              "[5 rows x 15 columns]"
            ]
          },
          "metadata": {
            "tags": []
          },
          "execution_count": 4
        }
      ]
    },
    {
      "cell_type": "markdown",
      "metadata": {
        "id": "OSHMM6q7jNTf"
      },
      "source": [
        "### 데이터 전처리"
      ]
    },
    {
      "cell_type": "code",
      "metadata": {
        "colab": {
          "base_uri": "https://localhost:8080/"
        },
        "id": "nZ8V5k3ejF1w",
        "outputId": "261d018b-a8c0-4153-9ca0-ff204f187102"
      },
      "source": [
        "print('열의 개수: ', len(df.columns))\r\n",
        "print(df.columns)"
      ],
      "execution_count": 5,
      "outputs": [
        {
          "output_type": "stream",
          "text": [
            "열의 개수:  15\n",
            "Index(['articleID', 'articleWordCount', 'byline', 'documentType', 'headline',\n",
            "       'keywords', 'multimedia', 'newDesk', 'printPage', 'pubDate',\n",
            "       'sectionName', 'snippet', 'source', 'typeOfMaterial', 'webURL'],\n",
            "      dtype='object')\n"
          ],
          "name": "stdout"
        }
      ]
    },
    {
      "cell_type": "code",
      "metadata": {
        "colab": {
          "base_uri": "https://localhost:8080/"
        },
        "id": "285QP3S8jpqA",
        "outputId": "62571faf-7428-409b-890d-f778e94b4d14"
      },
      "source": [
        "df['headline'].isnull().values.any() # headline 열의 데이터만 사용하기 때문에 null값 있는지 확인"
      ],
      "execution_count": 6,
      "outputs": [
        {
          "output_type": "execute_result",
          "data": {
            "text/plain": [
              "False"
            ]
          },
          "metadata": {
            "tags": []
          },
          "execution_count": 6
        }
      ]
    },
    {
      "cell_type": "code",
      "metadata": {
        "colab": {
          "base_uri": "https://localhost:8080/"
        },
        "id": "b3taTQFAjuCA",
        "outputId": "bc21df90-2cb7-418f-a2d4-5ffddaee5e59"
      },
      "source": [
        "headline = [text for text in df.headline.values]\r\n",
        "headline[:5]"
      ],
      "execution_count": 7,
      "outputs": [
        {
          "output_type": "execute_result",
          "data": {
            "text/plain": [
              "['Former N.F.L. Cheerleadersâ\\x80\\x99 Settlement Offer: $1 and a Meeting With Goodell',\n",
              " 'E.P.A. to Unveil a New Rule. Its Effect: Less Science in Policymaking.',\n",
              " 'The New Noma, Explained',\n",
              " 'Unknown',\n",
              " 'Unknown']"
            ]
          },
          "metadata": {
            "tags": []
          },
          "execution_count": 7
        }
      ]
    },
    {
      "cell_type": "code",
      "metadata": {
        "colab": {
          "base_uri": "https://localhost:8080/"
        },
        "id": "-YEZTfKkkBH3",
        "outputId": "c32f4137-8385-4a1a-acbd-69793ab1afc0"
      },
      "source": [
        "len(headline)"
      ],
      "execution_count": 8,
      "outputs": [
        {
          "output_type": "execute_result",
          "data": {
            "text/plain": [
              "1324"
            ]
          },
          "metadata": {
            "tags": []
          },
          "execution_count": 8
        }
      ]
    },
    {
      "cell_type": "code",
      "metadata": {
        "colab": {
          "base_uri": "https://localhost:8080/"
        },
        "id": "NEE99GtqkIGf",
        "outputId": "38687c5c-49c0-4ae5-cc91-d04d2dba9416"
      },
      "source": [
        "headline = [text for text in headline if text != 'Unknown']\r\n",
        "len(headline)"
      ],
      "execution_count": 9,
      "outputs": [
        {
          "output_type": "execute_result",
          "data": {
            "text/plain": [
              "1214"
            ]
          },
          "metadata": {
            "tags": []
          },
          "execution_count": 9
        }
      ]
    },
    {
      "cell_type": "code",
      "metadata": {
        "colab": {
          "base_uri": "https://localhost:8080/",
          "height": 35
        },
        "id": "LIIAma3RkT5f",
        "outputId": "59ffc95e-30e1-43df-a6c0-dc1c0219b53f"
      },
      "source": [
        "from string import punctuation\r\n",
        "punctuation"
      ],
      "execution_count": 10,
      "outputs": [
        {
          "output_type": "execute_result",
          "data": {
            "application/vnd.google.colaboratory.intrinsic+json": {
              "type": "string"
            },
            "text/plain": [
              "'!\"#$%&\\'()*+,-./:;<=>?@[\\\\]^_`{|}~'"
            ]
          },
          "metadata": {
            "tags": []
          },
          "execution_count": 10
        }
      ]
    },
    {
      "cell_type": "code",
      "metadata": {
        "id": "T1VAdUy8kj8o"
      },
      "source": [
        "def repreprocessing(s):     # 구두점 제거\r\n",
        "  s = s.encode('utf8').decode('ascii', 'ignore')\r\n",
        "  return ''.join(c for c in s if c not in punctuation).lower()"
      ],
      "execution_count": 11,
      "outputs": []
    },
    {
      "cell_type": "code",
      "metadata": {
        "colab": {
          "base_uri": "https://localhost:8080/"
        },
        "id": "kd3p_YsxlAD3",
        "outputId": "2989401b-7609-496a-ca80-bf0f50778ac0"
      },
      "source": [
        "text = [repreprocessing(x) for x in headline]\r\n",
        "text[:5]"
      ],
      "execution_count": 12,
      "outputs": [
        {
          "output_type": "execute_result",
          "data": {
            "text/plain": [
              "['former nfl cheerleaders settlement offer 1 and a meeting with goodell',\n",
              " 'epa to unveil a new rule its effect less science in policymaking',\n",
              " 'the new noma explained',\n",
              " 'how a bag of texas dirt  became a times tradition',\n",
              " 'is school a place for selfexpression']"
            ]
          },
          "metadata": {
            "tags": []
          },
          "execution_count": 12
        }
      ]
    },
    {
      "cell_type": "code",
      "metadata": {
        "colab": {
          "base_uri": "https://localhost:8080/"
        },
        "id": "DTQwNivdlFFe",
        "outputId": "8f513348-cfd4-43b6-f48d-ed067d71a55d"
      },
      "source": [
        "t = Tokenizer()\r\n",
        "t.fit_on_texts(text)\r\n",
        "vocab_size = len(t.word_index) + 1\r\n",
        "print('단어 집합의 크기: %d' % vocab_size)"
      ],
      "execution_count": 13,
      "outputs": [
        {
          "output_type": "stream",
          "text": [
            "단어 집합의 크기: 3494\n"
          ],
          "name": "stdout"
        }
      ]
    },
    {
      "cell_type": "code",
      "metadata": {
        "colab": {
          "base_uri": "https://localhost:8080/"
        },
        "id": "yoXCKS-qoob2",
        "outputId": "859cc913-f579-43bc-9f08-055bbb182789"
      },
      "source": [
        "sequences = []\r\n",
        "for line in text:\r\n",
        "  encoded = t.texts_to_sequences([line])[0]\r\n",
        "  for i in range(1, len(encoded)):\r\n",
        "    sequence = encoded[:i+1]\r\n",
        "    sequences.append(sequence)\r\n",
        "sequences[:11]"
      ],
      "execution_count": 14,
      "outputs": [
        {
          "output_type": "execute_result",
          "data": {
            "text/plain": [
              "[[99, 269],\n",
              " [99, 269, 371],\n",
              " [99, 269, 371, 1115],\n",
              " [99, 269, 371, 1115, 582],\n",
              " [99, 269, 371, 1115, 582, 52],\n",
              " [99, 269, 371, 1115, 582, 52, 7],\n",
              " [99, 269, 371, 1115, 582, 52, 7, 2],\n",
              " [99, 269, 371, 1115, 582, 52, 7, 2, 372],\n",
              " [99, 269, 371, 1115, 582, 52, 7, 2, 372, 10],\n",
              " [99, 269, 371, 1115, 582, 52, 7, 2, 372, 10, 1116],\n",
              " [100, 3]]"
            ]
          },
          "metadata": {
            "tags": []
          },
          "execution_count": 14
        }
      ]
    },
    {
      "cell_type": "code",
      "metadata": {
        "colab": {
          "base_uri": "https://localhost:8080/"
        },
        "id": "mkkI4eIxp5NO",
        "outputId": "6781f924-ae09-43f9-a4ec-b3da4b11b840"
      },
      "source": [
        "index_to_word = {}\r\n",
        "for key, value in t.word_index.items():\r\n",
        "  index_to_word[value] = key\r\n",
        "\r\n",
        "print('빈도수 상위 1번 단어: ', index_to_word[1])\r\n",
        "print('빈도수 상위 582번 단어: ', index_to_word[582])"
      ],
      "execution_count": 15,
      "outputs": [
        {
          "output_type": "stream",
          "text": [
            "빈도수 상위 1번 단어:  the\n",
            "빈도수 상위 582번 단어:  offer\n"
          ],
          "name": "stdout"
        }
      ]
    },
    {
      "cell_type": "code",
      "metadata": {
        "colab": {
          "base_uri": "https://localhost:8080/"
        },
        "id": "P3BnfkpNqcrV",
        "outputId": "fb953fe2-7012-407f-d00c-7588c54f7836"
      },
      "source": [
        "max_len = max(len(s) for s in sequences)\r\n",
        "print('샘플의 최대 길이: ', max_len)"
      ],
      "execution_count": 16,
      "outputs": [
        {
          "output_type": "stream",
          "text": [
            "샘플의 최대 길이:  24\n"
          ],
          "name": "stdout"
        }
      ]
    },
    {
      "cell_type": "code",
      "metadata": {
        "id": "9meTwr7NquZ9"
      },
      "source": [
        "sequences = pad_sequences(sequences, maxlen=max_len, padding='pre')"
      ],
      "execution_count": 17,
      "outputs": []
    },
    {
      "cell_type": "code",
      "metadata": {
        "id": "JTonBzOgqxxt"
      },
      "source": [
        "X = sequences[:, :-1]\r\n",
        "y = sequences[:, -1]\r\n",
        "\r\n",
        "Y = to_categorical(y, num_classes=vocab_size)"
      ],
      "execution_count": 18,
      "outputs": []
    },
    {
      "cell_type": "code",
      "metadata": {
        "colab": {
          "base_uri": "https://localhost:8080/"
        },
        "id": "tvpNyK3sq1v_",
        "outputId": "fa0f57a8-8d77-48ca-e289-0590c590e310"
      },
      "source": [
        "X.shape, Y.shape"
      ],
      "execution_count": 19,
      "outputs": [
        {
          "output_type": "execute_result",
          "data": {
            "text/plain": [
              "((7803, 23), (7803, 3494))"
            ]
          },
          "metadata": {
            "tags": []
          },
          "execution_count": 19
        }
      ]
    },
    {
      "cell_type": "markdown",
      "metadata": {
        "id": "s-MOP98vrHpN"
      },
      "source": [
        "### 모델 정의/설정/학습"
      ]
    },
    {
      "cell_type": "code",
      "metadata": {
        "id": "d3G8jXl1q3OF"
      },
      "source": [
        "from tensorflow.keras.models import Sequential\r\n",
        "from tensorflow.keras.layers import Embedding, Dense, GRU"
      ],
      "execution_count": 20,
      "outputs": []
    },
    {
      "cell_type": "code",
      "metadata": {
        "colab": {
          "base_uri": "https://localhost:8080/"
        },
        "id": "bU94RzqOrTBl",
        "outputId": "ef857ba8-3b59-4316-eb87-51ef9fa91625"
      },
      "source": [
        "model = Sequential([\r\n",
        "                    Embedding(vocab_size, 10, input_length=max_len - 1, name='Embedding_Layer'),\r\n",
        "                    GRU(128, name='GRU_Layer'),\r\n",
        "                    Dense(vocab_size, activation='softmax')\r\n",
        "])\r\n",
        "model.summary()"
      ],
      "execution_count": 21,
      "outputs": [
        {
          "output_type": "stream",
          "text": [
            "Model: \"sequential\"\n",
            "_________________________________________________________________\n",
            "Layer (type)                 Output Shape              Param #   \n",
            "=================================================================\n",
            "Embedding_Layer (Embedding)  (None, 23, 10)            34940     \n",
            "_________________________________________________________________\n",
            "GRU_Layer (GRU)              (None, 128)               53760     \n",
            "_________________________________________________________________\n",
            "dense (Dense)                (None, 3494)              450726    \n",
            "=================================================================\n",
            "Total params: 539,426\n",
            "Trainable params: 539,426\n",
            "Non-trainable params: 0\n",
            "_________________________________________________________________\n"
          ],
          "name": "stdout"
        }
      ]
    },
    {
      "cell_type": "code",
      "metadata": {
        "id": "xfFYEYigrvCt"
      },
      "source": [
        "model.compile(loss='categorical_crossentropy', optimizer='adam', metrics=['accuracy'])"
      ],
      "execution_count": 22,
      "outputs": []
    },
    {
      "cell_type": "code",
      "metadata": {
        "colab": {
          "base_uri": "https://localhost:8080/"
        },
        "id": "x9rA8p8Hr379",
        "outputId": "ba58ccb4-0414-4123-b2b0-3bcd8b68219f"
      },
      "source": [
        "history = model.fit(X, Y, epochs=200, verbose=2)"
      ],
      "execution_count": 23,
      "outputs": [
        {
          "output_type": "stream",
          "text": [
            "Epoch 1/200\n",
            "244/244 - 10s - loss: 7.7057 - accuracy: 0.0291\n",
            "Epoch 2/200\n",
            "244/244 - 3s - loss: 7.1229 - accuracy: 0.0315\n",
            "Epoch 3/200\n",
            "244/244 - 3s - loss: 6.9182 - accuracy: 0.0432\n",
            "Epoch 4/200\n",
            "244/244 - 3s - loss: 6.7109 - accuracy: 0.0495\n",
            "Epoch 5/200\n",
            "244/244 - 3s - loss: 6.4869 - accuracy: 0.0534\n",
            "Epoch 6/200\n",
            "244/244 - 3s - loss: 6.2371 - accuracy: 0.0556\n",
            "Epoch 7/200\n",
            "244/244 - 3s - loss: 5.9657 - accuracy: 0.0624\n",
            "Epoch 8/200\n",
            "244/244 - 3s - loss: 5.6905 - accuracy: 0.0679\n",
            "Epoch 9/200\n",
            "244/244 - 3s - loss: 5.4227 - accuracy: 0.0759\n",
            "Epoch 10/200\n",
            "244/244 - 3s - loss: 5.1652 - accuracy: 0.0834\n",
            "Epoch 11/200\n",
            "244/244 - 3s - loss: 4.9260 - accuracy: 0.0951\n",
            "Epoch 12/200\n",
            "244/244 - 3s - loss: 4.6989 - accuracy: 0.1153\n",
            "Epoch 13/200\n",
            "244/244 - 3s - loss: 4.4823 - accuracy: 0.1402\n",
            "Epoch 14/200\n",
            "244/244 - 3s - loss: 4.2784 - accuracy: 0.1654\n",
            "Epoch 15/200\n",
            "244/244 - 3s - loss: 4.0816 - accuracy: 0.2011\n",
            "Epoch 16/200\n",
            "244/244 - 3s - loss: 3.8975 - accuracy: 0.2300\n",
            "Epoch 17/200\n",
            "244/244 - 3s - loss: 3.7178 - accuracy: 0.2578\n",
            "Epoch 18/200\n",
            "244/244 - 3s - loss: 3.5487 - accuracy: 0.2850\n",
            "Epoch 19/200\n",
            "244/244 - 3s - loss: 3.3889 - accuracy: 0.3169\n",
            "Epoch 20/200\n",
            "244/244 - 3s - loss: 3.2399 - accuracy: 0.3412\n",
            "Epoch 21/200\n",
            "244/244 - 3s - loss: 3.0916 - accuracy: 0.3719\n",
            "Epoch 22/200\n",
            "244/244 - 3s - loss: 2.9568 - accuracy: 0.4002\n",
            "Epoch 23/200\n",
            "244/244 - 3s - loss: 2.8302 - accuracy: 0.4173\n",
            "Epoch 24/200\n",
            "244/244 - 3s - loss: 2.7109 - accuracy: 0.4433\n",
            "Epoch 25/200\n",
            "244/244 - 3s - loss: 2.5927 - accuracy: 0.4633\n",
            "Epoch 26/200\n",
            "244/244 - 3s - loss: 2.4877 - accuracy: 0.4860\n",
            "Epoch 27/200\n",
            "244/244 - 3s - loss: 2.3809 - accuracy: 0.5138\n",
            "Epoch 28/200\n",
            "244/244 - 3s - loss: 2.2876 - accuracy: 0.5267\n",
            "Epoch 29/200\n",
            "244/244 - 3s - loss: 2.1938 - accuracy: 0.5499\n",
            "Epoch 30/200\n",
            "244/244 - 3s - loss: 2.1055 - accuracy: 0.5671\n",
            "Epoch 31/200\n",
            "244/244 - 3s - loss: 2.0212 - accuracy: 0.5837\n",
            "Epoch 32/200\n",
            "244/244 - 3s - loss: 1.9461 - accuracy: 0.5978\n",
            "Epoch 33/200\n",
            "244/244 - 3s - loss: 1.8685 - accuracy: 0.6196\n",
            "Epoch 34/200\n",
            "244/244 - 3s - loss: 1.7975 - accuracy: 0.6313\n",
            "Epoch 35/200\n",
            "244/244 - 3s - loss: 1.7276 - accuracy: 0.6464\n",
            "Epoch 36/200\n",
            "244/244 - 3s - loss: 1.6595 - accuracy: 0.6592\n",
            "Epoch 37/200\n",
            "244/244 - 3s - loss: 1.5971 - accuracy: 0.6754\n",
            "Epoch 38/200\n",
            "244/244 - 3s - loss: 1.5383 - accuracy: 0.6877\n",
            "Epoch 39/200\n",
            "244/244 - 3s - loss: 1.4798 - accuracy: 0.7014\n",
            "Epoch 40/200\n",
            "244/244 - 3s - loss: 1.4196 - accuracy: 0.7125\n",
            "Epoch 41/200\n",
            "244/244 - 3s - loss: 1.3679 - accuracy: 0.7211\n",
            "Epoch 42/200\n",
            "244/244 - 3s - loss: 1.3183 - accuracy: 0.7365\n",
            "Epoch 43/200\n",
            "244/244 - 3s - loss: 1.2691 - accuracy: 0.7493\n",
            "Epoch 44/200\n",
            "244/244 - 3s - loss: 1.2214 - accuracy: 0.7548\n",
            "Epoch 45/200\n",
            "244/244 - 3s - loss: 1.1786 - accuracy: 0.7638\n",
            "Epoch 46/200\n",
            "244/244 - 3s - loss: 1.1319 - accuracy: 0.7705\n",
            "Epoch 47/200\n",
            "244/244 - 3s - loss: 1.0922 - accuracy: 0.7798\n",
            "Epoch 48/200\n",
            "244/244 - 3s - loss: 1.0479 - accuracy: 0.7892\n",
            "Epoch 49/200\n",
            "244/244 - 3s - loss: 1.0090 - accuracy: 0.7967\n",
            "Epoch 50/200\n",
            "244/244 - 3s - loss: 0.9699 - accuracy: 0.8043\n",
            "Epoch 51/200\n",
            "244/244 - 3s - loss: 0.9411 - accuracy: 0.8062\n",
            "Epoch 52/200\n",
            "244/244 - 3s - loss: 0.9050 - accuracy: 0.8140\n",
            "Epoch 53/200\n",
            "244/244 - 3s - loss: 0.8672 - accuracy: 0.8226\n",
            "Epoch 54/200\n",
            "244/244 - 3s - loss: 0.8370 - accuracy: 0.8270\n",
            "Epoch 55/200\n",
            "244/244 - 3s - loss: 0.8057 - accuracy: 0.8367\n",
            "Epoch 56/200\n",
            "244/244 - 3s - loss: 0.7787 - accuracy: 0.8397\n",
            "Epoch 57/200\n",
            "244/244 - 3s - loss: 0.7528 - accuracy: 0.8448\n",
            "Epoch 58/200\n",
            "244/244 - 3s - loss: 0.7289 - accuracy: 0.8513\n",
            "Epoch 59/200\n",
            "244/244 - 3s - loss: 0.7024 - accuracy: 0.8554\n",
            "Epoch 60/200\n",
            "244/244 - 3s - loss: 0.6753 - accuracy: 0.8618\n",
            "Epoch 61/200\n",
            "244/244 - 3s - loss: 0.6545 - accuracy: 0.8667\n",
            "Epoch 62/200\n",
            "244/244 - 3s - loss: 0.6356 - accuracy: 0.8689\n",
            "Epoch 63/200\n",
            "244/244 - 3s - loss: 0.6097 - accuracy: 0.8743\n",
            "Epoch 64/200\n",
            "244/244 - 3s - loss: 0.5881 - accuracy: 0.8797\n",
            "Epoch 65/200\n",
            "244/244 - 3s - loss: 0.5667 - accuracy: 0.8847\n",
            "Epoch 66/200\n",
            "244/244 - 3s - loss: 0.5494 - accuracy: 0.8871\n",
            "Epoch 67/200\n",
            "244/244 - 3s - loss: 0.5330 - accuracy: 0.8921\n",
            "Epoch 68/200\n",
            "244/244 - 3s - loss: 0.5232 - accuracy: 0.8925\n",
            "Epoch 69/200\n",
            "244/244 - 3s - loss: 0.5059 - accuracy: 0.8966\n",
            "Epoch 70/200\n",
            "244/244 - 3s - loss: 0.4879 - accuracy: 0.8954\n",
            "Epoch 71/200\n",
            "244/244 - 3s - loss: 0.4781 - accuracy: 0.8979\n",
            "Epoch 72/200\n",
            "244/244 - 3s - loss: 0.4736 - accuracy: 0.9013\n",
            "Epoch 73/200\n",
            "244/244 - 3s - loss: 0.4600 - accuracy: 0.9039\n",
            "Epoch 74/200\n",
            "244/244 - 3s - loss: 0.4419 - accuracy: 0.9030\n",
            "Epoch 75/200\n",
            "244/244 - 3s - loss: 0.4335 - accuracy: 0.9085\n",
            "Epoch 76/200\n",
            "244/244 - 3s - loss: 0.4189 - accuracy: 0.9076\n",
            "Epoch 77/200\n",
            "244/244 - 3s - loss: 0.4076 - accuracy: 0.9109\n",
            "Epoch 78/200\n",
            "244/244 - 3s - loss: 0.4023 - accuracy: 0.9102\n",
            "Epoch 79/200\n",
            "244/244 - 3s - loss: 0.3925 - accuracy: 0.9108\n",
            "Epoch 80/200\n",
            "244/244 - 3s - loss: 0.3861 - accuracy: 0.9104\n",
            "Epoch 81/200\n",
            "244/244 - 3s - loss: 0.3890 - accuracy: 0.9104\n",
            "Epoch 82/200\n",
            "244/244 - 3s - loss: 0.3788 - accuracy: 0.9114\n",
            "Epoch 83/200\n",
            "244/244 - 3s - loss: 0.3794 - accuracy: 0.9126\n",
            "Epoch 84/200\n",
            "244/244 - 3s - loss: 0.3808 - accuracy: 0.9104\n",
            "Epoch 85/200\n",
            "244/244 - 3s - loss: 0.3710 - accuracy: 0.9116\n",
            "Epoch 86/200\n",
            "244/244 - 3s - loss: 0.3547 - accuracy: 0.9146\n",
            "Epoch 87/200\n",
            "244/244 - 3s - loss: 0.3469 - accuracy: 0.9155\n",
            "Epoch 88/200\n",
            "244/244 - 3s - loss: 0.3393 - accuracy: 0.9129\n",
            "Epoch 89/200\n",
            "244/244 - 3s - loss: 0.3388 - accuracy: 0.9121\n",
            "Epoch 90/200\n",
            "244/244 - 3s - loss: 0.3342 - accuracy: 0.9150\n",
            "Epoch 91/200\n",
            "244/244 - 3s - loss: 0.3330 - accuracy: 0.9149\n",
            "Epoch 92/200\n",
            "244/244 - 3s - loss: 0.3299 - accuracy: 0.9141\n",
            "Epoch 93/200\n",
            "244/244 - 3s - loss: 0.3262 - accuracy: 0.9140\n",
            "Epoch 94/200\n",
            "244/244 - 3s - loss: 0.3274 - accuracy: 0.9139\n",
            "Epoch 95/200\n",
            "244/244 - 3s - loss: 0.3380 - accuracy: 0.9122\n",
            "Epoch 96/200\n",
            "244/244 - 3s - loss: 0.4425 - accuracy: 0.8893\n",
            "Epoch 97/200\n",
            "244/244 - 3s - loss: 0.3986 - accuracy: 0.9012\n",
            "Epoch 98/200\n",
            "244/244 - 3s - loss: 0.3272 - accuracy: 0.9126\n",
            "Epoch 99/200\n",
            "244/244 - 3s - loss: 0.3106 - accuracy: 0.9148\n",
            "Epoch 100/200\n",
            "244/244 - 3s - loss: 0.3076 - accuracy: 0.9145\n",
            "Epoch 101/200\n",
            "244/244 - 3s - loss: 0.3071 - accuracy: 0.9140\n",
            "Epoch 102/200\n",
            "244/244 - 3s - loss: 0.3052 - accuracy: 0.9148\n",
            "Epoch 103/200\n",
            "244/244 - 3s - loss: 0.3030 - accuracy: 0.9152\n",
            "Epoch 104/200\n",
            "244/244 - 3s - loss: 0.3039 - accuracy: 0.9152\n",
            "Epoch 105/200\n",
            "244/244 - 3s - loss: 0.3007 - accuracy: 0.9176\n",
            "Epoch 106/200\n",
            "244/244 - 3s - loss: 0.3029 - accuracy: 0.9149\n",
            "Epoch 107/200\n",
            "244/244 - 3s - loss: 0.3011 - accuracy: 0.9145\n",
            "Epoch 108/200\n",
            "244/244 - 3s - loss: 0.3000 - accuracy: 0.9150\n",
            "Epoch 109/200\n",
            "244/244 - 3s - loss: 0.2982 - accuracy: 0.9144\n",
            "Epoch 110/200\n",
            "244/244 - 3s - loss: 0.3011 - accuracy: 0.9141\n",
            "Epoch 111/200\n",
            "244/244 - 3s - loss: 0.2972 - accuracy: 0.9166\n",
            "Epoch 112/200\n",
            "244/244 - 3s - loss: 0.2995 - accuracy: 0.9148\n",
            "Epoch 113/200\n",
            "244/244 - 3s - loss: 0.3006 - accuracy: 0.9139\n",
            "Epoch 114/200\n",
            "244/244 - 3s - loss: 0.3086 - accuracy: 0.9135\n",
            "Epoch 115/200\n",
            "244/244 - 3s - loss: 0.3592 - accuracy: 0.9030\n",
            "Epoch 116/200\n",
            "244/244 - 3s - loss: 0.3772 - accuracy: 0.8982\n",
            "Epoch 117/200\n",
            "244/244 - 3s - loss: 0.3197 - accuracy: 0.9117\n",
            "Epoch 118/200\n",
            "244/244 - 3s - loss: 0.2980 - accuracy: 0.9150\n",
            "Epoch 119/200\n",
            "244/244 - 3s - loss: 0.2930 - accuracy: 0.9144\n",
            "Epoch 120/200\n",
            "244/244 - 3s - loss: 0.2905 - accuracy: 0.9139\n",
            "Epoch 121/200\n",
            "244/244 - 3s - loss: 0.2886 - accuracy: 0.9149\n",
            "Epoch 122/200\n",
            "244/244 - 3s - loss: 0.2877 - accuracy: 0.9152\n",
            "Epoch 123/200\n",
            "244/244 - 3s - loss: 0.2877 - accuracy: 0.9154\n",
            "Epoch 124/200\n",
            "244/244 - 3s - loss: 0.2873 - accuracy: 0.9146\n",
            "Epoch 125/200\n",
            "244/244 - 3s - loss: 0.2881 - accuracy: 0.9143\n",
            "Epoch 126/200\n",
            "244/244 - 3s - loss: 0.2877 - accuracy: 0.9149\n",
            "Epoch 127/200\n",
            "244/244 - 3s - loss: 0.2871 - accuracy: 0.9166\n",
            "Epoch 128/200\n",
            "244/244 - 3s - loss: 0.2886 - accuracy: 0.9141\n",
            "Epoch 129/200\n",
            "244/244 - 3s - loss: 0.2872 - accuracy: 0.9154\n",
            "Epoch 130/200\n",
            "244/244 - 3s - loss: 0.2874 - accuracy: 0.9162\n",
            "Epoch 131/200\n",
            "244/244 - 3s - loss: 0.2866 - accuracy: 0.9153\n",
            "Epoch 132/200\n",
            "244/244 - 3s - loss: 0.2914 - accuracy: 0.9153\n",
            "Epoch 133/200\n",
            "244/244 - 3s - loss: 0.3510 - accuracy: 0.9035\n",
            "Epoch 134/200\n",
            "244/244 - 3s - loss: 0.3750 - accuracy: 0.8957\n",
            "Epoch 135/200\n",
            "244/244 - 3s - loss: 0.3229 - accuracy: 0.9094\n",
            "Epoch 136/200\n",
            "244/244 - 3s - loss: 0.2903 - accuracy: 0.9158\n",
            "Epoch 137/200\n",
            "244/244 - 3s - loss: 0.2854 - accuracy: 0.9144\n",
            "Epoch 138/200\n",
            "244/244 - 3s - loss: 0.2834 - accuracy: 0.9158\n",
            "Epoch 139/200\n",
            "244/244 - 3s - loss: 0.2837 - accuracy: 0.9144\n",
            "Epoch 140/200\n",
            "244/244 - 3s - loss: 0.2823 - accuracy: 0.9157\n",
            "Epoch 141/200\n",
            "244/244 - 3s - loss: 0.2824 - accuracy: 0.9155\n",
            "Epoch 142/200\n",
            "244/244 - 3s - loss: 0.2837 - accuracy: 0.9149\n",
            "Epoch 143/200\n",
            "244/244 - 3s - loss: 0.2826 - accuracy: 0.9166\n",
            "Epoch 144/200\n",
            "244/244 - 3s - loss: 0.2878 - accuracy: 0.9148\n",
            "Epoch 145/200\n",
            "244/244 - 3s - loss: 0.2970 - accuracy: 0.9127\n",
            "Epoch 146/200\n",
            "244/244 - 3s - loss: 0.3025 - accuracy: 0.9112\n",
            "Epoch 147/200\n",
            "244/244 - 3s - loss: 0.3105 - accuracy: 0.9112\n",
            "Epoch 148/200\n",
            "244/244 - 3s - loss: 0.2900 - accuracy: 0.9146\n",
            "Epoch 149/200\n",
            "244/244 - 3s - loss: 0.2823 - accuracy: 0.9141\n",
            "Epoch 150/200\n",
            "244/244 - 3s - loss: 0.2810 - accuracy: 0.9163\n",
            "Epoch 151/200\n",
            "244/244 - 3s - loss: 0.2818 - accuracy: 0.9161\n",
            "Epoch 152/200\n",
            "244/244 - 3s - loss: 0.2806 - accuracy: 0.9154\n",
            "Epoch 153/200\n",
            "244/244 - 3s - loss: 0.2822 - accuracy: 0.9157\n",
            "Epoch 154/200\n",
            "244/244 - 3s - loss: 0.2829 - accuracy: 0.9134\n",
            "Epoch 155/200\n",
            "244/244 - 3s - loss: 0.2816 - accuracy: 0.9150\n",
            "Epoch 156/200\n",
            "244/244 - 3s - loss: 0.2848 - accuracy: 0.9145\n",
            "Epoch 157/200\n",
            "244/244 - 3s - loss: 0.2825 - accuracy: 0.9162\n",
            "Epoch 158/200\n",
            "244/244 - 3s - loss: 0.2827 - accuracy: 0.9164\n",
            "Epoch 159/200\n",
            "244/244 - 3s - loss: 0.2872 - accuracy: 0.9148\n",
            "Epoch 160/200\n",
            "244/244 - 3s - loss: 0.3133 - accuracy: 0.9100\n",
            "Epoch 161/200\n",
            "244/244 - 3s - loss: 0.3568 - accuracy: 0.8982\n",
            "Epoch 162/200\n",
            "244/244 - 3s - loss: 0.3123 - accuracy: 0.9118\n",
            "Epoch 163/200\n",
            "244/244 - 3s - loss: 0.2881 - accuracy: 0.9139\n",
            "Epoch 164/200\n",
            "244/244 - 3s - loss: 0.2797 - accuracy: 0.9167\n",
            "Epoch 165/200\n",
            "244/244 - 3s - loss: 0.2797 - accuracy: 0.9152\n",
            "Epoch 166/200\n",
            "244/244 - 3s - loss: 0.2786 - accuracy: 0.9152\n",
            "Epoch 167/200\n",
            "244/244 - 3s - loss: 0.2809 - accuracy: 0.9146\n",
            "Epoch 168/200\n",
            "244/244 - 3s - loss: 0.2781 - accuracy: 0.9146\n",
            "Epoch 169/200\n",
            "244/244 - 3s - loss: 0.2790 - accuracy: 0.9136\n",
            "Epoch 170/200\n",
            "244/244 - 3s - loss: 0.2793 - accuracy: 0.9146\n",
            "Epoch 171/200\n",
            "244/244 - 3s - loss: 0.2776 - accuracy: 0.9167\n",
            "Epoch 172/200\n",
            "244/244 - 3s - loss: 0.2788 - accuracy: 0.9144\n",
            "Epoch 173/200\n",
            "244/244 - 3s - loss: 0.2783 - accuracy: 0.9168\n",
            "Epoch 174/200\n",
            "244/244 - 3s - loss: 0.2791 - accuracy: 0.9141\n",
            "Epoch 175/200\n",
            "244/244 - 3s - loss: 0.2788 - accuracy: 0.9154\n",
            "Epoch 176/200\n",
            "244/244 - 3s - loss: 0.2792 - accuracy: 0.9153\n",
            "Epoch 177/200\n",
            "244/244 - 3s - loss: 0.2786 - accuracy: 0.9152\n",
            "Epoch 178/200\n",
            "244/244 - 3s - loss: 0.2830 - accuracy: 0.9141\n",
            "Epoch 179/200\n",
            "244/244 - 2s - loss: 0.3401 - accuracy: 0.9026\n",
            "Epoch 180/200\n",
            "244/244 - 3s - loss: 0.3282 - accuracy: 0.9047\n",
            "Epoch 181/200\n",
            "244/244 - 3s - loss: 0.2911 - accuracy: 0.9134\n",
            "Epoch 182/200\n",
            "244/244 - 3s - loss: 0.2809 - accuracy: 0.9161\n",
            "Epoch 183/200\n",
            "244/244 - 3s - loss: 0.2770 - accuracy: 0.9154\n",
            "Epoch 184/200\n",
            "244/244 - 3s - loss: 0.2775 - accuracy: 0.9154\n",
            "Epoch 185/200\n",
            "244/244 - 3s - loss: 0.2771 - accuracy: 0.9146\n",
            "Epoch 186/200\n",
            "244/244 - 3s - loss: 0.2776 - accuracy: 0.9150\n",
            "Epoch 187/200\n",
            "244/244 - 3s - loss: 0.2763 - accuracy: 0.9152\n",
            "Epoch 188/200\n",
            "244/244 - 3s - loss: 0.2781 - accuracy: 0.9141\n",
            "Epoch 189/200\n",
            "244/244 - 3s - loss: 0.2778 - accuracy: 0.9152\n",
            "Epoch 190/200\n",
            "244/244 - 3s - loss: 0.2775 - accuracy: 0.9146\n",
            "Epoch 191/200\n",
            "244/244 - 3s - loss: 0.2768 - accuracy: 0.9161\n",
            "Epoch 192/200\n",
            "244/244 - 3s - loss: 0.2779 - accuracy: 0.9130\n",
            "Epoch 193/200\n",
            "244/244 - 3s - loss: 0.2778 - accuracy: 0.9143\n",
            "Epoch 194/200\n",
            "244/244 - 3s - loss: 0.2762 - accuracy: 0.9162\n",
            "Epoch 195/200\n",
            "244/244 - 3s - loss: 0.2786 - accuracy: 0.9157\n",
            "Epoch 196/200\n",
            "244/244 - 3s - loss: 0.2770 - accuracy: 0.9164\n",
            "Epoch 197/200\n",
            "244/244 - 3s - loss: 0.2806 - accuracy: 0.9138\n",
            "Epoch 198/200\n",
            "244/244 - 3s - loss: 0.2780 - accuracy: 0.9162\n",
            "Epoch 199/200\n",
            "244/244 - 3s - loss: 0.2977 - accuracy: 0.9094\n",
            "Epoch 200/200\n",
            "244/244 - 3s - loss: 0.3554 - accuracy: 0.8991\n"
          ],
          "name": "stdout"
        }
      ]
    },
    {
      "cell_type": "markdown",
      "metadata": {
        "id": "w6NvR3xItpN-"
      },
      "source": [
        "### 모델 검증"
      ]
    },
    {
      "cell_type": "code",
      "metadata": {
        "id": "rJ58fwjur8Z_"
      },
      "source": [
        "def sentence_generation(model, t, current_word, n):\r\n",
        "  init_word = current_word\r\n",
        "  sentence = ''\r\n",
        "  for _ in range(n):\r\n",
        "    encoded = t.texts_to_sequences([current_word])[0]\r\n",
        "    encoded = pad_sequences([encoded], maxlen=23, padding='pre')\r\n",
        "    result = np.argmax(model.predict(encoded), axis=-1)\r\n",
        "    for word, index in t.word_index.items():\r\n",
        "      if index == result:\r\n",
        "        break\r\n",
        "    current_word = current_word + ' ' + word\r\n",
        "    sentence = sentence + ' ' + word\r\n",
        "    \r\n",
        "  sentence = init_word + sentence\r\n",
        "  return sentence"
      ],
      "execution_count": 24,
      "outputs": []
    },
    {
      "cell_type": "code",
      "metadata": {
        "colab": {
          "base_uri": "https://localhost:8080/"
        },
        "id": "L-x1UAkJt8HU",
        "outputId": "5bf30c04-f37a-4d84-f491-70dcb326eabf"
      },
      "source": [
        "print(sentence_generation(model, t, 'i', 10))\r\n",
        "print(sentence_generation(model, t, 'how', 10))\r\n",
        "print(sentence_generation(model, t, 'former', 10))"
      ],
      "execution_count": 25,
      "outputs": [
        {
          "output_type": "stream",
          "text": [
            "i want to be rich and im not sorry scientists beg\n",
            "how to make a crossword puzzle vote children currency be forgotten\n",
            "former nfl cheerleaders settlement offer 1 and a meeting with goodell\n"
          ],
          "name": "stdout"
        }
      ]
    }
  ]
}