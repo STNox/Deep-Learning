{
  "nbformat": 4,
  "nbformat_minor": 0,
  "metadata": {
    "colab": {
      "name": "03_텍스트 생성-LSTM.ipynb",
      "provenance": [],
      "collapsed_sections": []
    },
    "kernelspec": {
      "name": "python3",
      "display_name": "Python 3"
    }
  },
  "cells": [
    {
      "cell_type": "markdown",
      "metadata": {
        "id": "fa6FpCJL51aj"
      },
      "source": [
        "# LSTM을 이용한 텍스트 생성\r\n",
        "- '경마장에 있는 말이 뛰고 있다'\r\n",
        "- '그의 말이 법이다'\r\n",
        "- '가는 말이 고와야 오는 말이 곱다'"
      ]
    },
    {
      "cell_type": "code",
      "metadata": {
        "id": "-2MlBYGu5m_b"
      },
      "source": [
        "import numpy as np\r\n",
        "import tensorflow as tf\r\n",
        "from tensorflow.keras.preprocessing.text import Tokenizer\r\n",
        "from tensorflow.keras.preprocessing.sequence import pad_sequences\r\n",
        "from tensorflow.keras.utils import to_categorical"
      ],
      "execution_count": 1,
      "outputs": []
    },
    {
      "cell_type": "code",
      "metadata": {
        "id": "xzHuMn9M6jE7"
      },
      "source": [
        "seed = 2021\r\n",
        "np.random.seed(seed)\r\n",
        "tf.random.set_seed(seed)"
      ],
      "execution_count": 2,
      "outputs": []
    },
    {
      "cell_type": "code",
      "metadata": {
        "id": "mkJg-zaz6omL"
      },
      "source": [
        "text = \"\"\"경마장에 있는 말이 뛰고 있다\\n\r\n",
        "그의 말이 법이다\\n\r\n",
        "가는 말이 고와야 오는 말이 곱다\\n\"\"\""
      ],
      "execution_count": 3,
      "outputs": []
    },
    {
      "cell_type": "code",
      "metadata": {
        "id": "V0FQZPsu6407"
      },
      "source": [
        "# 단어 집합 생성\r\n",
        "t = Tokenizer()\r\n",
        "t.fit_on_texts([text])"
      ],
      "execution_count": 4,
      "outputs": []
    },
    {
      "cell_type": "code",
      "metadata": {
        "colab": {
          "base_uri": "https://localhost:8080/"
        },
        "id": "ONhVlBRf7PHz",
        "outputId": "67da8622-2580-4461-9cfa-26d5aea59919"
      },
      "source": [
        "# 단어 집합 크기 설정\r\n",
        "vocab_size = len(t.word_index) + 1\r\n",
        "print('단어 집합의 크기: %d' % vocab_size)"
      ],
      "execution_count": 5,
      "outputs": [
        {
          "output_type": "stream",
          "text": [
            "단어 집합의 크기: 12\n"
          ],
          "name": "stdout"
        }
      ]
    },
    {
      "cell_type": "code",
      "metadata": {
        "colab": {
          "base_uri": "https://localhost:8080/"
        },
        "id": "8BOimUmN8TED",
        "outputId": "459ee0d4-0d60-4954-8d44-0ac3b72d6c9a"
      },
      "source": [
        "sequences = []\r\n",
        "for line in text.split('\\n'):\r\n",
        "  encoded = t.texts_to_sequences([line])[0]\r\n",
        "  for i in range(1, len(encoded)):\r\n",
        "    sequence = encoded[:i+1]\r\n",
        "    sequences.append(sequence)\r\n",
        "\r\n",
        "print('학습에 사용할 샘픔의 개수: %d' % len(sequences))"
      ],
      "execution_count": 6,
      "outputs": [
        {
          "output_type": "stream",
          "text": [
            "학습에 사용할 샘픔의 개수: 11\n"
          ],
          "name": "stdout"
        }
      ]
    },
    {
      "cell_type": "code",
      "metadata": {
        "colab": {
          "base_uri": "https://localhost:8080/"
        },
        "id": "wxw9t4-i__lB",
        "outputId": "2192c28c-14ce-476a-9d75-aa7514fb2352"
      },
      "source": [
        "# 모든 샘플에서 길이가 가장 긴 샘플의 길이 출력\r\n",
        "max_len = max(len(s)for s in sequences)\r\n",
        "print('샘플의 최대 길이: ', max_len)"
      ],
      "execution_count": 7,
      "outputs": [
        {
          "output_type": "stream",
          "text": [
            "샘플의 최대 길이:  6\n"
          ],
          "name": "stdout"
        }
      ]
    },
    {
      "cell_type": "code",
      "metadata": {
        "id": "MDIi_AW2ARKV"
      },
      "source": [
        "sequences = pad_sequences(sequences, maxlen=max_len, padding='pre')"
      ],
      "execution_count": 8,
      "outputs": []
    },
    {
      "cell_type": "code",
      "metadata": {
        "id": "osK8vHNbAlgI"
      },
      "source": [
        "X = sequences[:, :-1]\r\n",
        "y = sequences[:, -1]\r\n",
        "\r\n",
        "Y = to_categorical(y, num_classes=vocab_size)"
      ],
      "execution_count": 9,
      "outputs": []
    },
    {
      "cell_type": "markdown",
      "metadata": {
        "id": "L-V6fMLdD3I_"
      },
      "source": [
        "### 모델 정의\r\n",
        "- Embedding\r\n",
        "- LSTM\r\n"
      ]
    },
    {
      "cell_type": "code",
      "metadata": {
        "id": "unjLfl1vB9QN"
      },
      "source": [
        "from tensorflow.keras.models import Sequential\r\n",
        "from tensorflow.keras.layers import Embedding, Dense, LSTM"
      ],
      "execution_count": 10,
      "outputs": []
    },
    {
      "cell_type": "code",
      "metadata": {
        "colab": {
          "base_uri": "https://localhost:8080/"
        },
        "id": "qGv9BJJREMFX",
        "outputId": "c8f03151-48dd-4e3d-e6cb-1238a10f52dd"
      },
      "source": [
        "model = Sequential([\r\n",
        "                    Embedding(vocab_size, 5, input_length=max_len - 1),\r\n",
        "                    LSTM(32),\r\n",
        "                    Dense(vocab_size, activation='softmax')\r\n",
        "])\r\n",
        "model.summary()"
      ],
      "execution_count": 11,
      "outputs": [
        {
          "output_type": "stream",
          "text": [
            "Model: \"sequential\"\n",
            "_________________________________________________________________\n",
            "Layer (type)                 Output Shape              Param #   \n",
            "=================================================================\n",
            "embedding (Embedding)        (None, 5, 5)              60        \n",
            "_________________________________________________________________\n",
            "lstm (LSTM)                  (None, 32)                4864      \n",
            "_________________________________________________________________\n",
            "dense (Dense)                (None, 12)                396       \n",
            "=================================================================\n",
            "Total params: 5,320\n",
            "Trainable params: 5,320\n",
            "Non-trainable params: 0\n",
            "_________________________________________________________________\n"
          ],
          "name": "stdout"
        }
      ]
    },
    {
      "cell_type": "code",
      "metadata": {
        "id": "5lWb1xUMFTRh"
      },
      "source": [
        "model.compile(loss='categorical_crossentropy', optimizer='adam', metrics=['accuracy'])"
      ],
      "execution_count": 12,
      "outputs": []
    },
    {
      "cell_type": "code",
      "metadata": {
        "id": "Vj_SYnI0F1je"
      },
      "source": [
        "history = model.fit(X, Y, epochs=200, verbose=0)"
      ],
      "execution_count": 13,
      "outputs": []
    },
    {
      "cell_type": "code",
      "metadata": {
        "colab": {
          "base_uri": "https://localhost:8080/"
        },
        "id": "anN3NxgkGI5N",
        "outputId": "b64d08d4-f553-4d13-bf5f-384b3789731d"
      },
      "source": [
        "history.history['accuracy'][-1]"
      ],
      "execution_count": 14,
      "outputs": [
        {
          "output_type": "execute_result",
          "data": {
            "text/plain": [
              "0.7272727489471436"
            ]
          },
          "metadata": {
            "tags": []
          },
          "execution_count": 14
        }
      ]
    },
    {
      "cell_type": "markdown",
      "metadata": {
        "id": "m8VCO8qJGF1e"
      },
      "source": [
        "### 모델 검증"
      ]
    },
    {
      "cell_type": "code",
      "metadata": {
        "id": "3f7rx-7GGBS2"
      },
      "source": [
        "def sentence_generation(model, t, current_word, n):\r\n",
        "  init_word = current_word\r\n",
        "  sentence = ''\r\n",
        "  for _ in range(n):\r\n",
        "    encoded = t.texts_to_sequences([current_word])[0]\r\n",
        "    encoded = pad_sequences([encoded], maxlen=5, padding='pre')\r\n",
        "    result = np.argmax(model.predict(encoded), axis=-1)\r\n",
        "    for word, index in t.word_index.items():\r\n",
        "      if index == result:\r\n",
        "        break\r\n",
        "    current_word = current_word + ' ' + word\r\n",
        "    sentence = sentence + ' ' + word\r\n",
        "    \r\n",
        "  sentence = init_word + sentence\r\n",
        "  return sentence"
      ],
      "execution_count": 15,
      "outputs": []
    },
    {
      "cell_type": "markdown",
      "metadata": {
        "id": "w1DY8JwyaVa8"
      },
      "source": [
        "### 모델 변화\r\n",
        "- Embedding Vector 개수: [2, 4, 6, 8]\r\n",
        "- LSTM 노드 개수: [24, 32]"
      ]
    },
    {
      "cell_type": "code",
      "metadata": {
        "id": "VGb2nAA0a55h"
      },
      "source": [
        "def change_model(n_embed, n_lstm):\r\n",
        "  model = Sequential([\r\n",
        "                      Embedding(vocab_size, n_embed, input_length=max_len - 1),\r\n",
        "                      LSTM(n_lstm),\r\n",
        "                      Dense(vocab_size, activation='softmax')\r\n",
        "  ])\r\n",
        "  model.compile(loss='categorical_crossentropy', optimizer='adam', metrics=['accuracy'])\r\n",
        "  history = model.fit(X, Y, epochs=200, verbose=0)\r\n",
        "  print(f\"Accuracy: {history.history['accuracy'][-1]:.4f}\")\r\n",
        "\r\n",
        "  print(sentence_generation(model, t, '경마장에', 3))\r\n",
        "  print(sentence_generation(model, t, '그의', 2))\r\n",
        "  print(sentence_generation(model, t, '가는', 5))"
      ],
      "execution_count": 16,
      "outputs": []
    },
    {
      "cell_type": "code",
      "metadata": {
        "colab": {
          "base_uri": "https://localhost:8080/"
        },
        "id": "E2d4C-RLIAnG",
        "outputId": "5515bc5d-a98b-4b55-eb28-e35f42e1ec7b"
      },
      "source": [
        "for n_embed in [2, 4, 6, 8]:\r\n",
        "  for n_lstm in [24, 32]:\r\n",
        "    print('===========================')\r\n",
        "    print(f'n_embed={n_embed}, n_rnn={n_lstm}')\r\n",
        "    change_model(n_embed, n_lstm)\r\n",
        "    print()"
      ],
      "execution_count": 17,
      "outputs": [
        {
          "output_type": "stream",
          "text": [
            "===========================\n",
            "n_embed=2, n_rnn=24\n",
            "Accuracy: 0.4545\n",
            "경마장에 말이 말이 말이\n",
            "그의 말이 말이\n",
            "가는 말이 말이 말이 말이 있다\n",
            "\n",
            "===========================\n",
            "n_embed=2, n_rnn=32\n",
            "Accuracy: 0.4545\n",
            "경마장에 말이 말이 말이\n",
            "그의 말이 말이\n",
            "가는 말이 말이 말이 말이 곱다\n",
            "\n",
            "===========================\n",
            "n_embed=4, n_rnn=24\n",
            "Accuracy: 0.5455\n",
            "경마장에 말이 말이 뛰고\n",
            "그의 말이 말이\n",
            "가는 말이 말이 말이 있다 있다\n",
            "\n",
            "===========================\n",
            "n_embed=4, n_rnn=32\n",
            "Accuracy: 0.6364\n",
            "경마장에 말이 말이 뛰고\n",
            "그의 말이 말이\n",
            "가는 말이 말이 말이 말이 뛰고\n",
            "\n",
            "===========================\n",
            "n_embed=6, n_rnn=24\n",
            "Accuracy: 0.5455\n",
            "경마장에 말이 말이 법이다\n",
            "그의 말이 말이\n",
            "가는 말이 말이 말이 곱다 곱다\n",
            "\n",
            "===========================\n",
            "n_embed=6, n_rnn=32\n",
            "Accuracy: 0.6364\n",
            "경마장에 말이 말이 뛰고\n",
            "그의 말이 말이\n",
            "가는 말이 말이 오는 뛰고 있다\n",
            "\n",
            "===========================\n",
            "n_embed=8, n_rnn=24\n",
            "Accuracy: 0.6364\n",
            "경마장에 말이 말이 뛰고\n",
            "그의 말이 말이\n",
            "가는 말이 말이 말이 곱다 곱다\n",
            "\n",
            "===========================\n",
            "n_embed=8, n_rnn=32\n",
            "Accuracy: 0.8182\n",
            "경마장에 말이 고와야 뛰고\n",
            "그의 말이 말이\n",
            "가는 말이 고와야 오는 말이 곱다\n",
            "\n"
          ],
          "name": "stdout"
        }
      ]
    },
    {
      "cell_type": "code",
      "metadata": {
        "id": "JU_wWeDacYQR"
      },
      "source": [
        ""
      ],
      "execution_count": 17,
      "outputs": []
    }
  ]
}