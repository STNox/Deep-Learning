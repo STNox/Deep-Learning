{
  "nbformat": 4,
  "nbformat_minor": 0,
  "metadata": {
    "colab": {
      "name": "21_Reuter_News분류_LSTM.ipynb",
      "provenance": [],
      "collapsed_sections": []
    },
    "kernelspec": {
      "name": "python3",
      "display_name": "Python 3"
    },
    "accelerator": "GPU"
  },
  "cells": [
    {
      "cell_type": "markdown",
      "metadata": {
        "id": "cDCYx70PJdyt"
      },
      "source": [
        "# LSTM을 이용한 로이터 뉴스 카테고리 분류"
      ]
    },
    {
      "cell_type": "code",
      "metadata": {
        "id": "q2ChGPYaJYoS"
      },
      "source": [
        "import numpy as np\r\n",
        "import tensorflow as tf\r\n",
        "from tensorflow.keras.preprocessing.text import Tokenizer\r\n",
        "from tensorflow.keras.preprocessing.sequence import pad_sequences"
      ],
      "execution_count": 1,
      "outputs": []
    },
    {
      "cell_type": "code",
      "metadata": {
        "id": "AgiEhJqTJ77M"
      },
      "source": [
        "seed = 2021\r\n",
        "np.random.seed(seed)\r\n",
        "tf.random.set_seed(seed)"
      ],
      "execution_count": 2,
      "outputs": []
    },
    {
      "cell_type": "code",
      "metadata": {
        "id": "XNwG2jAoJ_6u"
      },
      "source": [
        "import matplotlib.pyplot as plt\r\n",
        "%matplotlib inline\r\n",
        "import seaborn as sns"
      ],
      "execution_count": 3,
      "outputs": []
    },
    {
      "cell_type": "code",
      "metadata": {
        "colab": {
          "base_uri": "https://localhost:8080/"
        },
        "id": "4n6E7lO5KGzT",
        "outputId": "4207595b-cf9d-477d-d55f-1df6a5b84dc8"
      },
      "source": [
        "from tensorflow.keras.datasets import reuters\r\n",
        "(X_train, y_train), (X_test, y_test) = reuters.load_data(num_words=None, test_split=0.2)"
      ],
      "execution_count": 4,
      "outputs": [
        {
          "output_type": "stream",
          "text": [
            "/usr/local/lib/python3.6/dist-packages/tensorflow/python/keras/datasets/reuters.py:148: VisibleDeprecationWarning: Creating an ndarray from ragged nested sequences (which is a list-or-tuple of lists-or-tuples-or ndarrays with different lengths or shapes) is deprecated. If you meant to do this, you must specify 'dtype=object' when creating the ndarray\n",
            "  x_train, y_train = np.array(xs[:idx]), np.array(labels[:idx])\n",
            "/usr/local/lib/python3.6/dist-packages/tensorflow/python/keras/datasets/reuters.py:149: VisibleDeprecationWarning: Creating an ndarray from ragged nested sequences (which is a list-or-tuple of lists-or-tuples-or ndarrays with different lengths or shapes) is deprecated. If you meant to do this, you must specify 'dtype=object' when creating the ndarray\n",
            "  x_test, y_test = np.array(xs[idx:]), np.array(labels[idx:])\n"
          ],
          "name": "stderr"
        }
      ]
    },
    {
      "cell_type": "code",
      "metadata": {
        "colab": {
          "base_uri": "https://localhost:8080/"
        },
        "id": "AAEeXPBlKKAP",
        "outputId": "d90b9299-9d0a-4b26-ae5d-b6e4c87a2905"
      },
      "source": [
        "# 데이터 확인하기\r\n",
        "category = np.max(y_train) + 1\r\n",
        "print(category, '카테고리')\r\n",
        "print(len(X_train), '학습용 뉴스 기사')\r\n",
        "print(len(X_test), '테스트용 뉴스 기사')"
      ],
      "execution_count": 5,
      "outputs": [
        {
          "output_type": "stream",
          "text": [
            "46 카테고리\n",
            "8982 학습용 뉴스 기사\n",
            "2246 테스트용 뉴스 기사\n"
          ],
          "name": "stdout"
        }
      ]
    },
    {
      "cell_type": "code",
      "metadata": {
        "colab": {
          "base_uri": "https://localhost:8080/"
        },
        "id": "dklggk7jLK7l",
        "outputId": "c2cc9ac8-9e1e-4b8a-89ff-de16ac5d5f70"
      },
      "source": [
        "# 첫번째 뉴스 기사 확인\r\n",
        "print(X_train[0])\r\n",
        "print(y_train[0])"
      ],
      "execution_count": 6,
      "outputs": [
        {
          "output_type": "stream",
          "text": [
            "[1, 27595, 28842, 8, 43, 10, 447, 5, 25, 207, 270, 5, 3095, 111, 16, 369, 186, 90, 67, 7, 89, 5, 19, 102, 6, 19, 124, 15, 90, 67, 84, 22, 482, 26, 7, 48, 4, 49, 8, 864, 39, 209, 154, 6, 151, 6, 83, 11, 15, 22, 155, 11, 15, 7, 48, 9, 4579, 1005, 504, 6, 258, 6, 272, 11, 15, 22, 134, 44, 11, 15, 16, 8, 197, 1245, 90, 67, 52, 29, 209, 30, 32, 132, 6, 109, 15, 17, 12]\n",
            "3\n"
          ],
          "name": "stdout"
        }
      ]
    },
    {
      "cell_type": "code",
      "metadata": {
        "id": "JZtHsPf4LRWU"
      },
      "source": [
        "index_dict = {}\r\n",
        "for key, value in reuters.get_word_index().items():\r\n",
        "  index_dict[value] = key"
      ],
      "execution_count": 7,
      "outputs": []
    },
    {
      "cell_type": "code",
      "metadata": {
        "colab": {
          "base_uri": "https://localhost:8080/",
          "height": 35
        },
        "id": "WqP8USuML7UU",
        "outputId": "c898c514-8172-48c0-9c8d-133637c28ceb"
      },
      "source": [
        "index_dict[1]"
      ],
      "execution_count": 8,
      "outputs": [
        {
          "output_type": "execute_result",
          "data": {
            "application/vnd.google.colaboratory.intrinsic+json": {
              "type": "string"
            },
            "text/plain": [
              "'the'"
            ]
          },
          "metadata": {
            "tags": []
          },
          "execution_count": 8
        }
      ]
    },
    {
      "cell_type": "code",
      "metadata": {
        "colab": {
          "base_uri": "https://localhost:8080/",
          "height": 89
        },
        "id": "wyd4tSzNMXTs",
        "outputId": "346ca32b-2898-47cf-a21f-a452f4e66b16"
      },
      "source": [
        "' '.join(index_dict[s] for s in X_train[0])"
      ],
      "execution_count": 9,
      "outputs": [
        {
          "output_type": "execute_result",
          "data": {
            "application/vnd.google.colaboratory.intrinsic+json": {
              "type": "string"
            },
            "text/plain": [
              "'the wattie nondiscriminatory mln loss for plc said at only ended said commonwealth could 1 traders now april 0 a after said from 1985 and from foreign 000 april 0 prices its account year a but in this mln home an states earlier and rise and revs vs 000 its 16 vs 000 a but 3 psbr oils several and shareholders and dividend vs 000 its all 4 vs 000 1 mln agreed largely april 0 are 2 states will billion total and against 000 pct dlrs'"
            ]
          },
          "metadata": {
            "tags": []
          },
          "execution_count": 9
        }
      ]
    },
    {
      "cell_type": "code",
      "metadata": {
        "colab": {
          "base_uri": "https://localhost:8080/"
        },
        "id": "0tatYfSjNHzN",
        "outputId": "7eba46c9-8422-4d99-c5ee-cbaccdf9d105"
      },
      "source": [
        "# 뉴스 기사의 길이\r\n",
        "print('뉴스 기사의 최대 길이: ', max(len(l) for l in X_train))\r\n",
        "print('뉴스 기사의 평균 길이: ', sum(map(len, X_train)) / len(X_train))"
      ],
      "execution_count": 10,
      "outputs": [
        {
          "output_type": "stream",
          "text": [
            "뉴스 기사의 최대 길이:  2376\n",
            "뉴스 기사의 평균 길이:  145.5398574927633\n"
          ],
          "name": "stdout"
        }
      ]
    },
    {
      "cell_type": "code",
      "metadata": {
        "colab": {
          "base_uri": "https://localhost:8080/",
          "height": 279
        },
        "id": "VjvAWDilPp6N",
        "outputId": "e1868a17-10a2-4d4d-92b9-676aa2332df8"
      },
      "source": [
        "plt.hist([len(s) for s in X_train], bins=50)\r\n",
        "plt.xlabel('length of samples')\r\n",
        "plt.ylabel('number of samples')\r\n",
        "plt.show()"
      ],
      "execution_count": 11,
      "outputs": [
        {
          "output_type": "display_data",
          "data": {
            "image/png": "[encoded data removed]",
            "text/plain": [
              "<Figure size 432x288 with 1 Axes>"
            ]
          },
          "metadata": {
            "tags": [],
            "needs_background": "light"
          }
        }
      ]
    },
    {
      "cell_type": "code",
      "metadata": {
        "colab": {
          "base_uri": "https://localhost:8080/",
          "height": 376
        },
        "id": "Ja7ICBdYPppY",
        "outputId": "bead48d5-3b90-413c-a8ed-80d00e336a84"
      },
      "source": [
        "fig, axe = plt.subplots(ncols=1)\r\n",
        "fig.set_size_inches(12, 5)\r\n",
        "sns.countplot(y_train);"
      ],
      "execution_count": 12,
      "outputs": [
        {
          "output_type": "stream",
          "text": [
            "/usr/local/lib/python3.6/dist-packages/seaborn/_decorators.py:43: FutureWarning: Pass the following variable as a keyword arg: x. From version 0.12, the only valid positional argument will be `data`, and passing other arguments without an explicit keyword will result in an error or misinterpretation.\n",
            "  FutureWarning\n"
          ],
          "name": "stderr"
        },
        {
          "output_type": "display_data",
          "data": {
            "image/png": "[encoded data removed]",
            "text/plain": [
              "<Figure size 864x360 with 1 Axes>"
            ]
          },
          "metadata": {
            "tags": [],
            "needs_background": "light"
          }
        }
      ]
    },
    {
      "cell_type": "code",
      "metadata": {
        "colab": {
          "base_uri": "https://localhost:8080/"
        },
        "id": "__Sqiq6mBNZG",
        "outputId": "e9ad7f02-75eb-42df-94c1-52a8d7f9e41e"
      },
      "source": [
        "unique_elements, counts_elements = np.unique(y_train, return_counts=True)\r\n",
        "label_cnt = dict(zip(unique_elements, counts_elements))\r\n",
        "print('각 레이블에 대한 빈도 수:')\r\n",
        "print(label_cnt)"
      ],
      "execution_count": 13,
      "outputs": [
        {
          "output_type": "stream",
          "text": [
            "각 레이블에 대한 빈도 수:\n",
            "{0: 55, 1: 432, 2: 74, 3: 3159, 4: 1949, 5: 17, 6: 48, 7: 16, 8: 139, 9: 101, 10: 124, 11: 390, 12: 49, 13: 172, 14: 26, 15: 20, 16: 444, 17: 39, 18: 66, 19: 549, 20: 269, 21: 100, 22: 15, 23: 41, 24: 62, 25: 92, 26: 24, 27: 15, 28: 48, 29: 19, 30: 45, 31: 39, 32: 32, 33: 11, 34: 50, 35: 10, 36: 49, 37: 19, 38: 19, 39: 24, 40: 36, 41: 30, 42: 13, 43: 21, 44: 12, 45: 18}\n"
          ],
          "name": "stdout"
        }
      ]
    },
    {
      "cell_type": "markdown",
      "metadata": {
        "id": "Pq6JMYqvBnmw"
      },
      "source": [
        "### LSTM으로 로이터 뉴스 분류\r\n",
        "- 빈도 수 1000으로 제한(총 단어 수: 30,979)\r\n",
        "- 단어 수 100으로 제한(최대 2,376 단어)"
      ]
    },
    {
      "cell_type": "code",
      "metadata": {
        "id": "C_XDwn12BId0"
      },
      "source": [
        "from tensorflow.keras.models import Sequential, load_model\r\n",
        "from tensorflow.keras.layers import Dense, LSTM, Embedding\r\n",
        "from tensorflow.keras.preprocessing.sequence import pad_sequences\r\n",
        "from tensorflow.keras.utils import to_categorical\r\n",
        "from tensorflow.keras.callbacks import ModelCheckpoint, EarlyStopping"
      ],
      "execution_count": 14,
      "outputs": []
    },
    {
      "cell_type": "code",
      "metadata": {
        "colab": {
          "base_uri": "https://localhost:8080/"
        },
        "id": "bGpNt3_lCVKQ",
        "outputId": "946e62fb-054a-4cfb-fedf-98f74313d998"
      },
      "source": [
        "(X_train, y_train), (X_test, y_test) = reuters.load_data(num_words=1000, test_split=0.2)"
      ],
      "execution_count": 15,
      "outputs": [
        {
          "output_type": "stream",
          "text": [
            "/usr/local/lib/python3.6/dist-packages/tensorflow/python/keras/datasets/reuters.py:148: VisibleDeprecationWarning: Creating an ndarray from ragged nested sequences (which is a list-or-tuple of lists-or-tuples-or ndarrays with different lengths or shapes) is deprecated. If you meant to do this, you must specify 'dtype=object' when creating the ndarray\n",
            "  x_train, y_train = np.array(xs[:idx]), np.array(labels[:idx])\n",
            "/usr/local/lib/python3.6/dist-packages/tensorflow/python/keras/datasets/reuters.py:149: VisibleDeprecationWarning: Creating an ndarray from ragged nested sequences (which is a list-or-tuple of lists-or-tuples-or ndarrays with different lengths or shapes) is deprecated. If you meant to do this, you must specify 'dtype=object' when creating the ndarray\n",
            "  x_test, y_test = np.array(xs[idx:]), np.array(labels[idx:])\n"
          ],
          "name": "stderr"
        }
      ]
    },
    {
      "cell_type": "code",
      "metadata": {
        "id": "T-CGE20xCwrI"
      },
      "source": [
        "max_len = 100\r\n",
        "X_train = pad_sequences(X_train, maxlen=max_len)\r\n",
        "X_test = pad_sequences(X_test, maxlen=max_len)"
      ],
      "execution_count": 16,
      "outputs": []
    },
    {
      "cell_type": "code",
      "metadata": {
        "id": "jJO7G44vC-Fv"
      },
      "source": [
        "Y_train = to_categorical(y_train)\r\n",
        "Y_test = to_categorical(y_test)"
      ],
      "execution_count": 17,
      "outputs": []
    },
    {
      "cell_type": "code",
      "metadata": {
        "colab": {
          "base_uri": "https://localhost:8080/"
        },
        "id": "ULm7zrCEDELn",
        "outputId": "7d547f9f-a35a-4026-9d5c-dd52aa79fc55"
      },
      "source": [
        "model = Sequential([\r\n",
        "                    Embedding(1000, 120),\r\n",
        "                    LSTM(120),\r\n",
        "                    Dense(46, activation='softmax')\r\n",
        "])\r\n",
        "model.summary()"
      ],
      "execution_count": 18,
      "outputs": [
        {
          "output_type": "stream",
          "text": [
            "Model: \"sequential\"\n",
            "_________________________________________________________________\n",
            "Layer (type)                 Output Shape              Param #   \n",
            "=================================================================\n",
            "embedding (Embedding)        (None, None, 120)         120000    \n",
            "_________________________________________________________________\n",
            "lstm (LSTM)                  (None, 120)               115680    \n",
            "_________________________________________________________________\n",
            "dense (Dense)                (None, 46)                5566      \n",
            "=================================================================\n",
            "Total params: 241,246\n",
            "Trainable params: 241,246\n",
            "Non-trainable params: 0\n",
            "_________________________________________________________________\n"
          ],
          "name": "stdout"
        }
      ]
    },
    {
      "cell_type": "code",
      "metadata": {
        "id": "NGljBtsGDVJS"
      },
      "source": [
        "model.compile(loss='categorical_crossentropy', optimizer='adam', metrics=['accuracy'])"
      ],
      "execution_count": 19,
      "outputs": []
    },
    {
      "cell_type": "code",
      "metadata": {
        "id": "A1ajVwDNDiIG"
      },
      "source": [
        "earlystop = EarlyStopping(monitor='val_loss', mode='min', verbose=1, patience=10)\r\n",
        "modelcheck = ModelCheckpoint('model/reuter_best_model.h5', monitor='val_loss', mode='max', verbose=1, save_best_only=True)"
      ],
      "execution_count": 20,
      "outputs": []
    },
    {
      "cell_type": "code",
      "metadata": {
        "colab": {
          "base_uri": "https://localhost:8080/"
        },
        "id": "3RvEHe15EDhc",
        "outputId": "62d92829-1aff-46e4-a44e-664544d5322c"
      },
      "source": [
        "history = model.fit(X_train, Y_train, batch_size=100, epochs=50, validation_split=0.2, verbose=2, callbacks=[modelcheck, earlystop])"
      ],
      "execution_count": 21,
      "outputs": [
        {
          "output_type": "stream",
          "text": [
            "Epoch 1/50\n",
            "72/72 - 4s - loss: 2.6485 - accuracy: 0.3464 - val_loss: 2.3789 - val_accuracy: 0.3450\n",
            "\n",
            "Epoch 00001: val_loss improved from -inf to 2.37887, saving model to model/reuter_best_model.h5\n",
            "Epoch 2/50\n",
            "72/72 - 1s - loss: 2.1234 - accuracy: 0.4640 - val_loss: 2.0260 - val_accuracy: 0.4942\n",
            "\n",
            "Epoch 00002: val_loss did not improve from 2.37887\n",
            "Epoch 3/50\n",
            "72/72 - 1s - loss: 1.9372 - accuracy: 0.5134 - val_loss: 1.8572 - val_accuracy: 0.5364\n",
            "\n",
            "Epoch 00003: val_loss did not improve from 2.37887\n",
            "Epoch 4/50\n",
            "72/72 - 1s - loss: 1.7328 - accuracy: 0.5599 - val_loss: 1.6985 - val_accuracy: 0.5659\n",
            "\n",
            "Epoch 00004: val_loss did not improve from 2.37887\n",
            "Epoch 5/50\n",
            "72/72 - 1s - loss: 1.6537 - accuracy: 0.5738 - val_loss: 1.6585 - val_accuracy: 0.5804\n",
            "\n",
            "Epoch 00005: val_loss did not improve from 2.37887\n",
            "Epoch 6/50\n",
            "72/72 - 1s - loss: 1.5940 - accuracy: 0.5933 - val_loss: 1.5975 - val_accuracy: 0.5954\n",
            "\n",
            "Epoch 00006: val_loss did not improve from 2.37887\n",
            "Epoch 7/50\n",
            "72/72 - 1s - loss: 1.4860 - accuracy: 0.6241 - val_loss: 1.5544 - val_accuracy: 0.6071\n",
            "\n",
            "Epoch 00007: val_loss did not improve from 2.37887\n",
            "Epoch 8/50\n",
            "72/72 - 1s - loss: 1.3908 - accuracy: 0.6422 - val_loss: 1.4285 - val_accuracy: 0.6333\n",
            "\n",
            "Epoch 00008: val_loss did not improve from 2.37887\n",
            "Epoch 9/50\n",
            "72/72 - 1s - loss: 1.2858 - accuracy: 0.6765 - val_loss: 1.4526 - val_accuracy: 0.6427\n",
            "\n",
            "Epoch 00009: val_loss did not improve from 2.37887\n",
            "Epoch 10/50\n",
            "72/72 - 1s - loss: 1.2347 - accuracy: 0.6902 - val_loss: 1.3237 - val_accuracy: 0.6650\n",
            "\n",
            "Epoch 00010: val_loss did not improve from 2.37887\n",
            "Epoch 11/50\n",
            "72/72 - 1s - loss: 1.1553 - accuracy: 0.7058 - val_loss: 1.3020 - val_accuracy: 0.6767\n",
            "\n",
            "Epoch 00011: val_loss did not improve from 2.37887\n",
            "Epoch 12/50\n",
            "72/72 - 1s - loss: 1.0933 - accuracy: 0.7211 - val_loss: 1.3345 - val_accuracy: 0.6761\n",
            "\n",
            "Epoch 00012: val_loss did not improve from 2.37887\n",
            "Epoch 13/50\n",
            "72/72 - 1s - loss: 1.0382 - accuracy: 0.7335 - val_loss: 1.2578 - val_accuracy: 0.6884\n",
            "\n",
            "Epoch 00013: val_loss did not improve from 2.37887\n",
            "Epoch 14/50\n",
            "72/72 - 1s - loss: 0.9880 - accuracy: 0.7418 - val_loss: 1.2736 - val_accuracy: 0.6923\n",
            "\n",
            "Epoch 00014: val_loss did not improve from 2.37887\n",
            "Epoch 15/50\n",
            "72/72 - 1s - loss: 0.9349 - accuracy: 0.7595 - val_loss: 1.2542 - val_accuracy: 0.6900\n",
            "\n",
            "Epoch 00015: val_loss did not improve from 2.37887\n",
            "Epoch 16/50\n",
            "72/72 - 1s - loss: 0.8877 - accuracy: 0.7723 - val_loss: 1.2432 - val_accuracy: 0.6956\n",
            "\n",
            "Epoch 00016: val_loss did not improve from 2.37887\n",
            "Epoch 17/50\n",
            "72/72 - 1s - loss: 0.8533 - accuracy: 0.7836 - val_loss: 1.2666 - val_accuracy: 0.6867\n",
            "\n",
            "Epoch 00017: val_loss did not improve from 2.37887\n",
            "Epoch 18/50\n",
            "72/72 - 1s - loss: 0.7940 - accuracy: 0.7981 - val_loss: 1.3061 - val_accuracy: 0.6984\n",
            "\n",
            "Epoch 00018: val_loss did not improve from 2.37887\n",
            "Epoch 19/50\n",
            "72/72 - 1s - loss: 0.7522 - accuracy: 0.8118 - val_loss: 1.2577 - val_accuracy: 0.7101\n",
            "\n",
            "Epoch 00019: val_loss did not improve from 2.37887\n",
            "Epoch 20/50\n",
            "72/72 - 1s - loss: 0.7225 - accuracy: 0.8152 - val_loss: 1.2186 - val_accuracy: 0.7151\n",
            "\n",
            "Epoch 00020: val_loss did not improve from 2.37887\n",
            "Epoch 21/50\n",
            "72/72 - 1s - loss: 0.6822 - accuracy: 0.8310 - val_loss: 1.2281 - val_accuracy: 0.7156\n",
            "\n",
            "Epoch 00021: val_loss did not improve from 2.37887\n",
            "Epoch 22/50\n",
            "72/72 - 1s - loss: 0.6426 - accuracy: 0.8377 - val_loss: 1.2786 - val_accuracy: 0.7051\n",
            "\n",
            "Epoch 00022: val_loss did not improve from 2.37887\n",
            "Epoch 23/50\n",
            "72/72 - 1s - loss: 0.6019 - accuracy: 0.8508 - val_loss: 1.3015 - val_accuracy: 0.7084\n",
            "\n",
            "Epoch 00023: val_loss did not improve from 2.37887\n",
            "Epoch 24/50\n",
            "72/72 - 1s - loss: 0.5716 - accuracy: 0.8576 - val_loss: 1.3155 - val_accuracy: 0.7040\n",
            "\n",
            "Epoch 00024: val_loss did not improve from 2.37887\n",
            "Epoch 25/50\n",
            "72/72 - 1s - loss: 0.5400 - accuracy: 0.8658 - val_loss: 1.3483 - val_accuracy: 0.7034\n",
            "\n",
            "Epoch 00025: val_loss did not improve from 2.37887\n",
            "Epoch 26/50\n",
            "72/72 - 1s - loss: 0.5177 - accuracy: 0.8707 - val_loss: 1.3455 - val_accuracy: 0.7151\n",
            "\n",
            "Epoch 00026: val_loss did not improve from 2.37887\n",
            "Epoch 27/50\n",
            "72/72 - 1s - loss: 0.4946 - accuracy: 0.8724 - val_loss: 1.3533 - val_accuracy: 0.7123\n",
            "\n",
            "Epoch 00027: val_loss did not improve from 2.37887\n",
            "Epoch 28/50\n",
            "72/72 - 1s - loss: 0.4670 - accuracy: 0.8834 - val_loss: 1.3875 - val_accuracy: 0.7156\n",
            "\n",
            "Epoch 00028: val_loss did not improve from 2.37887\n",
            "Epoch 29/50\n",
            "72/72 - 1s - loss: 0.4397 - accuracy: 0.8924 - val_loss: 1.3968 - val_accuracy: 0.7117\n",
            "\n",
            "Epoch 00029: val_loss did not improve from 2.37887\n",
            "Epoch 30/50\n",
            "72/72 - 1s - loss: 0.4151 - accuracy: 0.8962 - val_loss: 1.4106 - val_accuracy: 0.7001\n",
            "\n",
            "Epoch 00030: val_loss did not improve from 2.37887\n",
            "Epoch 00030: early stopping\n"
          ],
          "name": "stdout"
        }
      ]
    },
    {
      "cell_type": "code",
      "metadata": {
        "colab": {
          "base_uri": "https://localhost:8080/"
        },
        "id": "8fDXAd3oEfrK",
        "outputId": "bc6f5ee6-7ab5-40ca-cac0-a67a444cba17"
      },
      "source": [
        "best_model = load_model('model/reuter_best_model.h5')\r\n",
        "\r\n",
        "acc = best_model.evaluate(X_test, Y_test, verbose=2)[1]\r\n",
        "print(f'Accuracy: {acc:.4f}')"
      ],
      "execution_count": 22,
      "outputs": [
        {
          "output_type": "stream",
          "text": [
            "71/71 - 1s - loss: 2.3826 - accuracy: 0.3620\n",
            "Accuracy: 0.3620\n"
          ],
          "name": "stdout"
        }
      ]
    },
    {
      "cell_type": "code",
      "metadata": {
        "colab": {
          "base_uri": "https://localhost:8080/",
          "height": 497
        },
        "id": "eCfvsWXBFH28",
        "outputId": "11c344ca-da6b-4310-92e4-29bdb038416f"
      },
      "source": [
        "# 검증셋\r\n",
        "y_vloss = history.history['val_loss']\r\n",
        "y_vacc = history.history['val_accuracy']\r\n",
        "# 학습셋\r\n",
        "y_loss = history.history['loss']\r\n",
        "y_acc = history.history['accuracy']\r\n",
        "\r\n",
        "x_len = np.arange(1, len(y_loss)+1)\r\n",
        "fig, ax0 = plt.subplots(figsize=(10,8))\r\n",
        "ax1 = ax0.twinx()\r\n",
        "ax0.plot(x_len, y_loss, c=\"blue\", label='train set loss')\r\n",
        "ax0.plot(x_len, y_vloss, c=\"red\", label='val set loss')\r\n",
        "ax0.set_ylabel('loss')\r\n",
        "ax1.plot(x_len, y_acc, c=\"darkgreen\", label='train set acc')\r\n",
        "ax1.plot(x_len, y_vacc, c=\"magenta\", label='val set acc')\r\n",
        "ax1.set_ylabel('accuracy')\r\n",
        "ax0.set_xlabel('epoch')\r\n",
        "ax0.legend(loc='lower center')\r\n",
        "ax1.legend(loc='upper center')\r\n",
        "plt.grid()\r\n",
        "plt.show()\r\n"
      ],
      "execution_count": 23,
      "outputs": [
        {
          "output_type": "display_data",
          "data": {
            "image/png": "[encoded data removed]",
            "text/plain": [
              "<Figure size 720x576 with 2 Axes>"
            ]
          },
          "metadata": {
            "tags": [],
            "needs_background": "light"
          }
        }
      ]
    },
    {
      "cell_type": "code",
      "metadata": {
        "id": "QuG9c6vdFv5o"
      },
      "source": [
        ""
      ],
      "execution_count": null,
      "outputs": []
    }
  ]
}