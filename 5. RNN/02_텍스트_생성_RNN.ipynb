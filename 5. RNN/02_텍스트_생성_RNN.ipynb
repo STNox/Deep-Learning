{
  "nbformat": 4,
  "nbformat_minor": 0,
  "metadata": {
    "colab": {
      "name": "02_텍스트 생성-RNN.ipynb",
      "provenance": [],
      "collapsed_sections": []
    },
    "kernelspec": {
      "name": "python3",
      "display_name": "Python 3"
    }
  },
  "cells": [
    {
      "cell_type": "markdown",
      "metadata": {
        "id": "fa6FpCJL51aj"
      },
      "source": [
        "# RNN을 이용한 텍스트 생성\r\n",
        "- '경마장에 있는 말이 뛰고 있다'\r\n",
        "- '그의 말이 법이다'\r\n",
        "- '가는 말이 고와야 오는 말이 곱다'"
      ]
    },
    {
      "cell_type": "code",
      "metadata": {
        "id": "-2MlBYGu5m_b"
      },
      "source": [
        "import numpy as np\r\n",
        "import tensorflow as tf\r\n",
        "from tensorflow.keras.preprocessing.text import Tokenizer\r\n",
        "from tensorflow.keras.preprocessing.sequence import pad_sequences\r\n",
        "from tensorflow.keras.utils import to_categorical"
      ],
      "execution_count": 1,
      "outputs": []
    },
    {
      "cell_type": "code",
      "metadata": {
        "id": "xzHuMn9M6jE7"
      },
      "source": [
        "seed = 2021\r\n",
        "np.random.seed(seed)\r\n",
        "tf.random.set_seed(seed)"
      ],
      "execution_count": 2,
      "outputs": []
    },
    {
      "cell_type": "code",
      "metadata": {
        "id": "mkJg-zaz6omL"
      },
      "source": [
        "text = \"\"\"경마장에 있는 말이 뛰고 있다\\n\r\n",
        "그의 말이 법이다\\n\r\n",
        "가는 말이 고와야 오는 말이 곱다\\n\"\"\""
      ],
      "execution_count": 3,
      "outputs": []
    },
    {
      "cell_type": "code",
      "metadata": {
        "id": "V0FQZPsu6407"
      },
      "source": [
        "# 단어 집합 생성\r\n",
        "t = Tokenizer()\r\n",
        "t.fit_on_texts([text])"
      ],
      "execution_count": 4,
      "outputs": []
    },
    {
      "cell_type": "code",
      "metadata": {
        "colab": {
          "base_uri": "https://localhost:8080/"
        },
        "id": "9Iv0GzFF7M8L",
        "outputId": "5934e30f-44b4-46c9-b610-2fbf8da58e70"
      },
      "source": [
        "t.word_index"
      ],
      "execution_count": 5,
      "outputs": [
        {
          "output_type": "execute_result",
          "data": {
            "text/plain": [
              "{'가는': 8,\n",
              " '경마장에': 2,\n",
              " '고와야': 9,\n",
              " '곱다': 11,\n",
              " '그의': 6,\n",
              " '뛰고': 4,\n",
              " '말이': 1,\n",
              " '법이다': 7,\n",
              " '오는': 10,\n",
              " '있는': 3,\n",
              " '있다': 5}"
            ]
          },
          "metadata": {
            "tags": []
          },
          "execution_count": 5
        }
      ]
    },
    {
      "cell_type": "code",
      "metadata": {
        "colab": {
          "base_uri": "https://localhost:8080/"
        },
        "id": "ONhVlBRf7PHz",
        "outputId": "25163045-babe-4730-f14b-91f4ce62120f"
      },
      "source": [
        "# 단어 집합 크기 설정\r\n",
        "vocab_size = len(t.word_index) + 1\r\n",
        "print('단어 집합의 크기: %d' % vocab_size)"
      ],
      "execution_count": 6,
      "outputs": [
        {
          "output_type": "stream",
          "text": [
            "단어 집합의 크기: 12\n"
          ],
          "name": "stdout"
        }
      ]
    },
    {
      "cell_type": "code",
      "metadata": {
        "colab": {
          "base_uri": "https://localhost:8080/"
        },
        "id": "fO--bDuZ8Lhl",
        "outputId": "20fa3200-af3c-4318-d573-0f05912cb72b"
      },
      "source": [
        "t.texts_to_sequences(['그의 말이 법이다'])"
      ],
      "execution_count": 7,
      "outputs": [
        {
          "output_type": "execute_result",
          "data": {
            "text/plain": [
              "[[6, 1, 7]]"
            ]
          },
          "metadata": {
            "tags": []
          },
          "execution_count": 7
        }
      ]
    },
    {
      "cell_type": "code",
      "metadata": {
        "colab": {
          "base_uri": "https://localhost:8080/"
        },
        "id": "8BOimUmN8TED",
        "outputId": "25808984-5cc0-4c96-bd27-5a2c32e5c193"
      },
      "source": [
        "sequences = []\r\n",
        "for line in text.split('\\n'):\r\n",
        "  encoded = t.texts_to_sequences([line])[0]\r\n",
        "  for i in range(1, len(encoded)):\r\n",
        "    sequence = encoded[:i+1]\r\n",
        "    sequences.append(sequence)\r\n",
        "\r\n",
        "print('학습에 사용할 샘픔의 개수: %d' % len(sequences))"
      ],
      "execution_count": 8,
      "outputs": [
        {
          "output_type": "stream",
          "text": [
            "학습에 사용할 샘픔의 개수: 11\n"
          ],
          "name": "stdout"
        }
      ]
    },
    {
      "cell_type": "code",
      "metadata": {
        "colab": {
          "base_uri": "https://localhost:8080/"
        },
        "id": "QViP4zma83rG",
        "outputId": "dfd9742e-1b57-4ea9-b3c9-bc088da9f058"
      },
      "source": [
        "sequences"
      ],
      "execution_count": 9,
      "outputs": [
        {
          "output_type": "execute_result",
          "data": {
            "text/plain": [
              "[[2, 3],\n",
              " [2, 3, 1],\n",
              " [2, 3, 1, 4],\n",
              " [2, 3, 1, 4, 5],\n",
              " [6, 1],\n",
              " [6, 1, 7],\n",
              " [8, 1],\n",
              " [8, 1, 9],\n",
              " [8, 1, 9, 10],\n",
              " [8, 1, 9, 10, 1],\n",
              " [8, 1, 9, 10, 1, 11]]"
            ]
          },
          "metadata": {
            "tags": []
          },
          "execution_count": 9
        }
      ]
    },
    {
      "cell_type": "code",
      "metadata": {
        "colab": {
          "base_uri": "https://localhost:8080/"
        },
        "id": "wxw9t4-i__lB",
        "outputId": "6800ce05-51d5-4ba4-8b62-65afd04688f3"
      },
      "source": [
        "# 모든 샘플에서 길이가 가장 긴 샘플의 길이 출력\r\n",
        "max_len = max(len(s)for s in sequences)\r\n",
        "print('샘플의 최대 길이: ', max_len)"
      ],
      "execution_count": 10,
      "outputs": [
        {
          "output_type": "stream",
          "text": [
            "샘플의 최대 길이:  6\n"
          ],
          "name": "stdout"
        }
      ]
    },
    {
      "cell_type": "code",
      "metadata": {
        "colab": {
          "base_uri": "https://localhost:8080/"
        },
        "id": "MDIi_AW2ARKV",
        "outputId": "eb123c70-8bed-48eb-ef7c-5bdc51c57623"
      },
      "source": [
        "sequences = pad_sequences(sequences, maxlen=max_len, padding='pre')\r\n",
        "sequences[:5]"
      ],
      "execution_count": 11,
      "outputs": [
        {
          "output_type": "execute_result",
          "data": {
            "text/plain": [
              "array([[0, 0, 0, 0, 2, 3],\n",
              "       [0, 0, 0, 2, 3, 1],\n",
              "       [0, 0, 2, 3, 1, 4],\n",
              "       [0, 2, 3, 1, 4, 5],\n",
              "       [0, 0, 0, 0, 6, 1]], dtype=int32)"
            ]
          },
          "metadata": {
            "tags": []
          },
          "execution_count": 11
        }
      ]
    },
    {
      "cell_type": "code",
      "metadata": {
        "colab": {
          "base_uri": "https://localhost:8080/"
        },
        "id": "osK8vHNbAlgI",
        "outputId": "1087d1bf-c582-4456-854b-cf38d09d4721"
      },
      "source": [
        "X = sequences[:, :-1]\r\n",
        "y = sequences[:, -1]\r\n",
        "\r\n",
        "Y = to_categorical(y, num_classes=vocab_size)\r\n",
        "Y[:3]"
      ],
      "execution_count": 12,
      "outputs": [
        {
          "output_type": "execute_result",
          "data": {
            "text/plain": [
              "array([[0., 0., 0., 1., 0., 0., 0., 0., 0., 0., 0., 0.],\n",
              "       [0., 1., 0., 0., 0., 0., 0., 0., 0., 0., 0., 0.],\n",
              "       [0., 0., 0., 0., 1., 0., 0., 0., 0., 0., 0., 0.]], dtype=float32)"
            ]
          },
          "metadata": {
            "tags": []
          },
          "execution_count": 12
        }
      ]
    },
    {
      "cell_type": "markdown",
      "metadata": {
        "id": "L-V6fMLdD3I_"
      },
      "source": [
        "### 모델 정의\r\n",
        "- Embedding\r\n",
        "- SimpleRNN\r\n"
      ]
    },
    {
      "cell_type": "code",
      "metadata": {
        "id": "unjLfl1vB9QN"
      },
      "source": [
        "from tensorflow.keras.models import Sequential\r\n",
        "from tensorflow.keras.layers import Embedding, Dense, SimpleRNN"
      ],
      "execution_count": 13,
      "outputs": []
    },
    {
      "cell_type": "code",
      "metadata": {
        "colab": {
          "base_uri": "https://localhost:8080/"
        },
        "id": "qGv9BJJREMFX",
        "outputId": "12c65cbf-a25b-4a65-a4ca-f87223abb1ab"
      },
      "source": [
        "model = Sequential([\r\n",
        "                    Embedding(vocab_size, 5, input_length=max_len - 1),\r\n",
        "                    SimpleRNN(32),\r\n",
        "                    Dense(vocab_size, activation='softmax')\r\n",
        "])\r\n",
        "model.summary()"
      ],
      "execution_count": 14,
      "outputs": [
        {
          "output_type": "stream",
          "text": [
            "Model: \"sequential\"\n",
            "_________________________________________________________________\n",
            "Layer (type)                 Output Shape              Param #   \n",
            "=================================================================\n",
            "embedding (Embedding)        (None, 5, 5)              60        \n",
            "_________________________________________________________________\n",
            "simple_rnn (SimpleRNN)       (None, 32)                1216      \n",
            "_________________________________________________________________\n",
            "dense (Dense)                (None, 12)                396       \n",
            "=================================================================\n",
            "Total params: 1,672\n",
            "Trainable params: 1,672\n",
            "Non-trainable params: 0\n",
            "_________________________________________________________________\n"
          ],
          "name": "stdout"
        }
      ]
    },
    {
      "cell_type": "code",
      "metadata": {
        "id": "5lWb1xUMFTRh"
      },
      "source": [
        "model.compile(loss='categorical_crossentropy', optimizer='adam', metrics=['accuracy'])"
      ],
      "execution_count": 15,
      "outputs": []
    },
    {
      "cell_type": "code",
      "metadata": {
        "id": "Vj_SYnI0F1je"
      },
      "source": [
        "history = model.fit(X, Y, epochs=200, verbose=0)"
      ],
      "execution_count": 16,
      "outputs": []
    },
    {
      "cell_type": "code",
      "metadata": {
        "colab": {
          "base_uri": "https://localhost:8080/"
        },
        "id": "anN3NxgkGI5N",
        "outputId": "8b128679-59dd-49e0-ad40-8a416afca79f"
      },
      "source": [
        "history.history['accuracy'][-1]"
      ],
      "execution_count": 17,
      "outputs": [
        {
          "output_type": "execute_result",
          "data": {
            "text/plain": [
              "0.9090909361839294"
            ]
          },
          "metadata": {
            "tags": []
          },
          "execution_count": 17
        }
      ]
    },
    {
      "cell_type": "markdown",
      "metadata": {
        "id": "m8VCO8qJGF1e"
      },
      "source": [
        "### 모델 검증"
      ]
    },
    {
      "cell_type": "code",
      "metadata": {
        "id": "3f7rx-7GGBS2"
      },
      "source": [
        "def sentence_generation(model, t, current_word, n):\r\n",
        "  init_word = current_word\r\n",
        "  sentence = ''\r\n",
        "  for _ in range(n):\r\n",
        "    encoded = t.texts_to_sequences([current_word])[0]\r\n",
        "    encoded = pad_sequences([encoded], maxlen=5, padding='pre')\r\n",
        "    result = np.argmax(model.predict(encoded), axis=-1)\r\n",
        "    for word, index in t.word_index.items():\r\n",
        "      if index == result:\r\n",
        "        break\r\n",
        "      current_word = current_word + ' ' + word\r\n",
        "      sentence = sentence + ' ' + word\r\n",
        "    \r\n",
        "  sentence = init_word + sentence\r\n",
        "  return sentence"
      ],
      "execution_count": 18,
      "outputs": []
    },
    {
      "cell_type": "code",
      "metadata": {
        "colab": {
          "base_uri": "https://localhost:8080/",
          "height": 35
        },
        "id": "aXJTpX_4HrBI",
        "outputId": "e94902aa-635c-475c-d0ad-81386aa12b01"
      },
      "source": [
        "sentence_generation(model, t, '경마장에', 3)"
      ],
      "execution_count": 19,
      "outputs": [
        {
          "output_type": "execute_result",
          "data": {
            "application/vnd.google.colaboratory.intrinsic+json": {
              "type": "string"
            },
            "text/plain": [
              "'경마장에'"
            ]
          },
          "metadata": {
            "tags": []
          },
          "execution_count": 19
        }
      ]
    },
    {
      "cell_type": "code",
      "metadata": {
        "colab": {
          "base_uri": "https://localhost:8080/",
          "height": 35
        },
        "id": "QBUmBXuXHvem",
        "outputId": "1e4f9921-b40a-42ad-8b42-29cbd5b4a22e"
      },
      "source": [
        "sentence_generation(model, t, '그의', 2)"
      ],
      "execution_count": 20,
      "outputs": [
        {
          "output_type": "execute_result",
          "data": {
            "application/vnd.google.colaboratory.intrinsic+json": {
              "type": "string"
            },
            "text/plain": [
              "'그의'"
            ]
          },
          "metadata": {
            "tags": []
          },
          "execution_count": 20
        }
      ]
    },
    {
      "cell_type": "code",
      "metadata": {
        "colab": {
          "base_uri": "https://localhost:8080/",
          "height": 35
        },
        "id": "BuNq8_DqH8lm",
        "outputId": "faad0e5b-ef97-4212-b7d7-6f02a625ed79"
      },
      "source": [
        "sentence_generation(model, t, '가는', 5)"
      ],
      "execution_count": 21,
      "outputs": [
        {
          "output_type": "execute_result",
          "data": {
            "application/vnd.google.colaboratory.intrinsic+json": {
              "type": "string"
            },
            "text/plain": [
              "'가는'"
            ]
          },
          "metadata": {
            "tags": []
          },
          "execution_count": 21
        }
      ]
    },
    {
      "cell_type": "markdown",
      "metadata": {
        "id": "w1DY8JwyaVa8"
      },
      "source": [
        "### 모델 변화\r\n",
        "- Embedding Vector 개수: [2, 4, 6, 8]\r\n",
        "- RNN 노드 개수: [24, 32]"
      ]
    },
    {
      "cell_type": "code",
      "metadata": {
        "id": "VGb2nAA0a55h"
      },
      "source": [
        "def change_model(n_embed, n_rnn):\r\n",
        "  model = Sequential([\r\n",
        "                      Embedding(vocab_size, n_embed, input_length=max_len - 1),\r\n",
        "                      SimpleRNN(n_rnn),\r\n",
        "                      Dense(vocab_size, activation='softmax')\r\n",
        "  ])\r\n",
        "  model.compile(loss='categorical_crossentropy', optimizer='adam', metrics=['accuracy'])\r\n",
        "  history = model.fit(X, Y, epochs=200, verbose=0)\r\n",
        "  print(f\"Accuracy: {history.history['accuracy'][-1]:.4f}\")\r\n",
        "\r\n",
        "  print(sentence_generation(model, t, '경마장에', 3))\r\n",
        "  print(sentence_generation(model, t, '그의', 2))\r\n",
        "  print(sentence_generation(model, t, '가는', 5))"
      ],
      "execution_count": 23,
      "outputs": []
    },
    {
      "cell_type": "code",
      "metadata": {
        "colab": {
          "base_uri": "https://localhost:8080/"
        },
        "id": "E2d4C-RLIAnG",
        "outputId": "fe84e8de-3be9-4537-d39b-6cba28045f82"
      },
      "source": [
        "for n_embed in [2, 4, 6, 8]:\r\n",
        "  for n_rnn in [24, 32]:\r\n",
        "    print('===========================')\r\n",
        "    print(f'n_embed={n_embed}, n_rnn={n_rnn}')\r\n",
        "    change_model(n_embed, n_rnn)\r\n",
        "    print()"
      ],
      "execution_count": 26,
      "outputs": [
        {
          "output_type": "stream",
          "text": [
            "===========================\n",
            "n_embed=2, n_rnn=24\n",
            "Accuracy: 0.9091\n",
            "경마장에\n",
            "그의\n",
            "가는\n",
            "\n",
            "===========================\n",
            "n_embed=2, n_rnn=32\n",
            "Accuracy: 0.9091\n",
            "경마장에\n",
            "그의\n",
            "가는\n",
            "\n",
            "===========================\n",
            "n_embed=4, n_rnn=24\n",
            "Accuracy: 0.9091\n",
            "경마장에\n",
            "그의\n",
            "가는\n",
            "\n",
            "===========================\n",
            "n_embed=4, n_rnn=32\n",
            "Accuracy: 0.9091\n",
            "경마장에 말이 경마장에 말이 경마장에 있는 말이 경마장에 있는 뛰고\n",
            "그의\n",
            "가는\n",
            "\n",
            "===========================\n",
            "n_embed=6, n_rnn=24\n",
            "Accuracy: 0.9091\n",
            "경마장에 말이 경마장에 말이 경마장에 있는 말이 경마장에 있는 뛰고 있다 그의 법이다 가는 고와야\n",
            "그의\n",
            "가는\n",
            "\n",
            "===========================\n",
            "n_embed=6, n_rnn=32\n",
            "Accuracy: 1.0000\n",
            "경마장에 말이 경마장에 말이 경마장에 있는 뛰고 있다 그의 법이다 가는 고와야\n",
            "그의\n",
            "가는\n",
            "\n",
            "===========================\n",
            "n_embed=8, n_rnn=24\n",
            "Accuracy: 0.9091\n",
            "경마장에\n",
            "그의\n",
            "가는\n",
            "\n",
            "===========================\n",
            "n_embed=8, n_rnn=32\n",
            "Accuracy: 1.0000\n",
            "경마장에 말이 경마장에 말이 경마장에 있는\n",
            "그의\n",
            "가는\n",
            "\n"
          ],
          "name": "stdout"
        }
      ]
    },
    {
      "cell_type": "code",
      "metadata": {
        "id": "JU_wWeDacYQR"
      },
      "source": [
        ""
      ],
      "execution_count": null,
      "outputs": []
    }
  ]
}