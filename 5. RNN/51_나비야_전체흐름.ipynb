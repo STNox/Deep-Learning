{
  "nbformat": 4,
  "nbformat_minor": 0,
  "metadata": {
    "colab": {
      "name": "51_나비야-전체흐름.ipynb",
      "provenance": [],
      "toc_visible": true
    },
    "kernelspec": {
      "name": "python3",
      "display_name": "Python 3"
    }
  },
  "cells": [
    {
      "cell_type": "markdown",
      "metadata": {
        "id": "BI-Wn8WTqkFi"
      },
      "source": [
        "# 순환 신경망 - 나비야\r\n",
        "- 출처: 순환 신경망 모델 만들어보기\r\n",
        "\r\n"
      ]
    },
    {
      "cell_type": "code",
      "metadata": {
        "id": "G48t_je5pVAz"
      },
      "source": [
        "code2idx = {'c4':0, 'd4':1, 'e4':2, 'f4':3, 'g4':4, 'a4':5, 'b4':6,\r\n",
        "            'c8':7, 'd8':8, 'e8':9, 'f8':10, 'g8':11, 'a8':12, 'b8':13}\r\n",
        "\r\n",
        "idx2code = {0:'c4', 1:'d4', 2:'e4', 3:'f4', 4:'g4', 5:'a4', 6:'b4',\r\n",
        "            7:'c8', 8:'d8', 9:'e8', 10:'f8', 11:'g8', 12:'a8', 13:'b8'}"
      ],
      "execution_count": 1,
      "outputs": []
    },
    {
      "cell_type": "code",
      "metadata": {
        "id": "m-5jn9o-q9gJ"
      },
      "source": [
        "import numpy as np\r\n",
        "\r\n",
        "def seq2dataset(seq, window_size):\r\n",
        "    dataset = []\r\n",
        "    for i in range(len(seq)-window_size):\r\n",
        "        subset = seq[i:(i+window_size+1)]\r\n",
        "        dataset.append([code2idx[item] for item in subset])\r\n",
        "    return np.array(dataset)"
      ],
      "execution_count": 2,
      "outputs": []
    },
    {
      "cell_type": "code",
      "metadata": {
        "colab": {
          "base_uri": "https://localhost:8080/"
        },
        "id": "e2Aw4rkBrob1",
        "outputId": "f150d260-2cb1-436a-c29a-d56de65df655"
      },
      "source": [
        "seq = ['g8', 'e8', 'e4', 'f8', 'd8', 'd4', 'c8', 'd8', 'e8', 'f8', 'g8', 'g8', 'g4',\r\n",
        "       'g8', 'e8', 'e8', 'e8', 'f8', 'd8', 'd4', 'c8', 'e8', 'g8', 'g8', 'e8', 'e8', 'e4',\r\n",
        "       'd8', 'd8', 'd8', 'd8', 'd8', 'e8', 'f4', 'e8', 'e8', 'e8', 'e8', 'e8', 'f8', 'g4',\r\n",
        "       'g8', 'e8', 'e4', 'f8', 'd8', 'd4', 'c8', 'e8', 'g8', 'g8', 'e8', 'e8', 'e4']\r\n",
        "\r\n",
        "dataset = seq2dataset(seq, window_size = 4)\r\n",
        "\r\n",
        "print(dataset.shape)\r\n",
        "print(dataset)"
      ],
      "execution_count": 3,
      "outputs": [
        {
          "output_type": "stream",
          "text": [
            "(50, 5)\n",
            "[[11  9  2 10  8]\n",
            " [ 9  2 10  8  1]\n",
            " [ 2 10  8  1  7]\n",
            " [10  8  1  7  8]\n",
            " [ 8  1  7  8  9]\n",
            " [ 1  7  8  9 10]\n",
            " [ 7  8  9 10 11]\n",
            " [ 8  9 10 11 11]\n",
            " [ 9 10 11 11  4]\n",
            " [10 11 11  4 11]\n",
            " [11 11  4 11  9]\n",
            " [11  4 11  9  9]\n",
            " [ 4 11  9  9  9]\n",
            " [11  9  9  9 10]\n",
            " [ 9  9  9 10  8]\n",
            " [ 9  9 10  8  1]\n",
            " [ 9 10  8  1  7]\n",
            " [10  8  1  7  9]\n",
            " [ 8  1  7  9 11]\n",
            " [ 1  7  9 11 11]\n",
            " [ 7  9 11 11  9]\n",
            " [ 9 11 11  9  9]\n",
            " [11 11  9  9  2]\n",
            " [11  9  9  2  8]\n",
            " [ 9  9  2  8  8]\n",
            " [ 9  2  8  8  8]\n",
            " [ 2  8  8  8  8]\n",
            " [ 8  8  8  8  8]\n",
            " [ 8  8  8  8  9]\n",
            " [ 8  8  8  9  3]\n",
            " [ 8  8  9  3  9]\n",
            " [ 8  9  3  9  9]\n",
            " [ 9  3  9  9  9]\n",
            " [ 3  9  9  9  9]\n",
            " [ 9  9  9  9  9]\n",
            " [ 9  9  9  9 10]\n",
            " [ 9  9  9 10  4]\n",
            " [ 9  9 10  4 11]\n",
            " [ 9 10  4 11  9]\n",
            " [10  4 11  9  2]\n",
            " [ 4 11  9  2 10]\n",
            " [11  9  2 10  8]\n",
            " [ 9  2 10  8  1]\n",
            " [ 2 10  8  1  7]\n",
            " [10  8  1  7  9]\n",
            " [ 8  1  7  9 11]\n",
            " [ 1  7  9 11 11]\n",
            " [ 7  9 11 11  9]\n",
            " [ 9 11 11  9  9]\n",
            " [11 11  9  9  2]]\n"
          ],
          "name": "stdout"
        }
      ]
    },
    {
      "cell_type": "code",
      "metadata": {
        "id": "C_pKKVgPrxSO"
      },
      "source": [
        ""
      ],
      "execution_count": null,
      "outputs": []
    }
  ]
}