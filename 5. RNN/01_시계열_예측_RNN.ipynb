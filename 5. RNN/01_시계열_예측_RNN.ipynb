{
  "nbformat": 4,
  "nbformat_minor": 0,
  "metadata": {
    "colab": {
      "name": "01_시계열 예측-RNN.ipynb",
      "provenance": []
    },
    "kernelspec": {
      "name": "python3",
      "display_name": "Python 3"
    }
  },
  "cells": [
    {
      "cell_type": "markdown",
      "metadata": {
        "id": "cj1oeTYCsFEG"
      },
      "source": [
        "# 시계열 예측 문제\r\n",
        "- 사인파형 시계열을 입력으로 다음 스텝의 출력을 예측\r\n",
        "- 3개의 순서열을 입력한 후 출력값이 target과 일치하게 만듦"
      ]
    },
    {
      "cell_type": "code",
      "metadata": {
        "id": "PrCWJT8VsDgX"
      },
      "source": [
        "import numpy as np\r\n",
        "import matplotlib.pyplot as plt\r\n",
        "%matplotlib inline"
      ],
      "execution_count": 1,
      "outputs": []
    },
    {
      "cell_type": "code",
      "metadata": {
        "colab": {
          "base_uri": "https://localhost:8080/",
          "height": 265
        },
        "id": "QfAMxAQSsgOv",
        "outputId": "1db40726-6f93-4d5a-87c1-1f97a64e8f1b"
      },
      "source": [
        "s = np.sin(2 * np.pi * 0.125 * np.arange(20))\r\n",
        "plt.plot(s, 'ro-')\r\n",
        "plt.xlim(-0.5, 20.5)\r\n",
        "plt.ylim(-1.1, 1.1)\r\n",
        "plt.grid()\r\n",
        "plt.show()"
      ],
      "execution_count": 2,
      "outputs": [
        {
          "output_type": "display_data",
          "data": {
            "image/png": "[encoded data removed]",
            "text/plain": [
              "<Figure size 432x288 with 1 Axes>"
            ]
          },
          "metadata": {
            "tags": [],
            "needs_background": "light"
          }
        }
      ]
    },
    {
      "cell_type": "markdown",
      "metadata": {
        "id": "KE-1bNlcs6nZ"
      },
      "source": [
        "### 원래의 시계열 벡터를 Toeplitz 행렬 형태로 변환\r\n",
        "(대각선 위의 성분들이 같은 정사각 행렬)"
      ]
    },
    {
      "cell_type": "code",
      "metadata": {
        "colab": {
          "base_uri": "https://localhost:8080/"
        },
        "id": "OGcW60T5sxWA",
        "outputId": "cfee9d9f-d550-4226-f5ba-cbc173a0aa22"
      },
      "source": [
        "from scipy.linalg import toeplitz\r\n",
        "S = np.fliplr(toeplitz(np.r_[s[-1], np.zeros(s.shape[0] - 2)], s[::-1]))\r\n",
        "S[:5, :3]"
      ],
      "execution_count": 3,
      "outputs": [
        {
          "output_type": "execute_result",
          "data": {
            "text/plain": [
              "array([[ 0.00000000e+00,  7.07106781e-01,  1.00000000e+00],\n",
              "       [ 7.07106781e-01,  1.00000000e+00,  7.07106781e-01],\n",
              "       [ 1.00000000e+00,  7.07106781e-01,  1.22464680e-16],\n",
              "       [ 7.07106781e-01,  1.22464680e-16, -7.07106781e-01],\n",
              "       [ 1.22464680e-16, -7.07106781e-01, -1.00000000e+00]])"
            ]
          },
          "metadata": {
            "tags": []
          },
          "execution_count": 3
        }
      ]
    },
    {
      "cell_type": "code",
      "metadata": {
        "colab": {
          "base_uri": "https://localhost:8080/"
        },
        "id": "FxkoiDqytVbQ",
        "outputId": "f0a60ecb-40ce-4732-9e65-63ba17561513"
      },
      "source": [
        "S.shape"
      ],
      "execution_count": 4,
      "outputs": [
        {
          "output_type": "execute_result",
          "data": {
            "text/plain": [
              "(19, 20)"
            ]
          },
          "metadata": {
            "tags": []
          },
          "execution_count": 4
        }
      ]
    },
    {
      "cell_type": "code",
      "metadata": {
        "colab": {
          "base_uri": "https://localhost:8080/"
        },
        "id": "-zzFHvJotYzo",
        "outputId": "0263812f-bd3b-44f2-85c8-13afbc6d2fd0"
      },
      "source": [
        "X_train = S[:-1, :3][:, :, np.newaxis]\r\n",
        "Y_train = S[:-1, 3]\r\n",
        "X_train.shape, Y_train.shape"
      ],
      "execution_count": 5,
      "outputs": [
        {
          "output_type": "execute_result",
          "data": {
            "text/plain": [
              "((18, 3, 1), (18,))"
            ]
          },
          "metadata": {
            "tags": []
          },
          "execution_count": 5
        }
      ]
    },
    {
      "cell_type": "code",
      "metadata": {
        "colab": {
          "base_uri": "https://localhost:8080/"
        },
        "id": "gZ7KoS_AtvB8",
        "outputId": "70fb67c3-f3e5-4503-f7b5-342f2ccaf752"
      },
      "source": [
        "X_train[:3]"
      ],
      "execution_count": 6,
      "outputs": [
        {
          "output_type": "execute_result",
          "data": {
            "text/plain": [
              "array([[[0.00000000e+00],\n",
              "        [7.07106781e-01],\n",
              "        [1.00000000e+00]],\n",
              "\n",
              "       [[7.07106781e-01],\n",
              "        [1.00000000e+00],\n",
              "        [7.07106781e-01]],\n",
              "\n",
              "       [[1.00000000e+00],\n",
              "        [7.07106781e-01],\n",
              "        [1.22464680e-16]]])"
            ]
          },
          "metadata": {
            "tags": []
          },
          "execution_count": 6
        }
      ]
    },
    {
      "cell_type": "code",
      "metadata": {
        "colab": {
          "base_uri": "https://localhost:8080/"
        },
        "id": "3EgkticNuDjS",
        "outputId": "19730e21-270d-4207-c100-4fdad49e0750"
      },
      "source": [
        "Y_train[:3]"
      ],
      "execution_count": 7,
      "outputs": [
        {
          "output_type": "execute_result",
          "data": {
            "text/plain": [
              "array([ 7.07106781e-01,  1.22464680e-16, -7.07106781e-01])"
            ]
          },
          "metadata": {
            "tags": []
          },
          "execution_count": 7
        }
      ]
    },
    {
      "cell_type": "markdown",
      "metadata": {
        "id": "IF_umRODyMtQ"
      },
      "source": [
        "### 모델 정의\r\n",
        "- SimpleRNN"
      ]
    },
    {
      "cell_type": "code",
      "metadata": {
        "id": "Dks1kZNFyMUS"
      },
      "source": [
        "import tensorflow as tf\r\n",
        "from tensorflow.keras.models import Sequential\r\n",
        "from tensorflow.keras.layers import Dense, SimpleRNN\r\n",
        "\r\n",
        "seed = 2021\r\n",
        "np.random.seed(seed)\r\n",
        "tf.random.set_seed(seed)"
      ],
      "execution_count": 9,
      "outputs": []
    },
    {
      "cell_type": "code",
      "metadata": {
        "colab": {
          "base_uri": "https://localhost:8080/"
        },
        "id": "yE5AmPl0uF5q",
        "outputId": "86361a53-b856-462d-baa4-10c7f15b1c6d"
      },
      "source": [
        "model = Sequential([\r\n",
        "                    SimpleRNN(10, input_shape=(3, 1)),\r\n",
        "                    Dense(1, activation='linear')\r\n",
        "])\r\n",
        "model.summary()"
      ],
      "execution_count": 10,
      "outputs": [
        {
          "output_type": "stream",
          "text": [
            "Model: \"sequential\"\n",
            "_________________________________________________________________\n",
            "Layer (type)                 Output Shape              Param #   \n",
            "=================================================================\n",
            "simple_rnn (SimpleRNN)       (None, 10)                120       \n",
            "_________________________________________________________________\n",
            "dense (Dense)                (None, 1)                 11        \n",
            "=================================================================\n",
            "Total params: 131\n",
            "Trainable params: 131\n",
            "Non-trainable params: 0\n",
            "_________________________________________________________________\n"
          ],
          "name": "stdout"
        }
      ]
    },
    {
      "cell_type": "code",
      "metadata": {
        "id": "U8qTQ0btzj7O"
      },
      "source": [
        "model.compile(loss='mse', optimizer='sgd')"
      ],
      "execution_count": 11,
      "outputs": []
    },
    {
      "cell_type": "code",
      "metadata": {
        "colab": {
          "base_uri": "https://localhost:8080/",
          "height": 281
        },
        "id": "r66wEXJN0S6E",
        "outputId": "c79e6f62-30cd-4903-b3e0-70e5fc639ecf"
      },
      "source": [
        "plt.plot(Y_train, 'ro-', label='target')\r\n",
        "plt.plot(model.predict(X_train[:, :, :]), 'bs-', label='output')\r\n",
        "plt.xlim(-0.5, 20.5)\r\n",
        "plt.ylim(-1.1, 1.1)\r\n",
        "plt.legend()\r\n",
        "plt.title('Before training')\r\n",
        "plt.show()"
      ],
      "execution_count": 12,
      "outputs": [
        {
          "output_type": "display_data",
          "data": {
            "image/png": "[encoded data removed]",
            "text/plain": [
              "<Figure size 432x288 with 1 Axes>"
            ]
          },
          "metadata": {
            "tags": [],
            "needs_background": "light"
          }
        }
      ]
    },
    {
      "cell_type": "code",
      "metadata": {
        "colab": {
          "base_uri": "https://localhost:8080/"
        },
        "id": "t_0ejQGu0q9s",
        "outputId": "16f953ef-d96e-43b6-d07c-0b3661f983ef"
      },
      "source": [
        "history = model.fit(X_train, Y_train, epochs=100)"
      ],
      "execution_count": 13,
      "outputs": [
        {
          "output_type": "stream",
          "text": [
            "Epoch 1/100\n",
            "1/1 [==============================] - 1s 898ms/step - loss: 0.7490\n",
            "Epoch 2/100\n",
            "1/1 [==============================] - 0s 7ms/step - loss: 0.5908\n",
            "Epoch 3/100\n",
            "1/1 [==============================] - 0s 5ms/step - loss: 0.4743\n",
            "Epoch 4/100\n",
            "1/1 [==============================] - 0s 6ms/step - loss: 0.3871\n",
            "Epoch 5/100\n",
            "1/1 [==============================] - 0s 11ms/step - loss: 0.3209\n",
            "Epoch 6/100\n",
            "1/1 [==============================] - 0s 5ms/step - loss: 0.2700\n",
            "Epoch 7/100\n",
            "1/1 [==============================] - 0s 6ms/step - loss: 0.2304\n",
            "Epoch 8/100\n",
            "1/1 [==============================] - 0s 16ms/step - loss: 0.1991\n",
            "Epoch 9/100\n",
            "1/1 [==============================] - 0s 6ms/step - loss: 0.1743\n",
            "Epoch 10/100\n",
            "1/1 [==============================] - 0s 8ms/step - loss: 0.1542\n",
            "Epoch 11/100\n",
            "1/1 [==============================] - 0s 7ms/step - loss: 0.1377\n",
            "Epoch 12/100\n",
            "1/1 [==============================] - 0s 7ms/step - loss: 0.1241\n",
            "Epoch 13/100\n",
            "1/1 [==============================] - 0s 13ms/step - loss: 0.1127\n",
            "Epoch 14/100\n",
            "1/1 [==============================] - 0s 6ms/step - loss: 0.1031\n",
            "Epoch 15/100\n",
            "1/1 [==============================] - 0s 5ms/step - loss: 0.0947\n",
            "Epoch 16/100\n",
            "1/1 [==============================] - 0s 5ms/step - loss: 0.0875\n",
            "Epoch 17/100\n",
            "1/1 [==============================] - 0s 6ms/step - loss: 0.0811\n",
            "Epoch 18/100\n",
            "1/1 [==============================] - 0s 6ms/step - loss: 0.0755\n",
            "Epoch 19/100\n",
            "1/1 [==============================] - 0s 9ms/step - loss: 0.0704\n",
            "Epoch 20/100\n",
            "1/1 [==============================] - 0s 7ms/step - loss: 0.0658\n",
            "Epoch 21/100\n",
            "1/1 [==============================] - 0s 9ms/step - loss: 0.0616\n",
            "Epoch 22/100\n",
            "1/1 [==============================] - 0s 7ms/step - loss: 0.0578\n",
            "Epoch 23/100\n",
            "1/1 [==============================] - 0s 9ms/step - loss: 0.0542\n",
            "Epoch 24/100\n",
            "1/1 [==============================] - 0s 10ms/step - loss: 0.0509\n",
            "Epoch 25/100\n",
            "1/1 [==============================] - 0s 18ms/step - loss: 0.0479\n",
            "Epoch 26/100\n",
            "1/1 [==============================] - 0s 7ms/step - loss: 0.0450\n",
            "Epoch 27/100\n",
            "1/1 [==============================] - 0s 7ms/step - loss: 0.0424\n",
            "Epoch 28/100\n",
            "1/1 [==============================] - 0s 9ms/step - loss: 0.0399\n",
            "Epoch 29/100\n",
            "1/1 [==============================] - 0s 9ms/step - loss: 0.0376\n",
            "Epoch 30/100\n",
            "1/1 [==============================] - 0s 8ms/step - loss: 0.0354\n",
            "Epoch 31/100\n",
            "1/1 [==============================] - 0s 6ms/step - loss: 0.0333\n",
            "Epoch 32/100\n",
            "1/1 [==============================] - 0s 8ms/step - loss: 0.0314\n",
            "Epoch 33/100\n",
            "1/1 [==============================] - 0s 8ms/step - loss: 0.0296\n",
            "Epoch 34/100\n",
            "1/1 [==============================] - 0s 6ms/step - loss: 0.0279\n",
            "Epoch 35/100\n",
            "1/1 [==============================] - 0s 8ms/step - loss: 0.0262\n",
            "Epoch 36/100\n",
            "1/1 [==============================] - 0s 8ms/step - loss: 0.0247\n",
            "Epoch 37/100\n",
            "1/1 [==============================] - 0s 6ms/step - loss: 0.0233\n",
            "Epoch 38/100\n",
            "1/1 [==============================] - 0s 8ms/step - loss: 0.0219\n",
            "Epoch 39/100\n",
            "1/1 [==============================] - 0s 6ms/step - loss: 0.0207\n",
            "Epoch 40/100\n",
            "1/1 [==============================] - 0s 13ms/step - loss: 0.0195\n",
            "Epoch 41/100\n",
            "1/1 [==============================] - 0s 7ms/step - loss: 0.0183\n",
            "Epoch 42/100\n",
            "1/1 [==============================] - 0s 8ms/step - loss: 0.0173\n",
            "Epoch 43/100\n",
            "1/1 [==============================] - 0s 6ms/step - loss: 0.0163\n",
            "Epoch 44/100\n",
            "1/1 [==============================] - 0s 8ms/step - loss: 0.0153\n",
            "Epoch 45/100\n",
            "1/1 [==============================] - 0s 8ms/step - loss: 0.0145\n",
            "Epoch 46/100\n",
            "1/1 [==============================] - 0s 9ms/step - loss: 0.0136\n",
            "Epoch 47/100\n",
            "1/1 [==============================] - 0s 6ms/step - loss: 0.0128\n",
            "Epoch 48/100\n",
            "1/1 [==============================] - 0s 7ms/step - loss: 0.0121\n",
            "Epoch 49/100\n",
            "1/1 [==============================] - 0s 6ms/step - loss: 0.0114\n",
            "Epoch 50/100\n",
            "1/1 [==============================] - 0s 8ms/step - loss: 0.0107\n",
            "Epoch 51/100\n",
            "1/1 [==============================] - 0s 9ms/step - loss: 0.0101\n",
            "Epoch 52/100\n",
            "1/1 [==============================] - 0s 7ms/step - loss: 0.0096\n",
            "Epoch 53/100\n",
            "1/1 [==============================] - 0s 8ms/step - loss: 0.0090\n",
            "Epoch 54/100\n",
            "1/1 [==============================] - 0s 7ms/step - loss: 0.0085\n",
            "Epoch 55/100\n",
            "1/1 [==============================] - 0s 8ms/step - loss: 0.0080\n",
            "Epoch 56/100\n",
            "1/1 [==============================] - 0s 6ms/step - loss: 0.0076\n",
            "Epoch 57/100\n",
            "1/1 [==============================] - 0s 8ms/step - loss: 0.0071\n",
            "Epoch 58/100\n",
            "1/1 [==============================] - 0s 6ms/step - loss: 0.0067\n",
            "Epoch 59/100\n",
            "1/1 [==============================] - 0s 6ms/step - loss: 0.0064\n",
            "Epoch 60/100\n",
            "1/1 [==============================] - 0s 13ms/step - loss: 0.0060\n",
            "Epoch 61/100\n",
            "1/1 [==============================] - 0s 8ms/step - loss: 0.0057\n",
            "Epoch 62/100\n",
            "1/1 [==============================] - 0s 9ms/step - loss: 0.0054\n",
            "Epoch 63/100\n",
            "1/1 [==============================] - 0s 10ms/step - loss: 0.0051\n",
            "Epoch 64/100\n",
            "1/1 [==============================] - 0s 16ms/step - loss: 0.0048\n",
            "Epoch 65/100\n",
            "1/1 [==============================] - 0s 10ms/step - loss: 0.0045\n",
            "Epoch 66/100\n",
            "1/1 [==============================] - 0s 11ms/step - loss: 0.0043\n",
            "Epoch 67/100\n",
            "1/1 [==============================] - 0s 6ms/step - loss: 0.0041\n",
            "Epoch 68/100\n",
            "1/1 [==============================] - 0s 6ms/step - loss: 0.0039\n",
            "Epoch 69/100\n",
            "1/1 [==============================] - 0s 10ms/step - loss: 0.0037\n",
            "Epoch 70/100\n",
            "1/1 [==============================] - 0s 6ms/step - loss: 0.0035\n",
            "Epoch 71/100\n",
            "1/1 [==============================] - 0s 7ms/step - loss: 0.0033\n",
            "Epoch 72/100\n",
            "1/1 [==============================] - 0s 7ms/step - loss: 0.0031\n",
            "Epoch 73/100\n",
            "1/1 [==============================] - 0s 10ms/step - loss: 0.0030\n",
            "Epoch 74/100\n",
            "1/1 [==============================] - 0s 9ms/step - loss: 0.0028\n",
            "Epoch 75/100\n",
            "1/1 [==============================] - 0s 8ms/step - loss: 0.0027\n",
            "Epoch 76/100\n",
            "1/1 [==============================] - 0s 8ms/step - loss: 0.0026\n",
            "Epoch 77/100\n",
            "1/1 [==============================] - 0s 12ms/step - loss: 0.0025\n",
            "Epoch 78/100\n",
            "1/1 [==============================] - 0s 6ms/step - loss: 0.0024\n",
            "Epoch 79/100\n",
            "1/1 [==============================] - 0s 10ms/step - loss: 0.0022\n",
            "Epoch 80/100\n",
            "1/1 [==============================] - 0s 13ms/step - loss: 0.0022\n",
            "Epoch 81/100\n",
            "1/1 [==============================] - 0s 6ms/step - loss: 0.0021\n",
            "Epoch 82/100\n",
            "1/1 [==============================] - 0s 16ms/step - loss: 0.0020\n",
            "Epoch 83/100\n",
            "1/1 [==============================] - 0s 7ms/step - loss: 0.0019\n",
            "Epoch 84/100\n",
            "1/1 [==============================] - 0s 6ms/step - loss: 0.0018\n",
            "Epoch 85/100\n",
            "1/1 [==============================] - 0s 6ms/step - loss: 0.0017\n",
            "Epoch 86/100\n",
            "1/1 [==============================] - 0s 7ms/step - loss: 0.0017\n",
            "Epoch 87/100\n",
            "1/1 [==============================] - 0s 6ms/step - loss: 0.0016\n",
            "Epoch 88/100\n",
            "1/1 [==============================] - 0s 6ms/step - loss: 0.0016\n",
            "Epoch 89/100\n",
            "1/1 [==============================] - 0s 7ms/step - loss: 0.0015\n",
            "Epoch 90/100\n",
            "1/1 [==============================] - 0s 6ms/step - loss: 0.0015\n",
            "Epoch 91/100\n",
            "1/1 [==============================] - 0s 7ms/step - loss: 0.0014\n",
            "Epoch 92/100\n",
            "1/1 [==============================] - 0s 5ms/step - loss: 0.0014\n",
            "Epoch 93/100\n",
            "1/1 [==============================] - 0s 6ms/step - loss: 0.0013\n",
            "Epoch 94/100\n",
            "1/1 [==============================] - 0s 7ms/step - loss: 0.0013\n",
            "Epoch 95/100\n",
            "1/1 [==============================] - 0s 5ms/step - loss: 0.0012\n",
            "Epoch 96/100\n",
            "1/1 [==============================] - 0s 7ms/step - loss: 0.0012\n",
            "Epoch 97/100\n",
            "1/1 [==============================] - 0s 9ms/step - loss: 0.0012\n",
            "Epoch 98/100\n",
            "1/1 [==============================] - 0s 10ms/step - loss: 0.0011\n",
            "Epoch 99/100\n",
            "1/1 [==============================] - 0s 5ms/step - loss: 0.0011\n",
            "Epoch 100/100\n",
            "1/1 [==============================] - 0s 7ms/step - loss: 0.0011\n"
          ],
          "name": "stdout"
        }
      ]
    },
    {
      "cell_type": "markdown",
      "metadata": {
        "id": "qqCxdhzC1Awt"
      },
      "source": [
        "### 결과 확인"
      ]
    },
    {
      "cell_type": "code",
      "metadata": {
        "colab": {
          "base_uri": "https://localhost:8080/",
          "height": 281
        },
        "id": "IdyjOL5n09ku",
        "outputId": "9f306e8b-2c7e-4e67-fd13-281433306851"
      },
      "source": [
        "plt.plot(history.history['loss'])\r\n",
        "plt.title('loss')\r\n",
        "plt.show()"
      ],
      "execution_count": 14,
      "outputs": [
        {
          "output_type": "display_data",
          "data": {
            "image/png": "[encoded data removed]",
            "text/plain": [
              "<Figure size 432x288 with 1 Axes>"
            ]
          },
          "metadata": {
            "tags": [],
            "needs_background": "light"
          }
        }
      ]
    },
    {
      "cell_type": "code",
      "metadata": {
        "colab": {
          "base_uri": "https://localhost:8080/",
          "height": 281
        },
        "id": "HRvHp5If1HSE",
        "outputId": "ed6f493a-8cf4-4ea5-ddbd-d996ec0d4c37"
      },
      "source": [
        "plt.plot(Y_train, 'ro-', label='target')\r\n",
        "plt.plot(model.predict(X_train[:, :, :]), 'bs-', label='output')\r\n",
        "plt.xlim(-0.5, 20.5)\r\n",
        "plt.ylim(-1.1, 1.1)\r\n",
        "plt.legend()\r\n",
        "plt.title('After training')\r\n",
        "plt.show()"
      ],
      "execution_count": 15,
      "outputs": [
        {
          "output_type": "display_data",
          "data": {
            "image/png": "[encoded data removed]",
            "text/plain": [
              "<Figure size 432x288 with 1 Axes>"
            ]
          },
          "metadata": {
            "tags": [],
            "needs_background": "light"
          }
        }
      ]
    },
    {
      "cell_type": "code",
      "metadata": {
        "colab": {
          "base_uri": "https://localhost:8080/"
        },
        "id": "sUNNvZfe1Waf",
        "outputId": "d57b6fb3-f842-4bf3-b5ff-d6a1604b8a07"
      },
      "source": [
        "# 입력에 대한 weights\r\n",
        "model.weights[0]"
      ],
      "execution_count": 16,
      "outputs": [
        {
          "output_type": "execute_result",
          "data": {
            "text/plain": [
              "<tf.Variable 'simple_rnn/simple_rnn_cell/kernel:0' shape=(1, 10) dtype=float32, numpy=\n",
              "array([[ 0.10813192, -0.45207852, -0.3103757 , -0.11725643,  0.07662953,\n",
              "        -0.12669197,  0.17407289,  0.71127635, -0.41888142, -0.23619102]],\n",
              "      dtype=float32)>"
            ]
          },
          "metadata": {
            "tags": []
          },
          "execution_count": 16
        }
      ]
    },
    {
      "cell_type": "code",
      "metadata": {
        "colab": {
          "base_uri": "https://localhost:8080/"
        },
        "id": "9riEH64W1rzg",
        "outputId": "8ed73a7c-3be0-46d2-956e-ef69bcdd9ba9"
      },
      "source": [
        "# 유닛에 대한 weights\r\n",
        "model.weights[1]"
      ],
      "execution_count": 17,
      "outputs": [
        {
          "output_type": "execute_result",
          "data": {
            "text/plain": [
              "<tf.Variable 'simple_rnn/simple_rnn_cell/recurrent_kernel:0' shape=(10, 10) dtype=float32, numpy=\n",
              "array([[-2.4015881e-01,  4.1551495e-01, -3.3612186e-01, -3.8622823e-01,\n",
              "         2.0493390e-01, -8.5867837e-02, -5.2413523e-01,  1.6422331e-01,\n",
              "        -3.0531651e-01, -1.9488136e-01],\n",
              "       [-1.2756622e-01,  5.1692195e-02, -8.6218148e-02,  1.6519408e-01,\n",
              "        -1.2821004e-02, -2.4812481e-01,  4.4447759e-01,  8.1354189e-01,\n",
              "         2.8474262e-04, -3.1118312e-01],\n",
              "       [ 5.0894994e-01, -4.0328553e-01,  4.3860224e-01, -8.1563778e-02,\n",
              "         2.1825431e-01, -2.4515362e-01, -4.3914887e-01,  2.8150985e-01,\n",
              "         1.3463238e-01, -3.7630999e-01],\n",
              "       [ 1.8368377e-01, -8.7320790e-02,  4.8775550e-02, -5.9196287e-01,\n",
              "        -1.7825329e-01, -4.8739713e-01,  4.2388561e-01, -2.0265359e-01,\n",
              "        -3.6213085e-01, -3.7320133e-02],\n",
              "       [ 1.1791491e-01,  4.9734366e-01,  3.3153740e-01,  4.0023449e-01,\n",
              "         3.3777598e-01, -5.6805593e-01,  1.7522583e-02, -1.3048105e-01,\n",
              "         3.4929644e-02,  1.6220534e-01],\n",
              "       [ 1.1475808e-01,  3.7416831e-01,  8.7392524e-02,  2.2708528e-01,\n",
              "        -5.8408463e-01,  9.6367046e-02, -6.5732457e-02, -2.3198618e-01,\n",
              "        -1.6419896e-01, -5.9152102e-01],\n",
              "       [ 4.5657915e-01,  4.7624379e-01,  2.5085384e-01, -3.2646868e-01,\n",
              "        -8.8997349e-02,  4.0913206e-01,  8.2366563e-02,  3.1730434e-01,\n",
              "         1.0272198e-01,  3.0043653e-01],\n",
              "       [ 1.4835909e-01, -2.0236978e-01,  1.3025403e-02,  3.5249180e-01,\n",
              "        -2.9570100e-01,  7.8964911e-02, -2.1373521e-01,  1.7618188e-01,\n",
              "        -6.7506540e-01,  3.9302853e-01],\n",
              "       [-1.0100880e-01, -2.6461147e-02,  4.0173912e-01,  2.3904338e-02,\n",
              "         5.9740043e-01,  3.3780241e-01,  2.5791693e-01, -3.6422566e-02,\n",
              "        -4.8584375e-01, -2.7674463e-01],\n",
              "       [-6.5463865e-01,  1.1307352e-03,  6.4997458e-01, -2.2171105e-01,\n",
              "        -3.0738130e-01, -3.6473654e-02, -7.2934270e-02,  9.2827380e-02,\n",
              "         9.7453915e-02,  3.4247454e-02]], dtype=float32)>"
            ]
          },
          "metadata": {
            "tags": []
          },
          "execution_count": 17
        }
      ]
    },
    {
      "cell_type": "code",
      "metadata": {
        "colab": {
          "base_uri": "https://localhost:8080/"
        },
        "id": "ZmnvtVw72YfR",
        "outputId": "e8eafabe-3c5d-463a-cdbd-e6077eec7053"
      },
      "source": [
        "# bias\r\n",
        "model.weights[2]"
      ],
      "execution_count": 18,
      "outputs": [
        {
          "output_type": "execute_result",
          "data": {
            "text/plain": [
              "<tf.Variable 'simple_rnn/simple_rnn_cell/bias:0' shape=(10,) dtype=float32, numpy=\n",
              "array([-3.0561371e-04, -2.5733348e-06,  1.8353252e-03,  7.2334973e-05,\n",
              "        1.4306061e-03,  3.6687136e-04, -2.5204197e-04, -2.4197923e-03,\n",
              "        1.5532835e-03, -3.1406229e-04], dtype=float32)>"
            ]
          },
          "metadata": {
            "tags": []
          },
          "execution_count": 18
        }
      ]
    },
    {
      "cell_type": "code",
      "metadata": {
        "colab": {
          "base_uri": "https://localhost:8080/"
        },
        "id": "93bNBOYB2fC2",
        "outputId": "74ae975b-aebd-4db8-9d1d-17b9099c8017"
      },
      "source": [
        "# Output layer에 대한 weights\r\n",
        "model.weights[3]"
      ],
      "execution_count": 19,
      "outputs": [
        {
          "output_type": "execute_result",
          "data": {
            "text/plain": [
              "<tf.Variable 'dense/kernel:0' shape=(10, 1) dtype=float32, numpy=\n",
              "array([[ 0.5240259 ],\n",
              "       [-0.26450396],\n",
              "       [ 0.38532302],\n",
              "       [ 0.2503889 ],\n",
              "       [ 0.6452001 ],\n",
              "       [-0.63857186],\n",
              "       [-0.6356744 ],\n",
              "       [ 0.6790521 ],\n",
              "       [-0.27262923],\n",
              "       [ 0.64437914]], dtype=float32)>"
            ]
          },
          "metadata": {
            "tags": []
          },
          "execution_count": 19
        }
      ]
    },
    {
      "cell_type": "code",
      "metadata": {
        "id": "tiSG3-dW3clr"
      },
      "source": [
        "# Output layer에 대한 bias\r\n",
        "model.weights[4]"
      ],
      "execution_count": null,
      "outputs": []
    }
  ]
}