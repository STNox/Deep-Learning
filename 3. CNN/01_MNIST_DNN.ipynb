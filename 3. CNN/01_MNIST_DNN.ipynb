{
  "nbformat": 4,
  "nbformat_minor": 0,
  "metadata": {
    "colab": {
      "name": "01_MNIST DNN.ipynb",
      "provenance": []
    },
    "kernelspec": {
      "name": "python3",
      "display_name": "Python 3"
    }
  },
  "cells": [
    {
      "cell_type": "markdown",
      "metadata": {
        "id": "27NKMKDaL4hy"
      },
      "source": [
        "# MNIST 손글씨 - Neural Network"
      ]
    },
    {
      "cell_type": "code",
      "metadata": {
        "id": "1I_p2eabLu5i"
      },
      "source": [
        "import numpy as np\r\n",
        "import tensorflow as tf"
      ],
      "execution_count": 1,
      "outputs": []
    },
    {
      "cell_type": "code",
      "metadata": {
        "id": "PdrwHArPMQSp"
      },
      "source": [
        "seed = 2021\r\n",
        "np.random.seed(seed)\r\n",
        "tf.random.set_seed(seed)"
      ],
      "execution_count": 2,
      "outputs": []
    },
    {
      "cell_type": "markdown",
      "metadata": {
        "id": "uZZdrN2cMZrs"
      },
      "source": [
        "### 데이터 전처리"
      ]
    },
    {
      "cell_type": "code",
      "metadata": {
        "id": "1fCfRVetMYdI"
      },
      "source": [
        "from tensorflow.keras.datasets import mnist\r\n",
        "(X_train, Y_class_train), (X_test, Y_class_test) = mnist.load_data()"
      ],
      "execution_count": 3,
      "outputs": []
    },
    {
      "cell_type": "code",
      "metadata": {
        "colab": {
          "base_uri": "https://localhost:8080/"
        },
        "id": "OQhrlfgKM084",
        "outputId": "a6f4b31e-57b4-4543-a5b8-5f34cb1b289b"
      },
      "source": [
        "X_train.shape, X_test.shape"
      ],
      "execution_count": 4,
      "outputs": [
        {
          "output_type": "execute_result",
          "data": {
            "text/plain": [
              "((60000, 28, 28), (10000, 28, 28))"
            ]
          },
          "metadata": {
            "tags": []
          },
          "execution_count": 4
        }
      ]
    },
    {
      "cell_type": "code",
      "metadata": {
        "colab": {
          "base_uri": "https://localhost:8080/",
          "height": 265
        },
        "id": "XhcfmnJsM9_v",
        "outputId": "ebc28a0c-f3c9-491c-d6a1-062ad7d2f7a7"
      },
      "source": [
        "import matplotlib.pyplot as plt\r\n",
        "%matplotlib inline\r\n",
        "plt.imshow(X_train[0], cmap='Greys')\r\n",
        "plt.show()"
      ],
      "execution_count": 5,
      "outputs": [
        {
          "output_type": "display_data",
          "data": {
            "image/png": "[encoded data removed]",
            "text/plain": [
              "<Figure size 432x288 with 1 Axes>"
            ]
          },
          "metadata": {
            "tags": [],
            "needs_background": "light"
          }
        }
      ]
    },
    {
      "cell_type": "code",
      "metadata": {
        "colab": {
          "base_uri": "https://localhost:8080/"
        },
        "id": "DutHENm8NQmf",
        "outputId": "4f40c80e-52b2-48a7-c600-a7ce8eb054ca"
      },
      "source": [
        "import sys\r\n",
        "for x in X_train[0]:\r\n",
        "  for i in x:\r\n",
        "    sys.stdout.write(f'{i:3d} ')\r\n",
        "  sys.stdout.write('\\n')"
      ],
      "execution_count": 6,
      "outputs": [
        {
          "output_type": "stream",
          "text": [
            "  0   0   0   0   0   0   0   0   0   0   0   0   0   0   0   0   0   0   0   0   0   0   0   0   0   0   0   0 \n",
            "  0   0   0   0   0   0   0   0   0   0   0   0   0   0   0   0   0   0   0   0   0   0   0   0   0   0   0   0 \n",
            "  0   0   0   0   0   0   0   0   0   0   0   0   0   0   0   0   0   0   0   0   0   0   0   0   0   0   0   0 \n",
            "  0   0   0   0   0   0   0   0   0   0   0   0   0   0   0   0   0   0   0   0   0   0   0   0   0   0   0   0 \n",
            "  0   0   0   0   0   0   0   0   0   0   0   0   0   0   0   0   0   0   0   0   0   0   0   0   0   0   0   0 \n",
            "  0   0   0   0   0   0   0   0   0   0   0   0   3  18  18  18 126 136 175  26 166 255 247 127   0   0   0   0 \n",
            "  0   0   0   0   0   0   0   0  30  36  94 154 170 253 253 253 253 253 225 172 253 242 195  64   0   0   0   0 \n",
            "  0   0   0   0   0   0   0  49 238 253 253 253 253 253 253 253 253 251  93  82  82  56  39   0   0   0   0   0 \n",
            "  0   0   0   0   0   0   0  18 219 253 253 253 253 253 198 182 247 241   0   0   0   0   0   0   0   0   0   0 \n",
            "  0   0   0   0   0   0   0   0  80 156 107 253 253 205  11   0  43 154   0   0   0   0   0   0   0   0   0   0 \n",
            "  0   0   0   0   0   0   0   0   0  14   1 154 253  90   0   0   0   0   0   0   0   0   0   0   0   0   0   0 \n",
            "  0   0   0   0   0   0   0   0   0   0   0 139 253 190   2   0   0   0   0   0   0   0   0   0   0   0   0   0 \n",
            "  0   0   0   0   0   0   0   0   0   0   0  11 190 253  70   0   0   0   0   0   0   0   0   0   0   0   0   0 \n",
            "  0   0   0   0   0   0   0   0   0   0   0   0  35 241 225 160 108   1   0   0   0   0   0   0   0   0   0   0 \n",
            "  0   0   0   0   0   0   0   0   0   0   0   0   0  81 240 253 253 119  25   0   0   0   0   0   0   0   0   0 \n",
            "  0   0   0   0   0   0   0   0   0   0   0   0   0   0  45 186 253 253 150  27   0   0   0   0   0   0   0   0 \n",
            "  0   0   0   0   0   0   0   0   0   0   0   0   0   0   0  16  93 252 253 187   0   0   0   0   0   0   0   0 \n",
            "  0   0   0   0   0   0   0   0   0   0   0   0   0   0   0   0   0 249 253 249  64   0   0   0   0   0   0   0 \n",
            "  0   0   0   0   0   0   0   0   0   0   0   0   0   0  46 130 183 253 253 207   2   0   0   0   0   0   0   0 \n",
            "  0   0   0   0   0   0   0   0   0   0   0   0  39 148 229 253 253 253 250 182   0   0   0   0   0   0   0   0 \n",
            "  0   0   0   0   0   0   0   0   0   0  24 114 221 253 253 253 253 201  78   0   0   0   0   0   0   0   0   0 \n",
            "  0   0   0   0   0   0   0   0  23  66 213 253 253 253 253 198  81   2   0   0   0   0   0   0   0   0   0   0 \n",
            "  0   0   0   0   0   0  18 171 219 253 253 253 253 195  80   9   0   0   0   0   0   0   0   0   0   0   0   0 \n",
            "  0   0   0   0  55 172 226 253 253 253 253 244 133  11   0   0   0   0   0   0   0   0   0   0   0   0   0   0 \n",
            "  0   0   0   0 136 253 253 253 212 135 132  16   0   0   0   0   0   0   0   0   0   0   0   0   0   0   0   0 \n",
            "  0   0   0   0   0   0   0   0   0   0   0   0   0   0   0   0   0   0   0   0   0   0   0   0   0   0   0   0 \n",
            "  0   0   0   0   0   0   0   0   0   0   0   0   0   0   0   0   0   0   0   0   0   0   0   0   0   0   0   0 \n",
            "  0   0   0   0   0   0   0   0   0   0   0   0   0   0   0   0   0   0   0   0   0   0   0   0   0   0   0   0 \n"
          ],
          "name": "stdout"
        }
      ]
    },
    {
      "cell_type": "code",
      "metadata": {
        "colab": {
          "base_uri": "https://localhost:8080/"
        },
        "id": "7QMDI0DwOKyU",
        "outputId": "170b563f-a60c-40fe-a51f-d832131d4532"
      },
      "source": [
        "X_train = X_train.reshape(-1, 784)  # 1차원화\r\n",
        "X_train = X_train / 255.0           # 데이터를 0~1의 값으로 변환(가장 최적화된 데이터)\r\n",
        "X_train.shape"
      ],
      "execution_count": 7,
      "outputs": [
        {
          "output_type": "execute_result",
          "data": {
            "text/plain": [
              "(60000, 784)"
            ]
          },
          "metadata": {
            "tags": []
          },
          "execution_count": 7
        }
      ]
    },
    {
      "cell_type": "code",
      "metadata": {
        "colab": {
          "base_uri": "https://localhost:8080/"
        },
        "id": "ej4RQ3gpOkmS",
        "outputId": "f30f1cf7-e816-468a-a7c2-f824e6bd071e"
      },
      "source": [
        "X_test = X_test.reshape(-1, 784)\r\n",
        "X_test = X_test / 255.0\r\n",
        "type(X_test[0, 0])"
      ],
      "execution_count": 8,
      "outputs": [
        {
          "output_type": "execute_result",
          "data": {
            "text/plain": [
              "numpy.float64"
            ]
          },
          "metadata": {
            "tags": []
          },
          "execution_count": 8
        }
      ]
    },
    {
      "cell_type": "code",
      "metadata": {
        "colab": {
          "base_uri": "https://localhost:8080/"
        },
        "id": "ZFHeKbIiO-um",
        "outputId": "a2b90885-4f2c-416a-8207-c1055759c805"
      },
      "source": [
        "Y_class_train[0]"
      ],
      "execution_count": 9,
      "outputs": [
        {
          "output_type": "execute_result",
          "data": {
            "text/plain": [
              "5"
            ]
          },
          "metadata": {
            "tags": []
          },
          "execution_count": 9
        }
      ]
    },
    {
      "cell_type": "code",
      "metadata": {
        "colab": {
          "base_uri": "https://localhost:8080/"
        },
        "id": "_xotoDN1PEpW",
        "outputId": "bdb5d6a3-1b52-4237-8aa6-e99d5ff7bf1d"
      },
      "source": [
        "# One hot encoding\r\n",
        "from tensorflow.keras.utils import to_categorical\r\n",
        "Y_train = to_categorical(Y_class_train, 10)\r\n",
        "Y_test = to_categorical(Y_class_test, 10)\r\n",
        "Y_train[0]"
      ],
      "execution_count": 10,
      "outputs": [
        {
          "output_type": "execute_result",
          "data": {
            "text/plain": [
              "array([0., 0., 0., 0., 0., 1., 0., 0., 0., 0.], dtype=float32)"
            ]
          },
          "metadata": {
            "tags": []
          },
          "execution_count": 10
        }
      ]
    },
    {
      "cell_type": "markdown",
      "metadata": {
        "id": "1jy3G3P8PwWE"
      },
      "source": [
        "### 모델 정의/설정/학습"
      ]
    },
    {
      "cell_type": "code",
      "metadata": {
        "id": "e3kttLdePUoj"
      },
      "source": [
        "from tensorflow.keras.models import Sequential\r\n",
        "from tensorflow.keras.layers import Dense\r\n",
        "import os\r\n",
        "MODEL_DIR = './model/'\r\n",
        "if not os.path.exists(MODEL_DIR):\r\n",
        "  os.mkdir(MODEL_DIR)"
      ],
      "execution_count": 11,
      "outputs": []
    },
    {
      "cell_type": "code",
      "metadata": {
        "colab": {
          "base_uri": "https://localhost:8080/"
        },
        "id": "ZSCe6CtORGPj",
        "outputId": "f26a6407-67a6-4c00-f51e-acc1a53706a8"
      },
      "source": [
        "model = Sequential([\r\n",
        "                    Dense(512, input_dim=784, activation='relu'),\r\n",
        "                    Dense(10, activation='softmax')\r\n",
        "])\r\n",
        "model.summary()"
      ],
      "execution_count": 12,
      "outputs": [
        {
          "output_type": "stream",
          "text": [
            "Model: \"sequential\"\n",
            "_________________________________________________________________\n",
            "Layer (type)                 Output Shape              Param #   \n",
            "=================================================================\n",
            "dense (Dense)                (None, 512)               401920    \n",
            "_________________________________________________________________\n",
            "dense_1 (Dense)              (None, 10)                5130      \n",
            "=================================================================\n",
            "Total params: 407,050\n",
            "Trainable params: 407,050\n",
            "Non-trainable params: 0\n",
            "_________________________________________________________________\n"
          ],
          "name": "stdout"
        }
      ]
    },
    {
      "cell_type": "code",
      "metadata": {
        "id": "1aZ31UjMUf96"
      },
      "source": [
        "model.compile(loss='categorical_crossentropy', optimizer='adam', metrics=['accuracy'])"
      ],
      "execution_count": 13,
      "outputs": []
    },
    {
      "cell_type": "code",
      "metadata": {
        "id": "kB4FXiRBUsFA"
      },
      "source": [
        "modelpath = MODEL_DIR + 'best{epoch:03d}-{val_loss:.4f}.hdf5'"
      ],
      "execution_count": 14,
      "outputs": []
    },
    {
      "cell_type": "code",
      "metadata": {
        "id": "NLY8Ug5XU3WG"
      },
      "source": [
        "from tensorflow.keras.callbacks import ModelCheckpoint, EarlyStopping\r\n",
        "checkpointer = ModelCheckpoint(filepath=modelpath, monitor='val_loss', verbose=1, save_best_only=True)\r\n",
        "early_stopping = EarlyStopping(monitor='val_loss', patience=10)"
      ],
      "execution_count": 15,
      "outputs": []
    },
    {
      "cell_type": "code",
      "metadata": {
        "colab": {
          "base_uri": "https://localhost:8080/"
        },
        "id": "eolI8e2WVisS",
        "outputId": "d8c049e6-547b-4b61-f321-376a12d25996"
      },
      "source": [
        "history = model.fit(X_train, Y_train, validation_split=0.2, epochs=30, verbose=0, callbacks=[checkpointer, early_stopping], batch_size=200)"
      ],
      "execution_count": 16,
      "outputs": [
        {
          "output_type": "stream",
          "text": [
            "\n",
            "Epoch 00001: val_loss improved from inf to 0.17144, saving model to ./model/best001-0.1714.hdf5\n",
            "\n",
            "Epoch 00002: val_loss improved from 0.17144 to 0.12332, saving model to ./model/best002-0.1233.hdf5\n",
            "\n",
            "Epoch 00003: val_loss improved from 0.12332 to 0.10247, saving model to ./model/best003-0.1025.hdf5\n",
            "\n",
            "Epoch 00004: val_loss improved from 0.10247 to 0.08734, saving model to ./model/best004-0.0873.hdf5\n",
            "\n",
            "Epoch 00005: val_loss improved from 0.08734 to 0.08358, saving model to ./model/best005-0.0836.hdf5\n",
            "\n",
            "Epoch 00006: val_loss did not improve from 0.08358\n",
            "\n",
            "Epoch 00007: val_loss improved from 0.08358 to 0.07434, saving model to ./model/best007-0.0743.hdf5\n",
            "\n",
            "Epoch 00008: val_loss did not improve from 0.07434\n",
            "\n",
            "Epoch 00009: val_loss improved from 0.07434 to 0.07222, saving model to ./model/best009-0.0722.hdf5\n",
            "\n",
            "Epoch 00010: val_loss did not improve from 0.07222\n",
            "\n",
            "Epoch 00011: val_loss did not improve from 0.07222\n",
            "\n",
            "Epoch 00012: val_loss did not improve from 0.07222\n",
            "\n",
            "Epoch 00013: val_loss did not improve from 0.07222\n",
            "\n",
            "Epoch 00014: val_loss did not improve from 0.07222\n",
            "\n",
            "Epoch 00015: val_loss did not improve from 0.07222\n",
            "\n",
            "Epoch 00016: val_loss did not improve from 0.07222\n",
            "\n",
            "Epoch 00017: val_loss did not improve from 0.07222\n",
            "\n",
            "Epoch 00018: val_loss did not improve from 0.07222\n",
            "\n",
            "Epoch 00019: val_loss did not improve from 0.07222\n"
          ],
          "name": "stdout"
        }
      ]
    },
    {
      "cell_type": "code",
      "metadata": {
        "id": "NKg3Yt94V0bs"
      },
      "source": [
        "from tensorflow.keras.models import load_model\r\n",
        "best_model = load_model('./model/best009-0.0722.hdf5')"
      ],
      "execution_count": 17,
      "outputs": []
    },
    {
      "cell_type": "code",
      "metadata": {
        "colab": {
          "base_uri": "https://localhost:8080/"
        },
        "id": "Ts79pFEhWLU4",
        "outputId": "dd4008d6-2639-4fb6-fa99-40fac5594bf8"
      },
      "source": [
        "acc = model.evaluate(X_test, Y_test, verbose=2)[1]\r\n",
        "print(f'\\n Test Accuracy: {acc:.4f}')"
      ],
      "execution_count": 18,
      "outputs": [
        {
          "output_type": "stream",
          "text": [
            "313/313 - 1s - loss: 0.0780 - accuracy: 0.9783\n",
            "\n",
            " Test Accuracy: 0.9783\n"
          ],
          "name": "stdout"
        }
      ]
    },
    {
      "cell_type": "code",
      "metadata": {
        "id": "XeXecd--WhRi"
      },
      "source": [
        "# 검증셋의 오차\r\n",
        "y_vloss = history.history['val_loss']\r\n",
        "# 학습셋의 오차\r\n",
        "y_loss = history.history['loss']"
      ],
      "execution_count": 19,
      "outputs": []
    },
    {
      "cell_type": "code",
      "metadata": {
        "colab": {
          "base_uri": "https://localhost:8080/",
          "height": 392
        },
        "id": "HUYanDl-XSaw",
        "outputId": "0871ea64-bb8b-4689-d350-9622b4902812"
      },
      "source": [
        "x_len = np.arange(1, len(y_loss)+1)\r\n",
        "plt.figure(figsize=(8, 6))\r\n",
        "plt.plot(x_len, y_vloss, marker='.', c='red', label='Validation_loss')\r\n",
        "plt.plot(x_len, y_loss, marker='.', c='blue', label='Trainset_loss')\r\n",
        "plt.legend(loc='upper right')\r\n",
        "plt.grid()\r\n",
        "plt.xlabel('epoch')\r\n",
        "plt.ylabel('loss')\r\n",
        "plt.show()"
      ],
      "execution_count": 20,
      "outputs": [
        {
          "output_type": "display_data",
          "data": {
            "image/png": "[encoded data removed]",
            "text/plain": [
              "<Figure size 576x432 with 1 Axes>"
            ]
          },
          "metadata": {
            "tags": [],
            "needs_background": "light"
          }
        }
      ]
    },
    {
      "cell_type": "code",
      "metadata": {
        "id": "DdENmrMXX-gR"
      },
      "source": [
        ""
      ],
      "execution_count": null,
      "outputs": []
    }
  ]
}