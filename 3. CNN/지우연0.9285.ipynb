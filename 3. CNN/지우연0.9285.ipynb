{
  "nbformat": 4,
  "nbformat_minor": 0,
  "metadata": {
    "colab": {
      "name": "06_Fashion_MNIST_CNN.ipynb",
      "provenance": [],
      "collapsed_sections": [],
      "toc_visible": true
    },
    "kernelspec": {
      "name": "python3",
      "display_name": "Python 3"
    },
    "accelerator": "GPU"
  },
  "cells": [
    {
      "cell_type": "markdown",
      "metadata": {
        "id": "aHCYT0en_0BD"
      },
      "source": [
        "# Fashion MNIST - Convolution Neural Network"
      ]
    },
    {
      "cell_type": "code",
      "metadata": {
        "id": "vPX0eIDY_vrA"
      },
      "source": [
        "import numpy as np\r\n",
        "import tensorflow as tf"
      ],
      "execution_count": 1,
      "outputs": []
    },
    {
      "cell_type": "code",
      "metadata": {
        "id": "GTreyE-CCjOg"
      },
      "source": [
        "seed = 2021\r\n",
        "np.random.seed(seed)\r\n",
        "tf.random.set_seed(seed)"
      ],
      "execution_count": 2,
      "outputs": []
    },
    {
      "cell_type": "markdown",
      "metadata": {
        "id": "OAidYzabROUH"
      },
      "source": [
        "### 데이터 전처리"
      ]
    },
    {
      "cell_type": "code",
      "metadata": {
        "id": "Wep5A1O-CnZd"
      },
      "source": [
        "from tensorflow.keras.datasets import fashion_mnist\r\n",
        "(X_train, Y_class_train), (X_test, Y_class_test) = fashion_mnist.load_data()"
      ],
      "execution_count": 3,
      "outputs": []
    },
    {
      "cell_type": "code",
      "metadata": {
        "colab": {
          "base_uri": "https://localhost:8080/"
        },
        "id": "E0Qh5agfDB6t",
        "outputId": "6b7f754f-3140-4dee-ba67-0ae540f27cc2"
      },
      "source": [
        "X_train = X_train.reshape(-1, 28, 28, 1)\r\n",
        "X_test = X_test.reshape(-1, 28, 28, 1)\r\n",
        "X_train.shape, X_test.shape"
      ],
      "execution_count": 4,
      "outputs": [
        {
          "output_type": "execute_result",
          "data": {
            "text/plain": [
              "((60000, 28, 28, 1), (10000, 28, 28, 1))"
            ]
          },
          "metadata": {
            "tags": []
          },
          "execution_count": 4
        }
      ]
    },
    {
      "cell_type": "code",
      "metadata": {
        "id": "ASI7HI3sDZnK"
      },
      "source": [
        "# 정규화\r\n",
        "X_train = X_train / 255.0\r\n",
        "X_test = X_test / 255.0"
      ],
      "execution_count": 5,
      "outputs": []
    },
    {
      "cell_type": "code",
      "metadata": {
        "colab": {
          "base_uri": "https://localhost:8080/"
        },
        "id": "do0j13dHMEMI",
        "outputId": "515b8264-3cfb-4eb3-d02a-6bc6f6277ebf"
      },
      "source": [
        "# One hot encoding\r\n",
        "from tensorflow.keras.utils import to_categorical\r\n",
        "Y_train = to_categorical(Y_class_train, 10)\r\n",
        "Y_test = to_categorical(Y_class_test, 10)\r\n",
        "Y_train[0]"
      ],
      "execution_count": 6,
      "outputs": [
        {
          "output_type": "execute_result",
          "data": {
            "text/plain": [
              "array([0., 0., 0., 0., 0., 0., 0., 0., 0., 1.], dtype=float32)"
            ]
          },
          "metadata": {
            "tags": []
          },
          "execution_count": 6
        }
      ]
    },
    {
      "cell_type": "markdown",
      "metadata": {
        "id": "hnFVIGOISCHq"
      },
      "source": [
        "### 모델 정의/설정/학습"
      ]
    },
    {
      "cell_type": "code",
      "metadata": {
        "id": "fUX_OX4_MQRQ"
      },
      "source": [
        "from tensorflow.keras.models import Sequential\r\n",
        "from tensorflow.keras.layers import Dense, Dropout, Flatten, Conv2D, MaxPooling2D\r\n",
        "import os\r\n",
        "MODEL_DIR = './model/'\r\n",
        "if not os.path.exists(MODEL_DIR):\r\n",
        "  os.mkdir(MODEL_DIR)"
      ],
      "execution_count": 7,
      "outputs": []
    },
    {
      "cell_type": "code",
      "metadata": {
        "colab": {
          "base_uri": "https://localhost:8080/"
        },
        "id": "24o50l26M5ZM",
        "outputId": "84300f44-9496-4afc-8a62-a4d58e4cb55c"
      },
      "source": [
        "model = Sequential([\r\n",
        "                    Conv2D(32, kernel_size=(3, 3), input_shape=(28, 28, 1), padding='same', activation='relu'),\r\n",
        "                    Conv2D(64, (4, 4), padding='same', activation='relu'),\r\n",
        "                    Conv2D(128, (5, 5), padding='same', activation='relu'),\r\n",
        "                    MaxPooling2D(pool_size=2),\r\n",
        "                    Dropout(0.25),\r\n",
        "                    Flatten(),\r\n",
        "                    Dense(512, activation='relu'),\r\n",
        "                    Dropout(0.5),\r\n",
        "                    Dense(128, activation='relu'),\r\n",
        "                    Dropout(0.5),\r\n",
        "                    Dense(10, activation='softmax')\r\n",
        "])\r\n",
        "model.summary()"
      ],
      "execution_count": 8,
      "outputs": [
        {
          "output_type": "stream",
          "text": [
            "Model: \"sequential\"\n",
            "_________________________________________________________________\n",
            "Layer (type)                 Output Shape              Param #   \n",
            "=================================================================\n",
            "conv2d (Conv2D)              (None, 28, 28, 32)        320       \n",
            "_________________________________________________________________\n",
            "conv2d_1 (Conv2D)            (None, 28, 28, 64)        32832     \n",
            "_________________________________________________________________\n",
            "conv2d_2 (Conv2D)            (None, 28, 28, 128)       204928    \n",
            "_________________________________________________________________\n",
            "max_pooling2d (MaxPooling2D) (None, 14, 14, 128)       0         \n",
            "_________________________________________________________________\n",
            "dropout (Dropout)            (None, 14, 14, 128)       0         \n",
            "_________________________________________________________________\n",
            "flatten (Flatten)            (None, 25088)             0         \n",
            "_________________________________________________________________\n",
            "dense (Dense)                (None, 512)               12845568  \n",
            "_________________________________________________________________\n",
            "dropout_1 (Dropout)          (None, 512)               0         \n",
            "_________________________________________________________________\n",
            "dense_1 (Dense)              (None, 128)               65664     \n",
            "_________________________________________________________________\n",
            "dropout_2 (Dropout)          (None, 128)               0         \n",
            "_________________________________________________________________\n",
            "dense_2 (Dense)              (None, 10)                1290      \n",
            "=================================================================\n",
            "Total params: 13,150,602\n",
            "Trainable params: 13,150,602\n",
            "Non-trainable params: 0\n",
            "_________________________________________________________________\n"
          ],
          "name": "stdout"
        }
      ]
    },
    {
      "cell_type": "code",
      "metadata": {
        "id": "EHEs7ODMNPke"
      },
      "source": [
        "model.compile(loss='categorical_crossentropy', optimizer='adam', metrics=['accuracy'])"
      ],
      "execution_count": 9,
      "outputs": []
    },
    {
      "cell_type": "code",
      "metadata": {
        "id": "M4n-yvJTNZKm"
      },
      "source": [
        "modelpath = MODEL_DIR + 'best{epoch:03d}-{val_loss:.4f}.hdf5'"
      ],
      "execution_count": 10,
      "outputs": []
    },
    {
      "cell_type": "code",
      "metadata": {
        "id": "bMHDVdhdNsUc"
      },
      "source": [
        "from tensorflow.keras.callbacks import ModelCheckpoint, EarlyStopping\r\n",
        "checkpointer = ModelCheckpoint(filepath=modelpath, monitor='val_loss', verbose=1, save_best_only=True)\r\n",
        "early_stopping = EarlyStopping(monitor='val_loss', patience=20)"
      ],
      "execution_count": 11,
      "outputs": []
    },
    {
      "cell_type": "code",
      "metadata": {
        "colab": {
          "base_uri": "https://localhost:8080/"
        },
        "id": "3OS28hpxOAuS",
        "outputId": "0354503a-7f18-4501-eb2f-1b4004218d54"
      },
      "source": [
        "history = model.fit(X_train, Y_train, validation_split=0.25, epochs=100, batch_size=200, verbose=0, callbacks=[checkpointer, early_stopping])"
      ],
      "execution_count": 12,
      "outputs": [
        {
          "output_type": "stream",
          "text": [
            "\n",
            "Epoch 00001: val_loss improved from inf to 0.29648, saving model to ./model/best001-0.2965.hdf5\n",
            "\n",
            "Epoch 00002: val_loss improved from 0.29648 to 0.24085, saving model to ./model/best002-0.2408.hdf5\n",
            "\n",
            "Epoch 00003: val_loss improved from 0.24085 to 0.22280, saving model to ./model/best003-0.2228.hdf5\n",
            "\n",
            "Epoch 00004: val_loss improved from 0.22280 to 0.20906, saving model to ./model/best004-0.2091.hdf5\n",
            "\n",
            "Epoch 00005: val_loss improved from 0.20906 to 0.20280, saving model to ./model/best005-0.2028.hdf5\n",
            "\n",
            "Epoch 00006: val_loss improved from 0.20280 to 0.19561, saving model to ./model/best006-0.1956.hdf5\n",
            "\n",
            "Epoch 00007: val_loss improved from 0.19561 to 0.19156, saving model to ./model/best007-0.1916.hdf5\n",
            "\n",
            "Epoch 00008: val_loss did not improve from 0.19156\n",
            "\n",
            "Epoch 00009: val_loss did not improve from 0.19156\n",
            "\n",
            "Epoch 00010: val_loss did not improve from 0.19156\n",
            "\n",
            "Epoch 00011: val_loss did not improve from 0.19156\n",
            "\n",
            "Epoch 00012: val_loss did not improve from 0.19156\n",
            "\n",
            "Epoch 00013: val_loss did not improve from 0.19156\n",
            "\n",
            "Epoch 00014: val_loss did not improve from 0.19156\n",
            "\n",
            "Epoch 00015: val_loss did not improve from 0.19156\n",
            "\n",
            "Epoch 00016: val_loss did not improve from 0.19156\n",
            "\n",
            "Epoch 00017: val_loss did not improve from 0.19156\n",
            "\n",
            "Epoch 00018: val_loss did not improve from 0.19156\n",
            "\n",
            "Epoch 00019: val_loss did not improve from 0.19156\n",
            "\n",
            "Epoch 00020: val_loss did not improve from 0.19156\n",
            "\n",
            "Epoch 00021: val_loss did not improve from 0.19156\n",
            "\n",
            "Epoch 00022: val_loss did not improve from 0.19156\n",
            "\n",
            "Epoch 00023: val_loss did not improve from 0.19156\n",
            "\n",
            "Epoch 00024: val_loss did not improve from 0.19156\n",
            "\n",
            "Epoch 00025: val_loss did not improve from 0.19156\n",
            "\n",
            "Epoch 00026: val_loss did not improve from 0.19156\n",
            "\n",
            "Epoch 00027: val_loss did not improve from 0.19156\n"
          ],
          "name": "stdout"
        }
      ]
    },
    {
      "cell_type": "code",
      "metadata": {
        "id": "q-JsVF8gPGZK"
      },
      "source": [
        "from tensorflow.keras.models import load_model\r\n",
        "best_model = load_model('./model/best007-0.1916.hdf5')"
      ],
      "execution_count": 16,
      "outputs": []
    },
    {
      "cell_type": "code",
      "metadata": {
        "colab": {
          "base_uri": "https://localhost:8080/"
        },
        "id": "wsyGgEdKPlZ-",
        "outputId": "da613613-7ae2-4ac9-f5e1-7c41949ef50a"
      },
      "source": [
        "acc = best_model.evaluate(X_test, Y_test, verbose=2)[1]\r\n",
        "print(f'\\n Test Accuracy: {acc:.4f}')"
      ],
      "execution_count": 17,
      "outputs": [
        {
          "output_type": "stream",
          "text": [
            "313/313 - 2s - loss: 0.2099 - accuracy: 0.9285\n",
            "\n",
            " Test Accuracy: 0.9285\n"
          ],
          "name": "stdout"
        }
      ]
    },
    {
      "cell_type": "code",
      "metadata": {
        "colab": {
          "base_uri": "https://localhost:8080/",
          "height": 388
        },
        "id": "nh5ZKFouPzVv",
        "outputId": "51ba456c-9eb4-4fce-aaaa-b72367530543"
      },
      "source": [
        "import matplotlib.pyplot as plt\r\n",
        "%matplotlib inline\r\n",
        "\r\n",
        "y_vloss = history.history['val_loss']\r\n",
        "y_loss = history.history['loss']\r\n",
        "\r\n",
        "x_len = np.arange(1, len(y_loss)+1)\r\n",
        "plt.figure(figsize=(8,6))\r\n",
        "plt.plot(x_len, y_vloss, marker='.', c=\"red\", label='Validationset_loss')\r\n",
        "plt.plot(x_len, y_loss, marker='.', c=\"blue\", label='Trainset_loss')\r\n",
        "\r\n",
        "plt.legend(loc='upper right')\r\n",
        "plt.grid()\r\n",
        "plt.xlabel('epoch')\r\n",
        "plt.ylabel('loss')\r\n",
        "plt.show()"
      ],
      "execution_count": 15,
      "outputs": [
        {
          "output_type": "display_data",
          "data": {
            "image/png": "[encoded data removed]",
            "text/plain": [
              "<Figure size 576x432 with 1 Axes>"
            ]
          },
          "metadata": {
            "tags": [],
            "needs_background": "light"
          }
        }
      ]
    },
    {
      "cell_type": "code",
      "metadata": {
        "id": "3KlmEKrIP8h4"
      },
      "source": [
        ""
      ],
      "execution_count": 15,
      "outputs": []
    }
  ]
}