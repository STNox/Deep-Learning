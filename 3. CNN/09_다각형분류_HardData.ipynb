{
  "nbformat": 4,
  "nbformat_minor": 0,
  "metadata": {
    "colab": {
      "name": "08_다각형분류_HardData.ipynb",
      "provenance": [],
      "collapsed_sections": [],
      "toc_visible": true
    },
    "kernelspec": {
      "name": "python3",
      "display_name": "Python 3"
    }
  },
  "cells": [
    {
      "cell_type": "markdown",
      "metadata": {
        "id": "qdhKUSdPcT7m"
      },
      "source": [
        "# 원, 삼각형, 사각형 구분하기"
      ]
    },
    {
      "cell_type": "markdown",
      "metadata": {
        "id": "z8WFUlt3cX9k"
      },
      "source": [
        "### 2. 어려운 테스트 문제를 기존 CNN 모델로 푸는 경우"
      ]
    },
    {
      "cell_type": "code",
      "metadata": {
        "id": "Go7-DhcPc608"
      },
      "source": [
        "import numpy as np\r\n",
        "import tensorflow as tf\r\n",
        "from tensorflow.keras.models import Sequential\r\n",
        "from tensorflow.keras.layers import Dense, Flatten, Conv2D, MaxPooling2D\r\n",
        "from tensorflow.keras.preprocessing.image import ImageDataGenerator"
      ],
      "execution_count": 1,
      "outputs": []
    },
    {
      "cell_type": "code",
      "metadata": {
        "id": "nvwNDj_Tdq9f"
      },
      "source": [
        "seed = 2021\r\n",
        "np.random.seed(seed)\r\n",
        "tf.random.set_seed(seed)"
      ],
      "execution_count": 2,
      "outputs": []
    },
    {
      "cell_type": "markdown",
      "metadata": {
        "id": "Z3ABcqYAd2ad"
      },
      "source": [
        "### 데이터 셋 생성하기"
      ]
    },
    {
      "cell_type": "code",
      "metadata": {
        "colab": {
          "base_uri": "https://localhost:8080/"
        },
        "id": "sHm9OHr4dvyF",
        "outputId": "37858f24-d6dd-45bb-8e27-9e00185ea6f9"
      },
      "source": [
        "train_datagen = ImageDataGenerator(rescale=1. / 255)\r\n",
        "train_generator = train_datagen.flow_from_directory(\r\n",
        "    'hard_handwriting_shape/train',\r\n",
        "    target_size=(24, 24),\r\n",
        "    batch_size=3,\r\n",
        "    class_mode='categorical'\r\n",
        ")"
      ],
      "execution_count": 3,
      "outputs": [
        {
          "output_type": "stream",
          "text": [
            "Found 45 images belonging to 3 classes.\n"
          ],
          "name": "stdout"
        }
      ]
    },
    {
      "cell_type": "code",
      "metadata": {
        "colab": {
          "base_uri": "https://localhost:8080/"
        },
        "id": "kazJ3w__egTN",
        "outputId": "0939a043-d196-4fd5-ce46-2f518d8ac0ba"
      },
      "source": [
        "test_datagen = ImageDataGenerator(rescale=1. / 255)\r\n",
        "test_generator = test_datagen.flow_from_directory(\r\n",
        "    'hard_handwriting_shape/test',\r\n",
        "    target_size=(24, 24),\r\n",
        "    batch_size=3,\r\n",
        "    class_mode='categorical'\r\n",
        ")"
      ],
      "execution_count": 4,
      "outputs": [
        {
          "output_type": "stream",
          "text": [
            "Found 15 images belonging to 3 classes.\n"
          ],
          "name": "stdout"
        }
      ]
    },
    {
      "cell_type": "markdown",
      "metadata": {
        "id": "PZ1doWDIfKIU"
      },
      "source": [
        "### 모델 정의/설정/학습"
      ]
    },
    {
      "cell_type": "code",
      "metadata": {
        "colab": {
          "base_uri": "https://localhost:8080/"
        },
        "id": "UynzMueue9jN",
        "outputId": "87045064-5573-4846-cce7-d785fc7e1cb3"
      },
      "source": [
        "model = Sequential([\r\n",
        "                    Conv2D(32, (3, 3), activation='relu', input_shape=(24, 24, 3)),\r\n",
        "                    Conv2D(64, (3, 3), activation='relu'),\r\n",
        "                    MaxPooling2D(pool_size=(2, 2)),\r\n",
        "                    Flatten(),\r\n",
        "                    Dense(128, activation='relu'),\r\n",
        "                    Dense(3, activation='softmax')\r\n",
        "])\r\n",
        "model.summary()"
      ],
      "execution_count": 5,
      "outputs": [
        {
          "output_type": "stream",
          "text": [
            "Model: \"sequential\"\n",
            "_________________________________________________________________\n",
            "Layer (type)                 Output Shape              Param #   \n",
            "=================================================================\n",
            "conv2d (Conv2D)              (None, 22, 22, 32)        896       \n",
            "_________________________________________________________________\n",
            "conv2d_1 (Conv2D)            (None, 20, 20, 64)        18496     \n",
            "_________________________________________________________________\n",
            "max_pooling2d (MaxPooling2D) (None, 10, 10, 64)        0         \n",
            "_________________________________________________________________\n",
            "flatten (Flatten)            (None, 6400)              0         \n",
            "_________________________________________________________________\n",
            "dense (Dense)                (None, 128)               819328    \n",
            "_________________________________________________________________\n",
            "dense_1 (Dense)              (None, 3)                 387       \n",
            "=================================================================\n",
            "Total params: 839,107\n",
            "Trainable params: 839,107\n",
            "Non-trainable params: 0\n",
            "_________________________________________________________________\n"
          ],
          "name": "stdout"
        }
      ]
    },
    {
      "cell_type": "code",
      "metadata": {
        "id": "0O6r018xftlv"
      },
      "source": [
        "model.compile(loss='categorical_crossentropy', optimizer='adam', metrics=['accuracy'])"
      ],
      "execution_count": 6,
      "outputs": []
    },
    {
      "cell_type": "markdown",
      "metadata": {
        "id": "95_vwPnygjC1"
      },
      "source": [
        "### 모델 학습\r\n",
        "- 첫번째 인자: 훈련데이터셋 제공하는 제너레이터\r\n",
        "- steps_per_epoch: 한 epoch에 사용한 스텝 수 지정\r\n",
        "- epochs: 학습 반복 횟수\r\n",
        "- validation_data: 검증데이터셋 제공하는 제너레이터\r\n",
        "- validation_steps: 한 epoch 종료 시마다 검증할 때 사용되는 검증 스텝 수 지정"
      ]
    },
    {
      "cell_type": "code",
      "metadata": {
        "colab": {
          "base_uri": "https://localhost:8080/"
        },
        "id": "5vPEjpiyghUW",
        "outputId": "89e64e6c-d486-4ef1-bd6e-782654ba45e2"
      },
      "source": [
        "model.fit_generator(\r\n",
        "    train_generator,\r\n",
        "    steps_per_epoch=15,\r\n",
        "    epochs=200,\r\n",
        "    validation_data=test_generator,\r\n",
        "    validation_steps=5\r\n",
        ")"
      ],
      "execution_count": 7,
      "outputs": [
        {
          "output_type": "stream",
          "text": [
            "/usr/local/lib/python3.6/dist-packages/tensorflow/python/keras/engine/training.py:1844: UserWarning: `Model.fit_generator` is deprecated and will be removed in a future version. Please use `Model.fit`, which supports generators.\n",
            "  warnings.warn('`Model.fit_generator` is deprecated and '\n"
          ],
          "name": "stderr"
        },
        {
          "output_type": "stream",
          "text": [
            "Epoch 1/200\n",
            "15/15 [==============================] - 1s 49ms/step - loss: 1.3249 - accuracy: 0.5096 - val_loss: 1.1289 - val_accuracy: 0.4000\n",
            "Epoch 2/200\n",
            "15/15 [==============================] - 0s 21ms/step - loss: 0.6364 - accuracy: 0.8130 - val_loss: 1.5501 - val_accuracy: 0.4000\n",
            "Epoch 3/200\n",
            "15/15 [==============================] - 0s 21ms/step - loss: 0.0933 - accuracy: 1.0000 - val_loss: 4.1210 - val_accuracy: 0.3333\n",
            "Epoch 4/200\n",
            "15/15 [==============================] - 0s 21ms/step - loss: 0.0056 - accuracy: 1.0000 - val_loss: 5.1789 - val_accuracy: 0.3333\n",
            "Epoch 5/200\n",
            "15/15 [==============================] - 0s 20ms/step - loss: 0.0013 - accuracy: 1.0000 - val_loss: 5.5417 - val_accuracy: 0.3333\n",
            "Epoch 6/200\n",
            "15/15 [==============================] - 0s 22ms/step - loss: 4.3681e-04 - accuracy: 1.0000 - val_loss: 5.7115 - val_accuracy: 0.3333\n",
            "Epoch 7/200\n",
            "15/15 [==============================] - 0s 21ms/step - loss: 2.2603e-04 - accuracy: 1.0000 - val_loss: 5.8116 - val_accuracy: 0.3333\n",
            "Epoch 8/200\n",
            "15/15 [==============================] - 0s 21ms/step - loss: 1.3214e-04 - accuracy: 1.0000 - val_loss: 5.9431 - val_accuracy: 0.3333\n",
            "Epoch 9/200\n",
            "15/15 [==============================] - 0s 21ms/step - loss: 1.6728e-04 - accuracy: 1.0000 - val_loss: 6.0529 - val_accuracy: 0.3333\n",
            "Epoch 10/200\n",
            "15/15 [==============================] - 0s 22ms/step - loss: 1.6583e-04 - accuracy: 1.0000 - val_loss: 6.1351 - val_accuracy: 0.3333\n",
            "Epoch 11/200\n",
            "15/15 [==============================] - 0s 22ms/step - loss: 7.0622e-05 - accuracy: 1.0000 - val_loss: 6.2041 - val_accuracy: 0.3333\n",
            "Epoch 12/200\n",
            "15/15 [==============================] - 0s 22ms/step - loss: 1.0345e-04 - accuracy: 1.0000 - val_loss: 6.3048 - val_accuracy: 0.3333\n",
            "Epoch 13/200\n",
            "15/15 [==============================] - 0s 22ms/step - loss: 4.5647e-05 - accuracy: 1.0000 - val_loss: 6.3394 - val_accuracy: 0.3333\n",
            "Epoch 14/200\n",
            "15/15 [==============================] - 0s 21ms/step - loss: 7.1441e-05 - accuracy: 1.0000 - val_loss: 6.3776 - val_accuracy: 0.3333\n",
            "Epoch 15/200\n",
            "15/15 [==============================] - 0s 22ms/step - loss: 3.1387e-05 - accuracy: 1.0000 - val_loss: 6.3903 - val_accuracy: 0.3333\n",
            "Epoch 16/200\n",
            "15/15 [==============================] - 0s 21ms/step - loss: 3.9186e-05 - accuracy: 1.0000 - val_loss: 6.3976 - val_accuracy: 0.3333\n",
            "Epoch 17/200\n",
            "15/15 [==============================] - 0s 22ms/step - loss: 2.8279e-05 - accuracy: 1.0000 - val_loss: 6.3938 - val_accuracy: 0.3333\n",
            "Epoch 18/200\n",
            "15/15 [==============================] - 0s 21ms/step - loss: 1.8549e-05 - accuracy: 1.0000 - val_loss: 6.3883 - val_accuracy: 0.3333\n",
            "Epoch 19/200\n",
            "15/15 [==============================] - 0s 21ms/step - loss: 1.8257e-05 - accuracy: 1.0000 - val_loss: 6.3783 - val_accuracy: 0.3333\n",
            "Epoch 20/200\n",
            "15/15 [==============================] - 0s 21ms/step - loss: 1.2936e-05 - accuracy: 1.0000 - val_loss: 6.3798 - val_accuracy: 0.3333\n",
            "Epoch 21/200\n",
            "15/15 [==============================] - 0s 22ms/step - loss: 1.3160e-05 - accuracy: 1.0000 - val_loss: 6.3732 - val_accuracy: 0.3333\n",
            "Epoch 22/200\n",
            "15/15 [==============================] - 0s 23ms/step - loss: 8.4457e-06 - accuracy: 1.0000 - val_loss: 6.3719 - val_accuracy: 0.3333\n",
            "Epoch 23/200\n",
            "15/15 [==============================] - 0s 23ms/step - loss: 9.7383e-06 - accuracy: 1.0000 - val_loss: 6.3780 - val_accuracy: 0.4000\n",
            "Epoch 24/200\n",
            "15/15 [==============================] - 0s 21ms/step - loss: 6.1091e-06 - accuracy: 1.0000 - val_loss: 6.3836 - val_accuracy: 0.4000\n",
            "Epoch 25/200\n",
            "15/15 [==============================] - 0s 21ms/step - loss: 8.9085e-06 - accuracy: 1.0000 - val_loss: 6.3873 - val_accuracy: 0.4000\n",
            "Epoch 26/200\n",
            "15/15 [==============================] - 0s 22ms/step - loss: 7.4859e-06 - accuracy: 1.0000 - val_loss: 6.3890 - val_accuracy: 0.4000\n",
            "Epoch 27/200\n",
            "15/15 [==============================] - 0s 23ms/step - loss: 8.0390e-06 - accuracy: 1.0000 - val_loss: 6.3928 - val_accuracy: 0.4000\n",
            "Epoch 28/200\n",
            "15/15 [==============================] - 0s 30ms/step - loss: 4.1303e-06 - accuracy: 1.0000 - val_loss: 6.4014 - val_accuracy: 0.4000\n",
            "Epoch 29/200\n",
            "15/15 [==============================] - 0s 21ms/step - loss: 3.3126e-06 - accuracy: 1.0000 - val_loss: 6.4102 - val_accuracy: 0.4000\n",
            "Epoch 30/200\n",
            "15/15 [==============================] - 0s 22ms/step - loss: 3.4234e-06 - accuracy: 1.0000 - val_loss: 6.4234 - val_accuracy: 0.4000\n",
            "Epoch 31/200\n",
            "15/15 [==============================] - 0s 30ms/step - loss: 4.5213e-06 - accuracy: 1.0000 - val_loss: 6.4201 - val_accuracy: 0.4000\n",
            "Epoch 32/200\n",
            "15/15 [==============================] - 0s 31ms/step - loss: 4.0466e-06 - accuracy: 1.0000 - val_loss: 6.4298 - val_accuracy: 0.4000\n",
            "Epoch 33/200\n",
            "15/15 [==============================] - 0s 31ms/step - loss: 2.0058e-06 - accuracy: 1.0000 - val_loss: 6.4421 - val_accuracy: 0.4000\n",
            "Epoch 34/200\n",
            "15/15 [==============================] - 0s 29ms/step - loss: 2.6508e-06 - accuracy: 1.0000 - val_loss: 6.4622 - val_accuracy: 0.4000\n",
            "Epoch 35/200\n",
            "15/15 [==============================] - 0s 23ms/step - loss: 2.9228e-06 - accuracy: 1.0000 - val_loss: 6.4770 - val_accuracy: 0.4000\n",
            "Epoch 36/200\n",
            "15/15 [==============================] - 0s 22ms/step - loss: 2.1186e-06 - accuracy: 1.0000 - val_loss: 6.4978 - val_accuracy: 0.4000\n",
            "Epoch 37/200\n",
            "15/15 [==============================] - 0s 21ms/step - loss: 2.5981e-06 - accuracy: 1.0000 - val_loss: 6.5094 - val_accuracy: 0.4000\n",
            "Epoch 38/200\n",
            "15/15 [==============================] - 0s 22ms/step - loss: 2.3973e-06 - accuracy: 1.0000 - val_loss: 6.5252 - val_accuracy: 0.4000\n",
            "Epoch 39/200\n",
            "15/15 [==============================] - 0s 22ms/step - loss: 1.5694e-06 - accuracy: 1.0000 - val_loss: 6.5484 - val_accuracy: 0.4000\n",
            "Epoch 40/200\n",
            "15/15 [==============================] - 0s 22ms/step - loss: 2.1131e-06 - accuracy: 1.0000 - val_loss: 6.5638 - val_accuracy: 0.4000\n",
            "Epoch 41/200\n",
            "15/15 [==============================] - 0s 22ms/step - loss: 1.5047e-06 - accuracy: 1.0000 - val_loss: 6.5783 - val_accuracy: 0.4000\n",
            "Epoch 42/200\n",
            "15/15 [==============================] - 0s 22ms/step - loss: 1.8115e-06 - accuracy: 1.0000 - val_loss: 6.5871 - val_accuracy: 0.4000\n",
            "Epoch 43/200\n",
            "15/15 [==============================] - 0s 21ms/step - loss: 1.3577e-06 - accuracy: 1.0000 - val_loss: 6.6142 - val_accuracy: 0.4000\n",
            "Epoch 44/200\n",
            "15/15 [==============================] - 0s 21ms/step - loss: 1.2096e-06 - accuracy: 1.0000 - val_loss: 6.6339 - val_accuracy: 0.4000\n",
            "Epoch 45/200\n",
            "15/15 [==============================] - 0s 21ms/step - loss: 1.3691e-06 - accuracy: 1.0000 - val_loss: 6.6493 - val_accuracy: 0.4000\n",
            "Epoch 46/200\n",
            "15/15 [==============================] - 0s 22ms/step - loss: 1.4734e-06 - accuracy: 1.0000 - val_loss: 6.6632 - val_accuracy: 0.4000\n",
            "Epoch 47/200\n",
            "15/15 [==============================] - 0s 22ms/step - loss: 1.3163e-06 - accuracy: 1.0000 - val_loss: 6.6819 - val_accuracy: 0.4000\n",
            "Epoch 48/200\n",
            "15/15 [==============================] - 0s 23ms/step - loss: 1.2198e-06 - accuracy: 1.0000 - val_loss: 6.6959 - val_accuracy: 0.4000\n",
            "Epoch 49/200\n",
            "15/15 [==============================] - 0s 22ms/step - loss: 1.0424e-06 - accuracy: 1.0000 - val_loss: 6.7152 - val_accuracy: 0.4000\n",
            "Epoch 50/200\n",
            "15/15 [==============================] - 0s 22ms/step - loss: 1.1301e-06 - accuracy: 1.0000 - val_loss: 6.7292 - val_accuracy: 0.4000\n",
            "Epoch 51/200\n",
            "15/15 [==============================] - 0s 24ms/step - loss: 7.9004e-07 - accuracy: 1.0000 - val_loss: 6.7528 - val_accuracy: 0.4000\n",
            "Epoch 52/200\n",
            "15/15 [==============================] - 0s 21ms/step - loss: 7.4714e-07 - accuracy: 1.0000 - val_loss: 6.7705 - val_accuracy: 0.4000\n",
            "Epoch 53/200\n",
            "15/15 [==============================] - 0s 21ms/step - loss: 7.7735e-07 - accuracy: 1.0000 - val_loss: 6.7866 - val_accuracy: 0.4000\n",
            "Epoch 54/200\n",
            "15/15 [==============================] - 0s 22ms/step - loss: 5.8434e-07 - accuracy: 1.0000 - val_loss: 6.8037 - val_accuracy: 0.4000\n",
            "Epoch 55/200\n",
            "15/15 [==============================] - 0s 22ms/step - loss: 9.9722e-07 - accuracy: 1.0000 - val_loss: 6.8151 - val_accuracy: 0.4000\n",
            "Epoch 56/200\n",
            "15/15 [==============================] - 0s 23ms/step - loss: 7.5096e-07 - accuracy: 1.0000 - val_loss: 6.8320 - val_accuracy: 0.4000\n",
            "Epoch 57/200\n",
            "15/15 [==============================] - 0s 21ms/step - loss: 7.2153e-07 - accuracy: 1.0000 - val_loss: 6.8567 - val_accuracy: 0.4000\n",
            "Epoch 58/200\n",
            "15/15 [==============================] - 0s 21ms/step - loss: 4.7305e-07 - accuracy: 1.0000 - val_loss: 6.8730 - val_accuracy: 0.4000\n",
            "Epoch 59/200\n",
            "15/15 [==============================] - 0s 22ms/step - loss: 8.7266e-07 - accuracy: 1.0000 - val_loss: 6.8843 - val_accuracy: 0.4000\n",
            "Epoch 60/200\n",
            "15/15 [==============================] - 0s 22ms/step - loss: 7.2426e-07 - accuracy: 1.0000 - val_loss: 6.8978 - val_accuracy: 0.4000\n",
            "Epoch 61/200\n",
            "15/15 [==============================] - 0s 22ms/step - loss: 8.6201e-07 - accuracy: 1.0000 - val_loss: 6.9135 - val_accuracy: 0.4000\n",
            "Epoch 62/200\n",
            "15/15 [==============================] - 0s 21ms/step - loss: 5.1283e-07 - accuracy: 1.0000 - val_loss: 6.9319 - val_accuracy: 0.4000\n",
            "Epoch 63/200\n",
            "15/15 [==============================] - 0s 22ms/step - loss: 7.9746e-07 - accuracy: 1.0000 - val_loss: 6.9436 - val_accuracy: 0.4000\n",
            "Epoch 64/200\n",
            "15/15 [==============================] - 0s 23ms/step - loss: 9.1575e-07 - accuracy: 1.0000 - val_loss: 6.9549 - val_accuracy: 0.4000\n",
            "Epoch 65/200\n",
            "15/15 [==============================] - 0s 24ms/step - loss: 5.8523e-07 - accuracy: 1.0000 - val_loss: 6.9697 - val_accuracy: 0.4000\n",
            "Epoch 66/200\n",
            "15/15 [==============================] - 0s 22ms/step - loss: 4.7098e-07 - accuracy: 1.0000 - val_loss: 6.9834 - val_accuracy: 0.4000\n",
            "Epoch 67/200\n",
            "15/15 [==============================] - 0s 22ms/step - loss: 5.6878e-07 - accuracy: 1.0000 - val_loss: 7.0018 - val_accuracy: 0.4000\n",
            "Epoch 68/200\n",
            "15/15 [==============================] - 0s 23ms/step - loss: 4.3052e-07 - accuracy: 1.0000 - val_loss: 7.0125 - val_accuracy: 0.4000\n",
            "Epoch 69/200\n",
            "15/15 [==============================] - 0s 21ms/step - loss: 3.4856e-07 - accuracy: 1.0000 - val_loss: 7.0254 - val_accuracy: 0.4000\n",
            "Epoch 70/200\n",
            "15/15 [==============================] - 0s 28ms/step - loss: 4.9471e-07 - accuracy: 1.0000 - val_loss: 7.0376 - val_accuracy: 0.4000\n",
            "Epoch 71/200\n",
            "15/15 [==============================] - 0s 31ms/step - loss: 4.6029e-07 - accuracy: 1.0000 - val_loss: 7.0501 - val_accuracy: 0.4000\n",
            "Epoch 72/200\n",
            "15/15 [==============================] - 0s 25ms/step - loss: 5.8368e-07 - accuracy: 1.0000 - val_loss: 7.0606 - val_accuracy: 0.4000\n",
            "Epoch 73/200\n",
            "15/15 [==============================] - 0s 22ms/step - loss: 4.6387e-07 - accuracy: 1.0000 - val_loss: 7.0718 - val_accuracy: 0.4000\n",
            "Epoch 74/200\n",
            "15/15 [==============================] - 0s 21ms/step - loss: 4.2499e-07 - accuracy: 1.0000 - val_loss: 7.0796 - val_accuracy: 0.4000\n",
            "Epoch 75/200\n",
            "15/15 [==============================] - 0s 20ms/step - loss: 4.0533e-07 - accuracy: 1.0000 - val_loss: 7.0953 - val_accuracy: 0.4000\n",
            "Epoch 76/200\n",
            "15/15 [==============================] - 0s 30ms/step - loss: 5.5571e-07 - accuracy: 1.0000 - val_loss: 7.1077 - val_accuracy: 0.4000\n",
            "Epoch 77/200\n",
            "15/15 [==============================] - 0s 22ms/step - loss: 3.9136e-07 - accuracy: 1.0000 - val_loss: 7.1231 - val_accuracy: 0.4000\n",
            "Epoch 78/200\n",
            "15/15 [==============================] - 0s 21ms/step - loss: 4.8062e-07 - accuracy: 1.0000 - val_loss: 7.1338 - val_accuracy: 0.4000\n",
            "Epoch 79/200\n",
            "15/15 [==============================] - 0s 24ms/step - loss: 3.0826e-07 - accuracy: 1.0000 - val_loss: 7.1469 - val_accuracy: 0.4000\n",
            "Epoch 80/200\n",
            "15/15 [==============================] - 0s 22ms/step - loss: 2.8117e-07 - accuracy: 1.0000 - val_loss: 7.1582 - val_accuracy: 0.4000\n",
            "Epoch 81/200\n",
            "15/15 [==============================] - 0s 22ms/step - loss: 3.8865e-07 - accuracy: 1.0000 - val_loss: 7.1663 - val_accuracy: 0.4000\n",
            "Epoch 82/200\n",
            "15/15 [==============================] - 0s 22ms/step - loss: 4.3296e-07 - accuracy: 1.0000 - val_loss: 7.1761 - val_accuracy: 0.4000\n",
            "Epoch 83/200\n",
            "15/15 [==============================] - 0s 24ms/step - loss: 2.6337e-07 - accuracy: 1.0000 - val_loss: 7.1919 - val_accuracy: 0.4000\n",
            "Epoch 84/200\n",
            "15/15 [==============================] - 0s 22ms/step - loss: 2.9941e-07 - accuracy: 1.0000 - val_loss: 7.1985 - val_accuracy: 0.4000\n",
            "Epoch 85/200\n",
            "15/15 [==============================] - 0s 23ms/step - loss: 2.2414e-07 - accuracy: 1.0000 - val_loss: 7.2123 - val_accuracy: 0.4000\n",
            "Epoch 86/200\n",
            "15/15 [==============================] - 0s 24ms/step - loss: 2.9767e-07 - accuracy: 1.0000 - val_loss: 7.2229 - val_accuracy: 0.4000\n",
            "Epoch 87/200\n",
            "15/15 [==============================] - 0s 29ms/step - loss: 2.9096e-07 - accuracy: 1.0000 - val_loss: 7.2345 - val_accuracy: 0.4000\n",
            "Epoch 88/200\n",
            "15/15 [==============================] - 0s 29ms/step - loss: 2.7505e-07 - accuracy: 1.0000 - val_loss: 7.2430 - val_accuracy: 0.4000\n",
            "Epoch 89/200\n",
            "15/15 [==============================] - 0s 32ms/step - loss: 3.1426e-07 - accuracy: 1.0000 - val_loss: 7.2510 - val_accuracy: 0.4000\n",
            "Epoch 90/200\n",
            "15/15 [==============================] - 0s 29ms/step - loss: 2.4850e-07 - accuracy: 1.0000 - val_loss: 7.2571 - val_accuracy: 0.4000\n",
            "Epoch 91/200\n",
            "15/15 [==============================] - 0s 24ms/step - loss: 2.7598e-07 - accuracy: 1.0000 - val_loss: 7.2686 - val_accuracy: 0.4000\n",
            "Epoch 92/200\n",
            "15/15 [==============================] - 0s 22ms/step - loss: 2.4610e-07 - accuracy: 1.0000 - val_loss: 7.2798 - val_accuracy: 0.4000\n",
            "Epoch 93/200\n",
            "15/15 [==============================] - 0s 22ms/step - loss: 2.8329e-07 - accuracy: 1.0000 - val_loss: 7.2865 - val_accuracy: 0.4000\n",
            "Epoch 94/200\n",
            "15/15 [==============================] - 0s 32ms/step - loss: 3.5665e-07 - accuracy: 1.0000 - val_loss: 7.2964 - val_accuracy: 0.4000\n",
            "Epoch 95/200\n",
            "15/15 [==============================] - 0s 29ms/step - loss: 3.1146e-07 - accuracy: 1.0000 - val_loss: 7.3078 - val_accuracy: 0.4000\n",
            "Epoch 96/200\n",
            "15/15 [==============================] - 0s 31ms/step - loss: 1.9399e-07 - accuracy: 1.0000 - val_loss: 7.3200 - val_accuracy: 0.4000\n",
            "Epoch 97/200\n",
            "15/15 [==============================] - 0s 30ms/step - loss: 2.5358e-07 - accuracy: 1.0000 - val_loss: 7.3224 - val_accuracy: 0.4000\n",
            "Epoch 98/200\n",
            "15/15 [==============================] - 0s 30ms/step - loss: 2.3039e-07 - accuracy: 1.0000 - val_loss: 7.3324 - val_accuracy: 0.4000\n",
            "Epoch 99/200\n",
            "15/15 [==============================] - 0s 30ms/step - loss: 2.0003e-07 - accuracy: 1.0000 - val_loss: 7.3459 - val_accuracy: 0.4000\n",
            "Epoch 100/200\n",
            "15/15 [==============================] - 0s 24ms/step - loss: 1.8161e-07 - accuracy: 1.0000 - val_loss: 7.3531 - val_accuracy: 0.4000\n",
            "Epoch 101/200\n",
            "15/15 [==============================] - 0s 22ms/step - loss: 2.5703e-07 - accuracy: 1.0000 - val_loss: 7.3617 - val_accuracy: 0.4000\n",
            "Epoch 102/200\n",
            "15/15 [==============================] - 0s 23ms/step - loss: 1.7686e-07 - accuracy: 1.0000 - val_loss: 7.3729 - val_accuracy: 0.4000\n",
            "Epoch 103/200\n",
            "15/15 [==============================] - 0s 23ms/step - loss: 1.7714e-07 - accuracy: 1.0000 - val_loss: 7.3801 - val_accuracy: 0.4000\n",
            "Epoch 104/200\n",
            "15/15 [==============================] - 0s 24ms/step - loss: 1.5356e-07 - accuracy: 1.0000 - val_loss: 7.3911 - val_accuracy: 0.4000\n",
            "Epoch 105/200\n",
            "15/15 [==============================] - 0s 22ms/step - loss: 1.5240e-07 - accuracy: 1.0000 - val_loss: 7.3984 - val_accuracy: 0.4000\n",
            "Epoch 106/200\n",
            "15/15 [==============================] - 0s 22ms/step - loss: 1.5375e-07 - accuracy: 1.0000 - val_loss: 7.4092 - val_accuracy: 0.4000\n",
            "Epoch 107/200\n",
            "15/15 [==============================] - 0s 23ms/step - loss: 2.5355e-07 - accuracy: 1.0000 - val_loss: 7.4162 - val_accuracy: 0.4000\n",
            "Epoch 108/200\n",
            "15/15 [==============================] - 0s 22ms/step - loss: 1.8809e-07 - accuracy: 1.0000 - val_loss: 7.4233 - val_accuracy: 0.4000\n",
            "Epoch 109/200\n",
            "15/15 [==============================] - 0s 23ms/step - loss: 1.6090e-07 - accuracy: 1.0000 - val_loss: 7.4339 - val_accuracy: 0.4000\n",
            "Epoch 110/200\n",
            "15/15 [==============================] - 0s 22ms/step - loss: 1.4073e-07 - accuracy: 1.0000 - val_loss: 7.4427 - val_accuracy: 0.4000\n",
            "Epoch 111/200\n",
            "15/15 [==============================] - 0s 22ms/step - loss: 1.1192e-07 - accuracy: 1.0000 - val_loss: 7.4510 - val_accuracy: 0.4000\n",
            "Epoch 112/200\n",
            "15/15 [==============================] - 0s 23ms/step - loss: 2.0111e-07 - accuracy: 1.0000 - val_loss: 7.4581 - val_accuracy: 0.4000\n",
            "Epoch 113/200\n",
            "15/15 [==============================] - 0s 22ms/step - loss: 1.1315e-07 - accuracy: 1.0000 - val_loss: 7.4691 - val_accuracy: 0.4000\n",
            "Epoch 114/200\n",
            "15/15 [==============================] - 0s 25ms/step - loss: 1.1131e-07 - accuracy: 1.0000 - val_loss: 7.4802 - val_accuracy: 0.4000\n",
            "Epoch 115/200\n",
            "15/15 [==============================] - 0s 31ms/step - loss: 1.1645e-07 - accuracy: 1.0000 - val_loss: 7.4861 - val_accuracy: 0.4000\n",
            "Epoch 116/200\n",
            "15/15 [==============================] - 0s 31ms/step - loss: 1.5267e-07 - accuracy: 1.0000 - val_loss: 7.4945 - val_accuracy: 0.4000\n",
            "Epoch 117/200\n",
            "15/15 [==============================] - 1s 42ms/step - loss: 1.5685e-07 - accuracy: 1.0000 - val_loss: 7.5046 - val_accuracy: 0.4000\n",
            "Epoch 118/200\n",
            "15/15 [==============================] - 0s 29ms/step - loss: 1.2297e-07 - accuracy: 1.0000 - val_loss: 7.5143 - val_accuracy: 0.4000\n",
            "Epoch 119/200\n",
            "15/15 [==============================] - 0s 31ms/step - loss: 1.4850e-07 - accuracy: 1.0000 - val_loss: 7.5218 - val_accuracy: 0.4000\n",
            "Epoch 120/200\n",
            "15/15 [==============================] - 0s 27ms/step - loss: 1.3957e-07 - accuracy: 1.0000 - val_loss: 7.5323 - val_accuracy: 0.4000\n",
            "Epoch 121/200\n",
            "15/15 [==============================] - 0s 22ms/step - loss: 1.5774e-07 - accuracy: 1.0000 - val_loss: 7.5409 - val_accuracy: 0.4000\n",
            "Epoch 122/200\n",
            "15/15 [==============================] - 0s 22ms/step - loss: 1.1413e-07 - accuracy: 1.0000 - val_loss: 7.5483 - val_accuracy: 0.4000\n",
            "Epoch 123/200\n",
            "15/15 [==============================] - 0s 21ms/step - loss: 1.4384e-07 - accuracy: 1.0000 - val_loss: 7.5571 - val_accuracy: 0.4000\n",
            "Epoch 124/200\n",
            "15/15 [==============================] - 0s 23ms/step - loss: 9.0677e-08 - accuracy: 1.0000 - val_loss: 7.5631 - val_accuracy: 0.4000\n",
            "Epoch 125/200\n",
            "15/15 [==============================] - 0s 22ms/step - loss: 1.1979e-07 - accuracy: 1.0000 - val_loss: 7.5714 - val_accuracy: 0.4000\n",
            "Epoch 126/200\n",
            "15/15 [==============================] - 0s 22ms/step - loss: 1.2705e-07 - accuracy: 1.0000 - val_loss: 7.5803 - val_accuracy: 0.4000\n",
            "Epoch 127/200\n",
            "15/15 [==============================] - 0s 23ms/step - loss: 1.6556e-07 - accuracy: 1.0000 - val_loss: 7.5887 - val_accuracy: 0.4000\n",
            "Epoch 128/200\n",
            "15/15 [==============================] - 0s 22ms/step - loss: 1.2841e-07 - accuracy: 1.0000 - val_loss: 7.5964 - val_accuracy: 0.4000\n",
            "Epoch 129/200\n",
            "15/15 [==============================] - 0s 22ms/step - loss: 7.0077e-08 - accuracy: 1.0000 - val_loss: 7.6036 - val_accuracy: 0.4000\n",
            "Epoch 130/200\n",
            "15/15 [==============================] - 0s 23ms/step - loss: 1.2997e-07 - accuracy: 1.0000 - val_loss: 7.6091 - val_accuracy: 0.4000\n",
            "Epoch 131/200\n",
            "15/15 [==============================] - 0s 24ms/step - loss: 1.1029e-07 - accuracy: 1.0000 - val_loss: 7.6165 - val_accuracy: 0.4000\n",
            "Epoch 132/200\n",
            "15/15 [==============================] - 0s 22ms/step - loss: 1.0255e-07 - accuracy: 1.0000 - val_loss: 7.6227 - val_accuracy: 0.4000\n",
            "Epoch 133/200\n",
            "15/15 [==============================] - 0s 22ms/step - loss: 1.0045e-07 - accuracy: 1.0000 - val_loss: 7.6307 - val_accuracy: 0.4000\n",
            "Epoch 134/200\n",
            "15/15 [==============================] - 0s 22ms/step - loss: 1.2035e-07 - accuracy: 1.0000 - val_loss: 7.6359 - val_accuracy: 0.4000\n",
            "Epoch 135/200\n",
            "15/15 [==============================] - 0s 23ms/step - loss: 8.6191e-08 - accuracy: 1.0000 - val_loss: 7.6428 - val_accuracy: 0.4000\n",
            "Epoch 136/200\n",
            "15/15 [==============================] - 0s 22ms/step - loss: 1.2552e-07 - accuracy: 1.0000 - val_loss: 7.6483 - val_accuracy: 0.4000\n",
            "Epoch 137/200\n",
            "15/15 [==============================] - 0s 23ms/step - loss: 1.3620e-07 - accuracy: 1.0000 - val_loss: 7.6537 - val_accuracy: 0.4000\n",
            "Epoch 138/200\n",
            "15/15 [==============================] - 0s 22ms/step - loss: 6.0165e-08 - accuracy: 1.0000 - val_loss: 7.6605 - val_accuracy: 0.4000\n",
            "Epoch 139/200\n",
            "15/15 [==============================] - 0s 23ms/step - loss: 9.9676e-08 - accuracy: 1.0000 - val_loss: 7.6633 - val_accuracy: 0.4000\n",
            "Epoch 140/200\n",
            "15/15 [==============================] - 0s 23ms/step - loss: 6.2671e-08 - accuracy: 1.0000 - val_loss: 7.6692 - val_accuracy: 0.4000\n",
            "Epoch 141/200\n",
            "15/15 [==============================] - 0s 23ms/step - loss: 8.2991e-08 - accuracy: 1.0000 - val_loss: 7.6757 - val_accuracy: 0.4000\n",
            "Epoch 142/200\n",
            "15/15 [==============================] - 0s 21ms/step - loss: 7.8853e-08 - accuracy: 1.0000 - val_loss: 7.6793 - val_accuracy: 0.4000\n",
            "Epoch 143/200\n",
            "15/15 [==============================] - 0s 22ms/step - loss: 1.0364e-07 - accuracy: 1.0000 - val_loss: 7.6856 - val_accuracy: 0.4000\n",
            "Epoch 144/200\n",
            "15/15 [==============================] - 0s 23ms/step - loss: 6.4296e-08 - accuracy: 1.0000 - val_loss: 7.6903 - val_accuracy: 0.4000\n",
            "Epoch 145/200\n",
            "15/15 [==============================] - 0s 24ms/step - loss: 7.1058e-08 - accuracy: 1.0000 - val_loss: 7.6939 - val_accuracy: 0.4000\n",
            "Epoch 146/200\n",
            "15/15 [==============================] - 0s 23ms/step - loss: 1.0779e-07 - accuracy: 1.0000 - val_loss: 7.6986 - val_accuracy: 0.4000\n",
            "Epoch 147/200\n",
            "15/15 [==============================] - 0s 24ms/step - loss: 9.9887e-08 - accuracy: 1.0000 - val_loss: 7.7039 - val_accuracy: 0.4000\n",
            "Epoch 148/200\n",
            "15/15 [==============================] - 0s 24ms/step - loss: 7.9034e-08 - accuracy: 1.0000 - val_loss: 7.7091 - val_accuracy: 0.4000\n",
            "Epoch 149/200\n",
            "15/15 [==============================] - 0s 23ms/step - loss: 9.5642e-08 - accuracy: 1.0000 - val_loss: 7.7127 - val_accuracy: 0.4000\n",
            "Epoch 150/200\n",
            "15/15 [==============================] - 0s 25ms/step - loss: 7.5411e-08 - accuracy: 1.0000 - val_loss: 7.7156 - val_accuracy: 0.4000\n",
            "Epoch 151/200\n",
            "15/15 [==============================] - 0s 23ms/step - loss: 8.3391e-08 - accuracy: 1.0000 - val_loss: 7.7231 - val_accuracy: 0.4000\n",
            "Epoch 152/200\n",
            "15/15 [==============================] - 0s 23ms/step - loss: 8.5850e-08 - accuracy: 1.0000 - val_loss: 7.7266 - val_accuracy: 0.4000\n",
            "Epoch 153/200\n",
            "15/15 [==============================] - 0s 23ms/step - loss: 7.0135e-08 - accuracy: 1.0000 - val_loss: 7.7320 - val_accuracy: 0.4000\n",
            "Epoch 154/200\n",
            "15/15 [==============================] - 0s 29ms/step - loss: 5.0818e-08 - accuracy: 1.0000 - val_loss: 7.7393 - val_accuracy: 0.4000\n",
            "Epoch 155/200\n",
            "15/15 [==============================] - 0s 31ms/step - loss: 6.3183e-08 - accuracy: 1.0000 - val_loss: 7.7428 - val_accuracy: 0.4000\n",
            "Epoch 156/200\n",
            "15/15 [==============================] - 0s 31ms/step - loss: 8.2670e-08 - accuracy: 1.0000 - val_loss: 7.7491 - val_accuracy: 0.4000\n",
            "Epoch 157/200\n",
            "15/15 [==============================] - 0s 31ms/step - loss: 6.4877e-08 - accuracy: 1.0000 - val_loss: 7.7535 - val_accuracy: 0.4000\n",
            "Epoch 158/200\n",
            "15/15 [==============================] - 1s 34ms/step - loss: 9.2264e-08 - accuracy: 1.0000 - val_loss: 7.7589 - val_accuracy: 0.4000\n",
            "Epoch 159/200\n",
            "15/15 [==============================] - 0s 31ms/step - loss: 6.3821e-08 - accuracy: 1.0000 - val_loss: 7.7648 - val_accuracy: 0.4000\n",
            "Epoch 160/200\n",
            "15/15 [==============================] - 0s 30ms/step - loss: 6.8344e-08 - accuracy: 1.0000 - val_loss: 7.7687 - val_accuracy: 0.4000\n",
            "Epoch 161/200\n",
            "15/15 [==============================] - 0s 30ms/step - loss: 7.5412e-08 - accuracy: 1.0000 - val_loss: 7.7746 - val_accuracy: 0.4000\n",
            "Epoch 162/200\n",
            "15/15 [==============================] - 0s 31ms/step - loss: 5.4974e-08 - accuracy: 1.0000 - val_loss: 7.7797 - val_accuracy: 0.4000\n",
            "Epoch 163/200\n",
            "15/15 [==============================] - 0s 31ms/step - loss: 9.1515e-08 - accuracy: 1.0000 - val_loss: 7.7827 - val_accuracy: 0.4000\n",
            "Epoch 164/200\n",
            "15/15 [==============================] - 0s 31ms/step - loss: 1.1167e-07 - accuracy: 1.0000 - val_loss: 7.7898 - val_accuracy: 0.4000\n",
            "Epoch 165/200\n",
            "15/15 [==============================] - 0s 33ms/step - loss: 6.5346e-08 - accuracy: 1.0000 - val_loss: 7.7957 - val_accuracy: 0.4000\n",
            "Epoch 166/200\n",
            "15/15 [==============================] - 0s 33ms/step - loss: 6.1553e-08 - accuracy: 1.0000 - val_loss: 7.7992 - val_accuracy: 0.4000\n",
            "Epoch 167/200\n",
            "15/15 [==============================] - 0s 32ms/step - loss: 4.4222e-08 - accuracy: 1.0000 - val_loss: 7.8045 - val_accuracy: 0.4000\n",
            "Epoch 168/200\n",
            "15/15 [==============================] - 0s 31ms/step - loss: 8.6855e-08 - accuracy: 1.0000 - val_loss: 7.8082 - val_accuracy: 0.4000\n",
            "Epoch 169/200\n",
            "15/15 [==============================] - 0s 32ms/step - loss: 3.9517e-08 - accuracy: 1.0000 - val_loss: 7.8146 - val_accuracy: 0.4000\n",
            "Epoch 170/200\n",
            "15/15 [==============================] - 0s 23ms/step - loss: 5.2256e-08 - accuracy: 1.0000 - val_loss: 7.8191 - val_accuracy: 0.4000\n",
            "Epoch 171/200\n",
            "15/15 [==============================] - 0s 24ms/step - loss: 6.3609e-08 - accuracy: 1.0000 - val_loss: 7.8255 - val_accuracy: 0.4000\n",
            "Epoch 172/200\n",
            "15/15 [==============================] - 0s 22ms/step - loss: 4.8082e-08 - accuracy: 1.0000 - val_loss: 7.8318 - val_accuracy: 0.4000\n",
            "Epoch 173/200\n",
            "15/15 [==============================] - 0s 23ms/step - loss: 5.7644e-08 - accuracy: 1.0000 - val_loss: 7.8353 - val_accuracy: 0.4000\n",
            "Epoch 174/200\n",
            "15/15 [==============================] - 0s 24ms/step - loss: 5.6163e-08 - accuracy: 1.0000 - val_loss: 7.8401 - val_accuracy: 0.4000\n",
            "Epoch 175/200\n",
            "15/15 [==============================] - 0s 23ms/step - loss: 3.6081e-08 - accuracy: 1.0000 - val_loss: 7.8464 - val_accuracy: 0.4000\n",
            "Epoch 176/200\n",
            "15/15 [==============================] - 0s 23ms/step - loss: 3.5126e-08 - accuracy: 1.0000 - val_loss: 7.8510 - val_accuracy: 0.4000\n",
            "Epoch 177/200\n",
            "15/15 [==============================] - 0s 23ms/step - loss: 4.1635e-08 - accuracy: 1.0000 - val_loss: 7.8575 - val_accuracy: 0.4000\n",
            "Epoch 178/200\n",
            "15/15 [==============================] - 0s 23ms/step - loss: 5.5002e-08 - accuracy: 1.0000 - val_loss: 7.8612 - val_accuracy: 0.4000\n",
            "Epoch 179/200\n",
            "15/15 [==============================] - 0s 23ms/step - loss: 4.9224e-08 - accuracy: 1.0000 - val_loss: 7.8655 - val_accuracy: 0.4000\n",
            "Epoch 180/200\n",
            "15/15 [==============================] - 0s 23ms/step - loss: 3.2022e-08 - accuracy: 1.0000 - val_loss: 7.8732 - val_accuracy: 0.4000\n",
            "Epoch 181/200\n",
            "15/15 [==============================] - 0s 23ms/step - loss: 4.9377e-08 - accuracy: 1.0000 - val_loss: 7.8768 - val_accuracy: 0.4000\n",
            "Epoch 182/200\n",
            "15/15 [==============================] - 0s 25ms/step - loss: 3.6593e-08 - accuracy: 1.0000 - val_loss: 7.8838 - val_accuracy: 0.4000\n",
            "Epoch 183/200\n",
            "15/15 [==============================] - 0s 23ms/step - loss: 4.4075e-08 - accuracy: 1.0000 - val_loss: 7.8871 - val_accuracy: 0.4000\n",
            "Epoch 184/200\n",
            "15/15 [==============================] - 0s 23ms/step - loss: 4.9559e-08 - accuracy: 1.0000 - val_loss: 7.8944 - val_accuracy: 0.4000\n",
            "Epoch 185/200\n",
            "15/15 [==============================] - 0s 23ms/step - loss: 5.0432e-08 - accuracy: 1.0000 - val_loss: 7.8990 - val_accuracy: 0.4000\n",
            "Epoch 186/200\n",
            "15/15 [==============================] - 0s 22ms/step - loss: 3.4461e-08 - accuracy: 1.0000 - val_loss: 7.9045 - val_accuracy: 0.4000\n",
            "Epoch 187/200\n",
            "15/15 [==============================] - 0s 24ms/step - loss: 5.8046e-08 - accuracy: 1.0000 - val_loss: 7.9094 - val_accuracy: 0.4000\n",
            "Epoch 188/200\n",
            "15/15 [==============================] - 0s 23ms/step - loss: 4.2370e-08 - accuracy: 1.0000 - val_loss: 7.9148 - val_accuracy: 0.4000\n",
            "Epoch 189/200\n",
            "15/15 [==============================] - 0s 23ms/step - loss: 6.2383e-08 - accuracy: 1.0000 - val_loss: 7.9215 - val_accuracy: 0.4000\n",
            "Epoch 190/200\n",
            "15/15 [==============================] - 0s 23ms/step - loss: 4.4845e-08 - accuracy: 1.0000 - val_loss: 7.9248 - val_accuracy: 0.4000\n",
            "Epoch 191/200\n",
            "15/15 [==============================] - 0s 23ms/step - loss: 3.3277e-08 - accuracy: 1.0000 - val_loss: 7.9302 - val_accuracy: 0.4000\n",
            "Epoch 192/200\n",
            "15/15 [==============================] - 0s 24ms/step - loss: 4.2523e-08 - accuracy: 1.0000 - val_loss: 7.9357 - val_accuracy: 0.4000\n",
            "Epoch 193/200\n",
            "15/15 [==============================] - 0s 24ms/step - loss: 2.5785e-08 - accuracy: 1.0000 - val_loss: 7.9415 - val_accuracy: 0.4000\n",
            "Epoch 194/200\n",
            "15/15 [==============================] - 0s 23ms/step - loss: 4.5368e-08 - accuracy: 1.0000 - val_loss: 7.9460 - val_accuracy: 0.4000\n",
            "Epoch 195/200\n",
            "15/15 [==============================] - 0s 23ms/step - loss: 2.8924e-08 - accuracy: 1.0000 - val_loss: 7.9504 - val_accuracy: 0.4000\n",
            "Epoch 196/200\n",
            "15/15 [==============================] - 0s 32ms/step - loss: 4.2471e-08 - accuracy: 1.0000 - val_loss: 7.9555 - val_accuracy: 0.4000\n",
            "Epoch 197/200\n",
            "15/15 [==============================] - 0s 33ms/step - loss: 4.3976e-08 - accuracy: 1.0000 - val_loss: 7.9619 - val_accuracy: 0.4000\n",
            "Epoch 198/200\n",
            "15/15 [==============================] - 0s 24ms/step - loss: 3.4238e-08 - accuracy: 1.0000 - val_loss: 7.9676 - val_accuracy: 0.4000\n",
            "Epoch 199/200\n",
            "15/15 [==============================] - 0s 22ms/step - loss: 3.8121e-08 - accuracy: 1.0000 - val_loss: 7.9730 - val_accuracy: 0.4000\n",
            "Epoch 200/200\n",
            "15/15 [==============================] - 0s 23ms/step - loss: 3.7262e-08 - accuracy: 1.0000 - val_loss: 7.9776 - val_accuracy: 0.4000\n"
          ],
          "name": "stdout"
        },
        {
          "output_type": "execute_result",
          "data": {
            "text/plain": [
              "<tensorflow.python.keras.callbacks.History at 0x7fda32c1c240>"
            ]
          },
          "metadata": {
            "tags": []
          },
          "execution_count": 7
        }
      ]
    },
    {
      "cell_type": "markdown",
      "metadata": {
        "id": "uCLm2oJ4jrPd"
      },
      "source": [
        "### 모델 평가"
      ]
    },
    {
      "cell_type": "code",
      "metadata": {
        "colab": {
          "base_uri": "https://localhost:8080/"
        },
        "id": "udMfpxfshqsO",
        "outputId": "4bda5b0f-c86f-4870-9f6f-9615f0c0bf30"
      },
      "source": [
        "print('--Evaluation--')\r\n",
        "scores = model.evaluate_generator(test_generator, steps=5)\r\n",
        "print(\"%s: %.2f%%\" %(model.metrics_names[1], scores[1]*100))"
      ],
      "execution_count": 8,
      "outputs": [
        {
          "output_type": "stream",
          "text": [
            "--Evaluation--\n",
            "accuracy: 40.00%\n"
          ],
          "name": "stdout"
        },
        {
          "output_type": "stream",
          "text": [
            "/usr/local/lib/python3.6/dist-packages/tensorflow/python/keras/engine/training.py:1877: UserWarning: `Model.evaluate_generator` is deprecated and will be removed in a future version. Please use `Model.evaluate`, which supports generators.\n",
            "  warnings.warn('`Model.evaluate_generator` is deprecated and '\n"
          ],
          "name": "stderr"
        }
      ]
    },
    {
      "cell_type": "code",
      "metadata": {
        "id": "6iP1T--2iH71"
      },
      "source": [
        ""
      ],
      "execution_count": null,
      "outputs": []
    }
  ]
}