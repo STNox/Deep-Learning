{
  "nbformat": 4,
  "nbformat_minor": 0,
  "metadata": {
    "colab": {
      "name": "09_다각형분류_DataAugmentation.ipynb",
      "provenance": [],
      "collapsed_sections": [],
      "toc_visible": true
    },
    "kernelspec": {
      "name": "python3",
      "display_name": "Python 3"
    }
  },
  "cells": [
    {
      "cell_type": "markdown",
      "metadata": {
        "id": "qdhKUSdPcT7m"
      },
      "source": [
        "# 원, 삼각형, 사각형 구분하기"
      ]
    },
    {
      "cell_type": "markdown",
      "metadata": {
        "id": "z8WFUlt3cX9k"
      },
      "source": [
        "### 3. Data Augmentation을 사용한 CNN 모델"
      ]
    },
    {
      "cell_type": "code",
      "metadata": {
        "id": "Go7-DhcPc608"
      },
      "source": [
        "import numpy as np\r\n",
        "import tensorflow as tf\r\n",
        "from tensorflow.keras.models import Sequential\r\n",
        "from tensorflow.keras.layers import Dense, Flatten, Conv2D, MaxPooling2D\r\n",
        "from tensorflow.keras.preprocessing.image import ImageDataGenerator"
      ],
      "execution_count": 1,
      "outputs": []
    },
    {
      "cell_type": "code",
      "metadata": {
        "id": "nvwNDj_Tdq9f"
      },
      "source": [
        "seed = 2021\r\n",
        "np.random.seed(seed)\r\n",
        "tf.random.set_seed(seed)"
      ],
      "execution_count": 2,
      "outputs": []
    },
    {
      "cell_type": "markdown",
      "metadata": {
        "id": "tUeqq8RYnwi9"
      },
      "source": [
        "### 데이터 부풀리기(Augmentation)"
      ]
    },
    {
      "cell_type": "code",
      "metadata": {
        "id": "0tRiluxynzDd"
      },
      "source": [
        "from tensorflow.keras.preprocessing.image import array_to_img, img_to_array, load_img"
      ],
      "execution_count": 3,
      "outputs": []
    },
    {
      "cell_type": "code",
      "metadata": {
        "id": "4jqtauRaoF2L"
      },
      "source": [
        "train_datagen = ImageDataGenerator(\r\n",
        "    rescale=1. / 255,\r\n",
        "    rotation_range=15,\r\n",
        "    width_shift_range=0.1,\r\n",
        "    height_shift_range=0.1,\r\n",
        "    shear_range=0.5,\r\n",
        "    zoom_range=[0.8, 2.0],\r\n",
        "    horizontal_flip=True,\r\n",
        "    vertical_flip=True,\r\n",
        "    fill_mode='nearest'\r\n",
        ")"
      ],
      "execution_count": 5,
      "outputs": []
    },
    {
      "cell_type": "code",
      "metadata": {
        "id": "rukwrKwEqWOW"
      },
      "source": [
        "!mkdir preview"
      ],
      "execution_count": 7,
      "outputs": []
    },
    {
      "cell_type": "code",
      "metadata": {
        "id": "UsPl4TTPos-w"
      },
      "source": [
        "img = load_img('hard_handwriting_shape/train/triangle/triangle001.png')\r\n",
        "x = img_to_array(img)\r\n",
        "x = x.reshape((1,) + x.shape)\r\n",
        "\r\n",
        "i = 0\r\n",
        "\r\n",
        "# 무한 loop 주의\r\n",
        "for batch in train_datagen.flow(x, batch_size=1, save_to_dir='preview', save_prefix='tri', save_format='png'):\r\n",
        "  i += 1\r\n",
        "  if i > 30:\r\n",
        "    break"
      ],
      "execution_count": 8,
      "outputs": []
    },
    {
      "cell_type": "markdown",
      "metadata": {
        "id": "Z3ABcqYAd2ad"
      },
      "source": [
        "### 데이터 셋 생성하기"
      ]
    },
    {
      "cell_type": "code",
      "metadata": {
        "colab": {
          "base_uri": "https://localhost:8080/"
        },
        "id": "sHm9OHr4dvyF",
        "outputId": "9a5e2349-98df-4705-825c-76660d63ca57"
      },
      "source": [
        "train_generator = train_datagen.flow_from_directory(\r\n",
        "    'hard_handwriting_shape/train',\r\n",
        "    target_size=(24, 24),\r\n",
        "    batch_size=3,\r\n",
        "    class_mode='categorical'\r\n",
        ")"
      ],
      "execution_count": 9,
      "outputs": [
        {
          "output_type": "stream",
          "text": [
            "Found 45 images belonging to 3 classes.\n"
          ],
          "name": "stdout"
        }
      ]
    },
    {
      "cell_type": "code",
      "metadata": {
        "colab": {
          "base_uri": "https://localhost:8080/"
        },
        "id": "kazJ3w__egTN",
        "outputId": "b97154ce-4e45-49a7-fc67-905a495e7357"
      },
      "source": [
        "test_datagen = ImageDataGenerator(rescale=1. / 255)\r\n",
        "test_generator = test_datagen.flow_from_directory(\r\n",
        "    'hard_handwriting_shape/test',\r\n",
        "    target_size=(24, 24),\r\n",
        "    batch_size=3,\r\n",
        "    class_mode='categorical'\r\n",
        ")"
      ],
      "execution_count": 10,
      "outputs": [
        {
          "output_type": "stream",
          "text": [
            "Found 15 images belonging to 3 classes.\n"
          ],
          "name": "stdout"
        }
      ]
    },
    {
      "cell_type": "markdown",
      "metadata": {
        "id": "PZ1doWDIfKIU"
      },
      "source": [
        "### 모델 정의/설정/학습"
      ]
    },
    {
      "cell_type": "code",
      "metadata": {
        "colab": {
          "base_uri": "https://localhost:8080/"
        },
        "id": "UynzMueue9jN",
        "outputId": "b4102f8d-50d8-4367-bff5-9598e305be05"
      },
      "source": [
        "model = Sequential([\r\n",
        "                    Conv2D(32, (3, 3), activation='relu', input_shape=(24, 24, 3)),\r\n",
        "                    Conv2D(64, (3, 3), activation='relu'),\r\n",
        "                    MaxPooling2D(pool_size=(2, 2)),\r\n",
        "                    Flatten(),\r\n",
        "                    Dense(128, activation='relu'),\r\n",
        "                    Dense(3, activation='softmax')\r\n",
        "])\r\n",
        "model.summary()"
      ],
      "execution_count": 11,
      "outputs": [
        {
          "output_type": "stream",
          "text": [
            "Model: \"sequential\"\n",
            "_________________________________________________________________\n",
            "Layer (type)                 Output Shape              Param #   \n",
            "=================================================================\n",
            "conv2d (Conv2D)              (None, 22, 22, 32)        896       \n",
            "_________________________________________________________________\n",
            "conv2d_1 (Conv2D)            (None, 20, 20, 64)        18496     \n",
            "_________________________________________________________________\n",
            "max_pooling2d (MaxPooling2D) (None, 10, 10, 64)        0         \n",
            "_________________________________________________________________\n",
            "flatten (Flatten)            (None, 6400)              0         \n",
            "_________________________________________________________________\n",
            "dense (Dense)                (None, 128)               819328    \n",
            "_________________________________________________________________\n",
            "dense_1 (Dense)              (None, 3)                 387       \n",
            "=================================================================\n",
            "Total params: 839,107\n",
            "Trainable params: 839,107\n",
            "Non-trainable params: 0\n",
            "_________________________________________________________________\n"
          ],
          "name": "stdout"
        }
      ]
    },
    {
      "cell_type": "code",
      "metadata": {
        "id": "0O6r018xftlv"
      },
      "source": [
        "model.compile(loss='categorical_crossentropy', optimizer='adam', metrics=['accuracy'])"
      ],
      "execution_count": 12,
      "outputs": []
    },
    {
      "cell_type": "markdown",
      "metadata": {
        "id": "95_vwPnygjC1"
      },
      "source": [
        "### 모델 학습\r\n",
        "- 첫번째 인자: 훈련데이터셋 제공하는 제너레이터\r\n",
        "- steps_per_epoch: 한 epoch에 사용한 스텝 수 지정\r\n",
        "- epochs: 학습 반복 횟수\r\n",
        "- validation_data: 검증데이터셋 제공하는 제너레이터\r\n",
        "- validation_steps: 한 epoch 종료 시마다 검증할 때 사용되는 검증 스텝 수 지정"
      ]
    },
    {
      "cell_type": "code",
      "metadata": {
        "colab": {
          "base_uri": "https://localhost:8080/"
        },
        "id": "5vPEjpiyghUW",
        "outputId": "687632be-b2e5-41ea-f4fc-5036d257aec2"
      },
      "source": [
        "model.fit_generator(\r\n",
        "    train_generator,\r\n",
        "    steps_per_epoch=15,\r\n",
        "    epochs=200,\r\n",
        "    validation_data=test_generator,\r\n",
        "    validation_steps=5\r\n",
        ")"
      ],
      "execution_count": 13,
      "outputs": [
        {
          "output_type": "stream",
          "text": [
            "/usr/local/lib/python3.6/dist-packages/tensorflow/python/keras/engine/training.py:1844: UserWarning: `Model.fit_generator` is deprecated and will be removed in a future version. Please use `Model.fit`, which supports generators.\n",
            "  warnings.warn('`Model.fit_generator` is deprecated and '\n"
          ],
          "name": "stderr"
        },
        {
          "output_type": "stream",
          "text": [
            "Epoch 1/200\n",
            "15/15 [==============================] - 1s 37ms/step - loss: 1.1710 - accuracy: 0.3800 - val_loss: 1.0698 - val_accuracy: 0.6000\n",
            "Epoch 2/200\n",
            "15/15 [==============================] - 0s 24ms/step - loss: 1.0172 - accuracy: 0.5113 - val_loss: 1.0154 - val_accuracy: 0.5333\n",
            "Epoch 3/200\n",
            "15/15 [==============================] - 0s 23ms/step - loss: 0.8090 - accuracy: 0.6579 - val_loss: 0.9530 - val_accuracy: 0.7333\n",
            "Epoch 4/200\n",
            "15/15 [==============================] - 0s 22ms/step - loss: 0.4990 - accuracy: 0.7781 - val_loss: 1.5621 - val_accuracy: 0.4667\n",
            "Epoch 5/200\n",
            "15/15 [==============================] - 0s 24ms/step - loss: 0.9960 - accuracy: 0.5338 - val_loss: 1.3943 - val_accuracy: 0.6000\n",
            "Epoch 6/200\n",
            "15/15 [==============================] - 0s 23ms/step - loss: 0.6007 - accuracy: 0.8160 - val_loss: 1.2427 - val_accuracy: 0.4667\n",
            "Epoch 7/200\n",
            "15/15 [==============================] - 0s 24ms/step - loss: 0.5251 - accuracy: 0.7904 - val_loss: 1.1917 - val_accuracy: 0.6667\n",
            "Epoch 8/200\n",
            "15/15 [==============================] - 0s 30ms/step - loss: 0.3930 - accuracy: 0.8399 - val_loss: 1.6399 - val_accuracy: 0.6000\n",
            "Epoch 9/200\n",
            "15/15 [==============================] - 0s 32ms/step - loss: 0.3272 - accuracy: 0.8865 - val_loss: 1.4709 - val_accuracy: 0.6000\n",
            "Epoch 10/200\n",
            "15/15 [==============================] - 0s 23ms/step - loss: 0.5265 - accuracy: 0.8981 - val_loss: 1.9929 - val_accuracy: 0.6000\n",
            "Epoch 11/200\n",
            "15/15 [==============================] - 0s 24ms/step - loss: 0.1097 - accuracy: 0.9861 - val_loss: 1.4920 - val_accuracy: 0.5333\n",
            "Epoch 12/200\n",
            "15/15 [==============================] - 0s 23ms/step - loss: 0.1990 - accuracy: 0.9413 - val_loss: 1.7207 - val_accuracy: 0.6000\n",
            "Epoch 13/200\n",
            "15/15 [==============================] - 0s 23ms/step - loss: 0.0712 - accuracy: 1.0000 - val_loss: 2.1502 - val_accuracy: 0.5333\n",
            "Epoch 14/200\n",
            "15/15 [==============================] - 0s 23ms/step - loss: 0.1577 - accuracy: 0.9263 - val_loss: 1.2332 - val_accuracy: 0.7333\n",
            "Epoch 15/200\n",
            "15/15 [==============================] - 0s 24ms/step - loss: 0.3208 - accuracy: 0.8690 - val_loss: 1.2497 - val_accuracy: 0.6667\n",
            "Epoch 16/200\n",
            "15/15 [==============================] - 1s 38ms/step - loss: 0.3292 - accuracy: 0.8953 - val_loss: 1.5213 - val_accuracy: 0.6000\n",
            "Epoch 17/200\n",
            "15/15 [==============================] - 0s 27ms/step - loss: 0.2158 - accuracy: 0.9607 - val_loss: 1.2859 - val_accuracy: 0.6000\n",
            "Epoch 18/200\n",
            "15/15 [==============================] - 0s 31ms/step - loss: 0.2262 - accuracy: 0.9295 - val_loss: 1.3593 - val_accuracy: 0.6667\n",
            "Epoch 19/200\n",
            "15/15 [==============================] - 0s 29ms/step - loss: 0.1211 - accuracy: 1.0000 - val_loss: 2.1641 - val_accuracy: 0.6000\n",
            "Epoch 20/200\n",
            "15/15 [==============================] - 0s 23ms/step - loss: 0.0258 - accuracy: 0.9861 - val_loss: 1.9696 - val_accuracy: 0.6667\n",
            "Epoch 21/200\n",
            "15/15 [==============================] - 0s 22ms/step - loss: 0.0943 - accuracy: 0.9503 - val_loss: 2.1395 - val_accuracy: 0.6000\n",
            "Epoch 22/200\n",
            "15/15 [==============================] - 0s 23ms/step - loss: 0.0627 - accuracy: 0.9924 - val_loss: 2.0565 - val_accuracy: 0.6667\n",
            "Epoch 23/200\n",
            "15/15 [==============================] - 0s 23ms/step - loss: 0.1273 - accuracy: 0.9130 - val_loss: 2.2057 - val_accuracy: 0.6000\n",
            "Epoch 24/200\n",
            "15/15 [==============================] - 0s 23ms/step - loss: 0.0475 - accuracy: 0.9957 - val_loss: 2.5368 - val_accuracy: 0.6000\n",
            "Epoch 25/200\n",
            "15/15 [==============================] - 0s 23ms/step - loss: 0.0606 - accuracy: 0.9805 - val_loss: 2.4422 - val_accuracy: 0.6000\n",
            "Epoch 26/200\n",
            "15/15 [==============================] - 0s 22ms/step - loss: 0.0113 - accuracy: 1.0000 - val_loss: 3.3406 - val_accuracy: 0.6000\n",
            "Epoch 27/200\n",
            "15/15 [==============================] - 0s 24ms/step - loss: 0.0651 - accuracy: 0.9649 - val_loss: 1.6093 - val_accuracy: 0.7333\n",
            "Epoch 28/200\n",
            "15/15 [==============================] - 0s 23ms/step - loss: 0.0303 - accuracy: 0.9972 - val_loss: 1.6152 - val_accuracy: 0.7333\n",
            "Epoch 29/200\n",
            "15/15 [==============================] - 0s 23ms/step - loss: 0.2399 - accuracy: 0.9338 - val_loss: 3.0293 - val_accuracy: 0.4667\n",
            "Epoch 30/200\n",
            "15/15 [==============================] - 0s 23ms/step - loss: 0.1587 - accuracy: 0.9835 - val_loss: 1.5709 - val_accuracy: 0.7333\n",
            "Epoch 31/200\n",
            "15/15 [==============================] - 0s 23ms/step - loss: 0.1095 - accuracy: 0.9677 - val_loss: 1.4965 - val_accuracy: 0.6667\n",
            "Epoch 32/200\n",
            "15/15 [==============================] - 0s 23ms/step - loss: 0.0716 - accuracy: 0.9835 - val_loss: 2.4432 - val_accuracy: 0.6000\n",
            "Epoch 33/200\n",
            "15/15 [==============================] - 0s 23ms/step - loss: 0.0236 - accuracy: 1.0000 - val_loss: 3.0358 - val_accuracy: 0.6667\n",
            "Epoch 34/200\n",
            "15/15 [==============================] - 0s 23ms/step - loss: 0.0854 - accuracy: 0.9792 - val_loss: 1.8529 - val_accuracy: 0.7333\n",
            "Epoch 35/200\n",
            "15/15 [==============================] - 0s 22ms/step - loss: 0.0182 - accuracy: 1.0000 - val_loss: 2.2271 - val_accuracy: 0.6000\n",
            "Epoch 36/200\n",
            "15/15 [==============================] - 0s 24ms/step - loss: 0.1837 - accuracy: 0.9389 - val_loss: 3.6760 - val_accuracy: 0.5333\n",
            "Epoch 37/200\n",
            "15/15 [==============================] - 0s 22ms/step - loss: 0.1364 - accuracy: 0.9354 - val_loss: 3.3629 - val_accuracy: 0.5333\n",
            "Epoch 38/200\n",
            "15/15 [==============================] - 0s 23ms/step - loss: 0.0456 - accuracy: 0.9631 - val_loss: 2.9397 - val_accuracy: 0.6667\n",
            "Epoch 39/200\n",
            "15/15 [==============================] - 0s 25ms/step - loss: 0.0515 - accuracy: 1.0000 - val_loss: 3.8831 - val_accuracy: 0.5333\n",
            "Epoch 40/200\n",
            "15/15 [==============================] - 0s 22ms/step - loss: 0.0800 - accuracy: 0.9565 - val_loss: 2.9189 - val_accuracy: 0.5333\n",
            "Epoch 41/200\n",
            "15/15 [==============================] - 0s 23ms/step - loss: 0.1470 - accuracy: 0.9583 - val_loss: 1.6775 - val_accuracy: 0.6667\n",
            "Epoch 42/200\n",
            "15/15 [==============================] - 0s 22ms/step - loss: 0.0533 - accuracy: 0.9972 - val_loss: 2.1143 - val_accuracy: 0.6000\n",
            "Epoch 43/200\n",
            "15/15 [==============================] - 0s 23ms/step - loss: 0.0254 - accuracy: 0.9905 - val_loss: 2.1418 - val_accuracy: 0.6667\n",
            "Epoch 44/200\n",
            "15/15 [==============================] - 0s 25ms/step - loss: 0.0444 - accuracy: 1.0000 - val_loss: 2.5656 - val_accuracy: 0.6667\n",
            "Epoch 45/200\n",
            "15/15 [==============================] - 1s 33ms/step - loss: 0.1410 - accuracy: 0.9835 - val_loss: 1.2174 - val_accuracy: 0.8000\n",
            "Epoch 46/200\n",
            "15/15 [==============================] - 0s 32ms/step - loss: 0.0628 - accuracy: 0.9835 - val_loss: 1.6739 - val_accuracy: 0.6667\n",
            "Epoch 47/200\n",
            "15/15 [==============================] - 0s 23ms/step - loss: 0.0463 - accuracy: 1.0000 - val_loss: 2.7037 - val_accuracy: 0.6000\n",
            "Epoch 48/200\n",
            "15/15 [==============================] - 0s 22ms/step - loss: 0.1017 - accuracy: 0.9835 - val_loss: 1.5321 - val_accuracy: 0.8000\n",
            "Epoch 49/200\n",
            "15/15 [==============================] - 0s 24ms/step - loss: 0.0532 - accuracy: 1.0000 - val_loss: 1.7180 - val_accuracy: 0.7333\n",
            "Epoch 50/200\n",
            "15/15 [==============================] - 0s 23ms/step - loss: 0.0853 - accuracy: 0.9759 - val_loss: 1.9319 - val_accuracy: 0.7333\n",
            "Epoch 51/200\n",
            "15/15 [==============================] - 0s 23ms/step - loss: 0.0585 - accuracy: 0.9835 - val_loss: 1.7768 - val_accuracy: 0.7333\n",
            "Epoch 52/200\n",
            "15/15 [==============================] - 0s 23ms/step - loss: 0.0440 - accuracy: 0.9503 - val_loss: 1.9742 - val_accuracy: 0.8000\n",
            "Epoch 53/200\n",
            "15/15 [==============================] - 0s 23ms/step - loss: 0.0304 - accuracy: 0.9771 - val_loss: 2.0422 - val_accuracy: 0.7333\n",
            "Epoch 54/200\n",
            "15/15 [==============================] - 0s 25ms/step - loss: 0.0491 - accuracy: 0.9924 - val_loss: 2.8414 - val_accuracy: 0.7333\n",
            "Epoch 55/200\n",
            "15/15 [==============================] - 0s 23ms/step - loss: 0.0654 - accuracy: 0.9729 - val_loss: 3.8886 - val_accuracy: 0.5333\n",
            "Epoch 56/200\n",
            "15/15 [==============================] - 0s 23ms/step - loss: 0.2168 - accuracy: 0.8950 - val_loss: 1.6680 - val_accuracy: 0.6667\n",
            "Epoch 57/200\n",
            "15/15 [==============================] - 0s 25ms/step - loss: 0.1350 - accuracy: 0.9282 - val_loss: 1.6861 - val_accuracy: 0.7333\n",
            "Epoch 58/200\n",
            "15/15 [==============================] - 1s 34ms/step - loss: 0.0370 - accuracy: 0.9941 - val_loss: 3.4129 - val_accuracy: 0.6000\n",
            "Epoch 59/200\n",
            "15/15 [==============================] - 0s 31ms/step - loss: 0.0094 - accuracy: 1.0000 - val_loss: 5.8313 - val_accuracy: 0.5333\n",
            "Epoch 60/200\n",
            "15/15 [==============================] - 0s 31ms/step - loss: 0.0808 - accuracy: 0.9972 - val_loss: 2.7824 - val_accuracy: 0.6000\n",
            "Epoch 61/200\n",
            "15/15 [==============================] - 0s 23ms/step - loss: 0.0300 - accuracy: 0.9905 - val_loss: 5.0571 - val_accuracy: 0.5333\n",
            "Epoch 62/200\n",
            "15/15 [==============================] - 0s 32ms/step - loss: 0.0341 - accuracy: 0.9905 - val_loss: 4.2602 - val_accuracy: 0.5333\n",
            "Epoch 63/200\n",
            "15/15 [==============================] - 0s 32ms/step - loss: 0.1432 - accuracy: 0.9538 - val_loss: 2.5575 - val_accuracy: 0.6667\n",
            "Epoch 64/200\n",
            "15/15 [==============================] - 0s 24ms/step - loss: 0.0255 - accuracy: 0.9771 - val_loss: 2.7376 - val_accuracy: 0.6667\n",
            "Epoch 65/200\n",
            "15/15 [==============================] - 0s 23ms/step - loss: 0.3183 - accuracy: 0.9065 - val_loss: 1.3840 - val_accuracy: 0.7333\n",
            "Epoch 66/200\n",
            "15/15 [==============================] - 0s 25ms/step - loss: 0.0736 - accuracy: 0.9861 - val_loss: 1.4785 - val_accuracy: 0.7333\n",
            "Epoch 67/200\n",
            "15/15 [==============================] - 0s 27ms/step - loss: 0.0572 - accuracy: 0.9771 - val_loss: 3.0612 - val_accuracy: 0.6000\n",
            "Epoch 68/200\n",
            "15/15 [==============================] - 0s 24ms/step - loss: 0.3044 - accuracy: 0.8517 - val_loss: 1.2688 - val_accuracy: 0.8000\n",
            "Epoch 69/200\n",
            "15/15 [==============================] - 0s 25ms/step - loss: 0.0836 - accuracy: 0.9805 - val_loss: 1.1686 - val_accuracy: 0.8000\n",
            "Epoch 70/200\n",
            "15/15 [==============================] - 0s 24ms/step - loss: 0.0282 - accuracy: 1.0000 - val_loss: 1.4702 - val_accuracy: 0.8000\n",
            "Epoch 71/200\n",
            "15/15 [==============================] - 0s 23ms/step - loss: 0.1272 - accuracy: 0.9677 - val_loss: 1.4301 - val_accuracy: 0.8000\n",
            "Epoch 72/200\n",
            "15/15 [==============================] - 0s 23ms/step - loss: 0.0543 - accuracy: 0.9677 - val_loss: 1.9722 - val_accuracy: 0.7333\n",
            "Epoch 73/200\n",
            "15/15 [==============================] - 0s 24ms/step - loss: 0.0055 - accuracy: 1.0000 - val_loss: 1.6901 - val_accuracy: 0.8000\n",
            "Epoch 74/200\n",
            "15/15 [==============================] - 0s 24ms/step - loss: 0.0089 - accuracy: 0.9957 - val_loss: 1.6481 - val_accuracy: 0.8000\n",
            "Epoch 75/200\n",
            "15/15 [==============================] - 0s 23ms/step - loss: 0.1617 - accuracy: 0.9503 - val_loss: 1.1671 - val_accuracy: 0.8000\n",
            "Epoch 76/200\n",
            "15/15 [==============================] - 0s 24ms/step - loss: 0.0274 - accuracy: 0.9835 - val_loss: 1.4674 - val_accuracy: 0.8000\n",
            "Epoch 77/200\n",
            "15/15 [==============================] - 0s 24ms/step - loss: 0.1822 - accuracy: 0.9771 - val_loss: 2.8853 - val_accuracy: 0.6000\n",
            "Epoch 78/200\n",
            "15/15 [==============================] - 0s 24ms/step - loss: 0.0100 - accuracy: 1.0000 - val_loss: 2.6526 - val_accuracy: 0.6667\n",
            "Epoch 79/200\n",
            "15/15 [==============================] - 0s 24ms/step - loss: 0.0870 - accuracy: 0.9776 - val_loss: 1.0439 - val_accuracy: 0.8000\n",
            "Epoch 80/200\n",
            "15/15 [==============================] - 0s 24ms/step - loss: 0.0415 - accuracy: 0.9884 - val_loss: 0.9044 - val_accuracy: 0.8000\n",
            "Epoch 81/200\n",
            "15/15 [==============================] - 0s 23ms/step - loss: 0.0315 - accuracy: 1.0000 - val_loss: 1.0562 - val_accuracy: 0.8000\n",
            "Epoch 82/200\n",
            "15/15 [==============================] - 0s 24ms/step - loss: 0.0080 - accuracy: 1.0000 - val_loss: 1.3581 - val_accuracy: 0.8000\n",
            "Epoch 83/200\n",
            "15/15 [==============================] - 0s 25ms/step - loss: 0.0061 - accuracy: 1.0000 - val_loss: 1.6282 - val_accuracy: 0.8000\n",
            "Epoch 84/200\n",
            "15/15 [==============================] - 0s 24ms/step - loss: 0.0117 - accuracy: 1.0000 - val_loss: 1.2180 - val_accuracy: 0.8000\n",
            "Epoch 85/200\n",
            "15/15 [==============================] - 0s 26ms/step - loss: 0.0937 - accuracy: 0.9884 - val_loss: 1.1497 - val_accuracy: 0.8000\n",
            "Epoch 86/200\n",
            "15/15 [==============================] - 1s 33ms/step - loss: 0.1246 - accuracy: 0.9453 - val_loss: 1.4156 - val_accuracy: 0.8000\n",
            "Epoch 87/200\n",
            "15/15 [==============================] - 0s 28ms/step - loss: 0.0427 - accuracy: 1.0000 - val_loss: 1.4651 - val_accuracy: 0.7333\n",
            "Epoch 88/200\n",
            "15/15 [==============================] - 0s 26ms/step - loss: 0.0095 - accuracy: 1.0000 - val_loss: 1.7598 - val_accuracy: 0.6667\n",
            "Epoch 89/200\n",
            "15/15 [==============================] - 0s 23ms/step - loss: 0.0299 - accuracy: 1.0000 - val_loss: 1.5746 - val_accuracy: 0.8000\n",
            "Epoch 90/200\n",
            "15/15 [==============================] - 0s 23ms/step - loss: 0.1263 - accuracy: 0.9538 - val_loss: 3.0061 - val_accuracy: 0.5333\n",
            "Epoch 91/200\n",
            "15/15 [==============================] - 0s 24ms/step - loss: 0.0691 - accuracy: 0.9771 - val_loss: 1.5032 - val_accuracy: 0.8000\n",
            "Epoch 92/200\n",
            "15/15 [==============================] - 0s 25ms/step - loss: 0.0166 - accuracy: 0.9861 - val_loss: 1.2253 - val_accuracy: 0.8000\n",
            "Epoch 93/200\n",
            "15/15 [==============================] - 1s 33ms/step - loss: 0.0287 - accuracy: 1.0000 - val_loss: 1.1740 - val_accuracy: 0.8000\n",
            "Epoch 94/200\n",
            "15/15 [==============================] - 0s 32ms/step - loss: 0.0131 - accuracy: 1.0000 - val_loss: 1.3686 - val_accuracy: 0.8000\n",
            "Epoch 95/200\n",
            "15/15 [==============================] - 0s 23ms/step - loss: 0.0330 - accuracy: 0.9861 - val_loss: 1.8155 - val_accuracy: 0.7333\n",
            "Epoch 96/200\n",
            "15/15 [==============================] - 0s 26ms/step - loss: 0.0058 - accuracy: 1.0000 - val_loss: 2.0858 - val_accuracy: 0.7333\n",
            "Epoch 97/200\n",
            "15/15 [==============================] - 0s 24ms/step - loss: 0.0395 - accuracy: 0.9677 - val_loss: 2.5237 - val_accuracy: 0.7333\n",
            "Epoch 98/200\n",
            "15/15 [==============================] - 0s 23ms/step - loss: 0.0909 - accuracy: 0.9861 - val_loss: 1.6106 - val_accuracy: 0.8000\n",
            "Epoch 99/200\n",
            "15/15 [==============================] - 0s 24ms/step - loss: 0.0661 - accuracy: 0.9677 - val_loss: 1.6507 - val_accuracy: 0.6667\n",
            "Epoch 100/200\n",
            "15/15 [==============================] - 0s 31ms/step - loss: 0.1491 - accuracy: 0.9252 - val_loss: 2.0989 - val_accuracy: 0.7333\n",
            "Epoch 101/200\n",
            "15/15 [==============================] - 1s 33ms/step - loss: 0.0275 - accuracy: 1.0000 - val_loss: 1.7771 - val_accuracy: 0.8000\n",
            "Epoch 102/200\n",
            "15/15 [==============================] - 0s 25ms/step - loss: 0.0038 - accuracy: 1.0000 - val_loss: 1.7561 - val_accuracy: 0.8000\n",
            "Epoch 103/200\n",
            "15/15 [==============================] - 0s 24ms/step - loss: 0.0129 - accuracy: 0.9861 - val_loss: 1.9356 - val_accuracy: 0.8000\n",
            "Epoch 104/200\n",
            "15/15 [==============================] - 0s 31ms/step - loss: 0.1660 - accuracy: 0.9805 - val_loss: 2.2502 - val_accuracy: 0.7333\n",
            "Epoch 105/200\n",
            "15/15 [==============================] - 0s 24ms/step - loss: 0.1805 - accuracy: 0.9444 - val_loss: 2.7536 - val_accuracy: 0.6000\n",
            "Epoch 106/200\n",
            "15/15 [==============================] - 0s 26ms/step - loss: 0.0625 - accuracy: 0.9861 - val_loss: 1.8999 - val_accuracy: 0.6667\n",
            "Epoch 107/200\n",
            "15/15 [==============================] - 0s 32ms/step - loss: 0.0040 - accuracy: 1.0000 - val_loss: 2.1368 - val_accuracy: 0.6667\n",
            "Epoch 108/200\n",
            "15/15 [==============================] - 1s 33ms/step - loss: 0.0275 - accuracy: 0.9941 - val_loss: 1.9595 - val_accuracy: 0.7333\n",
            "Epoch 109/200\n",
            "15/15 [==============================] - 1s 33ms/step - loss: 0.0052 - accuracy: 1.0000 - val_loss: 2.1277 - val_accuracy: 0.7333\n",
            "Epoch 110/200\n",
            "15/15 [==============================] - 1s 35ms/step - loss: 0.0123 - accuracy: 1.0000 - val_loss: 2.2249 - val_accuracy: 0.6667\n",
            "Epoch 111/200\n",
            "15/15 [==============================] - 0s 25ms/step - loss: 0.0106 - accuracy: 1.0000 - val_loss: 2.2033 - val_accuracy: 0.6667\n",
            "Epoch 112/200\n",
            "15/15 [==============================] - 0s 25ms/step - loss: 0.0148 - accuracy: 1.0000 - val_loss: 2.0073 - val_accuracy: 0.7333\n",
            "Epoch 113/200\n",
            "15/15 [==============================] - 0s 23ms/step - loss: 0.0185 - accuracy: 1.0000 - val_loss: 1.9081 - val_accuracy: 0.8000\n",
            "Epoch 114/200\n",
            "15/15 [==============================] - 0s 24ms/step - loss: 0.0031 - accuracy: 1.0000 - val_loss: 1.9677 - val_accuracy: 0.7333\n",
            "Epoch 115/200\n",
            "15/15 [==============================] - 0s 24ms/step - loss: 0.0189 - accuracy: 1.0000 - val_loss: 1.9204 - val_accuracy: 0.8000\n",
            "Epoch 116/200\n",
            "15/15 [==============================] - 0s 23ms/step - loss: 0.0118 - accuracy: 1.0000 - val_loss: 2.0423 - val_accuracy: 0.8000\n",
            "Epoch 117/200\n",
            "15/15 [==============================] - 0s 24ms/step - loss: 0.0327 - accuracy: 0.9905 - val_loss: 1.8328 - val_accuracy: 0.8000\n",
            "Epoch 118/200\n",
            "15/15 [==============================] - 0s 23ms/step - loss: 0.0199 - accuracy: 1.0000 - val_loss: 1.6728 - val_accuracy: 0.8000\n",
            "Epoch 119/200\n",
            "15/15 [==============================] - 0s 25ms/step - loss: 0.0118 - accuracy: 1.0000 - val_loss: 1.6485 - val_accuracy: 0.8000\n",
            "Epoch 120/200\n",
            "15/15 [==============================] - 0s 24ms/step - loss: 0.0590 - accuracy: 0.9861 - val_loss: 3.6765 - val_accuracy: 0.5333\n",
            "Epoch 121/200\n",
            "15/15 [==============================] - 0s 23ms/step - loss: 0.0246 - accuracy: 1.0000 - val_loss: 3.0916 - val_accuracy: 0.6000\n",
            "Epoch 122/200\n",
            "15/15 [==============================] - 0s 23ms/step - loss: 0.0052 - accuracy: 1.0000 - val_loss: 2.6854 - val_accuracy: 0.6667\n",
            "Epoch 123/200\n",
            "15/15 [==============================] - 0s 25ms/step - loss: 8.7777e-04 - accuracy: 1.0000 - val_loss: 2.3332 - val_accuracy: 0.8000\n",
            "Epoch 124/200\n",
            "15/15 [==============================] - 0s 24ms/step - loss: 0.0353 - accuracy: 1.0000 - val_loss: 4.0308 - val_accuracy: 0.5333\n",
            "Epoch 125/200\n",
            "15/15 [==============================] - 0s 24ms/step - loss: 0.0175 - accuracy: 0.9941 - val_loss: 3.4106 - val_accuracy: 0.6667\n",
            "Epoch 126/200\n",
            "15/15 [==============================] - 0s 25ms/step - loss: 0.0241 - accuracy: 0.9972 - val_loss: 2.8122 - val_accuracy: 0.8000\n",
            "Epoch 127/200\n",
            "15/15 [==============================] - 0s 24ms/step - loss: 0.0103 - accuracy: 1.0000 - val_loss: 3.3098 - val_accuracy: 0.7333\n",
            "Epoch 128/200\n",
            "15/15 [==============================] - 0s 26ms/step - loss: 0.0508 - accuracy: 0.9861 - val_loss: 3.1270 - val_accuracy: 0.7333\n",
            "Epoch 129/200\n",
            "15/15 [==============================] - 0s 28ms/step - loss: 0.0031 - accuracy: 1.0000 - val_loss: 2.7846 - val_accuracy: 0.7333\n",
            "Epoch 130/200\n",
            "15/15 [==============================] - 0s 32ms/step - loss: 0.0483 - accuracy: 0.9590 - val_loss: 3.4420 - val_accuracy: 0.7333\n",
            "Epoch 131/200\n",
            "15/15 [==============================] - 0s 28ms/step - loss: 0.0293 - accuracy: 1.0000 - val_loss: 4.9711 - val_accuracy: 0.5333\n",
            "Epoch 132/200\n",
            "15/15 [==============================] - 0s 27ms/step - loss: 0.0414 - accuracy: 1.0000 - val_loss: 3.1870 - val_accuracy: 0.6667\n",
            "Epoch 133/200\n",
            "15/15 [==============================] - 0s 27ms/step - loss: 0.0023 - accuracy: 1.0000 - val_loss: 2.5571 - val_accuracy: 0.7333\n",
            "Epoch 134/200\n",
            "15/15 [==============================] - 0s 33ms/step - loss: 0.0132 - accuracy: 0.9957 - val_loss: 2.3612 - val_accuracy: 0.7333\n",
            "Epoch 135/200\n",
            "15/15 [==============================] - 1s 34ms/step - loss: 0.0831 - accuracy: 0.9805 - val_loss: 2.5799 - val_accuracy: 0.7333\n",
            "Epoch 136/200\n",
            "15/15 [==============================] - 0s 24ms/step - loss: 0.0127 - accuracy: 1.0000 - val_loss: 3.0291 - val_accuracy: 0.6000\n",
            "Epoch 137/200\n",
            "15/15 [==============================] - 0s 24ms/step - loss: 0.0438 - accuracy: 0.9580 - val_loss: 3.1225 - val_accuracy: 0.6667\n",
            "Epoch 138/200\n",
            "15/15 [==============================] - 0s 25ms/step - loss: 0.0112 - accuracy: 0.9972 - val_loss: 1.5246 - val_accuracy: 0.8000\n",
            "Epoch 139/200\n",
            "15/15 [==============================] - 0s 24ms/step - loss: 0.0082 - accuracy: 1.0000 - val_loss: 2.1163 - val_accuracy: 0.6000\n",
            "Epoch 140/200\n",
            "15/15 [==============================] - 0s 24ms/step - loss: 0.0328 - accuracy: 0.9884 - val_loss: 2.6206 - val_accuracy: 0.6000\n",
            "Epoch 141/200\n",
            "15/15 [==============================] - 0s 33ms/step - loss: 0.0014 - accuracy: 1.0000 - val_loss: 2.8221 - val_accuracy: 0.6667\n",
            "Epoch 142/200\n",
            "15/15 [==============================] - 1s 34ms/step - loss: 0.0162 - accuracy: 1.0000 - val_loss: 2.2430 - val_accuracy: 0.7333\n",
            "Epoch 143/200\n",
            "15/15 [==============================] - 0s 26ms/step - loss: 6.4741e-04 - accuracy: 1.0000 - val_loss: 2.0221 - val_accuracy: 0.7333\n",
            "Epoch 144/200\n",
            "15/15 [==============================] - 0s 25ms/step - loss: 0.0121 - accuracy: 0.9972 - val_loss: 2.0564 - val_accuracy: 0.7333\n",
            "Epoch 145/200\n",
            "15/15 [==============================] - 0s 24ms/step - loss: 0.0753 - accuracy: 0.9745 - val_loss: 1.3862 - val_accuracy: 0.8000\n",
            "Epoch 146/200\n",
            "15/15 [==============================] - 0s 24ms/step - loss: 0.0494 - accuracy: 0.9957 - val_loss: 1.1416 - val_accuracy: 0.8000\n",
            "Epoch 147/200\n",
            "15/15 [==============================] - 0s 26ms/step - loss: 0.0218 - accuracy: 1.0000 - val_loss: 1.4469 - val_accuracy: 0.8000\n",
            "Epoch 148/200\n",
            "15/15 [==============================] - 1s 34ms/step - loss: 0.0412 - accuracy: 0.9677 - val_loss: 1.7585 - val_accuracy: 0.8000\n",
            "Epoch 149/200\n",
            "15/15 [==============================] - 0s 25ms/step - loss: 0.0058 - accuracy: 1.0000 - val_loss: 1.9095 - val_accuracy: 0.8000\n",
            "Epoch 150/200\n",
            "15/15 [==============================] - 0s 24ms/step - loss: 0.0140 - accuracy: 1.0000 - val_loss: 2.0638 - val_accuracy: 0.8000\n",
            "Epoch 151/200\n",
            "15/15 [==============================] - 0s 23ms/step - loss: 0.0087 - accuracy: 1.0000 - val_loss: 2.2707 - val_accuracy: 0.8000\n",
            "Epoch 152/200\n",
            "15/15 [==============================] - 0s 25ms/step - loss: 0.0066 - accuracy: 1.0000 - val_loss: 2.3901 - val_accuracy: 0.7333\n",
            "Epoch 153/200\n",
            "15/15 [==============================] - 0s 31ms/step - loss: 0.0106 - accuracy: 1.0000 - val_loss: 2.1983 - val_accuracy: 0.8000\n",
            "Epoch 154/200\n",
            "15/15 [==============================] - 1s 34ms/step - loss: 0.0133 - accuracy: 0.9924 - val_loss: 2.1634 - val_accuracy: 0.8000\n",
            "Epoch 155/200\n",
            "15/15 [==============================] - 0s 26ms/step - loss: 0.0039 - accuracy: 1.0000 - val_loss: 2.2441 - val_accuracy: 0.8000\n",
            "Epoch 156/200\n",
            "15/15 [==============================] - 0s 25ms/step - loss: 0.0019 - accuracy: 1.0000 - val_loss: 2.3054 - val_accuracy: 0.8000\n",
            "Epoch 157/200\n",
            "15/15 [==============================] - 0s 24ms/step - loss: 0.0211 - accuracy: 0.9805 - val_loss: 3.3963 - val_accuracy: 0.6000\n",
            "Epoch 158/200\n",
            "15/15 [==============================] - 0s 24ms/step - loss: 0.0041 - accuracy: 1.0000 - val_loss: 4.2641 - val_accuracy: 0.6000\n",
            "Epoch 159/200\n",
            "15/15 [==============================] - 0s 24ms/step - loss: 0.0011 - accuracy: 1.0000 - val_loss: 4.0188 - val_accuracy: 0.6000\n",
            "Epoch 160/200\n",
            "15/15 [==============================] - 0s 24ms/step - loss: 3.6878e-04 - accuracy: 1.0000 - val_loss: 3.9153 - val_accuracy: 0.6000\n",
            "Epoch 161/200\n",
            "15/15 [==============================] - 0s 26ms/step - loss: 0.0012 - accuracy: 1.0000 - val_loss: 3.8932 - val_accuracy: 0.6000\n",
            "Epoch 162/200\n",
            "15/15 [==============================] - 0s 24ms/step - loss: 8.5739e-04 - accuracy: 1.0000 - val_loss: 3.8697 - val_accuracy: 0.6000\n",
            "Epoch 163/200\n",
            "15/15 [==============================] - 1s 34ms/step - loss: 0.0041 - accuracy: 1.0000 - val_loss: 3.9824 - val_accuracy: 0.6000\n",
            "Epoch 164/200\n",
            "15/15 [==============================] - 1s 36ms/step - loss: 0.0022 - accuracy: 1.0000 - val_loss: 4.0500 - val_accuracy: 0.6000\n",
            "Epoch 165/200\n",
            "15/15 [==============================] - 1s 34ms/step - loss: 0.0263 - accuracy: 1.0000 - val_loss: 2.5449 - val_accuracy: 0.8000\n",
            "Epoch 166/200\n",
            "15/15 [==============================] - 0s 32ms/step - loss: 8.9613e-04 - accuracy: 1.0000 - val_loss: 2.4983 - val_accuracy: 0.8000\n",
            "Epoch 167/200\n",
            "15/15 [==============================] - 0s 23ms/step - loss: 0.0337 - accuracy: 0.9771 - val_loss: 2.2646 - val_accuracy: 0.8000\n",
            "Epoch 168/200\n",
            "15/15 [==============================] - 0s 25ms/step - loss: 0.0014 - accuracy: 1.0000 - val_loss: 2.2649 - val_accuracy: 0.8000\n",
            "Epoch 169/200\n",
            "15/15 [==============================] - 0s 25ms/step - loss: 0.0148 - accuracy: 0.9805 - val_loss: 2.1418 - val_accuracy: 0.8000\n",
            "Epoch 170/200\n",
            "15/15 [==============================] - 0s 24ms/step - loss: 0.0141 - accuracy: 0.9884 - val_loss: 2.4385 - val_accuracy: 0.8000\n",
            "Epoch 171/200\n",
            "15/15 [==============================] - 0s 24ms/step - loss: 0.0120 - accuracy: 1.0000 - val_loss: 2.9504 - val_accuracy: 0.7333\n",
            "Epoch 172/200\n",
            "15/15 [==============================] - 0s 24ms/step - loss: 0.0108 - accuracy: 0.9941 - val_loss: 2.5377 - val_accuracy: 0.8000\n",
            "Epoch 173/200\n",
            "15/15 [==============================] - 0s 24ms/step - loss: 0.0022 - accuracy: 1.0000 - val_loss: 2.1671 - val_accuracy: 0.8000\n",
            "Epoch 174/200\n",
            "15/15 [==============================] - 0s 24ms/step - loss: 0.0045 - accuracy: 1.0000 - val_loss: 2.7165 - val_accuracy: 0.8000\n",
            "Epoch 175/200\n",
            "15/15 [==============================] - 0s 24ms/step - loss: 0.0040 - accuracy: 1.0000 - val_loss: 3.1027 - val_accuracy: 0.8000\n",
            "Epoch 176/200\n",
            "15/15 [==============================] - 0s 24ms/step - loss: 0.0028 - accuracy: 1.0000 - val_loss: 3.1433 - val_accuracy: 0.8000\n",
            "Epoch 177/200\n",
            "15/15 [==============================] - 0s 24ms/step - loss: 0.0066 - accuracy: 1.0000 - val_loss: 3.1764 - val_accuracy: 0.7333\n",
            "Epoch 178/200\n",
            "15/15 [==============================] - 0s 25ms/step - loss: 0.0218 - accuracy: 0.9941 - val_loss: 3.5003 - val_accuracy: 0.7333\n",
            "Epoch 179/200\n",
            "15/15 [==============================] - 0s 23ms/step - loss: 0.0795 - accuracy: 0.9924 - val_loss: 3.4592 - val_accuracy: 0.7333\n",
            "Epoch 180/200\n",
            "15/15 [==============================] - 0s 24ms/step - loss: 0.0103 - accuracy: 1.0000 - val_loss: 2.5151 - val_accuracy: 0.8000\n",
            "Epoch 181/200\n",
            "15/15 [==============================] - 0s 26ms/step - loss: 0.0139 - accuracy: 1.0000 - val_loss: 2.5827 - val_accuracy: 0.8000\n",
            "Epoch 182/200\n",
            "15/15 [==============================] - 0s 25ms/step - loss: 0.0078 - accuracy: 0.9972 - val_loss: 2.8426 - val_accuracy: 0.7333\n",
            "Epoch 183/200\n",
            "15/15 [==============================] - 0s 24ms/step - loss: 0.0801 - accuracy: 0.9582 - val_loss: 1.9475 - val_accuracy: 0.8000\n",
            "Epoch 184/200\n",
            "15/15 [==============================] - 0s 24ms/step - loss: 0.0597 - accuracy: 0.9846 - val_loss: 2.6828 - val_accuracy: 0.7333\n",
            "Epoch 185/200\n",
            "15/15 [==============================] - 0s 24ms/step - loss: 0.1008 - accuracy: 0.9475 - val_loss: 2.9801 - val_accuracy: 0.7333\n",
            "Epoch 186/200\n",
            "15/15 [==============================] - 0s 24ms/step - loss: 0.0112 - accuracy: 0.9884 - val_loss: 2.6196 - val_accuracy: 0.8000\n",
            "Epoch 187/200\n",
            "15/15 [==============================] - 0s 24ms/step - loss: 0.0068 - accuracy: 1.0000 - val_loss: 2.4304 - val_accuracy: 0.8000\n",
            "Epoch 188/200\n",
            "15/15 [==============================] - 0s 24ms/step - loss: 0.0275 - accuracy: 1.0000 - val_loss: 2.2548 - val_accuracy: 0.8000\n",
            "Epoch 189/200\n",
            "15/15 [==============================] - 0s 25ms/step - loss: 0.0360 - accuracy: 0.9924 - val_loss: 1.9143 - val_accuracy: 0.8000\n",
            "Epoch 190/200\n",
            "15/15 [==============================] - 0s 24ms/step - loss: 0.0117 - accuracy: 1.0000 - val_loss: 2.0138 - val_accuracy: 0.7333\n",
            "Epoch 191/200\n",
            "15/15 [==============================] - 0s 24ms/step - loss: 0.0049 - accuracy: 1.0000 - val_loss: 2.1153 - val_accuracy: 0.7333\n",
            "Epoch 192/200\n",
            "15/15 [==============================] - 1s 34ms/step - loss: 0.0012 - accuracy: 1.0000 - val_loss: 2.1692 - val_accuracy: 0.7333\n",
            "Epoch 193/200\n",
            "15/15 [==============================] - 1s 36ms/step - loss: 0.0039 - accuracy: 1.0000 - val_loss: 2.1805 - val_accuracy: 0.7333\n",
            "Epoch 194/200\n",
            "15/15 [==============================] - 0s 33ms/step - loss: 0.1312 - accuracy: 0.9743 - val_loss: 1.4534 - val_accuracy: 0.8667\n",
            "Epoch 195/200\n",
            "15/15 [==============================] - 0s 25ms/step - loss: 0.0075 - accuracy: 1.0000 - val_loss: 1.4211 - val_accuracy: 0.8000\n",
            "Epoch 196/200\n",
            "15/15 [==============================] - 0s 25ms/step - loss: 0.0569 - accuracy: 1.0000 - val_loss: 1.9550 - val_accuracy: 0.8000\n",
            "Epoch 197/200\n",
            "15/15 [==============================] - 0s 25ms/step - loss: 0.0158 - accuracy: 1.0000 - val_loss: 2.2551 - val_accuracy: 0.7333\n",
            "Epoch 198/200\n",
            "15/15 [==============================] - 0s 26ms/step - loss: 0.0050 - accuracy: 1.0000 - val_loss: 2.1008 - val_accuracy: 0.8000\n",
            "Epoch 199/200\n",
            "15/15 [==============================] - 0s 25ms/step - loss: 0.1139 - accuracy: 0.9295 - val_loss: 2.2665 - val_accuracy: 0.8000\n",
            "Epoch 200/200\n",
            "15/15 [==============================] - 0s 26ms/step - loss: 0.0236 - accuracy: 1.0000 - val_loss: 2.0937 - val_accuracy: 0.8000\n"
          ],
          "name": "stdout"
        },
        {
          "output_type": "execute_result",
          "data": {
            "text/plain": [
              "<tensorflow.python.keras.callbacks.History at 0x7efbffadc2b0>"
            ]
          },
          "metadata": {
            "tags": []
          },
          "execution_count": 13
        }
      ]
    },
    {
      "cell_type": "markdown",
      "metadata": {
        "id": "uCLm2oJ4jrPd"
      },
      "source": [
        "### 모델 평가"
      ]
    },
    {
      "cell_type": "code",
      "metadata": {
        "colab": {
          "base_uri": "https://localhost:8080/"
        },
        "id": "udMfpxfshqsO",
        "outputId": "44f670d6-9563-439d-eab8-9a51998e20fe"
      },
      "source": [
        "print('--Evaluation--')\r\n",
        "scores = model.evaluate_generator(test_generator, steps=5)\r\n",
        "print(\"%s: %.2f%%\" %(model.metrics_names[1], scores[1]*100))"
      ],
      "execution_count": 14,
      "outputs": [
        {
          "output_type": "stream",
          "text": [
            "--Evaluation--\n",
            "accuracy: 80.00%\n"
          ],
          "name": "stdout"
        },
        {
          "output_type": "stream",
          "text": [
            "/usr/local/lib/python3.6/dist-packages/tensorflow/python/keras/engine/training.py:1877: UserWarning: `Model.evaluate_generator` is deprecated and will be removed in a future version. Please use `Model.evaluate`, which supports generators.\n",
            "  warnings.warn('`Model.evaluate_generator` is deprecated and '\n"
          ],
          "name": "stderr"
        }
      ]
    },
    {
      "cell_type": "code",
      "metadata": {
        "id": "6iP1T--2iH71"
      },
      "source": [
        ""
      ],
      "execution_count": null,
      "outputs": []
    }
  ]
}