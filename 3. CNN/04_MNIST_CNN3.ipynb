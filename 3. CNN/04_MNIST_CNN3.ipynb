{
  "nbformat": 4,
  "nbformat_minor": 0,
  "metadata": {
    "colab": {
      "name": "04_MNIST_CNN3.ipynb",
      "provenance": [],
      "collapsed_sections": []
    },
    "kernelspec": {
      "name": "python3",
      "display_name": "Python 3"
    },
    "accelerator": "GPU"
  },
  "cells": [
    {
      "cell_type": "markdown",
      "metadata": {
        "id": "27NKMKDaL4hy"
      },
      "source": [
        "# MNIST 손글씨 - Convolutional Neural Network ver.3\r\n",
        "- Conv2D 2개\r\n",
        "- MaxPooling 1개\r\n",
        "- Dropout 2개"
      ]
    },
    {
      "cell_type": "code",
      "metadata": {
        "id": "1I_p2eabLu5i"
      },
      "source": [
        "import numpy as np\r\n",
        "import tensorflow as tf"
      ],
      "execution_count": 1,
      "outputs": []
    },
    {
      "cell_type": "code",
      "metadata": {
        "id": "PdrwHArPMQSp"
      },
      "source": [
        "seed = 2021\r\n",
        "np.random.seed(seed)\r\n",
        "tf.random.set_seed(seed)"
      ],
      "execution_count": 2,
      "outputs": []
    },
    {
      "cell_type": "markdown",
      "metadata": {
        "id": "uZZdrN2cMZrs"
      },
      "source": [
        "### 데이터 전처리"
      ]
    },
    {
      "cell_type": "code",
      "metadata": {
        "id": "1fCfRVetMYdI",
        "colab": {
          "base_uri": "https://localhost:8080/"
        },
        "outputId": "ab5655fd-41ff-4cac-ff42-2a45262ed79b"
      },
      "source": [
        "from tensorflow.keras.datasets import mnist\r\n",
        "(X_train, Y_class_train), (X_test, Y_class_test) = mnist.load_data()"
      ],
      "execution_count": 3,
      "outputs": [
        {
          "output_type": "stream",
          "text": [
            "Downloading data from https://storage.googleapis.com/tensorflow/tf-keras-datasets/mnist.npz\n",
            "11493376/11490434 [==============================] - 0s 0us/step\n"
          ],
          "name": "stdout"
        }
      ]
    },
    {
      "cell_type": "code",
      "metadata": {
        "colab": {
          "base_uri": "https://localhost:8080/"
        },
        "id": "O0AEp-eVjEq9",
        "outputId": "392469f1-2b91-4623-f608-dec8eadb053c"
      },
      "source": [
        "X_train = X_train.reshape(-1, 28, 28, 1)\r\n",
        "X_test = X_test.reshape(-1, 28, 28, 1)\r\n",
        "X_train.shape, X_test.shape"
      ],
      "execution_count": 4,
      "outputs": [
        {
          "output_type": "execute_result",
          "data": {
            "text/plain": [
              "((60000, 28, 28, 1), (10000, 28, 28, 1))"
            ]
          },
          "metadata": {
            "tags": []
          },
          "execution_count": 4
        }
      ]
    },
    {
      "cell_type": "code",
      "metadata": {
        "id": "7QMDI0DwOKyU"
      },
      "source": [
        "X_train = X_train / 255.0\r\n",
        "X_test = X_test / 255.0"
      ],
      "execution_count": 5,
      "outputs": []
    },
    {
      "cell_type": "code",
      "metadata": {
        "colab": {
          "base_uri": "https://localhost:8080/"
        },
        "id": "_xotoDN1PEpW",
        "outputId": "71ba9375-042d-41a5-c80b-1128106582e1"
      },
      "source": [
        "# One hot encoding\r\n",
        "from tensorflow.keras.utils import to_categorical\r\n",
        "Y_train = to_categorical(Y_class_train, 10)\r\n",
        "Y_test = to_categorical(Y_class_test, 10)\r\n",
        "Y_train[0]"
      ],
      "execution_count": 6,
      "outputs": [
        {
          "output_type": "execute_result",
          "data": {
            "text/plain": [
              "array([0., 0., 0., 0., 0., 1., 0., 0., 0., 0.], dtype=float32)"
            ]
          },
          "metadata": {
            "tags": []
          },
          "execution_count": 6
        }
      ]
    },
    {
      "cell_type": "markdown",
      "metadata": {
        "id": "1jy3G3P8PwWE"
      },
      "source": [
        "### 모델 정의/설정/학습"
      ]
    },
    {
      "cell_type": "code",
      "metadata": {
        "id": "e3kttLdePUoj"
      },
      "source": [
        "from tensorflow.keras.models import Sequential\r\n",
        "from tensorflow.keras.layers import Dense, Flatten, Conv2D, MaxPooling2D, Dropout\r\n",
        "import os\r\n",
        "MODEL_DIR = './model/'\r\n",
        "if not os.path.exists(MODEL_DIR):\r\n",
        "  os.mkdir(MODEL_DIR)"
      ],
      "execution_count": 8,
      "outputs": []
    },
    {
      "cell_type": "code",
      "metadata": {
        "colab": {
          "base_uri": "https://localhost:8080/"
        },
        "id": "ZSCe6CtORGPj",
        "outputId": "8e7b6e18-43d8-4088-f2ec-e1ee2d481bb5"
      },
      "source": [
        "model = Sequential([\r\n",
        "                    Conv2D(32, input_shape=(28, 28, 1), kernel_size=(3, 3), activation='relu'),\r\n",
        "                    Conv2D(64, (3, 3), activation='relu'),\r\n",
        "                    MaxPooling2D(pool_size=2), # parameter 개수가 줄어든다\r\n",
        "                    Dropout(0.25),\r\n",
        "                    Flatten(),\r\n",
        "                    Dense(512, activation='relu'),\r\n",
        "                    Dropout(0.5),\r\n",
        "                    Dense(10, activation='softmax')\r\n",
        "])\r\n",
        "model.summary()"
      ],
      "execution_count": 11,
      "outputs": [
        {
          "output_type": "stream",
          "text": [
            "Model: \"sequential\"\n",
            "_________________________________________________________________\n",
            "Layer (type)                 Output Shape              Param #   \n",
            "=================================================================\n",
            "conv2d (Conv2D)              (None, 26, 26, 32)        320       \n",
            "_________________________________________________________________\n",
            "conv2d_1 (Conv2D)            (None, 24, 24, 64)        18496     \n",
            "_________________________________________________________________\n",
            "max_pooling2d (MaxPooling2D) (None, 12, 12, 64)        0         \n",
            "_________________________________________________________________\n",
            "dropout (Dropout)            (None, 12, 12, 64)        0         \n",
            "_________________________________________________________________\n",
            "flatten (Flatten)            (None, 9216)              0         \n",
            "_________________________________________________________________\n",
            "dense (Dense)                (None, 512)               4719104   \n",
            "_________________________________________________________________\n",
            "dropout_1 (Dropout)          (None, 512)               0         \n",
            "_________________________________________________________________\n",
            "dense_1 (Dense)              (None, 10)                5130      \n",
            "=================================================================\n",
            "Total params: 4,743,050\n",
            "Trainable params: 4,743,050\n",
            "Non-trainable params: 0\n",
            "_________________________________________________________________\n"
          ],
          "name": "stdout"
        }
      ]
    },
    {
      "cell_type": "code",
      "metadata": {
        "id": "1aZ31UjMUf96"
      },
      "source": [
        "model.compile(loss='categorical_crossentropy', optimizer='adam', metrics=['accuracy'])"
      ],
      "execution_count": 12,
      "outputs": []
    },
    {
      "cell_type": "code",
      "metadata": {
        "id": "kB4FXiRBUsFA"
      },
      "source": [
        "modelpath = MODEL_DIR + 'best{epoch:03d}-{val_loss:.4f}.hdf5'"
      ],
      "execution_count": 13,
      "outputs": []
    },
    {
      "cell_type": "code",
      "metadata": {
        "id": "NLY8Ug5XU3WG"
      },
      "source": [
        "from tensorflow.keras.callbacks import ModelCheckpoint, EarlyStopping\r\n",
        "checkpointer = ModelCheckpoint(filepath=modelpath, monitor='val_loss', verbose=1, save_best_only=True)\r\n",
        "early_stopping = EarlyStopping(monitor='val_loss', patience=10)"
      ],
      "execution_count": 14,
      "outputs": []
    },
    {
      "cell_type": "code",
      "metadata": {
        "colab": {
          "base_uri": "https://localhost:8080/"
        },
        "id": "eolI8e2WVisS",
        "outputId": "e6405831-7f65-4197-9117-a33da85b81ba"
      },
      "source": [
        "history = model.fit(X_train, Y_train, validation_split=0.2, epochs=30, verbose=0, callbacks=[checkpointer, early_stopping], batch_size=200)"
      ],
      "execution_count": 15,
      "outputs": [
        {
          "output_type": "stream",
          "text": [
            "\n",
            "Epoch 00001: val_loss improved from inf to 0.05548, saving model to ./model/best001-0.0555.hdf5\n",
            "\n",
            "Epoch 00002: val_loss improved from 0.05548 to 0.04907, saving model to ./model/best002-0.0491.hdf5\n",
            "\n",
            "Epoch 00003: val_loss improved from 0.04907 to 0.03793, saving model to ./model/best003-0.0379.hdf5\n",
            "\n",
            "Epoch 00004: val_loss improved from 0.03793 to 0.03604, saving model to ./model/best004-0.0360.hdf5\n",
            "\n",
            "Epoch 00005: val_loss improved from 0.03604 to 0.03468, saving model to ./model/best005-0.0347.hdf5\n",
            "\n",
            "Epoch 00006: val_loss improved from 0.03468 to 0.03378, saving model to ./model/best006-0.0338.hdf5\n",
            "\n",
            "Epoch 00007: val_loss did not improve from 0.03378\n",
            "\n",
            "Epoch 00008: val_loss did not improve from 0.03378\n",
            "\n",
            "Epoch 00009: val_loss did not improve from 0.03378\n",
            "\n",
            "Epoch 00010: val_loss did not improve from 0.03378\n",
            "\n",
            "Epoch 00011: val_loss improved from 0.03378 to 0.03349, saving model to ./model/best011-0.0335.hdf5\n",
            "\n",
            "Epoch 00012: val_loss did not improve from 0.03349\n",
            "\n",
            "Epoch 00013: val_loss did not improve from 0.03349\n",
            "\n",
            "Epoch 00014: val_loss did not improve from 0.03349\n",
            "\n",
            "Epoch 00015: val_loss did not improve from 0.03349\n",
            "\n",
            "Epoch 00016: val_loss did not improve from 0.03349\n",
            "\n",
            "Epoch 00017: val_loss did not improve from 0.03349\n",
            "\n",
            "Epoch 00018: val_loss did not improve from 0.03349\n",
            "\n",
            "Epoch 00019: val_loss did not improve from 0.03349\n",
            "\n",
            "Epoch 00020: val_loss did not improve from 0.03349\n",
            "\n",
            "Epoch 00021: val_loss did not improve from 0.03349\n"
          ],
          "name": "stdout"
        }
      ]
    },
    {
      "cell_type": "code",
      "metadata": {
        "id": "NKg3Yt94V0bs"
      },
      "source": [
        "from tensorflow.keras.models import load_model\r\n",
        "best_model = load_model('./model/best011-0.0335.hdf5')"
      ],
      "execution_count": 16,
      "outputs": []
    },
    {
      "cell_type": "code",
      "metadata": {
        "colab": {
          "base_uri": "https://localhost:8080/"
        },
        "id": "Ts79pFEhWLU4",
        "outputId": "b29d1e7e-4c1a-4a4d-a55c-0a662cc2abbb"
      },
      "source": [
        "acc = best_model.evaluate(X_test, Y_test, verbose=2)[1]\r\n",
        "print(f'\\n Test Accuracy: {acc:.4f}')"
      ],
      "execution_count": 17,
      "outputs": [
        {
          "output_type": "stream",
          "text": [
            "313/313 - 1s - loss: 0.0293 - accuracy: 0.9912\n",
            "\n",
            " Test Accuracy: 0.9912\n"
          ],
          "name": "stdout"
        }
      ]
    },
    {
      "cell_type": "code",
      "metadata": {
        "id": "XeXecd--WhRi"
      },
      "source": [
        "# 검증셋의 오차\r\n",
        "y_vloss = history.history['val_loss']\r\n",
        "# 학습셋의 오차\r\n",
        "y_loss = history.history['loss']"
      ],
      "execution_count": 18,
      "outputs": []
    },
    {
      "cell_type": "code",
      "metadata": {
        "colab": {
          "base_uri": "https://localhost:8080/",
          "height": 388
        },
        "id": "HUYanDl-XSaw",
        "outputId": "2c1fb08b-4729-4fae-f53e-768710257cd9"
      },
      "source": [
        "import matplotlib.pyplot as plt\r\n",
        "\r\n",
        "x_len = np.arange(1, len(y_loss)+1)\r\n",
        "plt.figure(figsize=(8, 6))\r\n",
        "plt.plot(x_len, y_vloss, marker='.', c='red', label='Validation_loss')\r\n",
        "plt.plot(x_len, y_loss, marker='.', c='blue', label='Trainset_loss')\r\n",
        "plt.legend(loc='upper right')\r\n",
        "plt.grid()\r\n",
        "plt.xlabel('epoch')\r\n",
        "plt.ylabel('loss')\r\n",
        "plt.show()"
      ],
      "execution_count": 19,
      "outputs": [
        {
          "output_type": "display_data",
          "data": {
            "image/png": "[encoded data removed]",
            "text/plain": [
              "<Figure size 576x432 with 1 Axes>"
            ]
          },
          "metadata": {
            "tags": [],
            "needs_background": "light"
          }
        }
      ]
    },
    {
      "cell_type": "code",
      "metadata": {
        "id": "DdENmrMXX-gR"
      },
      "source": [
        ""
      ],
      "execution_count": null,
      "outputs": []
    }
  ]
}