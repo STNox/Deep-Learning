{
  "nbformat": 4,
  "nbformat_minor": 0,
  "metadata": {
    "colab": {
      "name": "08_다각형분류.ipynb",
      "provenance": [],
      "toc_visible": true
    },
    "kernelspec": {
      "name": "python3",
      "display_name": "Python 3"
    }
  },
  "cells": [
    {
      "cell_type": "markdown",
      "metadata": {
        "id": "qdhKUSdPcT7m"
      },
      "source": [
        "# 원, 삼각형, 사각형 구분하기"
      ]
    },
    {
      "cell_type": "code",
      "metadata": {
        "id": "D4CjCOyybx1u"
      },
      "source": [
        "!unzip -qq handwriting_shape.zip -d handwriting_shape"
      ],
      "execution_count": 1,
      "outputs": []
    },
    {
      "cell_type": "code",
      "metadata": {
        "id": "ZWln1ED5cngU"
      },
      "source": [
        "!unzip -qq hard_handwriting_shape.zip -d hard_handwriting_shape"
      ],
      "execution_count": 2,
      "outputs": []
    },
    {
      "cell_type": "markdown",
      "metadata": {
        "id": "z8WFUlt3cX9k"
      },
      "source": [
        "### 1. CNN 모델"
      ]
    },
    {
      "cell_type": "code",
      "metadata": {
        "id": "Go7-DhcPc608"
      },
      "source": [
        "import numpy as np\r\n",
        "import tensorflow as tf\r\n",
        "from tensorflow.keras.models import Sequential\r\n",
        "from tensorflow.keras.layers import Dense, Flatten, Conv2D, MaxPooling2D\r\n",
        "from tensorflow.keras.preprocessing.image import ImageDataGenerator"
      ],
      "execution_count": 3,
      "outputs": []
    },
    {
      "cell_type": "code",
      "metadata": {
        "id": "nvwNDj_Tdq9f"
      },
      "source": [
        "seed = 2021\r\n",
        "np.random.seed(seed)\r\n",
        "tf.random.set_seed(seed)"
      ],
      "execution_count": 4,
      "outputs": []
    },
    {
      "cell_type": "markdown",
      "metadata": {
        "id": "Z3ABcqYAd2ad"
      },
      "source": [
        "### 데이터 셋 생성하기"
      ]
    },
    {
      "cell_type": "code",
      "metadata": {
        "colab": {
          "base_uri": "https://localhost:8080/"
        },
        "id": "sHm9OHr4dvyF",
        "outputId": "0887c91c-6448-41db-eeb4-75428d2ddde3"
      },
      "source": [
        "train_datagen = ImageDataGenerator(rescale=1. / 255)\r\n",
        "train_generator = train_datagen.flow_from_directory(\r\n",
        "    'handwriting_shape/train',\r\n",
        "    target_size=(24, 24),\r\n",
        "    batch_size=3,\r\n",
        "    class_mode='categorical'\r\n",
        ")"
      ],
      "execution_count": 5,
      "outputs": [
        {
          "output_type": "stream",
          "text": [
            "Found 45 images belonging to 3 classes.\n"
          ],
          "name": "stdout"
        }
      ]
    },
    {
      "cell_type": "code",
      "metadata": {
        "colab": {
          "base_uri": "https://localhost:8080/"
        },
        "id": "8KZcAZzdebv1",
        "outputId": "72532f78-1170-4712-ad3f-ec14edc293ce"
      },
      "source": [
        "!ls handwriting_shape/train"
      ],
      "execution_count": 6,
      "outputs": [
        {
          "output_type": "stream",
          "text": [
            "circle\trectangle  triangle\n"
          ],
          "name": "stdout"
        }
      ]
    },
    {
      "cell_type": "code",
      "metadata": {
        "colab": {
          "base_uri": "https://localhost:8080/"
        },
        "id": "kazJ3w__egTN",
        "outputId": "cfca3b06-5790-4017-f3e0-5531d32fbd87"
      },
      "source": [
        "test_datagen = ImageDataGenerator(rescale=1. / 255)\r\n",
        "test_generator = test_datagen.flow_from_directory(\r\n",
        "    'handwriting_shape/test',\r\n",
        "    target_size=(24, 24),\r\n",
        "    batch_size=3,\r\n",
        "    class_mode='categorical'\r\n",
        ")"
      ],
      "execution_count": 7,
      "outputs": [
        {
          "output_type": "stream",
          "text": [
            "Found 15 images belonging to 3 classes.\n"
          ],
          "name": "stdout"
        }
      ]
    },
    {
      "cell_type": "code",
      "metadata": {
        "colab": {
          "base_uri": "https://localhost:8080/"
        },
        "id": "_hcwQx3cetGU",
        "outputId": "7fa9b7a1-be13-4131-f445-d01c872ed400"
      },
      "source": [
        "train_generator.labels"
      ],
      "execution_count": 8,
      "outputs": [
        {
          "output_type": "execute_result",
          "data": {
            "text/plain": [
              "array([0, 0, 0, 0, 0, 0, 0, 0, 0, 0, 0, 0, 0, 0, 0, 1, 1, 1, 1, 1, 1, 1,\n",
              "       1, 1, 1, 1, 1, 1, 1, 1, 2, 2, 2, 2, 2, 2, 2, 2, 2, 2, 2, 2, 2, 2,\n",
              "       2], dtype=int32)"
            ]
          },
          "metadata": {
            "tags": []
          },
          "execution_count": 8
        }
      ]
    },
    {
      "cell_type": "code",
      "metadata": {
        "colab": {
          "base_uri": "https://localhost:8080/",
          "height": 35
        },
        "id": "cL_RJ23je0mc",
        "outputId": "ed9827b8-f4a5-4d7a-d805-c52a99f5b727"
      },
      "source": [
        "train_generator.filenames[0]"
      ],
      "execution_count": 9,
      "outputs": [
        {
          "output_type": "execute_result",
          "data": {
            "application/vnd.google.colaboratory.intrinsic+json": {
              "type": "string"
            },
            "text/plain": [
              "'circle/circle001.png'"
            ]
          },
          "metadata": {
            "tags": []
          },
          "execution_count": 9
        }
      ]
    },
    {
      "cell_type": "markdown",
      "metadata": {
        "id": "PZ1doWDIfKIU"
      },
      "source": [
        "### 모델 정의/설정/학습"
      ]
    },
    {
      "cell_type": "code",
      "metadata": {
        "colab": {
          "base_uri": "https://localhost:8080/"
        },
        "id": "UynzMueue9jN",
        "outputId": "97116955-0b48-4ba3-eb3f-2655bea03c30"
      },
      "source": [
        "model = Sequential([\r\n",
        "                    Conv2D(32, (3, 3), activation='relu', input_shape=(24, 24, 3)),\r\n",
        "                    Conv2D(64, (3, 3), activation='relu'),\r\n",
        "                    MaxPooling2D(pool_size=(2, 2)),\r\n",
        "                    Flatten(),\r\n",
        "                    Dense(128, activation='relu'),\r\n",
        "                    Dense(3, activation='softmax')\r\n",
        "])\r\n",
        "model.summary()"
      ],
      "execution_count": 10,
      "outputs": [
        {
          "output_type": "stream",
          "text": [
            "Model: \"sequential\"\n",
            "_________________________________________________________________\n",
            "Layer (type)                 Output Shape              Param #   \n",
            "=================================================================\n",
            "conv2d (Conv2D)              (None, 22, 22, 32)        896       \n",
            "_________________________________________________________________\n",
            "conv2d_1 (Conv2D)            (None, 20, 20, 64)        18496     \n",
            "_________________________________________________________________\n",
            "max_pooling2d (MaxPooling2D) (None, 10, 10, 64)        0         \n",
            "_________________________________________________________________\n",
            "flatten (Flatten)            (None, 6400)              0         \n",
            "_________________________________________________________________\n",
            "dense (Dense)                (None, 128)               819328    \n",
            "_________________________________________________________________\n",
            "dense_1 (Dense)              (None, 3)                 387       \n",
            "=================================================================\n",
            "Total params: 839,107\n",
            "Trainable params: 839,107\n",
            "Non-trainable params: 0\n",
            "_________________________________________________________________\n"
          ],
          "name": "stdout"
        }
      ]
    },
    {
      "cell_type": "code",
      "metadata": {
        "id": "0O6r018xftlv"
      },
      "source": [
        "model.compile(loss='categorical_crossentropy', optimizer='adam', metrics=['accuracy'])"
      ],
      "execution_count": 11,
      "outputs": []
    },
    {
      "cell_type": "markdown",
      "metadata": {
        "id": "95_vwPnygjC1"
      },
      "source": [
        "### 모델 학습\r\n",
        "- 첫번째 인자: 훈련데이터셋 제공하는 제너레이터\r\n",
        "- steps_per_epoch: 한 epoch에 사용한 스텝 수 지정\r\n",
        "- epochs: 학습 반복 횟수\r\n",
        "- validation_data: 검증데이터셋 제공하는 제너레이터\r\n",
        "- validation_steps: 한 epoch 종료 시마다 검증할 때 사용되는 검증 스텝 수 지정"
      ]
    },
    {
      "cell_type": "code",
      "metadata": {
        "colab": {
          "base_uri": "https://localhost:8080/"
        },
        "id": "5vPEjpiyghUW",
        "outputId": "07547d41-ee0b-406e-b6bb-3f871d34e6c3"
      },
      "source": [
        "model.fit_generator(\r\n",
        "    train_generator,\r\n",
        "    steps_per_epoch=15,\r\n",
        "    epochs=50,\r\n",
        "    validation_data=test_generator,\r\n",
        "    validation_steps=5\r\n",
        ")"
      ],
      "execution_count": 12,
      "outputs": [
        {
          "output_type": "stream",
          "text": [
            "/usr/local/lib/python3.6/dist-packages/tensorflow/python/keras/engine/training.py:1844: UserWarning: `Model.fit_generator` is deprecated and will be removed in a future version. Please use `Model.fit`, which supports generators.\n",
            "  warnings.warn('`Model.fit_generator` is deprecated and '\n"
          ],
          "name": "stderr"
        },
        {
          "output_type": "stream",
          "text": [
            "Epoch 1/50\n",
            "15/15 [==============================] - 2s 54ms/step - loss: 1.6247 - accuracy: 0.5373 - val_loss: 0.8169 - val_accuracy: 0.6667\n",
            "Epoch 2/50\n",
            "15/15 [==============================] - 0s 22ms/step - loss: 0.5652 - accuracy: 0.7945 - val_loss: 0.2033 - val_accuracy: 0.9333\n",
            "Epoch 3/50\n",
            "15/15 [==============================] - 0s 23ms/step - loss: 0.0782 - accuracy: 0.9924 - val_loss: 0.0816 - val_accuracy: 1.0000\n",
            "Epoch 4/50\n",
            "15/15 [==============================] - 0s 23ms/step - loss: 0.0230 - accuracy: 1.0000 - val_loss: 0.0740 - val_accuracy: 0.9333\n",
            "Epoch 5/50\n",
            "15/15 [==============================] - 0s 23ms/step - loss: 0.0029 - accuracy: 1.0000 - val_loss: 0.0659 - val_accuracy: 1.0000\n",
            "Epoch 6/50\n",
            "15/15 [==============================] - 0s 22ms/step - loss: 8.7783e-04 - accuracy: 1.0000 - val_loss: 0.0518 - val_accuracy: 1.0000\n",
            "Epoch 7/50\n",
            "15/15 [==============================] - 0s 23ms/step - loss: 5.5387e-04 - accuracy: 1.0000 - val_loss: 0.0490 - val_accuracy: 1.0000\n",
            "Epoch 8/50\n",
            "15/15 [==============================] - 0s 23ms/step - loss: 4.2088e-04 - accuracy: 1.0000 - val_loss: 0.0449 - val_accuracy: 1.0000\n",
            "Epoch 9/50\n",
            "15/15 [==============================] - 0s 33ms/step - loss: 3.2364e-04 - accuracy: 1.0000 - val_loss: 0.0415 - val_accuracy: 1.0000\n",
            "Epoch 10/50\n",
            "15/15 [==============================] - 0s 22ms/step - loss: 2.1739e-04 - accuracy: 1.0000 - val_loss: 0.0397 - val_accuracy: 1.0000\n",
            "Epoch 11/50\n",
            "15/15 [==============================] - 0s 23ms/step - loss: 1.7155e-04 - accuracy: 1.0000 - val_loss: 0.0389 - val_accuracy: 1.0000\n",
            "Epoch 12/50\n",
            "15/15 [==============================] - 0s 24ms/step - loss: 1.5988e-04 - accuracy: 1.0000 - val_loss: 0.0356 - val_accuracy: 1.0000\n",
            "Epoch 13/50\n",
            "15/15 [==============================] - 0s 23ms/step - loss: 1.7321e-04 - accuracy: 1.0000 - val_loss: 0.0332 - val_accuracy: 1.0000\n",
            "Epoch 14/50\n",
            "15/15 [==============================] - 0s 31ms/step - loss: 1.3146e-04 - accuracy: 1.0000 - val_loss: 0.0302 - val_accuracy: 1.0000\n",
            "Epoch 15/50\n",
            "15/15 [==============================] - 0s 30ms/step - loss: 1.1012e-04 - accuracy: 1.0000 - val_loss: 0.0280 - val_accuracy: 1.0000\n",
            "Epoch 16/50\n",
            "15/15 [==============================] - 0s 30ms/step - loss: 6.9531e-05 - accuracy: 1.0000 - val_loss: 0.0288 - val_accuracy: 1.0000\n",
            "Epoch 17/50\n",
            "15/15 [==============================] - 0s 30ms/step - loss: 6.6055e-05 - accuracy: 1.0000 - val_loss: 0.0277 - val_accuracy: 1.0000\n",
            "Epoch 18/50\n",
            "15/15 [==============================] - 0s 24ms/step - loss: 4.0785e-05 - accuracy: 1.0000 - val_loss: 0.0261 - val_accuracy: 1.0000\n",
            "Epoch 19/50\n",
            "15/15 [==============================] - 0s 22ms/step - loss: 2.9457e-05 - accuracy: 1.0000 - val_loss: 0.0256 - val_accuracy: 1.0000\n",
            "Epoch 20/50\n",
            "15/15 [==============================] - 0s 21ms/step - loss: 3.0384e-05 - accuracy: 1.0000 - val_loss: 0.0240 - val_accuracy: 1.0000\n",
            "Epoch 21/50\n",
            "15/15 [==============================] - 0s 23ms/step - loss: 4.8603e-05 - accuracy: 1.0000 - val_loss: 0.0213 - val_accuracy: 1.0000\n",
            "Epoch 22/50\n",
            "15/15 [==============================] - 0s 22ms/step - loss: 3.1969e-05 - accuracy: 1.0000 - val_loss: 0.0208 - val_accuracy: 1.0000\n",
            "Epoch 23/50\n",
            "15/15 [==============================] - 0s 23ms/step - loss: 2.6707e-05 - accuracy: 1.0000 - val_loss: 0.0205 - val_accuracy: 1.0000\n",
            "Epoch 24/50\n",
            "15/15 [==============================] - 0s 22ms/step - loss: 1.6256e-05 - accuracy: 1.0000 - val_loss: 0.0203 - val_accuracy: 1.0000\n",
            "Epoch 25/50\n",
            "15/15 [==============================] - 0s 22ms/step - loss: 2.4349e-05 - accuracy: 1.0000 - val_loss: 0.0188 - val_accuracy: 1.0000\n",
            "Epoch 26/50\n",
            "15/15 [==============================] - 0s 24ms/step - loss: 1.9010e-05 - accuracy: 1.0000 - val_loss: 0.0181 - val_accuracy: 1.0000\n",
            "Epoch 27/50\n",
            "15/15 [==============================] - 0s 23ms/step - loss: 1.1910e-05 - accuracy: 1.0000 - val_loss: 0.0187 - val_accuracy: 1.0000\n",
            "Epoch 28/50\n",
            "15/15 [==============================] - 0s 22ms/step - loss: 1.9941e-05 - accuracy: 1.0000 - val_loss: 0.0165 - val_accuracy: 1.0000\n",
            "Epoch 29/50\n",
            "15/15 [==============================] - 0s 22ms/step - loss: 1.4502e-05 - accuracy: 1.0000 - val_loss: 0.0158 - val_accuracy: 1.0000\n",
            "Epoch 30/50\n",
            "15/15 [==============================] - 0s 22ms/step - loss: 1.1517e-05 - accuracy: 1.0000 - val_loss: 0.0158 - val_accuracy: 1.0000\n",
            "Epoch 31/50\n",
            "15/15 [==============================] - 0s 22ms/step - loss: 1.0243e-05 - accuracy: 1.0000 - val_loss: 0.0150 - val_accuracy: 1.0000\n",
            "Epoch 32/50\n",
            "15/15 [==============================] - 0s 26ms/step - loss: 9.7697e-06 - accuracy: 1.0000 - val_loss: 0.0150 - val_accuracy: 1.0000\n",
            "Epoch 33/50\n",
            "15/15 [==============================] - 0s 30ms/step - loss: 6.7652e-06 - accuracy: 1.0000 - val_loss: 0.0143 - val_accuracy: 1.0000\n",
            "Epoch 34/50\n",
            "15/15 [==============================] - 0s 29ms/step - loss: 6.8358e-06 - accuracy: 1.0000 - val_loss: 0.0140 - val_accuracy: 1.0000\n",
            "Epoch 35/50\n",
            "15/15 [==============================] - 0s 29ms/step - loss: 6.8511e-06 - accuracy: 1.0000 - val_loss: 0.0134 - val_accuracy: 1.0000\n",
            "Epoch 36/50\n",
            "15/15 [==============================] - 0s 29ms/step - loss: 5.8599e-06 - accuracy: 1.0000 - val_loss: 0.0132 - val_accuracy: 1.0000\n",
            "Epoch 37/50\n",
            "15/15 [==============================] - 0s 22ms/step - loss: 4.3256e-06 - accuracy: 1.0000 - val_loss: 0.0132 - val_accuracy: 1.0000\n",
            "Epoch 38/50\n",
            "15/15 [==============================] - 0s 21ms/step - loss: 4.2796e-06 - accuracy: 1.0000 - val_loss: 0.0128 - val_accuracy: 1.0000\n",
            "Epoch 39/50\n",
            "15/15 [==============================] - 0s 23ms/step - loss: 5.1031e-06 - accuracy: 1.0000 - val_loss: 0.0121 - val_accuracy: 1.0000\n",
            "Epoch 40/50\n",
            "15/15 [==============================] - 0s 22ms/step - loss: 4.5016e-06 - accuracy: 1.0000 - val_loss: 0.0120 - val_accuracy: 1.0000\n",
            "Epoch 41/50\n",
            "15/15 [==============================] - 0s 22ms/step - loss: 3.6278e-06 - accuracy: 1.0000 - val_loss: 0.0120 - val_accuracy: 1.0000\n",
            "Epoch 42/50\n",
            "15/15 [==============================] - 0s 23ms/step - loss: 5.3136e-06 - accuracy: 1.0000 - val_loss: 0.0116 - val_accuracy: 1.0000\n",
            "Epoch 43/50\n",
            "15/15 [==============================] - 0s 29ms/step - loss: 3.0665e-06 - accuracy: 1.0000 - val_loss: 0.0114 - val_accuracy: 1.0000\n",
            "Epoch 44/50\n",
            "15/15 [==============================] - 0s 29ms/step - loss: 3.0396e-06 - accuracy: 1.0000 - val_loss: 0.0112 - val_accuracy: 1.0000\n",
            "Epoch 45/50\n",
            "15/15 [==============================] - 0s 22ms/step - loss: 2.7220e-06 - accuracy: 1.0000 - val_loss: 0.0111 - val_accuracy: 1.0000\n",
            "Epoch 46/50\n",
            "15/15 [==============================] - 0s 22ms/step - loss: 2.7178e-06 - accuracy: 1.0000 - val_loss: 0.0108 - val_accuracy: 1.0000\n",
            "Epoch 47/50\n",
            "15/15 [==============================] - 0s 24ms/step - loss: 2.2794e-06 - accuracy: 1.0000 - val_loss: 0.0107 - val_accuracy: 1.0000\n",
            "Epoch 48/50\n",
            "15/15 [==============================] - 0s 29ms/step - loss: 2.3646e-06 - accuracy: 1.0000 - val_loss: 0.0105 - val_accuracy: 1.0000\n",
            "Epoch 49/50\n",
            "15/15 [==============================] - 0s 31ms/step - loss: 2.4809e-06 - accuracy: 1.0000 - val_loss: 0.0101 - val_accuracy: 1.0000\n",
            "Epoch 50/50\n",
            "15/15 [==============================] - 0s 32ms/step - loss: 2.2620e-06 - accuracy: 1.0000 - val_loss: 0.0102 - val_accuracy: 1.0000\n"
          ],
          "name": "stdout"
        },
        {
          "output_type": "execute_result",
          "data": {
            "text/plain": [
              "<tensorflow.python.keras.callbacks.History at 0x7f442d096fd0>"
            ]
          },
          "metadata": {
            "tags": []
          },
          "execution_count": 12
        }
      ]
    },
    {
      "cell_type": "code",
      "metadata": {
        "colab": {
          "base_uri": "https://localhost:8080/"
        },
        "id": "udMfpxfshqsO",
        "outputId": "aa69272e-2530-49b5-d66e-4b7aa5b387b3"
      },
      "source": [
        "print('--Evaluation--')\r\n",
        "scores = model.evaluate_generator(test_generator, steps=5)\r\n",
        "print(\"%s: %.2f%%\" %(model.metrics_names[1], scores[1]*100))"
      ],
      "execution_count": 13,
      "outputs": [
        {
          "output_type": "stream",
          "text": [
            "--Evaluation--\n",
            "accuracy: 100.00%\n"
          ],
          "name": "stdout"
        },
        {
          "output_type": "stream",
          "text": [
            "/usr/local/lib/python3.6/dist-packages/tensorflow/python/keras/engine/training.py:1877: UserWarning: `Model.evaluate_generator` is deprecated and will be removed in a future version. Please use `Model.evaluate`, which supports generators.\n",
            "  warnings.warn('`Model.evaluate_generator` is deprecated and '\n"
          ],
          "name": "stderr"
        }
      ]
    },
    {
      "cell_type": "code",
      "metadata": {
        "id": "6iP1T--2iH71"
      },
      "source": [
        ""
      ],
      "execution_count": null,
      "outputs": []
    }
  ]
}