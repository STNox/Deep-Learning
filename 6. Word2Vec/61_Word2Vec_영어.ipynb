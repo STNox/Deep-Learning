{
  "nbformat": 4,
  "nbformat_minor": 0,
  "metadata": {
    "colab": {
      "name": "61_Word2Vec_영어.ipynb",
      "provenance": [],
      "collapsed_sections": []
    },
    "kernelspec": {
      "name": "python3",
      "display_name": "Python 3"
    }
  },
  "cells": [
    {
      "cell_type": "markdown",
      "metadata": {
        "id": "AixCafbfhvwN"
      },
      "source": [
        "# 영어 Word2Vec 만들기\r\n",
        "- 영어로 된 코퍼스를 다운받아 전처리를 수행\r\n",
        "- 전처리한 데이터를 바탕으로 Word2Vec 수행"
      ]
    },
    {
      "cell_type": "code",
      "metadata": {
        "colab": {
          "base_uri": "https://localhost:8080/"
        },
        "id": "i327VCHNhcTK",
        "outputId": "47457ae6-8033-46ec-b151-a8af5424b3d8"
      },
      "source": [
        "import nltk\r\n",
        "nltk.download('punkt')"
      ],
      "execution_count": 1,
      "outputs": [
        {
          "output_type": "stream",
          "text": [
            "[nltk_data] Downloading package punkt to /root/nltk_data...\n",
            "[nltk_data]   Unzipping tokenizers/punkt.zip.\n"
          ],
          "name": "stdout"
        },
        {
          "output_type": "execute_result",
          "data": {
            "text/plain": [
              "True"
            ]
          },
          "metadata": {
            "tags": []
          },
          "execution_count": 1
        }
      ]
    },
    {
      "cell_type": "code",
      "metadata": {
        "id": "QbuHamdFh9Fz"
      },
      "source": [
        "import urllib.request\r\n",
        "import zipfile\r\n",
        "from lxml import etree\r\n",
        "import re\r\n",
        "from nltk.tokenize import word_tokenize, sent_tokenize"
      ],
      "execution_count": 2,
      "outputs": []
    },
    {
      "cell_type": "markdown",
      "metadata": {
        "id": "Tz1iuotAiIyV"
      },
      "source": [
        "### 훈련 데이터 이해하기"
      ]
    },
    {
      "cell_type": "code",
      "metadata": {
        "colab": {
          "base_uri": "https://localhost:8080/"
        },
        "id": "_IXbDrp2iIE1",
        "outputId": "5e03d8c3-d6fc-4896-e016-bba28921cfd2"
      },
      "source": [
        "urllib.request.urlretrieve('https://raw.githubusercontent.com/GaoleMeng/RNN-and-FFNN-textClassification/master/ted_en-20160408.xml', filename='ted_en-20160408.xml')"
      ],
      "execution_count": 4,
      "outputs": [
        {
          "output_type": "execute_result",
          "data": {
            "text/plain": [
              "('ted_en-20160408.xml', <http.client.HTTPMessage at 0x7f35f498bc50>)"
            ]
          },
          "metadata": {
            "tags": []
          },
          "execution_count": 4
        }
      ]
    },
    {
      "cell_type": "markdown",
      "metadata": {
        "id": "z5ztPjG8ioCu"
      },
      "source": [
        "### 훈련 데이터 전처리하기"
      ]
    },
    {
      "cell_type": "code",
      "metadata": {
        "id": "dqVtQ4Q-ib12"
      },
      "source": [
        "targetXML = open('ted_en-20160408.xml', 'r', encoding='utf8')\r\n",
        "target_text = etree.parse(targetXML)\r\n",
        "parse_text = '\\n'.join(target_text.xpath('//content/text()'))\r\n",
        "\r\n",
        "content_text = re.sub(r'\\([^)]*\\)', '', parse_text)\r\n",
        "\r\n",
        "sent_text = sent_tokenize(content_text)\r\n",
        "\r\n",
        "normalized_text = []\r\n",
        "for string in sent_text:\r\n",
        "     tokens = re.sub(r\"[^a-z0-9]+\", \" \", string.lower())\r\n",
        "     normalized_text.append(tokens)\r\n",
        "\r\n",
        "result = [word_tokenize(sentence) for sentence in normalized_text]"
      ],
      "execution_count": 5,
      "outputs": []
    },
    {
      "cell_type": "code",
      "metadata": {
        "colab": {
          "base_uri": "https://localhost:8080/"
        },
        "id": "LrwjWntAjR9Y",
        "outputId": "e4b23b6d-6825-42b2-a642-9ad0681e96ab"
      },
      "source": [
        "print(f'총 샘플의 개수: {len(result)}')\r\n",
        "for line in result[:3]:\r\n",
        "  print(line)"
      ],
      "execution_count": 6,
      "outputs": [
        {
          "output_type": "stream",
          "text": [
            "총 샘플의 개수: 273424\n",
            "['here', 'are', 'two', 'reasons', 'companies', 'fail', 'they', 'only', 'do', 'more', 'of', 'the', 'same', 'or', 'they', 'only', 'do', 'what', 's', 'new']\n",
            "['to', 'me', 'the', 'real', 'real', 'solution', 'to', 'quality', 'growth', 'is', 'figuring', 'out', 'the', 'balance', 'between', 'two', 'activities', 'exploration', 'and', 'exploitation']\n",
            "['both', 'are', 'necessary', 'but', 'it', 'can', 'be', 'too', 'much', 'of', 'a', 'good', 'thing']\n"
          ],
          "name": "stdout"
        }
      ]
    },
    {
      "cell_type": "markdown",
      "metadata": {
        "id": "22npGkmbjdkZ"
      },
      "source": [
        "### Word2Vec 훈련시키기\r\n",
        "- size = 워드 벡터의 특징 값, 임베딩 된 벡터의 차원\r\n",
        "- window = 컨텍스트 윈도우 크기\r\n",
        "- min_count = 단어 최소 빈도 수 제한\r\n",
        "- workers = 학습을 위한 프로세스 수\r\n",
        "- sg = 0은 CBOW, 1은 Skip-gram"
      ]
    },
    {
      "cell_type": "code",
      "metadata": {
        "id": "aYXqTTVpjaGQ"
      },
      "source": [
        "from gensim.models import Word2Vec\r\n",
        "model = Word2Vec(sentences=result, size=100, window=5, min_count=5, workers=4, sg=0)"
      ],
      "execution_count": 7,
      "outputs": []
    },
    {
      "cell_type": "code",
      "metadata": {
        "colab": {
          "base_uri": "https://localhost:8080/"
        },
        "id": "9oJXqA4xkFli",
        "outputId": "e5e5c7b7-f34e-4356-a343-916f2eea9cb2"
      },
      "source": [
        "model_result = model.wv.most_similar('man')\r\n",
        "model_result"
      ],
      "execution_count": 9,
      "outputs": [
        {
          "output_type": "execute_result",
          "data": {
            "text/plain": [
              "[('woman', 0.8554869890213013),\n",
              " ('guy', 0.8004087209701538),\n",
              " ('lady', 0.7900898456573486),\n",
              " ('boy', 0.7818707823753357),\n",
              " ('soldier', 0.7612593173980713),\n",
              " ('girl', 0.7534786462783813),\n",
              " ('gentleman', 0.7513275146484375),\n",
              " ('poet', 0.6957038640975952),\n",
              " ('kid', 0.6824278235435486),\n",
              " ('friend', 0.674918532371521)]"
            ]
          },
          "metadata": {
            "tags": []
          },
          "execution_count": 9
        }
      ]
    },
    {
      "cell_type": "code",
      "metadata": {
        "colab": {
          "base_uri": "https://localhost:8080/"
        },
        "id": "IS5oX4efkMXi",
        "outputId": "ba10ae03-cd43-42a7-b9d2-fe6cfe151082"
      },
      "source": [
        "model.wv.most_similar(positive=['man', 'girl'], negative=['boy'], topn=3)   # man - boy + girl"
      ],
      "execution_count": 11,
      "outputs": [
        {
          "output_type": "execute_result",
          "data": {
            "text/plain": [
              "[('woman', 0.835976243019104),\n",
              " ('soldier', 0.746188759803772),\n",
              " ('lady', 0.7460042238235474)]"
            ]
          },
          "metadata": {
            "tags": []
          },
          "execution_count": 11
        }
      ]
    },
    {
      "cell_type": "markdown",
      "metadata": {
        "id": "Mdk6naktlltG"
      },
      "source": [
        "### 모델 저장 및 로드"
      ]
    },
    {
      "cell_type": "code",
      "metadata": {
        "id": "1RrhW2Qlkx0V"
      },
      "source": [
        "from gensim.models import KeyedVectors\r\n",
        "model.wv.save_word2vec_format('eng_w2v') # 모델 저장\r\n",
        "loaded_model = KeyedVectors.load_word2vec_format(\"eng_w2v\") # 모델 로드"
      ],
      "execution_count": 12,
      "outputs": []
    },
    {
      "cell_type": "code",
      "metadata": {
        "colab": {
          "base_uri": "https://localhost:8080/"
        },
        "id": "67hnBnSBlrL2",
        "outputId": "fccf6bf3-a5f1-47a4-b3e9-231fdd584e0c"
      },
      "source": [
        "model_result = loaded_model.most_similar(\"man\")\r\n",
        "print(model_result)"
      ],
      "execution_count": 13,
      "outputs": [
        {
          "output_type": "stream",
          "text": [
            "[('woman', 0.8554869890213013), ('guy', 0.8004087209701538), ('lady', 0.7900898456573486), ('boy', 0.7818707823753357), ('soldier', 0.7612593173980713), ('girl', 0.7534786462783813), ('gentleman', 0.7513275146484375), ('poet', 0.6957038640975952), ('kid', 0.6824278235435486), ('friend', 0.674918532371521)]\n"
          ],
          "name": "stdout"
        }
      ]
    },
    {
      "cell_type": "code",
      "metadata": {
        "id": "nKrMqudnltBO"
      },
      "source": [
        ""
      ],
      "execution_count": null,
      "outputs": []
    }
  ]
}