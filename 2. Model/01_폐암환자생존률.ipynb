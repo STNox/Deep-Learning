{
  "nbformat": 4,
  "nbformat_minor": 0,
  "metadata": {
    "colab": {
      "name": "01_폐암환자생존률.ipynb",
      "provenance": [],
      "toc_visible": true
    },
    "kernelspec": {
      "name": "python3",
      "display_name": "Python 3"
    }
  },
  "cells": [
    {
      "cell_type": "markdown",
      "metadata": {
        "id": "t9qkXmSaNgrL"
      },
      "source": [
        "# 폐암환자 생존률 예측"
      ]
    },
    {
      "cell_type": "code",
      "metadata": {
        "colab": {
          "base_uri": "https://localhost:8080/"
        },
        "id": "EgnK5AlWNbT_",
        "outputId": "c5f989f0-b48d-4912-c047-e7176f21099d"
      },
      "source": [
        "!ls -l"
      ],
      "execution_count": 1,
      "outputs": [
        {
          "output_type": "stream",
          "text": [
            "total 552\n",
            "-rw-r--r-- 1 root root  49082 Feb  9 00:36 housing.csv\n",
            "-rw-r--r-- 1 root root   4551 Feb  9 00:36 iris.csv\n",
            "-rw-r--r-- 1 root root  23279 Feb  9 00:36 pima-indians-diabetes.csv\n",
            "drwxr-xr-x 1 root root   4096 Feb  4 15:26 sample_data\n",
            "-rw-r--r-- 1 root root  87776 Feb  9 00:36 sonar.csv\n",
            "-rw-r--r-- 1 root root  21257 Feb  9 00:36 ThoraricSurgery.csv\n",
            "-rw-r--r-- 1 root root 361279 Feb  9 00:36 wine.csv\n"
          ],
          "name": "stdout"
        }
      ]
    },
    {
      "cell_type": "markdown",
      "metadata": {
        "id": "9rbQgIdJVDzk"
      },
      "source": [
        "### 데이터 탐색"
      ]
    },
    {
      "cell_type": "code",
      "metadata": {
        "id": "g3IUGHtlVCIO"
      },
      "source": [
        "import numpy as np\r\n",
        "import pandas as pd"
      ],
      "execution_count": 3,
      "outputs": []
    },
    {
      "cell_type": "code",
      "metadata": {
        "colab": {
          "base_uri": "https://localhost:8080/",
          "height": 204
        },
        "id": "Whe8SrRaVVLu",
        "outputId": "55bd5498-0d4a-4fa2-929d-376e2d779d01"
      },
      "source": [
        "df = pd.read_csv('ThoraricSurgery.csv', header=None)\r\n",
        "df.head()"
      ],
      "execution_count": 5,
      "outputs": [
        {
          "output_type": "execute_result",
          "data": {
            "text/html": [
              "<div>\n",
              "<style scoped>\n",
              "    .dataframe tbody tr th:only-of-type {\n",
              "        vertical-align: middle;\n",
              "    }\n",
              "\n",
              "    .dataframe tbody tr th {\n",
              "        vertical-align: top;\n",
              "    }\n",
              "\n",
              "    .dataframe thead th {\n",
              "        text-align: right;\n",
              "    }\n",
              "</style>\n",
              "<table border=\"1\" class=\"dataframe\">\n",
              "  <thead>\n",
              "    <tr style=\"text-align: right;\">\n",
              "      <th></th>\n",
              "      <th>0</th>\n",
              "      <th>1</th>\n",
              "      <th>2</th>\n",
              "      <th>3</th>\n",
              "      <th>4</th>\n",
              "      <th>5</th>\n",
              "      <th>6</th>\n",
              "      <th>7</th>\n",
              "      <th>8</th>\n",
              "      <th>9</th>\n",
              "      <th>10</th>\n",
              "      <th>11</th>\n",
              "      <th>12</th>\n",
              "      <th>13</th>\n",
              "      <th>14</th>\n",
              "      <th>15</th>\n",
              "      <th>16</th>\n",
              "      <th>17</th>\n",
              "    </tr>\n",
              "  </thead>\n",
              "  <tbody>\n",
              "    <tr>\n",
              "      <th>0</th>\n",
              "      <td>293</td>\n",
              "      <td>1</td>\n",
              "      <td>3.80</td>\n",
              "      <td>2.80</td>\n",
              "      <td>0</td>\n",
              "      <td>0</td>\n",
              "      <td>0</td>\n",
              "      <td>0</td>\n",
              "      <td>0</td>\n",
              "      <td>0</td>\n",
              "      <td>12</td>\n",
              "      <td>0</td>\n",
              "      <td>0</td>\n",
              "      <td>0</td>\n",
              "      <td>1</td>\n",
              "      <td>0</td>\n",
              "      <td>62</td>\n",
              "      <td>0</td>\n",
              "    </tr>\n",
              "    <tr>\n",
              "      <th>1</th>\n",
              "      <td>1</td>\n",
              "      <td>2</td>\n",
              "      <td>2.88</td>\n",
              "      <td>2.16</td>\n",
              "      <td>1</td>\n",
              "      <td>0</td>\n",
              "      <td>0</td>\n",
              "      <td>0</td>\n",
              "      <td>1</td>\n",
              "      <td>1</td>\n",
              "      <td>14</td>\n",
              "      <td>0</td>\n",
              "      <td>0</td>\n",
              "      <td>0</td>\n",
              "      <td>1</td>\n",
              "      <td>0</td>\n",
              "      <td>60</td>\n",
              "      <td>0</td>\n",
              "    </tr>\n",
              "    <tr>\n",
              "      <th>2</th>\n",
              "      <td>8</td>\n",
              "      <td>2</td>\n",
              "      <td>3.19</td>\n",
              "      <td>2.50</td>\n",
              "      <td>1</td>\n",
              "      <td>0</td>\n",
              "      <td>0</td>\n",
              "      <td>0</td>\n",
              "      <td>1</td>\n",
              "      <td>0</td>\n",
              "      <td>11</td>\n",
              "      <td>0</td>\n",
              "      <td>0</td>\n",
              "      <td>1</td>\n",
              "      <td>1</td>\n",
              "      <td>0</td>\n",
              "      <td>66</td>\n",
              "      <td>1</td>\n",
              "    </tr>\n",
              "    <tr>\n",
              "      <th>3</th>\n",
              "      <td>14</td>\n",
              "      <td>2</td>\n",
              "      <td>3.98</td>\n",
              "      <td>3.06</td>\n",
              "      <td>2</td>\n",
              "      <td>0</td>\n",
              "      <td>0</td>\n",
              "      <td>0</td>\n",
              "      <td>1</td>\n",
              "      <td>1</td>\n",
              "      <td>14</td>\n",
              "      <td>0</td>\n",
              "      <td>0</td>\n",
              "      <td>0</td>\n",
              "      <td>1</td>\n",
              "      <td>0</td>\n",
              "      <td>80</td>\n",
              "      <td>1</td>\n",
              "    </tr>\n",
              "    <tr>\n",
              "      <th>4</th>\n",
              "      <td>17</td>\n",
              "      <td>2</td>\n",
              "      <td>2.21</td>\n",
              "      <td>1.88</td>\n",
              "      <td>0</td>\n",
              "      <td>0</td>\n",
              "      <td>1</td>\n",
              "      <td>0</td>\n",
              "      <td>0</td>\n",
              "      <td>0</td>\n",
              "      <td>12</td>\n",
              "      <td>0</td>\n",
              "      <td>0</td>\n",
              "      <td>0</td>\n",
              "      <td>1</td>\n",
              "      <td>0</td>\n",
              "      <td>56</td>\n",
              "      <td>0</td>\n",
              "    </tr>\n",
              "  </tbody>\n",
              "</table>\n",
              "</div>"
            ],
            "text/plain": [
              "    0   1     2     3   4   5   6   7   8   9   10  11  12  13  14  15  16  17\n",
              "0  293   1  3.80  2.80   0   0   0   0   0   0  12   0   0   0   1   0  62   0\n",
              "1    1   2  2.88  2.16   1   0   0   0   1   1  14   0   0   0   1   0  60   0\n",
              "2    8   2  3.19  2.50   1   0   0   0   1   0  11   0   0   1   1   0  66   1\n",
              "3   14   2  3.98  3.06   2   0   0   0   1   1  14   0   0   0   1   0  80   1\n",
              "4   17   2  2.21  1.88   0   0   1   0   0   0  12   0   0   0   1   0  56   0"
            ]
          },
          "metadata": {
            "tags": []
          },
          "execution_count": 5
        }
      ]
    },
    {
      "cell_type": "code",
      "metadata": {
        "colab": {
          "base_uri": "https://localhost:8080/"
        },
        "id": "Wii2QW73VhGi",
        "outputId": "eba46c12-91ae-44a7-c358-73bdc15849ba"
      },
      "source": [
        "df.info()"
      ],
      "execution_count": 6,
      "outputs": [
        {
          "output_type": "stream",
          "text": [
            "<class 'pandas.core.frame.DataFrame'>\n",
            "RangeIndex: 470 entries, 0 to 469\n",
            "Data columns (total 18 columns):\n",
            " #   Column  Non-Null Count  Dtype  \n",
            "---  ------  --------------  -----  \n",
            " 0   0       470 non-null    int64  \n",
            " 1   1       470 non-null    int64  \n",
            " 2   2       470 non-null    float64\n",
            " 3   3       470 non-null    float64\n",
            " 4   4       470 non-null    int64  \n",
            " 5   5       470 non-null    int64  \n",
            " 6   6       470 non-null    int64  \n",
            " 7   7       470 non-null    int64  \n",
            " 8   8       470 non-null    int64  \n",
            " 9   9       470 non-null    int64  \n",
            " 10  10      470 non-null    int64  \n",
            " 11  11      470 non-null    int64  \n",
            " 12  12      470 non-null    int64  \n",
            " 13  13      470 non-null    int64  \n",
            " 14  14      470 non-null    int64  \n",
            " 15  15      470 non-null    int64  \n",
            " 16  16      470 non-null    int64  \n",
            " 17  17      470 non-null    int64  \n",
            "dtypes: float64(2), int64(16)\n",
            "memory usage: 66.2 KB\n"
          ],
          "name": "stdout"
        }
      ]
    },
    {
      "cell_type": "code",
      "metadata": {
        "colab": {
          "base_uri": "https://localhost:8080/",
          "height": 317
        },
        "id": "fTPdCCvXVwTy",
        "outputId": "939fd58f-3e48-4fc2-e0b0-290eb9f69ed0"
      },
      "source": [
        "df.describe()"
      ],
      "execution_count": 7,
      "outputs": [
        {
          "output_type": "execute_result",
          "data": {
            "text/html": [
              "<div>\n",
              "<style scoped>\n",
              "    .dataframe tbody tr th:only-of-type {\n",
              "        vertical-align: middle;\n",
              "    }\n",
              "\n",
              "    .dataframe tbody tr th {\n",
              "        vertical-align: top;\n",
              "    }\n",
              "\n",
              "    .dataframe thead th {\n",
              "        text-align: right;\n",
              "    }\n",
              "</style>\n",
              "<table border=\"1\" class=\"dataframe\">\n",
              "  <thead>\n",
              "    <tr style=\"text-align: right;\">\n",
              "      <th></th>\n",
              "      <th>0</th>\n",
              "      <th>1</th>\n",
              "      <th>2</th>\n",
              "      <th>3</th>\n",
              "      <th>4</th>\n",
              "      <th>5</th>\n",
              "      <th>6</th>\n",
              "      <th>7</th>\n",
              "      <th>8</th>\n",
              "      <th>9</th>\n",
              "      <th>10</th>\n",
              "      <th>11</th>\n",
              "      <th>12</th>\n",
              "      <th>13</th>\n",
              "      <th>14</th>\n",
              "      <th>15</th>\n",
              "      <th>16</th>\n",
              "      <th>17</th>\n",
              "    </tr>\n",
              "  </thead>\n",
              "  <tbody>\n",
              "    <tr>\n",
              "      <th>count</th>\n",
              "      <td>470.000000</td>\n",
              "      <td>470.000000</td>\n",
              "      <td>470.000000</td>\n",
              "      <td>470.000000</td>\n",
              "      <td>470.000000</td>\n",
              "      <td>470.000000</td>\n",
              "      <td>470.000000</td>\n",
              "      <td>470.000000</td>\n",
              "      <td>470.000000</td>\n",
              "      <td>470.000000</td>\n",
              "      <td>470.000000</td>\n",
              "      <td>470.000000</td>\n",
              "      <td>470.000000</td>\n",
              "      <td>470.000000</td>\n",
              "      <td>470.000000</td>\n",
              "      <td>470.000000</td>\n",
              "      <td>470.000000</td>\n",
              "      <td>470.000000</td>\n",
              "    </tr>\n",
              "    <tr>\n",
              "      <th>mean</th>\n",
              "      <td>235.500000</td>\n",
              "      <td>3.095745</td>\n",
              "      <td>3.281638</td>\n",
              "      <td>4.568702</td>\n",
              "      <td>0.780851</td>\n",
              "      <td>0.065957</td>\n",
              "      <td>0.144681</td>\n",
              "      <td>0.065957</td>\n",
              "      <td>0.687234</td>\n",
              "      <td>0.165957</td>\n",
              "      <td>11.736170</td>\n",
              "      <td>0.074468</td>\n",
              "      <td>0.004255</td>\n",
              "      <td>0.017021</td>\n",
              "      <td>0.821277</td>\n",
              "      <td>0.004255</td>\n",
              "      <td>62.534043</td>\n",
              "      <td>0.148936</td>\n",
              "    </tr>\n",
              "    <tr>\n",
              "      <th>std</th>\n",
              "      <td>135.821574</td>\n",
              "      <td>0.722309</td>\n",
              "      <td>0.871395</td>\n",
              "      <td>11.767857</td>\n",
              "      <td>0.535375</td>\n",
              "      <td>0.248472</td>\n",
              "      <td>0.352154</td>\n",
              "      <td>0.248472</td>\n",
              "      <td>0.464114</td>\n",
              "      <td>0.372439</td>\n",
              "      <td>0.702243</td>\n",
              "      <td>0.262811</td>\n",
              "      <td>0.065163</td>\n",
              "      <td>0.129488</td>\n",
              "      <td>0.383529</td>\n",
              "      <td>0.065163</td>\n",
              "      <td>8.706902</td>\n",
              "      <td>0.356405</td>\n",
              "    </tr>\n",
              "    <tr>\n",
              "      <th>min</th>\n",
              "      <td>1.000000</td>\n",
              "      <td>1.000000</td>\n",
              "      <td>1.440000</td>\n",
              "      <td>0.960000</td>\n",
              "      <td>0.000000</td>\n",
              "      <td>0.000000</td>\n",
              "      <td>0.000000</td>\n",
              "      <td>0.000000</td>\n",
              "      <td>0.000000</td>\n",
              "      <td>0.000000</td>\n",
              "      <td>11.000000</td>\n",
              "      <td>0.000000</td>\n",
              "      <td>0.000000</td>\n",
              "      <td>0.000000</td>\n",
              "      <td>0.000000</td>\n",
              "      <td>0.000000</td>\n",
              "      <td>21.000000</td>\n",
              "      <td>0.000000</td>\n",
              "    </tr>\n",
              "    <tr>\n",
              "      <th>25%</th>\n",
              "      <td>118.250000</td>\n",
              "      <td>3.000000</td>\n",
              "      <td>2.600000</td>\n",
              "      <td>1.960000</td>\n",
              "      <td>0.000000</td>\n",
              "      <td>0.000000</td>\n",
              "      <td>0.000000</td>\n",
              "      <td>0.000000</td>\n",
              "      <td>0.000000</td>\n",
              "      <td>0.000000</td>\n",
              "      <td>11.000000</td>\n",
              "      <td>0.000000</td>\n",
              "      <td>0.000000</td>\n",
              "      <td>0.000000</td>\n",
              "      <td>1.000000</td>\n",
              "      <td>0.000000</td>\n",
              "      <td>57.000000</td>\n",
              "      <td>0.000000</td>\n",
              "    </tr>\n",
              "    <tr>\n",
              "      <th>50%</th>\n",
              "      <td>235.500000</td>\n",
              "      <td>3.000000</td>\n",
              "      <td>3.160000</td>\n",
              "      <td>2.400000</td>\n",
              "      <td>1.000000</td>\n",
              "      <td>0.000000</td>\n",
              "      <td>0.000000</td>\n",
              "      <td>0.000000</td>\n",
              "      <td>1.000000</td>\n",
              "      <td>0.000000</td>\n",
              "      <td>12.000000</td>\n",
              "      <td>0.000000</td>\n",
              "      <td>0.000000</td>\n",
              "      <td>0.000000</td>\n",
              "      <td>1.000000</td>\n",
              "      <td>0.000000</td>\n",
              "      <td>62.000000</td>\n",
              "      <td>0.000000</td>\n",
              "    </tr>\n",
              "    <tr>\n",
              "      <th>75%</th>\n",
              "      <td>352.750000</td>\n",
              "      <td>3.000000</td>\n",
              "      <td>3.807500</td>\n",
              "      <td>3.080000</td>\n",
              "      <td>1.000000</td>\n",
              "      <td>0.000000</td>\n",
              "      <td>0.000000</td>\n",
              "      <td>0.000000</td>\n",
              "      <td>1.000000</td>\n",
              "      <td>0.000000</td>\n",
              "      <td>12.000000</td>\n",
              "      <td>0.000000</td>\n",
              "      <td>0.000000</td>\n",
              "      <td>0.000000</td>\n",
              "      <td>1.000000</td>\n",
              "      <td>0.000000</td>\n",
              "      <td>69.000000</td>\n",
              "      <td>0.000000</td>\n",
              "    </tr>\n",
              "    <tr>\n",
              "      <th>max</th>\n",
              "      <td>470.000000</td>\n",
              "      <td>8.000000</td>\n",
              "      <td>6.300000</td>\n",
              "      <td>86.300000</td>\n",
              "      <td>2.000000</td>\n",
              "      <td>1.000000</td>\n",
              "      <td>1.000000</td>\n",
              "      <td>1.000000</td>\n",
              "      <td>1.000000</td>\n",
              "      <td>1.000000</td>\n",
              "      <td>14.000000</td>\n",
              "      <td>1.000000</td>\n",
              "      <td>1.000000</td>\n",
              "      <td>1.000000</td>\n",
              "      <td>1.000000</td>\n",
              "      <td>1.000000</td>\n",
              "      <td>87.000000</td>\n",
              "      <td>1.000000</td>\n",
              "    </tr>\n",
              "  </tbody>\n",
              "</table>\n",
              "</div>"
            ],
            "text/plain": [
              "               0           1           2   ...          15          16          17\n",
              "count  470.000000  470.000000  470.000000  ...  470.000000  470.000000  470.000000\n",
              "mean   235.500000    3.095745    3.281638  ...    0.004255   62.534043    0.148936\n",
              "std    135.821574    0.722309    0.871395  ...    0.065163    8.706902    0.356405\n",
              "min      1.000000    1.000000    1.440000  ...    0.000000   21.000000    0.000000\n",
              "25%    118.250000    3.000000    2.600000  ...    0.000000   57.000000    0.000000\n",
              "50%    235.500000    3.000000    3.160000  ...    0.000000   62.000000    0.000000\n",
              "75%    352.750000    3.000000    3.807500  ...    0.000000   69.000000    0.000000\n",
              "max    470.000000    8.000000    6.300000  ...    1.000000   87.000000    1.000000\n",
              "\n",
              "[8 rows x 18 columns]"
            ]
          },
          "metadata": {
            "tags": []
          },
          "execution_count": 7
        }
      ]
    },
    {
      "cell_type": "markdown",
      "metadata": {
        "id": "XC8tW8sWWBbW"
      },
      "source": [
        "### 데이터셋 만들기"
      ]
    },
    {
      "cell_type": "code",
      "metadata": {
        "id": "_i1__oQVWdAF"
      },
      "source": [
        "from sklearn.model_selection import train_test_split\r\n",
        "import tensorflow as tf"
      ],
      "execution_count": 8,
      "outputs": []
    },
    {
      "cell_type": "code",
      "metadata": {
        "id": "iVK0sje2WwVj"
      },
      "source": [
        "seed = 2021\r\n",
        "np.random.seed(seed)\r\n",
        "tf.random.set_seed(seed)"
      ],
      "execution_count": 9,
      "outputs": []
    },
    {
      "cell_type": "code",
      "metadata": {
        "colab": {
          "base_uri": "https://localhost:8080/"
        },
        "id": "VEx04Ty5V0e_",
        "outputId": "ece2d83e-4093-473b-fce3-b9d43093a167"
      },
      "source": [
        "X_train, X_test, Y_train, Y_test = train_test_split(df.iloc[:, :-1].values, df.iloc[:, -1].values, test_size=0.25, stratify=df.iloc[:, -1].values, random_state=seed)\r\n",
        "X_train.shape, X_test.shape"
      ],
      "execution_count": 10,
      "outputs": [
        {
          "output_type": "execute_result",
          "data": {
            "text/plain": [
              "((352, 17), (118, 17))"
            ]
          },
          "metadata": {
            "tags": []
          },
          "execution_count": 10
        }
      ]
    },
    {
      "cell_type": "markdown",
      "metadata": {
        "id": "ugx4FTR_XpWo"
      },
      "source": [
        "### 모델 정의"
      ]
    },
    {
      "cell_type": "code",
      "metadata": {
        "id": "NYoS6SY1Xm_w"
      },
      "source": [
        "from tensorflow.keras.models import Sequential\r\n",
        "from tensorflow.keras.layers import Dense"
      ],
      "execution_count": 11,
      "outputs": []
    },
    {
      "cell_type": "code",
      "metadata": {
        "colab": {
          "base_uri": "https://localhost:8080/"
        },
        "id": "GPdA39UVX5Yy",
        "outputId": "02509722-373a-46e9-d2c8-44555b2ca77d"
      },
      "source": [
        "model = Sequential()\r\n",
        "model.add(Dense(30, input_shape=(17,), activation='relu')) # input_shape은 feature 개수에 따름, 30은 hidden layer의 node 개수\r\n",
        "model.add(Dense(1, activation='sigmoid')) # output layer, 이진 분류이므로 sigmoid\r\n",
        "model.summary()"
      ],
      "execution_count": 12,
      "outputs": [
        {
          "output_type": "stream",
          "text": [
            "Model: \"sequential\"\n",
            "_________________________________________________________________\n",
            "Layer (type)                 Output Shape              Param #   \n",
            "=================================================================\n",
            "dense (Dense)                (None, 30)                540       \n",
            "_________________________________________________________________\n",
            "dense_1 (Dense)              (None, 1)                 31        \n",
            "=================================================================\n",
            "Total params: 571\n",
            "Trainable params: 571\n",
            "Non-trainable params: 0\n",
            "_________________________________________________________________\n"
          ],
          "name": "stdout"
        }
      ]
    },
    {
      "cell_type": "markdown",
      "metadata": {
        "id": "snv9I_gVb_OE"
      },
      "source": [
        "### 모델 컴파일(실행환경 설정)"
      ]
    },
    {
      "cell_type": "code",
      "metadata": {
        "id": "YgZCvbhDbxPP"
      },
      "source": [
        "model.compile(loss='binary_crossentropy', optimizer='adam', metrics=['accuracy'])"
      ],
      "execution_count": 13,
      "outputs": []
    },
    {
      "cell_type": "markdown",
      "metadata": {
        "id": "1tbrna6mcemg"
      },
      "source": [
        "### 모델 학습"
      ]
    },
    {
      "cell_type": "code",
      "metadata": {
        "colab": {
          "base_uri": "https://localhost:8080/"
        },
        "id": "juOPXp2jcdJz",
        "outputId": "5dbc6257-1b93-4138-94f6-10272656162e"
      },
      "source": [
        "model.fit(X_train, Y_train, epochs=30, validation_split=0.2, batch_size=10)"
      ],
      "execution_count": 14,
      "outputs": [
        {
          "output_type": "stream",
          "text": [
            "Epoch 1/30\n",
            "29/29 [==============================] - 1s 17ms/step - loss: 6.7828 - accuracy: 0.3405 - val_loss: 2.6058 - val_accuracy: 0.7042\n",
            "Epoch 2/30\n",
            "29/29 [==============================] - 0s 2ms/step - loss: 1.2124 - accuracy: 0.8427 - val_loss: 0.9057 - val_accuracy: 0.7183\n",
            "Epoch 3/30\n",
            "29/29 [==============================] - 0s 3ms/step - loss: 0.5119 - accuracy: 0.8287 - val_loss: 0.6953 - val_accuracy: 0.7606\n",
            "Epoch 4/30\n",
            "29/29 [==============================] - 0s 3ms/step - loss: 0.5265 - accuracy: 0.8299 - val_loss: 0.6481 - val_accuracy: 0.7324\n",
            "Epoch 5/30\n",
            "29/29 [==============================] - 0s 3ms/step - loss: 0.4364 - accuracy: 0.8542 - val_loss: 0.6261 - val_accuracy: 0.7606\n",
            "Epoch 6/30\n",
            "29/29 [==============================] - 0s 3ms/step - loss: 0.3771 - accuracy: 0.8919 - val_loss: 0.6137 - val_accuracy: 0.7746\n",
            "Epoch 7/30\n",
            "29/29 [==============================] - 0s 3ms/step - loss: 0.4348 - accuracy: 0.8544 - val_loss: 0.7721 - val_accuracy: 0.7746\n",
            "Epoch 8/30\n",
            "29/29 [==============================] - 0s 3ms/step - loss: 0.5564 - accuracy: 0.8435 - val_loss: 0.6081 - val_accuracy: 0.7746\n",
            "Epoch 9/30\n",
            "29/29 [==============================] - 0s 2ms/step - loss: 0.4327 - accuracy: 0.8901 - val_loss: 0.9665 - val_accuracy: 0.7887\n",
            "Epoch 10/30\n",
            "29/29 [==============================] - 0s 2ms/step - loss: 0.4553 - accuracy: 0.8799 - val_loss: 0.5844 - val_accuracy: 0.7746\n",
            "Epoch 11/30\n",
            "29/29 [==============================] - 0s 3ms/step - loss: 0.4049 - accuracy: 0.8602 - val_loss: 0.5881 - val_accuracy: 0.7746\n",
            "Epoch 12/30\n",
            "29/29 [==============================] - 0s 2ms/step - loss: 0.4129 - accuracy: 0.8654 - val_loss: 0.7195 - val_accuracy: 0.7887\n",
            "Epoch 13/30\n",
            "29/29 [==============================] - 0s 2ms/step - loss: 0.5356 - accuracy: 0.8368 - val_loss: 0.6925 - val_accuracy: 0.7887\n",
            "Epoch 14/30\n",
            "29/29 [==============================] - 0s 2ms/step - loss: 0.4089 - accuracy: 0.8749 - val_loss: 0.6129 - val_accuracy: 0.7887\n",
            "Epoch 15/30\n",
            "29/29 [==============================] - 0s 3ms/step - loss: 0.4601 - accuracy: 0.8630 - val_loss: 0.6310 - val_accuracy: 0.7887\n",
            "Epoch 16/30\n",
            "29/29 [==============================] - 0s 3ms/step - loss: 0.4259 - accuracy: 0.8619 - val_loss: 0.6748 - val_accuracy: 0.7887\n",
            "Epoch 17/30\n",
            "29/29 [==============================] - 0s 3ms/step - loss: 0.5316 - accuracy: 0.8282 - val_loss: 0.8401 - val_accuracy: 0.7887\n",
            "Epoch 18/30\n",
            "29/29 [==============================] - 0s 3ms/step - loss: 0.3950 - accuracy: 0.8802 - val_loss: 0.5982 - val_accuracy: 0.7887\n",
            "Epoch 19/30\n",
            "29/29 [==============================] - 0s 3ms/step - loss: 0.4395 - accuracy: 0.8472 - val_loss: 0.6581 - val_accuracy: 0.7887\n",
            "Epoch 20/30\n",
            "29/29 [==============================] - 0s 2ms/step - loss: 0.3970 - accuracy: 0.8726 - val_loss: 0.5901 - val_accuracy: 0.7887\n",
            "Epoch 21/30\n",
            "29/29 [==============================] - 0s 3ms/step - loss: 0.3825 - accuracy: 0.8675 - val_loss: 0.8233 - val_accuracy: 0.7887\n",
            "Epoch 22/30\n",
            "29/29 [==============================] - 0s 2ms/step - loss: 0.4241 - accuracy: 0.8649 - val_loss: 0.6124 - val_accuracy: 0.7887\n",
            "Epoch 23/30\n",
            "29/29 [==============================] - 0s 3ms/step - loss: 0.3916 - accuracy: 0.8509 - val_loss: 1.2505 - val_accuracy: 0.3803\n",
            "Epoch 24/30\n",
            "29/29 [==============================] - 0s 3ms/step - loss: 0.9819 - accuracy: 0.6189 - val_loss: 0.6031 - val_accuracy: 0.7465\n",
            "Epoch 25/30\n",
            "29/29 [==============================] - 0s 3ms/step - loss: 0.3763 - accuracy: 0.8870 - val_loss: 0.6962 - val_accuracy: 0.7887\n",
            "Epoch 26/30\n",
            "29/29 [==============================] - 0s 3ms/step - loss: 0.3809 - accuracy: 0.8572 - val_loss: 0.6511 - val_accuracy: 0.7887\n",
            "Epoch 27/30\n",
            "29/29 [==============================] - 0s 7ms/step - loss: 0.3348 - accuracy: 0.8996 - val_loss: 0.5990 - val_accuracy: 0.7887\n",
            "Epoch 28/30\n",
            "29/29 [==============================] - 0s 2ms/step - loss: 0.3944 - accuracy: 0.8594 - val_loss: 0.6281 - val_accuracy: 0.7887\n",
            "Epoch 29/30\n",
            "29/29 [==============================] - 0s 3ms/step - loss: 0.3366 - accuracy: 0.8821 - val_loss: 0.6793 - val_accuracy: 0.7887\n",
            "Epoch 30/30\n",
            "29/29 [==============================] - 0s 3ms/step - loss: 0.3833 - accuracy: 0.8716 - val_loss: 0.6085 - val_accuracy: 0.7887\n"
          ],
          "name": "stdout"
        },
        {
          "output_type": "execute_result",
          "data": {
            "text/plain": [
              "<tensorflow.python.keras.callbacks.History at 0x7f85136f4240>"
            ]
          },
          "metadata": {
            "tags": []
          },
          "execution_count": 14
        }
      ]
    },
    {
      "cell_type": "markdown",
      "metadata": {
        "id": "Zg-LuBT_dPXx"
      },
      "source": [
        "### 정확도 평가"
      ]
    },
    {
      "cell_type": "code",
      "metadata": {
        "colab": {
          "base_uri": "https://localhost:8080/"
        },
        "id": "lE7guU8kc4FW",
        "outputId": "ef5ee0e7-9a71-4d8f-e5cd-22e20cef8c52"
      },
      "source": [
        "acc = model.evaluate(X_test, Y_test)\r\n",
        "acc"
      ],
      "execution_count": 15,
      "outputs": [
        {
          "output_type": "stream",
          "text": [
            "4/4 [==============================] - 0s 2ms/step - loss: 0.4661 - accuracy: 0.8475\n"
          ],
          "name": "stdout"
        },
        {
          "output_type": "execute_result",
          "data": {
            "text/plain": [
              "[0.46611106395721436, 0.8474576473236084]"
            ]
          },
          "metadata": {
            "tags": []
          },
          "execution_count": 15
        }
      ]
    },
    {
      "cell_type": "code",
      "metadata": {
        "colab": {
          "base_uri": "https://localhost:8080/"
        },
        "id": "wlFmBCCsdbyZ",
        "outputId": "240ca888-4895-4575-afd3-6e3524368c0d"
      },
      "source": [
        "print(f'Accuracy: {acc[1]:.4f}')"
      ],
      "execution_count": 16,
      "outputs": [
        {
          "output_type": "stream",
          "text": [
            "Accuracy: 0.8475\n"
          ],
          "name": "stdout"
        }
      ]
    },
    {
      "cell_type": "code",
      "metadata": {
        "id": "OQbTXxK1dtE-"
      },
      "source": [
        ""
      ],
      "execution_count": null,
      "outputs": []
    }
  ]
}