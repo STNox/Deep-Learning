{
  "nbformat": 4,
  "nbformat_minor": 0,
  "metadata": {
    "colab": {
      "name": "01_폐암환자생존률.ipynb",
      "provenance": [],
      "collapsed_sections": [],
      "toc_visible": true,
      "authorship_tag": "ABX9TyN7JUR4aTgymBqAeflp+/Nb",
      "include_colab_link": true
    },
    "kernelspec": {
      "name": "python3",
      "display_name": "Python 3"
    }
  },
  "cells": [
    {
      "cell_type": "markdown",
      "metadata": {
        "id": "view-in-github",
        "colab_type": "text"
      },
      "source": [
        "<a href=\"https://colab.research.google.com/github/STNox/Deep-Learning/blob/master/2.%20Model/01_%ED%8F%90%EC%95%94%ED%99%98%EC%9E%90%EC%83%9D%EC%A1%B4%EB%A5%A0.ipynb\" target=\"_parent\"><img src=\"https://colab.research.google.com/assets/colab-badge.svg\" alt=\"Open In Colab\"/></a>"
      ]
    },
    {
      "cell_type": "markdown",
      "metadata": {
        "id": "t9qkXmSaNgrL"
      },
      "source": [
        "# 폐암환자 생존률 예측"
      ]
    },
    {
      "cell_type": "code",
      "metadata": {
        "colab": {
          "base_uri": "https://localhost:8080/"
        },
        "id": "EgnK5AlWNbT_",
        "outputId": "c209cdeb-4543-4bfa-aeac-2b7ea469238f"
      },
      "source": [
        "!ls -l"
      ],
      "execution_count": 1,
      "outputs": [
        {
          "output_type": "stream",
          "text": [
            "total 552\n",
            "-rw-r--r-- 1 root root  49082 Feb  9 00:36 housing.csv\n",
            "-rw-r--r-- 1 root root   4551 Feb  9 00:36 iris.csv\n",
            "-rw-r--r-- 1 root root  23279 Feb  9 00:36 pima-indians-diabetes.csv\n",
            "drwxr-xr-x 1 root root   4096 Feb  4 15:26 sample_data\n",
            "-rw-r--r-- 1 root root  87776 Feb  9 00:36 sonar.csv\n",
            "-rw-r--r-- 1 root root  21257 Feb  9 00:36 ThoraricSurgery.csv\n",
            "-rw-r--r-- 1 root root 361279 Feb  9 00:36 wine.csv\n"
          ],
          "name": "stdout"
        }
      ]
    },
    {
      "cell_type": "markdown",
      "metadata": {
        "id": "9rbQgIdJVDzk"
      },
      "source": [
        "### 데이터 탐색"
      ]
    },
    {
      "cell_type": "code",
      "metadata": {
        "id": "g3IUGHtlVCIO"
      },
      "source": [
        "import numpy as np\r\n",
        "import pandas as pd"
      ],
      "execution_count": 2,
      "outputs": []
    },
    {
      "cell_type": "code",
      "metadata": {
        "colab": {
          "base_uri": "https://localhost:8080/",
          "height": 204
        },
        "id": "Whe8SrRaVVLu",
        "outputId": "1961d15f-698b-4cce-a98d-f112184965ec"
      },
      "source": [
        "df = pd.read_csv('ThoraricSurgery.csv', header=None)\r\n",
        "df.head()"
      ],
      "execution_count": 3,
      "outputs": [
        {
          "output_type": "execute_result",
          "data": {
            "text/html": [
              "<div>\n",
              "<style scoped>\n",
              "    .dataframe tbody tr th:only-of-type {\n",
              "        vertical-align: middle;\n",
              "    }\n",
              "\n",
              "    .dataframe tbody tr th {\n",
              "        vertical-align: top;\n",
              "    }\n",
              "\n",
              "    .dataframe thead th {\n",
              "        text-align: right;\n",
              "    }\n",
              "</style>\n",
              "<table border=\"1\" class=\"dataframe\">\n",
              "  <thead>\n",
              "    <tr style=\"text-align: right;\">\n",
              "      <th></th>\n",
              "      <th>0</th>\n",
              "      <th>1</th>\n",
              "      <th>2</th>\n",
              "      <th>3</th>\n",
              "      <th>4</th>\n",
              "      <th>5</th>\n",
              "      <th>6</th>\n",
              "      <th>7</th>\n",
              "      <th>8</th>\n",
              "      <th>9</th>\n",
              "      <th>10</th>\n",
              "      <th>11</th>\n",
              "      <th>12</th>\n",
              "      <th>13</th>\n",
              "      <th>14</th>\n",
              "      <th>15</th>\n",
              "      <th>16</th>\n",
              "      <th>17</th>\n",
              "    </tr>\n",
              "  </thead>\n",
              "  <tbody>\n",
              "    <tr>\n",
              "      <th>0</th>\n",
              "      <td>293</td>\n",
              "      <td>1</td>\n",
              "      <td>3.80</td>\n",
              "      <td>2.80</td>\n",
              "      <td>0</td>\n",
              "      <td>0</td>\n",
              "      <td>0</td>\n",
              "      <td>0</td>\n",
              "      <td>0</td>\n",
              "      <td>0</td>\n",
              "      <td>12</td>\n",
              "      <td>0</td>\n",
              "      <td>0</td>\n",
              "      <td>0</td>\n",
              "      <td>1</td>\n",
              "      <td>0</td>\n",
              "      <td>62</td>\n",
              "      <td>0</td>\n",
              "    </tr>\n",
              "    <tr>\n",
              "      <th>1</th>\n",
              "      <td>1</td>\n",
              "      <td>2</td>\n",
              "      <td>2.88</td>\n",
              "      <td>2.16</td>\n",
              "      <td>1</td>\n",
              "      <td>0</td>\n",
              "      <td>0</td>\n",
              "      <td>0</td>\n",
              "      <td>1</td>\n",
              "      <td>1</td>\n",
              "      <td>14</td>\n",
              "      <td>0</td>\n",
              "      <td>0</td>\n",
              "      <td>0</td>\n",
              "      <td>1</td>\n",
              "      <td>0</td>\n",
              "      <td>60</td>\n",
              "      <td>0</td>\n",
              "    </tr>\n",
              "    <tr>\n",
              "      <th>2</th>\n",
              "      <td>8</td>\n",
              "      <td>2</td>\n",
              "      <td>3.19</td>\n",
              "      <td>2.50</td>\n",
              "      <td>1</td>\n",
              "      <td>0</td>\n",
              "      <td>0</td>\n",
              "      <td>0</td>\n",
              "      <td>1</td>\n",
              "      <td>0</td>\n",
              "      <td>11</td>\n",
              "      <td>0</td>\n",
              "      <td>0</td>\n",
              "      <td>1</td>\n",
              "      <td>1</td>\n",
              "      <td>0</td>\n",
              "      <td>66</td>\n",
              "      <td>1</td>\n",
              "    </tr>\n",
              "    <tr>\n",
              "      <th>3</th>\n",
              "      <td>14</td>\n",
              "      <td>2</td>\n",
              "      <td>3.98</td>\n",
              "      <td>3.06</td>\n",
              "      <td>2</td>\n",
              "      <td>0</td>\n",
              "      <td>0</td>\n",
              "      <td>0</td>\n",
              "      <td>1</td>\n",
              "      <td>1</td>\n",
              "      <td>14</td>\n",
              "      <td>0</td>\n",
              "      <td>0</td>\n",
              "      <td>0</td>\n",
              "      <td>1</td>\n",
              "      <td>0</td>\n",
              "      <td>80</td>\n",
              "      <td>1</td>\n",
              "    </tr>\n",
              "    <tr>\n",
              "      <th>4</th>\n",
              "      <td>17</td>\n",
              "      <td>2</td>\n",
              "      <td>2.21</td>\n",
              "      <td>1.88</td>\n",
              "      <td>0</td>\n",
              "      <td>0</td>\n",
              "      <td>1</td>\n",
              "      <td>0</td>\n",
              "      <td>0</td>\n",
              "      <td>0</td>\n",
              "      <td>12</td>\n",
              "      <td>0</td>\n",
              "      <td>0</td>\n",
              "      <td>0</td>\n",
              "      <td>1</td>\n",
              "      <td>0</td>\n",
              "      <td>56</td>\n",
              "      <td>0</td>\n",
              "    </tr>\n",
              "  </tbody>\n",
              "</table>\n",
              "</div>"
            ],
            "text/plain": [
              "    0   1     2     3   4   5   6   7   8   9   10  11  12  13  14  15  16  17\n",
              "0  293   1  3.80  2.80   0   0   0   0   0   0  12   0   0   0   1   0  62   0\n",
              "1    1   2  2.88  2.16   1   0   0   0   1   1  14   0   0   0   1   0  60   0\n",
              "2    8   2  3.19  2.50   1   0   0   0   1   0  11   0   0   1   1   0  66   1\n",
              "3   14   2  3.98  3.06   2   0   0   0   1   1  14   0   0   0   1   0  80   1\n",
              "4   17   2  2.21  1.88   0   0   1   0   0   0  12   0   0   0   1   0  56   0"
            ]
          },
          "metadata": {
            "tags": []
          },
          "execution_count": 3
        }
      ]
    },
    {
      "cell_type": "code",
      "metadata": {
        "colab": {
          "base_uri": "https://localhost:8080/"
        },
        "id": "Wii2QW73VhGi",
        "outputId": "8e3f45ad-33ac-436c-dc0b-a9b18208e7ee"
      },
      "source": [
        "df.info()"
      ],
      "execution_count": 4,
      "outputs": [
        {
          "output_type": "stream",
          "text": [
            "<class 'pandas.core.frame.DataFrame'>\n",
            "RangeIndex: 470 entries, 0 to 469\n",
            "Data columns (total 18 columns):\n",
            " #   Column  Non-Null Count  Dtype  \n",
            "---  ------  --------------  -----  \n",
            " 0   0       470 non-null    int64  \n",
            " 1   1       470 non-null    int64  \n",
            " 2   2       470 non-null    float64\n",
            " 3   3       470 non-null    float64\n",
            " 4   4       470 non-null    int64  \n",
            " 5   5       470 non-null    int64  \n",
            " 6   6       470 non-null    int64  \n",
            " 7   7       470 non-null    int64  \n",
            " 8   8       470 non-null    int64  \n",
            " 9   9       470 non-null    int64  \n",
            " 10  10      470 non-null    int64  \n",
            " 11  11      470 non-null    int64  \n",
            " 12  12      470 non-null    int64  \n",
            " 13  13      470 non-null    int64  \n",
            " 14  14      470 non-null    int64  \n",
            " 15  15      470 non-null    int64  \n",
            " 16  16      470 non-null    int64  \n",
            " 17  17      470 non-null    int64  \n",
            "dtypes: float64(2), int64(16)\n",
            "memory usage: 66.2 KB\n"
          ],
          "name": "stdout"
        }
      ]
    },
    {
      "cell_type": "code",
      "metadata": {
        "colab": {
          "base_uri": "https://localhost:8080/",
          "height": 317
        },
        "id": "fTPdCCvXVwTy",
        "outputId": "18a0c8ce-baf3-4567-f1fd-85c09adc2138"
      },
      "source": [
        "df.describe()"
      ],
      "execution_count": 5,
      "outputs": [
        {
          "output_type": "execute_result",
          "data": {
            "text/html": [
              "<div>\n",
              "<style scoped>\n",
              "    .dataframe tbody tr th:only-of-type {\n",
              "        vertical-align: middle;\n",
              "    }\n",
              "\n",
              "    .dataframe tbody tr th {\n",
              "        vertical-align: top;\n",
              "    }\n",
              "\n",
              "    .dataframe thead th {\n",
              "        text-align: right;\n",
              "    }\n",
              "</style>\n",
              "<table border=\"1\" class=\"dataframe\">\n",
              "  <thead>\n",
              "    <tr style=\"text-align: right;\">\n",
              "      <th></th>\n",
              "      <th>0</th>\n",
              "      <th>1</th>\n",
              "      <th>2</th>\n",
              "      <th>3</th>\n",
              "      <th>4</th>\n",
              "      <th>5</th>\n",
              "      <th>6</th>\n",
              "      <th>7</th>\n",
              "      <th>8</th>\n",
              "      <th>9</th>\n",
              "      <th>10</th>\n",
              "      <th>11</th>\n",
              "      <th>12</th>\n",
              "      <th>13</th>\n",
              "      <th>14</th>\n",
              "      <th>15</th>\n",
              "      <th>16</th>\n",
              "      <th>17</th>\n",
              "    </tr>\n",
              "  </thead>\n",
              "  <tbody>\n",
              "    <tr>\n",
              "      <th>count</th>\n",
              "      <td>470.000000</td>\n",
              "      <td>470.000000</td>\n",
              "      <td>470.000000</td>\n",
              "      <td>470.000000</td>\n",
              "      <td>470.000000</td>\n",
              "      <td>470.000000</td>\n",
              "      <td>470.000000</td>\n",
              "      <td>470.000000</td>\n",
              "      <td>470.000000</td>\n",
              "      <td>470.000000</td>\n",
              "      <td>470.000000</td>\n",
              "      <td>470.000000</td>\n",
              "      <td>470.000000</td>\n",
              "      <td>470.000000</td>\n",
              "      <td>470.000000</td>\n",
              "      <td>470.000000</td>\n",
              "      <td>470.000000</td>\n",
              "      <td>470.000000</td>\n",
              "    </tr>\n",
              "    <tr>\n",
              "      <th>mean</th>\n",
              "      <td>235.500000</td>\n",
              "      <td>3.095745</td>\n",
              "      <td>3.281638</td>\n",
              "      <td>4.568702</td>\n",
              "      <td>0.780851</td>\n",
              "      <td>0.065957</td>\n",
              "      <td>0.144681</td>\n",
              "      <td>0.065957</td>\n",
              "      <td>0.687234</td>\n",
              "      <td>0.165957</td>\n",
              "      <td>11.736170</td>\n",
              "      <td>0.074468</td>\n",
              "      <td>0.004255</td>\n",
              "      <td>0.017021</td>\n",
              "      <td>0.821277</td>\n",
              "      <td>0.004255</td>\n",
              "      <td>62.534043</td>\n",
              "      <td>0.148936</td>\n",
              "    </tr>\n",
              "    <tr>\n",
              "      <th>std</th>\n",
              "      <td>135.821574</td>\n",
              "      <td>0.722309</td>\n",
              "      <td>0.871395</td>\n",
              "      <td>11.767857</td>\n",
              "      <td>0.535375</td>\n",
              "      <td>0.248472</td>\n",
              "      <td>0.352154</td>\n",
              "      <td>0.248472</td>\n",
              "      <td>0.464114</td>\n",
              "      <td>0.372439</td>\n",
              "      <td>0.702243</td>\n",
              "      <td>0.262811</td>\n",
              "      <td>0.065163</td>\n",
              "      <td>0.129488</td>\n",
              "      <td>0.383529</td>\n",
              "      <td>0.065163</td>\n",
              "      <td>8.706902</td>\n",
              "      <td>0.356405</td>\n",
              "    </tr>\n",
              "    <tr>\n",
              "      <th>min</th>\n",
              "      <td>1.000000</td>\n",
              "      <td>1.000000</td>\n",
              "      <td>1.440000</td>\n",
              "      <td>0.960000</td>\n",
              "      <td>0.000000</td>\n",
              "      <td>0.000000</td>\n",
              "      <td>0.000000</td>\n",
              "      <td>0.000000</td>\n",
              "      <td>0.000000</td>\n",
              "      <td>0.000000</td>\n",
              "      <td>11.000000</td>\n",
              "      <td>0.000000</td>\n",
              "      <td>0.000000</td>\n",
              "      <td>0.000000</td>\n",
              "      <td>0.000000</td>\n",
              "      <td>0.000000</td>\n",
              "      <td>21.000000</td>\n",
              "      <td>0.000000</td>\n",
              "    </tr>\n",
              "    <tr>\n",
              "      <th>25%</th>\n",
              "      <td>118.250000</td>\n",
              "      <td>3.000000</td>\n",
              "      <td>2.600000</td>\n",
              "      <td>1.960000</td>\n",
              "      <td>0.000000</td>\n",
              "      <td>0.000000</td>\n",
              "      <td>0.000000</td>\n",
              "      <td>0.000000</td>\n",
              "      <td>0.000000</td>\n",
              "      <td>0.000000</td>\n",
              "      <td>11.000000</td>\n",
              "      <td>0.000000</td>\n",
              "      <td>0.000000</td>\n",
              "      <td>0.000000</td>\n",
              "      <td>1.000000</td>\n",
              "      <td>0.000000</td>\n",
              "      <td>57.000000</td>\n",
              "      <td>0.000000</td>\n",
              "    </tr>\n",
              "    <tr>\n",
              "      <th>50%</th>\n",
              "      <td>235.500000</td>\n",
              "      <td>3.000000</td>\n",
              "      <td>3.160000</td>\n",
              "      <td>2.400000</td>\n",
              "      <td>1.000000</td>\n",
              "      <td>0.000000</td>\n",
              "      <td>0.000000</td>\n",
              "      <td>0.000000</td>\n",
              "      <td>1.000000</td>\n",
              "      <td>0.000000</td>\n",
              "      <td>12.000000</td>\n",
              "      <td>0.000000</td>\n",
              "      <td>0.000000</td>\n",
              "      <td>0.000000</td>\n",
              "      <td>1.000000</td>\n",
              "      <td>0.000000</td>\n",
              "      <td>62.000000</td>\n",
              "      <td>0.000000</td>\n",
              "    </tr>\n",
              "    <tr>\n",
              "      <th>75%</th>\n",
              "      <td>352.750000</td>\n",
              "      <td>3.000000</td>\n",
              "      <td>3.807500</td>\n",
              "      <td>3.080000</td>\n",
              "      <td>1.000000</td>\n",
              "      <td>0.000000</td>\n",
              "      <td>0.000000</td>\n",
              "      <td>0.000000</td>\n",
              "      <td>1.000000</td>\n",
              "      <td>0.000000</td>\n",
              "      <td>12.000000</td>\n",
              "      <td>0.000000</td>\n",
              "      <td>0.000000</td>\n",
              "      <td>0.000000</td>\n",
              "      <td>1.000000</td>\n",
              "      <td>0.000000</td>\n",
              "      <td>69.000000</td>\n",
              "      <td>0.000000</td>\n",
              "    </tr>\n",
              "    <tr>\n",
              "      <th>max</th>\n",
              "      <td>470.000000</td>\n",
              "      <td>8.000000</td>\n",
              "      <td>6.300000</td>\n",
              "      <td>86.300000</td>\n",
              "      <td>2.000000</td>\n",
              "      <td>1.000000</td>\n",
              "      <td>1.000000</td>\n",
              "      <td>1.000000</td>\n",
              "      <td>1.000000</td>\n",
              "      <td>1.000000</td>\n",
              "      <td>14.000000</td>\n",
              "      <td>1.000000</td>\n",
              "      <td>1.000000</td>\n",
              "      <td>1.000000</td>\n",
              "      <td>1.000000</td>\n",
              "      <td>1.000000</td>\n",
              "      <td>87.000000</td>\n",
              "      <td>1.000000</td>\n",
              "    </tr>\n",
              "  </tbody>\n",
              "</table>\n",
              "</div>"
            ],
            "text/plain": [
              "               0           1           2   ...          15          16          17\n",
              "count  470.000000  470.000000  470.000000  ...  470.000000  470.000000  470.000000\n",
              "mean   235.500000    3.095745    3.281638  ...    0.004255   62.534043    0.148936\n",
              "std    135.821574    0.722309    0.871395  ...    0.065163    8.706902    0.356405\n",
              "min      1.000000    1.000000    1.440000  ...    0.000000   21.000000    0.000000\n",
              "25%    118.250000    3.000000    2.600000  ...    0.000000   57.000000    0.000000\n",
              "50%    235.500000    3.000000    3.160000  ...    0.000000   62.000000    0.000000\n",
              "75%    352.750000    3.000000    3.807500  ...    0.000000   69.000000    0.000000\n",
              "max    470.000000    8.000000    6.300000  ...    1.000000   87.000000    1.000000\n",
              "\n",
              "[8 rows x 18 columns]"
            ]
          },
          "metadata": {
            "tags": []
          },
          "execution_count": 5
        }
      ]
    },
    {
      "cell_type": "markdown",
      "metadata": {
        "id": "XC8tW8sWWBbW"
      },
      "source": [
        "### 데이터셋 만들기"
      ]
    },
    {
      "cell_type": "code",
      "metadata": {
        "id": "_i1__oQVWdAF"
      },
      "source": [
        "from sklearn.model_selection import train_test_split\r\n",
        "import tensorflow as tf"
      ],
      "execution_count": 6,
      "outputs": []
    },
    {
      "cell_type": "code",
      "metadata": {
        "id": "iVK0sje2WwVj"
      },
      "source": [
        "seed = 2021\r\n",
        "np.random.seed(seed)\r\n",
        "tf.random.set_seed(seed)"
      ],
      "execution_count": 7,
      "outputs": []
    },
    {
      "cell_type": "code",
      "metadata": {
        "colab": {
          "base_uri": "https://localhost:8080/"
        },
        "id": "VEx04Ty5V0e_",
        "outputId": "b70b5def-5b03-4238-b07f-d1a425593915"
      },
      "source": [
        "X_train, X_test, Y_train, Y_test = train_test_split(df.iloc[:, :-1].values, df.iloc[:, -1].values, test_size=0.25, stratify=df.iloc[:, -1].values, random_state=seed)\r\n",
        "X_train.shape, X_test.shape"
      ],
      "execution_count": 8,
      "outputs": [
        {
          "output_type": "execute_result",
          "data": {
            "text/plain": [
              "((352, 17), (118, 17))"
            ]
          },
          "metadata": {
            "tags": []
          },
          "execution_count": 8
        }
      ]
    },
    {
      "cell_type": "markdown",
      "metadata": {
        "id": "ugx4FTR_XpWo"
      },
      "source": [
        "### 모델 정의"
      ]
    },
    {
      "cell_type": "code",
      "metadata": {
        "id": "NYoS6SY1Xm_w"
      },
      "source": [
        "from tensorflow.keras.models import Sequential\r\n",
        "from tensorflow.keras.layers import Dense"
      ],
      "execution_count": 9,
      "outputs": []
    },
    {
      "cell_type": "code",
      "metadata": {
        "colab": {
          "base_uri": "https://localhost:8080/"
        },
        "id": "GPdA39UVX5Yy",
        "outputId": "2fb47822-4c94-4b99-aab4-b529682cd4c6"
      },
      "source": [
        "model = Sequential()\r\n",
        "model.add(Dense(30, input_shape=(17,), activation='relu')) # input_shape은 feature 개수에 따름, 30은 hidden layer의 node 개수\r\n",
        "model.add(Dense(1, activation='sigmoid')) # output layer, 이진 분류이므로 sigmoid\r\n",
        "model.summary()"
      ],
      "execution_count": 10,
      "outputs": [
        {
          "output_type": "stream",
          "text": [
            "Model: \"sequential\"\n",
            "_________________________________________________________________\n",
            "Layer (type)                 Output Shape              Param #   \n",
            "=================================================================\n",
            "dense (Dense)                (None, 30)                540       \n",
            "_________________________________________________________________\n",
            "dense_1 (Dense)              (None, 1)                 31        \n",
            "=================================================================\n",
            "Total params: 571\n",
            "Trainable params: 571\n",
            "Non-trainable params: 0\n",
            "_________________________________________________________________\n"
          ],
          "name": "stdout"
        }
      ]
    },
    {
      "cell_type": "markdown",
      "metadata": {
        "id": "snv9I_gVb_OE"
      },
      "source": [
        "### 모델 컴파일(실행환경 설정)"
      ]
    },
    {
      "cell_type": "code",
      "metadata": {
        "id": "YgZCvbhDbxPP"
      },
      "source": [
        "model.compile(loss='binary_crossentropy', optimizer='adam', metrics=['accuracy'])"
      ],
      "execution_count": 11,
      "outputs": []
    },
    {
      "cell_type": "markdown",
      "metadata": {
        "id": "1tbrna6mcemg"
      },
      "source": [
        "### 모델 학습"
      ]
    },
    {
      "cell_type": "code",
      "metadata": {
        "colab": {
          "base_uri": "https://localhost:8080/"
        },
        "id": "juOPXp2jcdJz",
        "outputId": "382c8c52-e91d-4af3-cff5-3d486a857c2c"
      },
      "source": [
        "model.fit(X_train, Y_train, epochs=30, validation_split=0.2, batch_size=10)"
      ],
      "execution_count": 12,
      "outputs": [
        {
          "output_type": "stream",
          "text": [
            "Epoch 1/30\n",
            "29/29 [==============================] - 1s 18ms/step - loss: 6.7828 - accuracy: 0.3405 - val_loss: 2.6058 - val_accuracy: 0.7042\n",
            "Epoch 2/30\n",
            "29/29 [==============================] - 0s 2ms/step - loss: 1.2124 - accuracy: 0.8427 - val_loss: 0.9057 - val_accuracy: 0.7183\n",
            "Epoch 3/30\n",
            "29/29 [==============================] - 0s 2ms/step - loss: 0.5119 - accuracy: 0.8287 - val_loss: 0.6953 - val_accuracy: 0.7606\n",
            "Epoch 4/30\n",
            "29/29 [==============================] - 0s 2ms/step - loss: 0.5265 - accuracy: 0.8299 - val_loss: 0.6481 - val_accuracy: 0.7324\n",
            "Epoch 5/30\n",
            "29/29 [==============================] - 0s 6ms/step - loss: 0.4364 - accuracy: 0.8542 - val_loss: 0.6261 - val_accuracy: 0.7606\n",
            "Epoch 6/30\n",
            "29/29 [==============================] - 0s 2ms/step - loss: 0.3771 - accuracy: 0.8919 - val_loss: 0.6137 - val_accuracy: 0.7746\n",
            "Epoch 7/30\n",
            "29/29 [==============================] - 0s 3ms/step - loss: 0.4348 - accuracy: 0.8544 - val_loss: 0.7721 - val_accuracy: 0.7746\n",
            "Epoch 8/30\n",
            "29/29 [==============================] - 0s 2ms/step - loss: 0.5564 - accuracy: 0.8435 - val_loss: 0.6081 - val_accuracy: 0.7746\n",
            "Epoch 9/30\n",
            "29/29 [==============================] - 0s 3ms/step - loss: 0.4327 - accuracy: 0.8901 - val_loss: 0.9665 - val_accuracy: 0.7887\n",
            "Epoch 10/30\n",
            "29/29 [==============================] - 0s 3ms/step - loss: 0.4553 - accuracy: 0.8799 - val_loss: 0.5844 - val_accuracy: 0.7746\n",
            "Epoch 11/30\n",
            "29/29 [==============================] - 0s 2ms/step - loss: 0.4049 - accuracy: 0.8602 - val_loss: 0.5881 - val_accuracy: 0.7746\n",
            "Epoch 12/30\n",
            "29/29 [==============================] - 0s 2ms/step - loss: 0.4129 - accuracy: 0.8654 - val_loss: 0.7195 - val_accuracy: 0.7887\n",
            "Epoch 13/30\n",
            "29/29 [==============================] - 0s 3ms/step - loss: 0.5356 - accuracy: 0.8368 - val_loss: 0.6925 - val_accuracy: 0.7887\n",
            "Epoch 14/30\n",
            "29/29 [==============================] - 0s 2ms/step - loss: 0.4089 - accuracy: 0.8749 - val_loss: 0.6129 - val_accuracy: 0.7887\n",
            "Epoch 15/30\n",
            "29/29 [==============================] - 0s 2ms/step - loss: 0.4601 - accuracy: 0.8630 - val_loss: 0.6310 - val_accuracy: 0.7887\n",
            "Epoch 16/30\n",
            "29/29 [==============================] - 0s 2ms/step - loss: 0.4259 - accuracy: 0.8619 - val_loss: 0.6748 - val_accuracy: 0.7887\n",
            "Epoch 17/30\n",
            "29/29 [==============================] - 0s 3ms/step - loss: 0.5316 - accuracy: 0.8282 - val_loss: 0.8401 - val_accuracy: 0.7887\n",
            "Epoch 18/30\n",
            "29/29 [==============================] - 0s 3ms/step - loss: 0.3950 - accuracy: 0.8802 - val_loss: 0.5982 - val_accuracy: 0.7887\n",
            "Epoch 19/30\n",
            "29/29 [==============================] - 0s 2ms/step - loss: 0.4395 - accuracy: 0.8472 - val_loss: 0.6581 - val_accuracy: 0.7887\n",
            "Epoch 20/30\n",
            "29/29 [==============================] - 0s 3ms/step - loss: 0.3970 - accuracy: 0.8726 - val_loss: 0.5901 - val_accuracy: 0.7887\n",
            "Epoch 21/30\n",
            "29/29 [==============================] - 0s 2ms/step - loss: 0.3825 - accuracy: 0.8675 - val_loss: 0.8233 - val_accuracy: 0.7887\n",
            "Epoch 22/30\n",
            "29/29 [==============================] - 0s 3ms/step - loss: 0.4241 - accuracy: 0.8649 - val_loss: 0.6124 - val_accuracy: 0.7887\n",
            "Epoch 23/30\n",
            "29/29 [==============================] - 0s 2ms/step - loss: 0.3916 - accuracy: 0.8509 - val_loss: 1.2505 - val_accuracy: 0.3803\n",
            "Epoch 24/30\n",
            "29/29 [==============================] - 0s 3ms/step - loss: 0.9819 - accuracy: 0.6189 - val_loss: 0.6031 - val_accuracy: 0.7465\n",
            "Epoch 25/30\n",
            "29/29 [==============================] - 0s 3ms/step - loss: 0.3763 - accuracy: 0.8870 - val_loss: 0.6962 - val_accuracy: 0.7887\n",
            "Epoch 26/30\n",
            "29/29 [==============================] - 0s 3ms/step - loss: 0.3809 - accuracy: 0.8572 - val_loss: 0.6511 - val_accuracy: 0.7887\n",
            "Epoch 27/30\n",
            "29/29 [==============================] - 0s 2ms/step - loss: 0.3348 - accuracy: 0.8996 - val_loss: 0.5990 - val_accuracy: 0.7887\n",
            "Epoch 28/30\n",
            "29/29 [==============================] - 0s 3ms/step - loss: 0.3944 - accuracy: 0.8594 - val_loss: 0.6281 - val_accuracy: 0.7887\n",
            "Epoch 29/30\n",
            "29/29 [==============================] - 0s 2ms/step - loss: 0.3366 - accuracy: 0.8821 - val_loss: 0.6793 - val_accuracy: 0.7887\n",
            "Epoch 30/30\n",
            "29/29 [==============================] - 0s 3ms/step - loss: 0.3833 - accuracy: 0.8716 - val_loss: 0.6085 - val_accuracy: 0.7887\n"
          ],
          "name": "stdout"
        },
        {
          "output_type": "execute_result",
          "data": {
            "text/plain": [
              "<tensorflow.python.keras.callbacks.History at 0x7f4e36fe56d8>"
            ]
          },
          "metadata": {
            "tags": []
          },
          "execution_count": 12
        }
      ]
    },
    {
      "cell_type": "markdown",
      "metadata": {
        "id": "Zg-LuBT_dPXx"
      },
      "source": [
        "### 정확도 평가"
      ]
    },
    {
      "cell_type": "code",
      "metadata": {
        "colab": {
          "base_uri": "https://localhost:8080/"
        },
        "id": "lE7guU8kc4FW",
        "outputId": "1df6ffde-8819-46da-e430-ede6edb472fc"
      },
      "source": [
        "acc = model.evaluate(X_test, Y_test)\r\n",
        "acc"
      ],
      "execution_count": 13,
      "outputs": [
        {
          "output_type": "stream",
          "text": [
            "4/4 [==============================] - 0s 4ms/step - loss: 0.4661 - accuracy: 0.8475\n"
          ],
          "name": "stdout"
        },
        {
          "output_type": "execute_result",
          "data": {
            "text/plain": [
              "[0.46611106395721436, 0.8474576473236084]"
            ]
          },
          "metadata": {
            "tags": []
          },
          "execution_count": 13
        }
      ]
    },
    {
      "cell_type": "code",
      "metadata": {
        "colab": {
          "base_uri": "https://localhost:8080/"
        },
        "id": "wlFmBCCsdbyZ",
        "outputId": "4fb58ebd-707a-4aed-9c78-2e3875694a18"
      },
      "source": [
        "print(f'Accuracy: {acc[1]:.4f}')"
      ],
      "execution_count": 14,
      "outputs": [
        {
          "output_type": "stream",
          "text": [
            "Accuracy: 0.8475\n"
          ],
          "name": "stdout"
        }
      ]
    },
    {
      "cell_type": "markdown",
      "metadata": {
        "id": "APbbGmlfecRL"
      },
      "source": [
        "### 정규화"
      ]
    },
    {
      "cell_type": "code",
      "metadata": {
        "colab": {
          "base_uri": "https://localhost:8080/"
        },
        "id": "OQbTXxK1dtE-",
        "outputId": "89511009-f284-45b7-8d71-623e1a1c8c8a"
      },
      "source": [
        "from sklearn.preprocessing import MinMaxScaler\r\n",
        "scaler = MinMaxScaler()\r\n",
        "scaler.fit(df)\r\n",
        "scaled_df = scaler.transform(df)\r\n",
        "scaled_df"
      ],
      "execution_count": 15,
      "outputs": [
        {
          "output_type": "execute_result",
          "data": {
            "text/plain": [
              "array([[0.62260128, 0.        , 0.48559671, ..., 0.        , 0.62121212,\n",
              "        0.        ],\n",
              "       [0.        , 0.14285714, 0.2962963 , ..., 0.        , 0.59090909,\n",
              "        0.        ],\n",
              "       [0.01492537, 0.14285714, 0.3600823 , ..., 0.        , 0.68181818,\n",
              "        1.        ],\n",
              "       ...,\n",
              "       [0.86353945, 0.71428571, 0.80658436, ..., 0.        , 0.62121212,\n",
              "        0.        ],\n",
              "       [0.05117271, 1.        , 0.59259259, ..., 0.        , 0.56060606,\n",
              "        1.        ],\n",
              "       [0.95095949, 1.        , 0.77366255, ..., 0.        , 0.42424242,\n",
              "        0.        ]])"
            ]
          },
          "metadata": {
            "tags": []
          },
          "execution_count": 15
        }
      ]
    },
    {
      "cell_type": "code",
      "metadata": {
        "colab": {
          "base_uri": "https://localhost:8080/"
        },
        "id": "bi--Fn0Ie-Xf",
        "outputId": "5bcfc84c-7c51-4895-fe38-fd680f15f6c5"
      },
      "source": [
        "type(scaled_df)"
      ],
      "execution_count": 16,
      "outputs": [
        {
          "output_type": "execute_result",
          "data": {
            "text/plain": [
              "numpy.ndarray"
            ]
          },
          "metadata": {
            "tags": []
          },
          "execution_count": 16
        }
      ]
    },
    {
      "cell_type": "code",
      "metadata": {
        "colab": {
          "base_uri": "https://localhost:8080/",
          "height": 204
        },
        "id": "Y6Y95rXGfN1S",
        "outputId": "0768affc-33a0-4b41-fdb4-b62a13111d79"
      },
      "source": [
        "s_df = pd.DataFrame(data=scaled_df)\r\n",
        "s_df.head()"
      ],
      "execution_count": 17,
      "outputs": [
        {
          "output_type": "execute_result",
          "data": {
            "text/html": [
              "<div>\n",
              "<style scoped>\n",
              "    .dataframe tbody tr th:only-of-type {\n",
              "        vertical-align: middle;\n",
              "    }\n",
              "\n",
              "    .dataframe tbody tr th {\n",
              "        vertical-align: top;\n",
              "    }\n",
              "\n",
              "    .dataframe thead th {\n",
              "        text-align: right;\n",
              "    }\n",
              "</style>\n",
              "<table border=\"1\" class=\"dataframe\">\n",
              "  <thead>\n",
              "    <tr style=\"text-align: right;\">\n",
              "      <th></th>\n",
              "      <th>0</th>\n",
              "      <th>1</th>\n",
              "      <th>2</th>\n",
              "      <th>3</th>\n",
              "      <th>4</th>\n",
              "      <th>5</th>\n",
              "      <th>6</th>\n",
              "      <th>7</th>\n",
              "      <th>8</th>\n",
              "      <th>9</th>\n",
              "      <th>10</th>\n",
              "      <th>11</th>\n",
              "      <th>12</th>\n",
              "      <th>13</th>\n",
              "      <th>14</th>\n",
              "      <th>15</th>\n",
              "      <th>16</th>\n",
              "      <th>17</th>\n",
              "    </tr>\n",
              "  </thead>\n",
              "  <tbody>\n",
              "    <tr>\n",
              "      <th>0</th>\n",
              "      <td>0.622601</td>\n",
              "      <td>0.000000</td>\n",
              "      <td>0.485597</td>\n",
              "      <td>0.021561</td>\n",
              "      <td>0.0</td>\n",
              "      <td>0.0</td>\n",
              "      <td>0.0</td>\n",
              "      <td>0.0</td>\n",
              "      <td>0.0</td>\n",
              "      <td>0.0</td>\n",
              "      <td>0.333333</td>\n",
              "      <td>0.0</td>\n",
              "      <td>0.0</td>\n",
              "      <td>0.0</td>\n",
              "      <td>1.0</td>\n",
              "      <td>0.0</td>\n",
              "      <td>0.621212</td>\n",
              "      <td>0.0</td>\n",
              "    </tr>\n",
              "    <tr>\n",
              "      <th>1</th>\n",
              "      <td>0.000000</td>\n",
              "      <td>0.142857</td>\n",
              "      <td>0.296296</td>\n",
              "      <td>0.014061</td>\n",
              "      <td>0.5</td>\n",
              "      <td>0.0</td>\n",
              "      <td>0.0</td>\n",
              "      <td>0.0</td>\n",
              "      <td>1.0</td>\n",
              "      <td>1.0</td>\n",
              "      <td>1.000000</td>\n",
              "      <td>0.0</td>\n",
              "      <td>0.0</td>\n",
              "      <td>0.0</td>\n",
              "      <td>1.0</td>\n",
              "      <td>0.0</td>\n",
              "      <td>0.590909</td>\n",
              "      <td>0.0</td>\n",
              "    </tr>\n",
              "    <tr>\n",
              "      <th>2</th>\n",
              "      <td>0.014925</td>\n",
              "      <td>0.142857</td>\n",
              "      <td>0.360082</td>\n",
              "      <td>0.018045</td>\n",
              "      <td>0.5</td>\n",
              "      <td>0.0</td>\n",
              "      <td>0.0</td>\n",
              "      <td>0.0</td>\n",
              "      <td>1.0</td>\n",
              "      <td>0.0</td>\n",
              "      <td>0.000000</td>\n",
              "      <td>0.0</td>\n",
              "      <td>0.0</td>\n",
              "      <td>1.0</td>\n",
              "      <td>1.0</td>\n",
              "      <td>0.0</td>\n",
              "      <td>0.681818</td>\n",
              "      <td>1.0</td>\n",
              "    </tr>\n",
              "    <tr>\n",
              "      <th>3</th>\n",
              "      <td>0.027719</td>\n",
              "      <td>0.142857</td>\n",
              "      <td>0.522634</td>\n",
              "      <td>0.024607</td>\n",
              "      <td>1.0</td>\n",
              "      <td>0.0</td>\n",
              "      <td>0.0</td>\n",
              "      <td>0.0</td>\n",
              "      <td>1.0</td>\n",
              "      <td>1.0</td>\n",
              "      <td>1.000000</td>\n",
              "      <td>0.0</td>\n",
              "      <td>0.0</td>\n",
              "      <td>0.0</td>\n",
              "      <td>1.0</td>\n",
              "      <td>0.0</td>\n",
              "      <td>0.893939</td>\n",
              "      <td>1.0</td>\n",
              "    </tr>\n",
              "    <tr>\n",
              "      <th>4</th>\n",
              "      <td>0.034115</td>\n",
              "      <td>0.142857</td>\n",
              "      <td>0.158436</td>\n",
              "      <td>0.010780</td>\n",
              "      <td>0.0</td>\n",
              "      <td>0.0</td>\n",
              "      <td>1.0</td>\n",
              "      <td>0.0</td>\n",
              "      <td>0.0</td>\n",
              "      <td>0.0</td>\n",
              "      <td>0.333333</td>\n",
              "      <td>0.0</td>\n",
              "      <td>0.0</td>\n",
              "      <td>0.0</td>\n",
              "      <td>1.0</td>\n",
              "      <td>0.0</td>\n",
              "      <td>0.530303</td>\n",
              "      <td>0.0</td>\n",
              "    </tr>\n",
              "  </tbody>\n",
              "</table>\n",
              "</div>"
            ],
            "text/plain": [
              "         0         1         2         3    4   ...   13   14   15        16   17\n",
              "0  0.622601  0.000000  0.485597  0.021561  0.0  ...  0.0  1.0  0.0  0.621212  0.0\n",
              "1  0.000000  0.142857  0.296296  0.014061  0.5  ...  0.0  1.0  0.0  0.590909  0.0\n",
              "2  0.014925  0.142857  0.360082  0.018045  0.5  ...  1.0  1.0  0.0  0.681818  1.0\n",
              "3  0.027719  0.142857  0.522634  0.024607  1.0  ...  0.0  1.0  0.0  0.893939  1.0\n",
              "4  0.034115  0.142857  0.158436  0.010780  0.0  ...  0.0  1.0  0.0  0.530303  0.0\n",
              "\n",
              "[5 rows x 18 columns]"
            ]
          },
          "metadata": {
            "tags": []
          },
          "execution_count": 17
        }
      ]
    },
    {
      "cell_type": "code",
      "metadata": {
        "colab": {
          "base_uri": "https://localhost:8080/"
        },
        "id": "6j2HGI6bfmvO",
        "outputId": "5cdab21a-c685-4bf1-d324-d97864b567be"
      },
      "source": [
        "X_train, X_test, Y_train, Y_test = train_test_split(s_df.iloc[:, :-1].values, s_df.iloc[:, -1].values, test_size=0.25, stratify=s_df.iloc[:, -1].values, random_state=seed)\r\n",
        "X_train.shape, X_test.shape"
      ],
      "execution_count": 18,
      "outputs": [
        {
          "output_type": "execute_result",
          "data": {
            "text/plain": [
              "((352, 17), (118, 17))"
            ]
          },
          "metadata": {
            "tags": []
          },
          "execution_count": 18
        }
      ]
    },
    {
      "cell_type": "code",
      "metadata": {
        "colab": {
          "base_uri": "https://localhost:8080/"
        },
        "id": "12puq14Sfww5",
        "outputId": "07466cd2-f354-4ba2-c0cc-b28fb10a11c4"
      },
      "source": [
        "model = Sequential()\r\n",
        "model.add(Dense(24, input_shape=(17,), activation='relu'))\r\n",
        "model.add(Dense(10, activation='relu'))\r\n",
        "model.add(Dense(1, activation='sigmoid')) # output layer, 이진 분류이므로 sigmoid\r\n",
        "model.summary()"
      ],
      "execution_count": 19,
      "outputs": [
        {
          "output_type": "stream",
          "text": [
            "Model: \"sequential_1\"\n",
            "_________________________________________________________________\n",
            "Layer (type)                 Output Shape              Param #   \n",
            "=================================================================\n",
            "dense_2 (Dense)              (None, 24)                432       \n",
            "_________________________________________________________________\n",
            "dense_3 (Dense)              (None, 10)                250       \n",
            "_________________________________________________________________\n",
            "dense_4 (Dense)              (None, 1)                 11        \n",
            "=================================================================\n",
            "Total params: 693\n",
            "Trainable params: 693\n",
            "Non-trainable params: 0\n",
            "_________________________________________________________________\n"
          ],
          "name": "stdout"
        }
      ]
    },
    {
      "cell_type": "code",
      "metadata": {
        "id": "2-baqR0yf-kq"
      },
      "source": [
        "model.compile(loss='binary_crossentropy', optimizer='adam', metrics=['accuracy'])"
      ],
      "execution_count": 20,
      "outputs": []
    },
    {
      "cell_type": "code",
      "metadata": {
        "colab": {
          "base_uri": "https://localhost:8080/"
        },
        "id": "HSxZtrgagLxY",
        "outputId": "8621b3fd-8558-4063-b91f-d4a02c6a4011"
      },
      "source": [
        "history = model.fit(X_train, Y_train, batch_size=10, epochs=30, validation_split=0.2)"
      ],
      "execution_count": 24,
      "outputs": [
        {
          "output_type": "stream",
          "text": [
            "Epoch 1/30\n",
            "29/29 [==============================] - 0s 4ms/step - loss: 0.3297 - accuracy: 0.8648 - val_loss: 0.4962 - val_accuracy: 0.8028\n",
            "Epoch 2/30\n",
            "29/29 [==============================] - 0s 2ms/step - loss: 0.3270 - accuracy: 0.8648 - val_loss: 0.4973 - val_accuracy: 0.8028\n",
            "Epoch 3/30\n",
            "29/29 [==============================] - 0s 3ms/step - loss: 0.3254 - accuracy: 0.8648 - val_loss: 0.4955 - val_accuracy: 0.8028\n",
            "Epoch 4/30\n",
            "29/29 [==============================] - 0s 3ms/step - loss: 0.3236 - accuracy: 0.8683 - val_loss: 0.4931 - val_accuracy: 0.8028\n",
            "Epoch 5/30\n",
            "29/29 [==============================] - 0s 3ms/step - loss: 0.3204 - accuracy: 0.8683 - val_loss: 0.4948 - val_accuracy: 0.8028\n",
            "Epoch 6/30\n",
            "29/29 [==============================] - 0s 3ms/step - loss: 0.3213 - accuracy: 0.8683 - val_loss: 0.5087 - val_accuracy: 0.8028\n",
            "Epoch 7/30\n",
            "29/29 [==============================] - 0s 2ms/step - loss: 0.3174 - accuracy: 0.8683 - val_loss: 0.5041 - val_accuracy: 0.8028\n",
            "Epoch 8/30\n",
            "29/29 [==============================] - 0s 2ms/step - loss: 0.3188 - accuracy: 0.8683 - val_loss: 0.5085 - val_accuracy: 0.8028\n",
            "Epoch 9/30\n",
            "29/29 [==============================] - 0s 2ms/step - loss: 0.3142 - accuracy: 0.8683 - val_loss: 0.5077 - val_accuracy: 0.8028\n",
            "Epoch 10/30\n",
            "29/29 [==============================] - 0s 2ms/step - loss: 0.3123 - accuracy: 0.8683 - val_loss: 0.5102 - val_accuracy: 0.8028\n",
            "Epoch 11/30\n",
            "29/29 [==============================] - 0s 2ms/step - loss: 0.3114 - accuracy: 0.8683 - val_loss: 0.5121 - val_accuracy: 0.8028\n",
            "Epoch 12/30\n",
            "29/29 [==============================] - 0s 3ms/step - loss: 0.3110 - accuracy: 0.8683 - val_loss: 0.5098 - val_accuracy: 0.8028\n",
            "Epoch 13/30\n",
            "29/29 [==============================] - 0s 3ms/step - loss: 0.3084 - accuracy: 0.8683 - val_loss: 0.5107 - val_accuracy: 0.8028\n",
            "Epoch 14/30\n",
            "29/29 [==============================] - 0s 3ms/step - loss: 0.3095 - accuracy: 0.8683 - val_loss: 0.5168 - val_accuracy: 0.8028\n",
            "Epoch 15/30\n",
            "29/29 [==============================] - 0s 2ms/step - loss: 0.3044 - accuracy: 0.8719 - val_loss: 0.5131 - val_accuracy: 0.8028\n",
            "Epoch 16/30\n",
            "29/29 [==============================] - 0s 2ms/step - loss: 0.3028 - accuracy: 0.8683 - val_loss: 0.5183 - val_accuracy: 0.8028\n",
            "Epoch 17/30\n",
            "29/29 [==============================] - 0s 3ms/step - loss: 0.3022 - accuracy: 0.8790 - val_loss: 0.5249 - val_accuracy: 0.8028\n",
            "Epoch 18/30\n",
            "29/29 [==============================] - 0s 2ms/step - loss: 0.3050 - accuracy: 0.8719 - val_loss: 0.5198 - val_accuracy: 0.8028\n",
            "Epoch 19/30\n",
            "29/29 [==============================] - 0s 3ms/step - loss: 0.2977 - accuracy: 0.8754 - val_loss: 0.5285 - val_accuracy: 0.8028\n",
            "Epoch 20/30\n",
            "29/29 [==============================] - 0s 2ms/step - loss: 0.2975 - accuracy: 0.8754 - val_loss: 0.5288 - val_accuracy: 0.8028\n",
            "Epoch 21/30\n",
            "29/29 [==============================] - 0s 2ms/step - loss: 0.2967 - accuracy: 0.8754 - val_loss: 0.5207 - val_accuracy: 0.8028\n",
            "Epoch 22/30\n",
            "29/29 [==============================] - 0s 2ms/step - loss: 0.2945 - accuracy: 0.8754 - val_loss: 0.5349 - val_accuracy: 0.8028\n",
            "Epoch 23/30\n",
            "29/29 [==============================] - 0s 2ms/step - loss: 0.2953 - accuracy: 0.8754 - val_loss: 0.5411 - val_accuracy: 0.8028\n",
            "Epoch 24/30\n",
            "29/29 [==============================] - 0s 2ms/step - loss: 0.2930 - accuracy: 0.8932 - val_loss: 0.5346 - val_accuracy: 0.8028\n",
            "Epoch 25/30\n",
            "29/29 [==============================] - 0s 2ms/step - loss: 0.2918 - accuracy: 0.8826 - val_loss: 0.5412 - val_accuracy: 0.8028\n",
            "Epoch 26/30\n",
            "29/29 [==============================] - 0s 3ms/step - loss: 0.2914 - accuracy: 0.8861 - val_loss: 0.5456 - val_accuracy: 0.8028\n",
            "Epoch 27/30\n",
            "29/29 [==============================] - 0s 3ms/step - loss: 0.2877 - accuracy: 0.8861 - val_loss: 0.5453 - val_accuracy: 0.8028\n",
            "Epoch 28/30\n",
            "29/29 [==============================] - 0s 3ms/step - loss: 0.2886 - accuracy: 0.9004 - val_loss: 0.5510 - val_accuracy: 0.8028\n",
            "Epoch 29/30\n",
            "29/29 [==============================] - 0s 3ms/step - loss: 0.2878 - accuracy: 0.8861 - val_loss: 0.5540 - val_accuracy: 0.8028\n",
            "Epoch 30/30\n",
            "29/29 [==============================] - 0s 3ms/step - loss: 0.2842 - accuracy: 0.9004 - val_loss: 0.5618 - val_accuracy: 0.8028\n"
          ],
          "name": "stdout"
        }
      ]
    },
    {
      "cell_type": "code",
      "metadata": {
        "colab": {
          "base_uri": "https://localhost:8080/"
        },
        "id": "JHi0u_1pgY1Q",
        "outputId": "44583534-40d1-489e-be49-6e32312e51c7"
      },
      "source": [
        "acc = model.evaluate(X_test, Y_test)\r\n",
        "acc"
      ],
      "execution_count": 22,
      "outputs": [
        {
          "output_type": "stream",
          "text": [
            "4/4 [==============================] - 0s 2ms/step - loss: 0.4697 - accuracy: 0.8475\n"
          ],
          "name": "stdout"
        },
        {
          "output_type": "execute_result",
          "data": {
            "text/plain": [
              "[0.4697074592113495, 0.8474576473236084]"
            ]
          },
          "metadata": {
            "tags": []
          },
          "execution_count": 22
        }
      ]
    },
    {
      "cell_type": "code",
      "metadata": {
        "colab": {
          "base_uri": "https://localhost:8080/"
        },
        "id": "hL9j87qFgjYe",
        "outputId": "e13ac52b-e949-49a8-e338-126aaa534b10"
      },
      "source": [
        "print(f'Accuracy: {acc[1]:.4f}')"
      ],
      "execution_count": 23,
      "outputs": [
        {
          "output_type": "stream",
          "text": [
            "Accuracy: 0.8475\n"
          ],
          "name": "stdout"
        }
      ]
    },
    {
      "cell_type": "markdown",
      "metadata": {
        "id": "sanoiybdjtTn"
      },
      "source": [
        "### 학습 과정 시각화"
      ]
    },
    {
      "cell_type": "code",
      "metadata": {
        "colab": {
          "base_uri": "https://localhost:8080/"
        },
        "id": "uFYnZQ5lgolm",
        "outputId": "6ffbd41a-0acf-4cc9-b466-574343125b3d"
      },
      "source": [
        "history.history['accuracy'][:3]"
      ],
      "execution_count": 29,
      "outputs": [
        {
          "output_type": "execute_result",
          "data": {
            "text/plain": [
              "[0.8647686839103699, 0.8647686839103699, 0.8647686839103699]"
            ]
          },
          "metadata": {
            "tags": []
          },
          "execution_count": 29
        }
      ]
    },
    {
      "cell_type": "code",
      "metadata": {
        "colab": {
          "base_uri": "https://localhost:8080/"
        },
        "id": "1WvxbfMsjx69",
        "outputId": "051e5022-9788-4eb0-b680-0f32819e6289"
      },
      "source": [
        "history.history['loss'][:3]"
      ],
      "execution_count": 30,
      "outputs": [
        {
          "output_type": "execute_result",
          "data": {
            "text/plain": [
              "[0.3296869695186615, 0.3270350992679596, 0.32540687918663025]"
            ]
          },
          "metadata": {
            "tags": []
          },
          "execution_count": 30
        }
      ]
    },
    {
      "cell_type": "code",
      "metadata": {
        "colab": {
          "base_uri": "https://localhost:8080/"
        },
        "id": "oTC-qjIRkQwu",
        "outputId": "5ea14b19-1ac4-430c-dd42-d461fb1b61fe"
      },
      "source": [
        "history.history['val_accuracy'][:3]"
      ],
      "execution_count": 31,
      "outputs": [
        {
          "output_type": "execute_result",
          "data": {
            "text/plain": [
              "[0.8028169274330139, 0.8028169274330139, 0.8028169274330139]"
            ]
          },
          "metadata": {
            "tags": []
          },
          "execution_count": 31
        }
      ]
    },
    {
      "cell_type": "code",
      "metadata": {
        "colab": {
          "base_uri": "https://localhost:8080/"
        },
        "id": "FJWBFkkykUR9",
        "outputId": "de5bb599-f3e9-4cb4-aaab-8f8b000a806c"
      },
      "source": [
        "history.history['val_loss'][:3]"
      ],
      "execution_count": 32,
      "outputs": [
        {
          "output_type": "execute_result",
          "data": {
            "text/plain": [
              "[0.4961651563644409, 0.49733367562294006, 0.4955447018146515]"
            ]
          },
          "metadata": {
            "tags": []
          },
          "execution_count": 32
        }
      ]
    },
    {
      "cell_type": "code",
      "metadata": {
        "id": "EINCBWuwkWCT"
      },
      "source": [
        "import matplotlib.pyplot as plt\r\n",
        "%matplotlib inline"
      ],
      "execution_count": 33,
      "outputs": []
    },
    {
      "cell_type": "code",
      "metadata": {
        "colab": {
          "base_uri": "https://localhost:8080/",
          "height": 483
        },
        "id": "WA5wQi_PknO8",
        "outputId": "771c61ea-3aea-481c-bf5e-df788c90056d"
      },
      "source": [
        "y_vloss = history.history['val_loss']\r\n",
        "y_acc = history.history['accuracy']\r\n",
        "x_len = np.arange(len(y_acc))\r\n",
        "plt.figure(figsize=(12, 8))\r\n",
        "plt.plot(x_len, y_vloss, 'o-', c='red', markersize=3, label='val_loss')\r\n",
        "plt.plot(x_len, y_acc, 'o-', c='blue', markersize=3, label='accuracy')\r\n",
        "plt.legend()\r\n",
        "plt.show()"
      ],
      "execution_count": 35,
      "outputs": [
        {
          "output_type": "display_data",
          "data": {
            "image/png": "[encoded data removed]",
            "text/plain": [
              "<Figure size 864x576 with 1 Axes>"
            ]
          },
          "metadata": {
            "tags": [],
            "needs_background": "light"
          }
        }
      ]
    },
    {
      "cell_type": "code",
      "metadata": {
        "id": "dhAS_G5Glktt"
      },
      "source": [
        ""
      ],
      "execution_count": null,
      "outputs": []
    }
  ]
}