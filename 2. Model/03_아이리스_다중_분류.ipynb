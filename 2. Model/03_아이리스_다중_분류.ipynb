{
  "nbformat": 4,
  "nbformat_minor": 0,
  "metadata": {
    "colab": {
      "name": "03_아이리스 다중 분류.ipynb",
      "provenance": [],
      "toc_visible": true,
      "authorship_tag": "ABX9TyOnWFyzxMSxMdQPIwKPAreN",
      "include_colab_link": true
    },
    "kernelspec": {
      "name": "python3",
      "display_name": "Python 3"
    }
  },
  "cells": [
    {
      "cell_type": "markdown",
      "metadata": {
        "id": "view-in-github",
        "colab_type": "text"
      },
      "source": [
        "<a href=\"https://colab.research.google.com/github/STNox/Deep-Learning/blob/master/2.%20Model/03_%EC%95%84%EC%9D%B4%EB%A6%AC%EC%8A%A4_%EB%8B%A4%EC%A4%91_%EB%B6%84%EB%A5%98.ipynb\" target=\"_parent\"><img src=\"https://colab.research.google.com/assets/colab-badge.svg\" alt=\"Open In Colab\"/></a>"
      ]
    },
    {
      "cell_type": "markdown",
      "metadata": {
        "id": "5ZErfqy5F_cF"
      },
      "source": [
        "# 아이리스 다중 분류"
      ]
    },
    {
      "cell_type": "code",
      "metadata": {
        "id": "2fNi15LYF6Th"
      },
      "source": [
        "import numpy as np\r\n",
        "import tensorflow as tf"
      ],
      "execution_count": 1,
      "outputs": []
    },
    {
      "cell_type": "code",
      "metadata": {
        "id": "pJdih4i8GJS6"
      },
      "source": [
        "seed = 2021\r\n",
        "np.random.seed(seed)\r\n",
        "tf.random.set_seed(seed)"
      ],
      "execution_count": 2,
      "outputs": []
    },
    {
      "cell_type": "markdown",
      "metadata": {
        "id": "dxCH7CS7GQIp"
      },
      "source": [
        "### 데이터 전처리"
      ]
    },
    {
      "cell_type": "code",
      "metadata": {
        "id": "4jxsV02BGPpd"
      },
      "source": [
        "from sklearn.datasets import load_iris\r\n",
        "iris = load_iris()"
      ],
      "execution_count": 3,
      "outputs": []
    },
    {
      "cell_type": "code",
      "metadata": {
        "colab": {
          "base_uri": "https://localhost:8080/"
        },
        "id": "VJ2-z3YYGZCm",
        "outputId": "c624584b-0a8d-47fa-f09b-62cde30ea0b8"
      },
      "source": [
        "from tensorflow.keras.utils import to_categorical\r\n",
        "y_one_hot = to_categorical(iris.target)\r\n",
        "y_one_hot[:3]"
      ],
      "execution_count": 4,
      "outputs": [
        {
          "output_type": "execute_result",
          "data": {
            "text/plain": [
              "array([[1., 0., 0.],\n",
              "       [1., 0., 0.],\n",
              "       [1., 0., 0.]], dtype=float32)"
            ]
          },
          "metadata": {
            "tags": []
          },
          "execution_count": 4
        }
      ]
    },
    {
      "cell_type": "code",
      "metadata": {
        "id": "MOTukKPuHlyS"
      },
      "source": [
        "from sklearn.preprocessing import MinMaxScaler\r\n",
        "scaler = MinMaxScaler()\r\n",
        "X_scaled = scaler.fit_transform(iris.data)"
      ],
      "execution_count": 5,
      "outputs": []
    },
    {
      "cell_type": "code",
      "metadata": {
        "colab": {
          "base_uri": "https://localhost:8080/"
        },
        "id": "C9LZFZVeGqgF",
        "outputId": "240c702e-4f61-448f-ccc5-1ce906fa1675"
      },
      "source": [
        "from sklearn.model_selection import train_test_split\r\n",
        "X_train, X_test, y_train, y_test = train_test_split(X_scaled, y_one_hot, stratify=iris.target, random_state=seed)\r\n",
        "X_train.shape, X_test.shape"
      ],
      "execution_count": 6,
      "outputs": [
        {
          "output_type": "execute_result",
          "data": {
            "text/plain": [
              "((112, 4), (38, 4))"
            ]
          },
          "metadata": {
            "tags": []
          },
          "execution_count": 6
        }
      ]
    },
    {
      "cell_type": "markdown",
      "metadata": {
        "id": "CSr26WLkIPn3"
      },
      "source": [
        "### 모델 정의, 설정, 학습, 평가"
      ]
    },
    {
      "cell_type": "code",
      "metadata": {
        "colab": {
          "base_uri": "https://localhost:8080/"
        },
        "id": "K9aVO0V9HRBd",
        "outputId": "799d48b1-b5f9-455c-a43e-d9d156934d2e"
      },
      "source": [
        "from tensorflow.keras.models import Sequential\r\n",
        "from tensorflow.keras.layers import Dense\r\n",
        "\r\n",
        "model = Sequential([\r\n",
        "                    Dense(16, input_shape=(4, ), activation='relu'),\r\n",
        "                    Dense(3, activation='softmax')\r\n",
        "])\r\n",
        "model.summary()"
      ],
      "execution_count": 7,
      "outputs": [
        {
          "output_type": "stream",
          "text": [
            "Model: \"sequential\"\n",
            "_________________________________________________________________\n",
            "Layer (type)                 Output Shape              Param #   \n",
            "=================================================================\n",
            "dense (Dense)                (None, 16)                80        \n",
            "_________________________________________________________________\n",
            "dense_1 (Dense)              (None, 3)                 51        \n",
            "=================================================================\n",
            "Total params: 131\n",
            "Trainable params: 131\n",
            "Non-trainable params: 0\n",
            "_________________________________________________________________\n"
          ],
          "name": "stdout"
        }
      ]
    },
    {
      "cell_type": "code",
      "metadata": {
        "id": "xCvPIoP2Ikzx"
      },
      "source": [
        "model.compile(loss='categorical_crossentropy', optimizer='adam', metrics=['accuracy'])"
      ],
      "execution_count": 8,
      "outputs": []
    },
    {
      "cell_type": "code",
      "metadata": {
        "colab": {
          "base_uri": "https://localhost:8080/"
        },
        "id": "0iKD3ZgVIxSJ",
        "outputId": "bf9bb0c4-b15b-4a52-fd9f-b6a0d85ad32a"
      },
      "source": [
        "model.fit(X_train, y_train, validation_split=0.2, epochs=50, batch_size=30)"
      ],
      "execution_count": 9,
      "outputs": [
        {
          "output_type": "stream",
          "text": [
            "Epoch 1/50\n",
            "3/3 [==============================] - 1s 241ms/step - loss: 1.1742 - accuracy: 0.1689 - val_loss: 1.1581 - val_accuracy: 0.1739\n",
            "Epoch 2/50\n",
            "3/3 [==============================] - 0s 26ms/step - loss: 1.1618 - accuracy: 0.1564 - val_loss: 1.1565 - val_accuracy: 0.1304\n",
            "Epoch 3/50\n",
            "3/3 [==============================] - 0s 25ms/step - loss: 1.1574 - accuracy: 0.1397 - val_loss: 1.1548 - val_accuracy: 0.1304\n",
            "Epoch 4/50\n",
            "3/3 [==============================] - 0s 23ms/step - loss: 1.1530 - accuracy: 0.1676 - val_loss: 1.1535 - val_accuracy: 0.1739\n",
            "Epoch 5/50\n",
            "3/3 [==============================] - 0s 25ms/step - loss: 1.1381 - accuracy: 0.2528 - val_loss: 1.1525 - val_accuracy: 0.2174\n",
            "Epoch 6/50\n",
            "3/3 [==============================] - 0s 23ms/step - loss: 1.1277 - accuracy: 0.3310 - val_loss: 1.1515 - val_accuracy: 0.2174\n",
            "Epoch 7/50\n",
            "3/3 [==============================] - 0s 23ms/step - loss: 1.1285 - accuracy: 0.3660 - val_loss: 1.1501 - val_accuracy: 0.2174\n",
            "Epoch 8/50\n",
            "3/3 [==============================] - 0s 23ms/step - loss: 1.1079 - accuracy: 0.4118 - val_loss: 1.1489 - val_accuracy: 0.2174\n",
            "Epoch 9/50\n",
            "3/3 [==============================] - 0s 23ms/step - loss: 1.1099 - accuracy: 0.3437 - val_loss: 1.1469 - val_accuracy: 0.2174\n",
            "Epoch 10/50\n",
            "3/3 [==============================] - 0s 27ms/step - loss: 1.0946 - accuracy: 0.3896 - val_loss: 1.1450 - val_accuracy: 0.2174\n",
            "Epoch 11/50\n",
            "3/3 [==============================] - 0s 25ms/step - loss: 1.0805 - accuracy: 0.4187 - val_loss: 1.1430 - val_accuracy: 0.2174\n",
            "Epoch 12/50\n",
            "3/3 [==============================] - 0s 26ms/step - loss: 1.0983 - accuracy: 0.3229 - val_loss: 1.1401 - val_accuracy: 0.2174\n",
            "Epoch 13/50\n",
            "3/3 [==============================] - 0s 25ms/step - loss: 1.0672 - accuracy: 0.3937 - val_loss: 1.1378 - val_accuracy: 0.2174\n",
            "Epoch 14/50\n",
            "3/3 [==============================] - 0s 29ms/step - loss: 1.0730 - accuracy: 0.3604 - val_loss: 1.1351 - val_accuracy: 0.2174\n",
            "Epoch 15/50\n",
            "3/3 [==============================] - 0s 25ms/step - loss: 1.0684 - accuracy: 0.3604 - val_loss: 1.1320 - val_accuracy: 0.2174\n",
            "Epoch 16/50\n",
            "3/3 [==============================] - 0s 112ms/step - loss: 1.0656 - accuracy: 0.3479 - val_loss: 1.1291 - val_accuracy: 0.2174\n",
            "Epoch 17/50\n",
            "3/3 [==============================] - 0s 26ms/step - loss: 1.0753 - accuracy: 0.3104 - val_loss: 1.1257 - val_accuracy: 0.2174\n",
            "Epoch 18/50\n",
            "3/3 [==============================] - 0s 29ms/step - loss: 1.0416 - accuracy: 0.3687 - val_loss: 1.1230 - val_accuracy: 0.2174\n",
            "Epoch 19/50\n",
            "3/3 [==============================] - 0s 28ms/step - loss: 1.0330 - accuracy: 0.3812 - val_loss: 1.1201 - val_accuracy: 0.2174\n",
            "Epoch 20/50\n",
            "3/3 [==============================] - 0s 28ms/step - loss: 1.0337 - accuracy: 0.3687 - val_loss: 1.1167 - val_accuracy: 0.2174\n",
            "Epoch 21/50\n",
            "3/3 [==============================] - 0s 30ms/step - loss: 1.0158 - accuracy: 0.3979 - val_loss: 1.1134 - val_accuracy: 0.2174\n",
            "Epoch 22/50\n",
            "3/3 [==============================] - 0s 26ms/step - loss: 1.0090 - accuracy: 0.3979 - val_loss: 1.1098 - val_accuracy: 0.2609\n",
            "Epoch 23/50\n",
            "3/3 [==============================] - 0s 23ms/step - loss: 1.0244 - accuracy: 0.3604 - val_loss: 1.1055 - val_accuracy: 0.2609\n",
            "Epoch 24/50\n",
            "3/3 [==============================] - 0s 28ms/step - loss: 1.0068 - accuracy: 0.3479 - val_loss: 1.1016 - val_accuracy: 0.3478\n",
            "Epoch 25/50\n",
            "3/3 [==============================] - 0s 24ms/step - loss: 0.9813 - accuracy: 0.4439 - val_loss: 1.0976 - val_accuracy: 0.3913\n",
            "Epoch 26/50\n",
            "3/3 [==============================] - 0s 26ms/step - loss: 1.0080 - accuracy: 0.4414 - val_loss: 1.0927 - val_accuracy: 0.3913\n",
            "Epoch 27/50\n",
            "3/3 [==============================] - 0s 25ms/step - loss: 0.9951 - accuracy: 0.4624 - val_loss: 1.0878 - val_accuracy: 0.3913\n",
            "Epoch 28/50\n",
            "3/3 [==============================] - 0s 26ms/step - loss: 1.0000 - accuracy: 0.5282 - val_loss: 1.0826 - val_accuracy: 0.3913\n",
            "Epoch 29/50\n",
            "3/3 [==============================] - 0s 24ms/step - loss: 0.9699 - accuracy: 0.6075 - val_loss: 1.0779 - val_accuracy: 0.4783\n",
            "Epoch 30/50\n",
            "3/3 [==============================] - 0s 25ms/step - loss: 0.9863 - accuracy: 0.6411 - val_loss: 1.0727 - val_accuracy: 0.4783\n",
            "Epoch 31/50\n",
            "3/3 [==============================] - 0s 24ms/step - loss: 0.9495 - accuracy: 0.7066 - val_loss: 1.0679 - val_accuracy: 0.5217\n",
            "Epoch 32/50\n",
            "3/3 [==============================] - 0s 30ms/step - loss: 0.9686 - accuracy: 0.6775 - val_loss: 1.0625 - val_accuracy: 0.5217\n",
            "Epoch 33/50\n",
            "3/3 [==============================] - 0s 26ms/step - loss: 0.9425 - accuracy: 0.7414 - val_loss: 1.0575 - val_accuracy: 0.5217\n",
            "Epoch 34/50\n",
            "3/3 [==============================] - 0s 23ms/step - loss: 0.9514 - accuracy: 0.6956 - val_loss: 1.0522 - val_accuracy: 0.5217\n",
            "Epoch 35/50\n",
            "3/3 [==============================] - 0s 25ms/step - loss: 0.9399 - accuracy: 0.6873 - val_loss: 1.0467 - val_accuracy: 0.5217\n",
            "Epoch 36/50\n",
            "3/3 [==============================] - 0s 27ms/step - loss: 0.9376 - accuracy: 0.6873 - val_loss: 1.0412 - val_accuracy: 0.5217\n",
            "Epoch 37/50\n",
            "3/3 [==============================] - 0s 25ms/step - loss: 0.9356 - accuracy: 0.6831 - val_loss: 1.0356 - val_accuracy: 0.5217\n",
            "Epoch 38/50\n",
            "3/3 [==============================] - 0s 25ms/step - loss: 0.9179 - accuracy: 0.7081 - val_loss: 1.0302 - val_accuracy: 0.5217\n",
            "Epoch 39/50\n",
            "3/3 [==============================] - 0s 25ms/step - loss: 0.9151 - accuracy: 0.7039 - val_loss: 1.0245 - val_accuracy: 0.5217\n",
            "Epoch 40/50\n",
            "3/3 [==============================] - 0s 26ms/step - loss: 0.9486 - accuracy: 0.6706 - val_loss: 1.0182 - val_accuracy: 0.5217\n",
            "Epoch 41/50\n",
            "3/3 [==============================] - 0s 25ms/step - loss: 0.9226 - accuracy: 0.6831 - val_loss: 1.0124 - val_accuracy: 0.5217\n",
            "Epoch 42/50\n",
            "3/3 [==============================] - 0s 25ms/step - loss: 0.9095 - accuracy: 0.6873 - val_loss: 1.0068 - val_accuracy: 0.5217\n",
            "Epoch 43/50\n",
            "3/3 [==============================] - 0s 30ms/step - loss: 0.9039 - accuracy: 0.6998 - val_loss: 1.0012 - val_accuracy: 0.5217\n",
            "Epoch 44/50\n",
            "3/3 [==============================] - 0s 24ms/step - loss: 0.8847 - accuracy: 0.7039 - val_loss: 0.9957 - val_accuracy: 0.5217\n",
            "Epoch 45/50\n",
            "3/3 [==============================] - 0s 26ms/step - loss: 0.8813 - accuracy: 0.6998 - val_loss: 0.9901 - val_accuracy: 0.5217\n",
            "Epoch 46/50\n",
            "3/3 [==============================] - 0s 24ms/step - loss: 0.8774 - accuracy: 0.7039 - val_loss: 0.9842 - val_accuracy: 0.5217\n",
            "Epoch 47/50\n",
            "3/3 [==============================] - 0s 26ms/step - loss: 0.8431 - accuracy: 0.7331 - val_loss: 0.9789 - val_accuracy: 0.5217\n",
            "Epoch 48/50\n",
            "3/3 [==============================] - 0s 23ms/step - loss: 0.8670 - accuracy: 0.6914 - val_loss: 0.9725 - val_accuracy: 0.5217\n",
            "Epoch 49/50\n",
            "3/3 [==============================] - 0s 26ms/step - loss: 0.8520 - accuracy: 0.7123 - val_loss: 0.9668 - val_accuracy: 0.5217\n",
            "Epoch 50/50\n",
            "3/3 [==============================] - 0s 26ms/step - loss: 0.8719 - accuracy: 0.6748 - val_loss: 0.9601 - val_accuracy: 0.5217\n"
          ],
          "name": "stdout"
        },
        {
          "output_type": "execute_result",
          "data": {
            "text/plain": [
              "<tensorflow.python.keras.callbacks.History at 0x7f548bfa0208>"
            ]
          },
          "metadata": {
            "tags": []
          },
          "execution_count": 9
        }
      ]
    },
    {
      "cell_type": "code",
      "metadata": {
        "colab": {
          "base_uri": "https://localhost:8080/"
        },
        "id": "AkfzzG-aI9fa",
        "outputId": "b946be74-ccdc-40aa-a9e7-a31371e69d99"
      },
      "source": [
        "acc = model.evaluate(X_test, y_test)\r\n",
        "print(f'Accuracy: {acc[1]:.4f}')"
      ],
      "execution_count": 10,
      "outputs": [
        {
          "output_type": "stream",
          "text": [
            "2/2 [==============================] - 0s 5ms/step - loss: 0.8943 - accuracy: 0.6579\n",
            "Accuracy: 0.6579\n"
          ],
          "name": "stdout"
        }
      ]
    },
    {
      "cell_type": "markdown",
      "metadata": {
        "id": "hXtmXsg-KDUA"
      },
      "source": [
        "### 은닉층 추가"
      ]
    },
    {
      "cell_type": "code",
      "metadata": {
        "colab": {
          "base_uri": "https://localhost:8080/"
        },
        "id": "OXHORDstJLIt",
        "outputId": "1c12df8d-0c08-43fc-8657-255dc570ac55"
      },
      "source": [
        "model2 = Sequential([\r\n",
        "                     Dense(12, input_dim=4, activation='relu'),\r\n",
        "                     Dense(8, activation='relu'),\r\n",
        "                     Dense(3, activation='softmax')\r\n",
        "])\r\n",
        "model2.summary()"
      ],
      "execution_count": 11,
      "outputs": [
        {
          "output_type": "stream",
          "text": [
            "Model: \"sequential_1\"\n",
            "_________________________________________________________________\n",
            "Layer (type)                 Output Shape              Param #   \n",
            "=================================================================\n",
            "dense_2 (Dense)              (None, 12)                60        \n",
            "_________________________________________________________________\n",
            "dense_3 (Dense)              (None, 8)                 104       \n",
            "_________________________________________________________________\n",
            "dense_4 (Dense)              (None, 3)                 27        \n",
            "=================================================================\n",
            "Total params: 191\n",
            "Trainable params: 191\n",
            "Non-trainable params: 0\n",
            "_________________________________________________________________\n"
          ],
          "name": "stdout"
        }
      ]
    },
    {
      "cell_type": "code",
      "metadata": {
        "id": "BfflQdT9KgFw"
      },
      "source": [
        "model2.compile(loss='categorical_crossentropy', optimizer='adam', metrics=['accuracy'])"
      ],
      "execution_count": 12,
      "outputs": []
    },
    {
      "cell_type": "code",
      "metadata": {
        "colab": {
          "base_uri": "https://localhost:8080/"
        },
        "id": "xAQ2Uc2vKzDJ",
        "outputId": "b25de70a-5c0f-4b89-9763-212d027c9dbf"
      },
      "source": [
        "model2.fit(X_train, y_train, batch_size=30, epochs=200, validation_split=0.2)"
      ],
      "execution_count": 13,
      "outputs": [
        {
          "output_type": "stream",
          "text": [
            "Epoch 1/200\n",
            "3/3 [==============================] - 1s 106ms/step - loss: 1.2352 - accuracy: 0.3102 - val_loss: 1.2644 - val_accuracy: 0.3043\n",
            "Epoch 2/200\n",
            "3/3 [==============================] - 0s 26ms/step - loss: 1.2058 - accuracy: 0.3394 - val_loss: 1.2508 - val_accuracy: 0.3043\n",
            "Epoch 3/200\n",
            "3/3 [==============================] - 0s 27ms/step - loss: 1.1839 - accuracy: 0.3602 - val_loss: 1.2376 - val_accuracy: 0.3043\n",
            "Epoch 4/200\n",
            "3/3 [==============================] - 0s 23ms/step - loss: 1.1722 - accuracy: 0.3519 - val_loss: 1.2249 - val_accuracy: 0.3043\n",
            "Epoch 5/200\n",
            "3/3 [==============================] - 0s 27ms/step - loss: 1.1781 - accuracy: 0.3060 - val_loss: 1.2124 - val_accuracy: 0.3043\n",
            "Epoch 6/200\n",
            "3/3 [==============================] - 0s 24ms/step - loss: 1.1529 - accuracy: 0.3477 - val_loss: 1.2006 - val_accuracy: 0.3043\n",
            "Epoch 7/200\n",
            "3/3 [==============================] - 0s 25ms/step - loss: 1.1537 - accuracy: 0.3352 - val_loss: 1.1892 - val_accuracy: 0.3043\n",
            "Epoch 8/200\n",
            "3/3 [==============================] - 0s 24ms/step - loss: 1.1298 - accuracy: 0.3477 - val_loss: 1.1786 - val_accuracy: 0.3043\n",
            "Epoch 9/200\n",
            "3/3 [==============================] - 0s 23ms/step - loss: 1.1256 - accuracy: 0.3602 - val_loss: 1.1681 - val_accuracy: 0.3043\n",
            "Epoch 10/200\n",
            "3/3 [==============================] - 0s 27ms/step - loss: 1.1198 - accuracy: 0.3269 - val_loss: 1.1582 - val_accuracy: 0.3043\n",
            "Epoch 11/200\n",
            "3/3 [==============================] - 0s 25ms/step - loss: 1.1137 - accuracy: 0.3060 - val_loss: 1.1484 - val_accuracy: 0.3043\n",
            "Epoch 12/200\n",
            "3/3 [==============================] - 0s 120ms/step - loss: 1.1166 - accuracy: 0.3269 - val_loss: 1.1389 - val_accuracy: 0.3043\n",
            "Epoch 13/200\n",
            "3/3 [==============================] - 0s 25ms/step - loss: 1.1029 - accuracy: 0.3046 - val_loss: 1.1302 - val_accuracy: 0.3043\n",
            "Epoch 14/200\n",
            "3/3 [==============================] - 0s 24ms/step - loss: 1.0992 - accuracy: 0.3088 - val_loss: 1.1217 - val_accuracy: 0.3043\n",
            "Epoch 15/200\n",
            "3/3 [==============================] - 0s 27ms/step - loss: 1.0971 - accuracy: 0.3004 - val_loss: 1.1134 - val_accuracy: 0.3043\n",
            "Epoch 16/200\n",
            "3/3 [==============================] - 0s 25ms/step - loss: 1.0805 - accuracy: 0.3296 - val_loss: 1.1057 - val_accuracy: 0.3043\n",
            "Epoch 17/200\n",
            "3/3 [==============================] - 0s 27ms/step - loss: 1.0722 - accuracy: 0.3338 - val_loss: 1.0985 - val_accuracy: 0.3043\n",
            "Epoch 18/200\n",
            "3/3 [==============================] - 0s 26ms/step - loss: 1.0494 - accuracy: 0.3629 - val_loss: 1.0922 - val_accuracy: 0.3043\n",
            "Epoch 19/200\n",
            "3/3 [==============================] - 0s 25ms/step - loss: 1.0619 - accuracy: 0.3171 - val_loss: 1.0864 - val_accuracy: 0.3043\n",
            "Epoch 20/200\n",
            "3/3 [==============================] - 0s 24ms/step - loss: 1.0559 - accuracy: 0.3254 - val_loss: 1.0808 - val_accuracy: 0.3043\n",
            "Epoch 21/200\n",
            "3/3 [==============================] - 0s 24ms/step - loss: 1.0617 - accuracy: 0.2879 - val_loss: 1.0755 - val_accuracy: 0.3043\n",
            "Epoch 22/200\n",
            "3/3 [==============================] - 0s 25ms/step - loss: 1.0514 - accuracy: 0.3004 - val_loss: 1.0703 - val_accuracy: 0.3043\n",
            "Epoch 23/200\n",
            "3/3 [==============================] - 0s 24ms/step - loss: 1.0476 - accuracy: 0.3046 - val_loss: 1.0654 - val_accuracy: 0.3043\n",
            "Epoch 24/200\n",
            "3/3 [==============================] - 0s 25ms/step - loss: 1.0105 - accuracy: 0.4088 - val_loss: 1.0609 - val_accuracy: 0.3043\n",
            "Epoch 25/200\n",
            "3/3 [==============================] - 0s 24ms/step - loss: 1.0341 - accuracy: 0.3004 - val_loss: 1.0566 - val_accuracy: 0.3043\n",
            "Epoch 26/200\n",
            "3/3 [==============================] - 0s 28ms/step - loss: 1.0257 - accuracy: 0.3269 - val_loss: 1.0523 - val_accuracy: 0.3043\n",
            "Epoch 27/200\n",
            "3/3 [==============================] - 0s 29ms/step - loss: 1.0192 - accuracy: 0.3548 - val_loss: 1.0482 - val_accuracy: 0.3043\n",
            "Epoch 28/200\n",
            "3/3 [==============================] - 0s 24ms/step - loss: 1.0145 - accuracy: 0.3646 - val_loss: 1.0442 - val_accuracy: 0.3043\n",
            "Epoch 29/200\n",
            "3/3 [==============================] - 0s 25ms/step - loss: 1.0123 - accuracy: 0.3743 - val_loss: 1.0403 - val_accuracy: 0.3043\n",
            "Epoch 30/200\n",
            "3/3 [==============================] - 0s 24ms/step - loss: 1.0003 - accuracy: 0.4204 - val_loss: 1.0364 - val_accuracy: 0.3478\n",
            "Epoch 31/200\n",
            "3/3 [==============================] - 0s 25ms/step - loss: 1.0143 - accuracy: 0.3885 - val_loss: 1.0327 - val_accuracy: 0.4348\n",
            "Epoch 32/200\n",
            "3/3 [==============================] - 0s 23ms/step - loss: 1.0023 - accuracy: 0.4274 - val_loss: 1.0287 - val_accuracy: 0.4348\n",
            "Epoch 33/200\n",
            "3/3 [==============================] - 0s 24ms/step - loss: 0.9741 - accuracy: 0.4901 - val_loss: 1.0248 - val_accuracy: 0.4348\n",
            "Epoch 34/200\n",
            "3/3 [==============================] - 0s 24ms/step - loss: 0.9957 - accuracy: 0.4693 - val_loss: 1.0210 - val_accuracy: 0.4348\n",
            "Epoch 35/200\n",
            "3/3 [==============================] - 0s 31ms/step - loss: 0.9994 - accuracy: 0.4401 - val_loss: 1.0171 - val_accuracy: 0.4783\n",
            "Epoch 36/200\n",
            "3/3 [==============================] - 0s 25ms/step - loss: 0.9902 - accuracy: 0.4401 - val_loss: 1.0130 - val_accuracy: 0.4783\n",
            "Epoch 37/200\n",
            "3/3 [==============================] - 0s 26ms/step - loss: 0.9881 - accuracy: 0.4820 - val_loss: 1.0090 - val_accuracy: 0.4783\n",
            "Epoch 38/200\n",
            "3/3 [==============================] - 0s 28ms/step - loss: 0.9731 - accuracy: 0.5057 - val_loss: 1.0051 - val_accuracy: 0.4783\n",
            "Epoch 39/200\n",
            "3/3 [==============================] - 0s 25ms/step - loss: 0.9676 - accuracy: 0.5280 - val_loss: 1.0011 - val_accuracy: 0.4783\n",
            "Epoch 40/200\n",
            "3/3 [==============================] - 0s 24ms/step - loss: 0.9476 - accuracy: 0.5461 - val_loss: 0.9969 - val_accuracy: 0.4783\n",
            "Epoch 41/200\n",
            "3/3 [==============================] - 0s 26ms/step - loss: 0.9507 - accuracy: 0.5699 - val_loss: 0.9929 - val_accuracy: 0.4783\n",
            "Epoch 42/200\n",
            "3/3 [==============================] - 0s 26ms/step - loss: 0.9597 - accuracy: 0.5519 - val_loss: 0.9889 - val_accuracy: 0.5217\n",
            "Epoch 43/200\n",
            "3/3 [==============================] - 0s 28ms/step - loss: 0.9368 - accuracy: 0.6075 - val_loss: 0.9847 - val_accuracy: 0.5217\n",
            "Epoch 44/200\n",
            "3/3 [==============================] - 0s 27ms/step - loss: 0.9435 - accuracy: 0.5867 - val_loss: 0.9806 - val_accuracy: 0.5217\n",
            "Epoch 45/200\n",
            "3/3 [==============================] - 0s 25ms/step - loss: 0.9411 - accuracy: 0.5882 - val_loss: 0.9764 - val_accuracy: 0.5217\n",
            "Epoch 46/200\n",
            "3/3 [==============================] - 0s 28ms/step - loss: 0.9262 - accuracy: 0.6132 - val_loss: 0.9720 - val_accuracy: 0.5217\n",
            "Epoch 47/200\n",
            "3/3 [==============================] - 0s 26ms/step - loss: 0.9242 - accuracy: 0.6673 - val_loss: 0.9677 - val_accuracy: 0.5217\n",
            "Epoch 48/200\n",
            "3/3 [==============================] - 0s 26ms/step - loss: 0.9243 - accuracy: 0.5896 - val_loss: 0.9631 - val_accuracy: 0.5217\n",
            "Epoch 49/200\n",
            "3/3 [==============================] - 0s 25ms/step - loss: 0.9169 - accuracy: 0.6354 - val_loss: 0.9588 - val_accuracy: 0.5217\n",
            "Epoch 50/200\n",
            "3/3 [==============================] - 0s 26ms/step - loss: 0.9030 - accuracy: 0.6161 - val_loss: 0.9541 - val_accuracy: 0.5217\n",
            "Epoch 51/200\n",
            "3/3 [==============================] - 0s 24ms/step - loss: 0.8953 - accuracy: 0.6606 - val_loss: 0.9496 - val_accuracy: 0.5217\n",
            "Epoch 52/200\n",
            "3/3 [==============================] - 0s 24ms/step - loss: 0.8838 - accuracy: 0.6969 - val_loss: 0.9453 - val_accuracy: 0.5217\n",
            "Epoch 53/200\n",
            "3/3 [==============================] - 0s 24ms/step - loss: 0.8964 - accuracy: 0.6677 - val_loss: 0.9411 - val_accuracy: 0.5217\n",
            "Epoch 54/200\n",
            "3/3 [==============================] - 0s 25ms/step - loss: 0.9142 - accuracy: 0.6816 - val_loss: 0.9369 - val_accuracy: 0.5217\n",
            "Epoch 55/200\n",
            "3/3 [==============================] - 0s 23ms/step - loss: 0.8709 - accuracy: 0.6941 - val_loss: 0.9327 - val_accuracy: 0.5217\n",
            "Epoch 56/200\n",
            "3/3 [==============================] - 0s 26ms/step - loss: 0.8768 - accuracy: 0.6983 - val_loss: 0.9284 - val_accuracy: 0.5217\n",
            "Epoch 57/200\n",
            "3/3 [==============================] - 0s 115ms/step - loss: 0.8905 - accuracy: 0.6983 - val_loss: 0.9243 - val_accuracy: 0.5217\n",
            "Epoch 58/200\n",
            "3/3 [==============================] - 0s 27ms/step - loss: 0.8712 - accuracy: 0.7025 - val_loss: 0.9197 - val_accuracy: 0.5217\n",
            "Epoch 59/200\n",
            "3/3 [==============================] - 0s 28ms/step - loss: 0.8560 - accuracy: 0.7108 - val_loss: 0.9151 - val_accuracy: 0.5217\n",
            "Epoch 60/200\n",
            "3/3 [==============================] - 0s 25ms/step - loss: 0.8516 - accuracy: 0.7025 - val_loss: 0.9108 - val_accuracy: 0.5217\n",
            "Epoch 61/200\n",
            "3/3 [==============================] - 0s 25ms/step - loss: 0.8335 - accuracy: 0.7150 - val_loss: 0.9062 - val_accuracy: 0.5217\n",
            "Epoch 62/200\n",
            "3/3 [==============================] - 0s 24ms/step - loss: 0.8466 - accuracy: 0.6775 - val_loss: 0.9017 - val_accuracy: 0.5217\n",
            "Epoch 63/200\n",
            "3/3 [==============================] - 0s 23ms/step - loss: 0.8465 - accuracy: 0.7108 - val_loss: 0.8975 - val_accuracy: 0.5217\n",
            "Epoch 64/200\n",
            "3/3 [==============================] - 0s 24ms/step - loss: 0.8570 - accuracy: 0.6858 - val_loss: 0.8930 - val_accuracy: 0.5217\n",
            "Epoch 65/200\n",
            "3/3 [==============================] - 0s 25ms/step - loss: 0.8241 - accuracy: 0.6900 - val_loss: 0.8884 - val_accuracy: 0.5217\n",
            "Epoch 66/200\n",
            "3/3 [==============================] - 0s 25ms/step - loss: 0.8281 - accuracy: 0.7400 - val_loss: 0.8841 - val_accuracy: 0.5217\n",
            "Epoch 67/200\n",
            "3/3 [==============================] - 0s 24ms/step - loss: 0.8182 - accuracy: 0.7123 - val_loss: 0.8797 - val_accuracy: 0.5217\n",
            "Epoch 68/200\n",
            "3/3 [==============================] - 0s 25ms/step - loss: 0.8083 - accuracy: 0.7554 - val_loss: 0.8756 - val_accuracy: 0.5217\n",
            "Epoch 69/200\n",
            "3/3 [==============================] - 0s 26ms/step - loss: 0.7911 - accuracy: 0.7179 - val_loss: 0.8712 - val_accuracy: 0.5217\n",
            "Epoch 70/200\n",
            "3/3 [==============================] - 0s 25ms/step - loss: 0.7759 - accuracy: 0.7596 - val_loss: 0.8670 - val_accuracy: 0.5217\n",
            "Epoch 71/200\n",
            "3/3 [==============================] - 0s 25ms/step - loss: 0.7909 - accuracy: 0.7221 - val_loss: 0.8630 - val_accuracy: 0.5217\n",
            "Epoch 72/200\n",
            "3/3 [==============================] - 0s 29ms/step - loss: 0.8190 - accuracy: 0.7179 - val_loss: 0.8588 - val_accuracy: 0.5217\n",
            "Epoch 73/200\n",
            "3/3 [==============================] - 0s 25ms/step - loss: 0.8096 - accuracy: 0.6985 - val_loss: 0.8545 - val_accuracy: 0.5217\n",
            "Epoch 74/200\n",
            "3/3 [==============================] - 0s 27ms/step - loss: 0.7872 - accuracy: 0.7152 - val_loss: 0.8503 - val_accuracy: 0.5217\n",
            "Epoch 75/200\n",
            "3/3 [==============================] - 0s 25ms/step - loss: 0.8034 - accuracy: 0.7027 - val_loss: 0.8461 - val_accuracy: 0.5652\n",
            "Epoch 76/200\n",
            "3/3 [==============================] - 0s 26ms/step - loss: 0.7797 - accuracy: 0.7166 - val_loss: 0.8423 - val_accuracy: 0.5652\n",
            "Epoch 77/200\n",
            "3/3 [==============================] - 0s 26ms/step - loss: 0.7669 - accuracy: 0.7000 - val_loss: 0.8383 - val_accuracy: 0.5652\n",
            "Epoch 78/200\n",
            "3/3 [==============================] - 0s 29ms/step - loss: 0.7712 - accuracy: 0.7375 - val_loss: 0.8347 - val_accuracy: 0.5652\n",
            "Epoch 79/200\n",
            "3/3 [==============================] - 0s 26ms/step - loss: 0.7574 - accuracy: 0.7541 - val_loss: 0.8311 - val_accuracy: 0.5652\n",
            "Epoch 80/200\n",
            "3/3 [==============================] - 0s 28ms/step - loss: 0.7822 - accuracy: 0.7416 - val_loss: 0.8275 - val_accuracy: 0.5652\n",
            "Epoch 81/200\n",
            "3/3 [==============================] - 0s 25ms/step - loss: 0.7682 - accuracy: 0.7666 - val_loss: 0.8239 - val_accuracy: 0.5652\n",
            "Epoch 82/200\n",
            "3/3 [==============================] - 0s 28ms/step - loss: 0.7695 - accuracy: 0.7625 - val_loss: 0.8199 - val_accuracy: 0.5652\n",
            "Epoch 83/200\n",
            "3/3 [==============================] - 0s 27ms/step - loss: 0.7766 - accuracy: 0.7389 - val_loss: 0.8160 - val_accuracy: 0.5652\n",
            "Epoch 84/200\n",
            "3/3 [==============================] - 0s 25ms/step - loss: 0.7474 - accuracy: 0.7597 - val_loss: 0.8122 - val_accuracy: 0.5652\n",
            "Epoch 85/200\n",
            "3/3 [==============================] - 0s 28ms/step - loss: 0.7313 - accuracy: 0.8070 - val_loss: 0.8089 - val_accuracy: 0.5652\n",
            "Epoch 86/200\n",
            "3/3 [==============================] - 0s 25ms/step - loss: 0.7383 - accuracy: 0.8001 - val_loss: 0.8055 - val_accuracy: 0.5652\n",
            "Epoch 87/200\n",
            "3/3 [==============================] - 0s 27ms/step - loss: 0.7299 - accuracy: 0.7668 - val_loss: 0.8017 - val_accuracy: 0.5652\n",
            "Epoch 88/200\n",
            "3/3 [==============================] - 0s 24ms/step - loss: 0.7340 - accuracy: 0.8210 - val_loss: 0.7984 - val_accuracy: 0.6087\n",
            "Epoch 89/200\n",
            "3/3 [==============================] - 0s 27ms/step - loss: 0.7376 - accuracy: 0.7558 - val_loss: 0.7944 - val_accuracy: 0.6087\n",
            "Epoch 90/200\n",
            "3/3 [==============================] - 0s 24ms/step - loss: 0.7464 - accuracy: 0.7683 - val_loss: 0.7898 - val_accuracy: 0.6087\n",
            "Epoch 91/200\n",
            "3/3 [==============================] - 0s 26ms/step - loss: 0.7546 - accuracy: 0.8155 - val_loss: 0.7848 - val_accuracy: 0.6087\n",
            "Epoch 92/200\n",
            "3/3 [==============================] - 0s 31ms/step - loss: 0.7311 - accuracy: 0.7947 - val_loss: 0.7793 - val_accuracy: 0.6087\n",
            "Epoch 93/200\n",
            "3/3 [==============================] - 0s 29ms/step - loss: 0.6881 - accuracy: 0.8239 - val_loss: 0.7741 - val_accuracy: 0.6087\n",
            "Epoch 94/200\n",
            "3/3 [==============================] - 0s 27ms/step - loss: 0.7304 - accuracy: 0.7918 - val_loss: 0.7686 - val_accuracy: 0.6087\n",
            "Epoch 95/200\n",
            "3/3 [==============================] - 0s 30ms/step - loss: 0.7132 - accuracy: 0.8001 - val_loss: 0.7631 - val_accuracy: 0.5652\n",
            "Epoch 96/200\n",
            "3/3 [==============================] - 0s 29ms/step - loss: 0.7046 - accuracy: 0.7487 - val_loss: 0.7572 - val_accuracy: 0.6087\n",
            "Epoch 97/200\n",
            "3/3 [==============================] - 0s 28ms/step - loss: 0.6723 - accuracy: 0.7695 - val_loss: 0.7515 - val_accuracy: 0.6087\n",
            "Epoch 98/200\n",
            "3/3 [==============================] - 0s 32ms/step - loss: 0.6877 - accuracy: 0.7737 - val_loss: 0.7456 - val_accuracy: 0.5652\n",
            "Epoch 99/200\n",
            "3/3 [==============================] - 0s 26ms/step - loss: 0.6833 - accuracy: 0.7737 - val_loss: 0.7398 - val_accuracy: 0.5652\n",
            "Epoch 100/200\n",
            "3/3 [==============================] - 0s 25ms/step - loss: 0.6262 - accuracy: 0.7987 - val_loss: 0.7342 - val_accuracy: 0.6087\n",
            "Epoch 101/200\n",
            "3/3 [==============================] - 0s 28ms/step - loss: 0.6541 - accuracy: 0.7737 - val_loss: 0.7285 - val_accuracy: 0.6087\n",
            "Epoch 102/200\n",
            "3/3 [==============================] - 0s 31ms/step - loss: 0.6388 - accuracy: 0.7235 - val_loss: 0.7230 - val_accuracy: 0.6087\n",
            "Epoch 103/200\n",
            "3/3 [==============================] - 0s 32ms/step - loss: 0.6422 - accuracy: 0.7110 - val_loss: 0.7174 - val_accuracy: 0.5652\n",
            "Epoch 104/200\n",
            "3/3 [==============================] - 0s 28ms/step - loss: 0.6163 - accuracy: 0.7193 - val_loss: 0.7124 - val_accuracy: 0.5652\n",
            "Epoch 105/200\n",
            "3/3 [==============================] - 0s 25ms/step - loss: 0.6102 - accuracy: 0.7416 - val_loss: 0.7075 - val_accuracy: 0.5652\n",
            "Epoch 106/200\n",
            "3/3 [==============================] - 0s 26ms/step - loss: 0.6510 - accuracy: 0.7250 - val_loss: 0.7029 - val_accuracy: 0.5652\n",
            "Epoch 107/200\n",
            "3/3 [==============================] - 0s 30ms/step - loss: 0.5944 - accuracy: 0.7541 - val_loss: 0.6979 - val_accuracy: 0.5652\n",
            "Epoch 108/200\n",
            "3/3 [==============================] - 0s 33ms/step - loss: 0.5989 - accuracy: 0.7291 - val_loss: 0.6925 - val_accuracy: 0.5652\n",
            "Epoch 109/200\n",
            "3/3 [==============================] - 0s 28ms/step - loss: 0.6116 - accuracy: 0.7083 - val_loss: 0.6874 - val_accuracy: 0.5652\n",
            "Epoch 110/200\n",
            "3/3 [==============================] - 0s 29ms/step - loss: 0.5621 - accuracy: 0.7708 - val_loss: 0.6830 - val_accuracy: 0.5652\n",
            "Epoch 111/200\n",
            "3/3 [==============================] - 0s 25ms/step - loss: 0.5668 - accuracy: 0.7666 - val_loss: 0.6782 - val_accuracy: 0.5652\n",
            "Epoch 112/200\n",
            "3/3 [==============================] - 0s 26ms/step - loss: 0.6048 - accuracy: 0.7250 - val_loss: 0.6732 - val_accuracy: 0.5652\n",
            "Epoch 113/200\n",
            "3/3 [==============================] - 0s 121ms/step - loss: 0.5434 - accuracy: 0.7583 - val_loss: 0.6684 - val_accuracy: 0.5652\n",
            "Epoch 114/200\n",
            "3/3 [==============================] - 0s 26ms/step - loss: 0.5648 - accuracy: 0.7666 - val_loss: 0.6633 - val_accuracy: 0.5652\n",
            "Epoch 115/200\n",
            "3/3 [==============================] - 0s 29ms/step - loss: 0.5654 - accuracy: 0.7375 - val_loss: 0.6583 - val_accuracy: 0.5652\n",
            "Epoch 116/200\n",
            "3/3 [==============================] - 0s 26ms/step - loss: 0.5424 - accuracy: 0.7375 - val_loss: 0.6530 - val_accuracy: 0.5652\n",
            "Epoch 117/200\n",
            "3/3 [==============================] - 0s 29ms/step - loss: 0.5411 - accuracy: 0.7416 - val_loss: 0.6480 - val_accuracy: 0.5652\n",
            "Epoch 118/200\n",
            "3/3 [==============================] - 0s 29ms/step - loss: 0.5507 - accuracy: 0.7416 - val_loss: 0.6433 - val_accuracy: 0.5652\n",
            "Epoch 119/200\n",
            "3/3 [==============================] - 0s 32ms/step - loss: 0.5355 - accuracy: 0.7416 - val_loss: 0.6384 - val_accuracy: 0.5652\n",
            "Epoch 120/200\n",
            "3/3 [==============================] - 0s 31ms/step - loss: 0.5346 - accuracy: 0.7472 - val_loss: 0.6338 - val_accuracy: 0.5652\n",
            "Epoch 121/200\n",
            "3/3 [==============================] - 0s 27ms/step - loss: 0.5332 - accuracy: 0.7306 - val_loss: 0.6289 - val_accuracy: 0.5652\n",
            "Epoch 122/200\n",
            "3/3 [==============================] - 0s 25ms/step - loss: 0.5156 - accuracy: 0.7597 - val_loss: 0.6245 - val_accuracy: 0.5652\n",
            "Epoch 123/200\n",
            "3/3 [==============================] - 0s 29ms/step - loss: 0.5231 - accuracy: 0.7306 - val_loss: 0.6192 - val_accuracy: 0.5652\n",
            "Epoch 124/200\n",
            "3/3 [==============================] - 0s 33ms/step - loss: 0.4959 - accuracy: 0.7681 - val_loss: 0.6151 - val_accuracy: 0.5652\n",
            "Epoch 125/200\n",
            "3/3 [==============================] - 0s 30ms/step - loss: 0.5037 - accuracy: 0.7681 - val_loss: 0.6109 - val_accuracy: 0.6087\n",
            "Epoch 126/200\n",
            "3/3 [==============================] - 0s 27ms/step - loss: 0.5022 - accuracy: 0.7347 - val_loss: 0.6055 - val_accuracy: 0.6087\n",
            "Epoch 127/200\n",
            "3/3 [==============================] - 0s 26ms/step - loss: 0.4799 - accuracy: 0.7710 - val_loss: 0.6009 - val_accuracy: 0.6087\n",
            "Epoch 128/200\n",
            "3/3 [==============================] - 0s 25ms/step - loss: 0.4777 - accuracy: 0.7835 - val_loss: 0.5972 - val_accuracy: 0.6087\n",
            "Epoch 129/200\n",
            "3/3 [==============================] - 0s 31ms/step - loss: 0.4603 - accuracy: 0.8043 - val_loss: 0.5943 - val_accuracy: 0.6087\n",
            "Epoch 130/200\n",
            "3/3 [==============================] - 0s 26ms/step - loss: 0.4700 - accuracy: 0.7835 - val_loss: 0.5905 - val_accuracy: 0.6087\n",
            "Epoch 131/200\n",
            "3/3 [==============================] - 0s 29ms/step - loss: 0.4562 - accuracy: 0.7793 - val_loss: 0.5872 - val_accuracy: 0.6087\n",
            "Epoch 132/200\n",
            "3/3 [==============================] - 0s 29ms/step - loss: 0.4587 - accuracy: 0.7835 - val_loss: 0.5833 - val_accuracy: 0.6087\n",
            "Epoch 133/200\n",
            "3/3 [==============================] - 0s 27ms/step - loss: 0.4743 - accuracy: 0.7751 - val_loss: 0.5794 - val_accuracy: 0.6087\n",
            "Epoch 134/200\n",
            "3/3 [==============================] - 0s 27ms/step - loss: 0.5045 - accuracy: 0.7626 - val_loss: 0.5757 - val_accuracy: 0.6087\n",
            "Epoch 135/200\n",
            "3/3 [==============================] - 0s 26ms/step - loss: 0.4678 - accuracy: 0.7751 - val_loss: 0.5728 - val_accuracy: 0.6087\n",
            "Epoch 136/200\n",
            "3/3 [==============================] - 0s 34ms/step - loss: 0.5028 - accuracy: 0.7376 - val_loss: 0.5689 - val_accuracy: 0.6522\n",
            "Epoch 137/200\n",
            "3/3 [==============================] - 0s 31ms/step - loss: 0.4434 - accuracy: 0.7710 - val_loss: 0.5656 - val_accuracy: 0.6522\n",
            "Epoch 138/200\n",
            "3/3 [==============================] - 0s 29ms/step - loss: 0.4837 - accuracy: 0.7293 - val_loss: 0.5618 - val_accuracy: 0.6957\n",
            "Epoch 139/200\n",
            "3/3 [==============================] - 0s 27ms/step - loss: 0.4720 - accuracy: 0.7905 - val_loss: 0.5586 - val_accuracy: 0.6957\n",
            "Epoch 140/200\n",
            "3/3 [==============================] - 0s 30ms/step - loss: 0.4375 - accuracy: 0.8489 - val_loss: 0.5563 - val_accuracy: 0.6957\n",
            "Epoch 141/200\n",
            "3/3 [==============================] - 0s 29ms/step - loss: 0.4416 - accuracy: 0.7905 - val_loss: 0.5520 - val_accuracy: 0.6957\n",
            "Epoch 142/200\n",
            "3/3 [==============================] - 0s 26ms/step - loss: 0.4471 - accuracy: 0.8030 - val_loss: 0.5481 - val_accuracy: 0.7391\n",
            "Epoch 143/200\n",
            "3/3 [==============================] - 0s 27ms/step - loss: 0.4137 - accuracy: 0.8143 - val_loss: 0.5442 - val_accuracy: 0.7391\n",
            "Epoch 144/200\n",
            "3/3 [==============================] - 0s 27ms/step - loss: 0.4497 - accuracy: 0.8059 - val_loss: 0.5389 - val_accuracy: 0.7391\n",
            "Epoch 145/200\n",
            "3/3 [==============================] - 0s 26ms/step - loss: 0.4340 - accuracy: 0.8393 - val_loss: 0.5343 - val_accuracy: 0.7391\n",
            "Epoch 146/200\n",
            "3/3 [==============================] - 0s 27ms/step - loss: 0.4223 - accuracy: 0.8184 - val_loss: 0.5302 - val_accuracy: 0.7391\n",
            "Epoch 147/200\n",
            "3/3 [==============================] - 0s 26ms/step - loss: 0.4021 - accuracy: 0.8547 - val_loss: 0.5259 - val_accuracy: 0.7391\n",
            "Epoch 148/200\n",
            "3/3 [==============================] - 0s 28ms/step - loss: 0.4075 - accuracy: 0.8645 - val_loss: 0.5228 - val_accuracy: 0.7391\n",
            "Epoch 149/200\n",
            "3/3 [==============================] - 0s 27ms/step - loss: 0.3962 - accuracy: 0.8645 - val_loss: 0.5204 - val_accuracy: 0.7391\n",
            "Epoch 150/200\n",
            "3/3 [==============================] - 0s 25ms/step - loss: 0.4173 - accuracy: 0.8436 - val_loss: 0.5165 - val_accuracy: 0.7391\n",
            "Epoch 151/200\n",
            "3/3 [==============================] - 0s 25ms/step - loss: 0.4318 - accuracy: 0.8520 - val_loss: 0.5127 - val_accuracy: 0.7826\n",
            "Epoch 152/200\n",
            "3/3 [==============================] - 0s 27ms/step - loss: 0.4074 - accuracy: 0.8686 - val_loss: 0.5090 - val_accuracy: 0.7826\n",
            "Epoch 153/200\n",
            "3/3 [==============================] - 0s 27ms/step - loss: 0.4206 - accuracy: 0.8409 - val_loss: 0.5047 - val_accuracy: 0.7826\n",
            "Epoch 154/200\n",
            "3/3 [==============================] - 0s 30ms/step - loss: 0.4218 - accuracy: 0.8368 - val_loss: 0.5014 - val_accuracy: 0.7826\n",
            "Epoch 155/200\n",
            "3/3 [==============================] - 0s 31ms/step - loss: 0.4002 - accuracy: 0.8784 - val_loss: 0.4983 - val_accuracy: 0.8261\n",
            "Epoch 156/200\n",
            "3/3 [==============================] - 0s 25ms/step - loss: 0.3958 - accuracy: 0.8576 - val_loss: 0.4951 - val_accuracy: 0.8261\n",
            "Epoch 157/200\n",
            "3/3 [==============================] - 0s 117ms/step - loss: 0.4327 - accuracy: 0.8368 - val_loss: 0.4912 - val_accuracy: 0.8261\n",
            "Epoch 158/200\n",
            "3/3 [==============================] - 0s 25ms/step - loss: 0.4133 - accuracy: 0.8840 - val_loss: 0.4893 - val_accuracy: 0.8261\n",
            "Epoch 159/200\n",
            "3/3 [==============================] - 0s 25ms/step - loss: 0.4334 - accuracy: 0.8549 - val_loss: 0.4855 - val_accuracy: 0.8261\n",
            "Epoch 160/200\n",
            "3/3 [==============================] - 0s 26ms/step - loss: 0.3954 - accuracy: 0.8882 - val_loss: 0.4827 - val_accuracy: 0.8261\n",
            "Epoch 161/200\n",
            "3/3 [==============================] - 0s 29ms/step - loss: 0.3852 - accuracy: 0.8674 - val_loss: 0.4810 - val_accuracy: 0.8261\n",
            "Epoch 162/200\n",
            "3/3 [==============================] - 0s 26ms/step - loss: 0.3408 - accuracy: 0.9007 - val_loss: 0.4782 - val_accuracy: 0.8261\n",
            "Epoch 163/200\n",
            "3/3 [==============================] - 0s 29ms/step - loss: 0.3871 - accuracy: 0.8715 - val_loss: 0.4745 - val_accuracy: 0.8261\n",
            "Epoch 164/200\n",
            "3/3 [==============================] - 0s 36ms/step - loss: 0.3894 - accuracy: 0.9090 - val_loss: 0.4724 - val_accuracy: 0.8261\n",
            "Epoch 165/200\n",
            "3/3 [==============================] - 0s 27ms/step - loss: 0.3859 - accuracy: 0.8730 - val_loss: 0.4678 - val_accuracy: 0.8261\n",
            "Epoch 166/200\n",
            "3/3 [==============================] - 0s 27ms/step - loss: 0.3762 - accuracy: 0.9022 - val_loss: 0.4653 - val_accuracy: 0.8261\n",
            "Epoch 167/200\n",
            "3/3 [==============================] - 0s 25ms/step - loss: 0.3899 - accuracy: 0.8911 - val_loss: 0.4612 - val_accuracy: 0.8696\n",
            "Epoch 168/200\n",
            "3/3 [==============================] - 0s 30ms/step - loss: 0.3743 - accuracy: 0.9176 - val_loss: 0.4570 - val_accuracy: 0.9130\n",
            "Epoch 169/200\n",
            "3/3 [==============================] - 0s 31ms/step - loss: 0.3456 - accuracy: 0.9301 - val_loss: 0.4547 - val_accuracy: 0.9130\n",
            "Epoch 170/200\n",
            "3/3 [==============================] - 0s 28ms/step - loss: 0.3376 - accuracy: 0.9217 - val_loss: 0.4533 - val_accuracy: 0.9130\n",
            "Epoch 171/200\n",
            "3/3 [==============================] - 0s 27ms/step - loss: 0.3709 - accuracy: 0.9176 - val_loss: 0.4520 - val_accuracy: 0.9130\n",
            "Epoch 172/200\n",
            "3/3 [==============================] - 0s 28ms/step - loss: 0.3696 - accuracy: 0.8926 - val_loss: 0.4482 - val_accuracy: 0.9130\n",
            "Epoch 173/200\n",
            "3/3 [==============================] - 0s 29ms/step - loss: 0.3891 - accuracy: 0.8884 - val_loss: 0.4438 - val_accuracy: 0.9130\n",
            "Epoch 174/200\n",
            "3/3 [==============================] - 0s 35ms/step - loss: 0.3517 - accuracy: 0.9259 - val_loss: 0.4405 - val_accuracy: 0.9130\n",
            "Epoch 175/200\n",
            "3/3 [==============================] - 0s 27ms/step - loss: 0.3467 - accuracy: 0.9134 - val_loss: 0.4385 - val_accuracy: 0.9130\n",
            "Epoch 176/200\n",
            "3/3 [==============================] - 0s 26ms/step - loss: 0.3685 - accuracy: 0.8842 - val_loss: 0.4353 - val_accuracy: 0.9130\n",
            "Epoch 177/200\n",
            "3/3 [==============================] - 0s 28ms/step - loss: 0.3595 - accuracy: 0.9092 - val_loss: 0.4326 - val_accuracy: 0.9130\n",
            "Epoch 178/200\n",
            "3/3 [==============================] - 0s 25ms/step - loss: 0.3403 - accuracy: 0.9134 - val_loss: 0.4296 - val_accuracy: 0.9130\n",
            "Epoch 179/200\n",
            "3/3 [==============================] - 0s 27ms/step - loss: 0.3647 - accuracy: 0.8884 - val_loss: 0.4261 - val_accuracy: 0.9130\n",
            "Epoch 180/200\n",
            "3/3 [==============================] - 0s 28ms/step - loss: 0.3320 - accuracy: 0.9051 - val_loss: 0.4236 - val_accuracy: 0.9130\n",
            "Epoch 181/200\n",
            "3/3 [==============================] - 0s 28ms/step - loss: 0.3295 - accuracy: 0.9134 - val_loss: 0.4215 - val_accuracy: 0.9130\n",
            "Epoch 182/200\n",
            "3/3 [==============================] - 0s 31ms/step - loss: 0.3416 - accuracy: 0.9384 - val_loss: 0.4192 - val_accuracy: 0.9130\n",
            "Epoch 183/200\n",
            "3/3 [==============================] - 0s 28ms/step - loss: 0.3440 - accuracy: 0.9330 - val_loss: 0.4148 - val_accuracy: 0.9130\n",
            "Epoch 184/200\n",
            "3/3 [==============================] - 0s 25ms/step - loss: 0.3350 - accuracy: 0.9330 - val_loss: 0.4134 - val_accuracy: 0.9130\n",
            "Epoch 185/200\n",
            "3/3 [==============================] - 0s 27ms/step - loss: 0.3169 - accuracy: 0.9413 - val_loss: 0.4123 - val_accuracy: 0.9130\n",
            "Epoch 186/200\n",
            "3/3 [==============================] - 0s 28ms/step - loss: 0.3139 - accuracy: 0.9496 - val_loss: 0.4101 - val_accuracy: 0.9130\n",
            "Epoch 187/200\n",
            "3/3 [==============================] - 0s 30ms/step - loss: 0.3374 - accuracy: 0.9205 - val_loss: 0.4074 - val_accuracy: 0.9130\n",
            "Epoch 188/200\n",
            "3/3 [==============================] - 0s 28ms/step - loss: 0.3442 - accuracy: 0.9121 - val_loss: 0.4033 - val_accuracy: 0.9130\n",
            "Epoch 189/200\n",
            "3/3 [==============================] - 0s 26ms/step - loss: 0.3238 - accuracy: 0.9288 - val_loss: 0.4010 - val_accuracy: 0.9130\n",
            "Epoch 190/200\n",
            "3/3 [==============================] - 0s 28ms/step - loss: 0.3373 - accuracy: 0.9330 - val_loss: 0.3983 - val_accuracy: 0.9130\n",
            "Epoch 191/200\n",
            "3/3 [==============================] - 0s 30ms/step - loss: 0.3330 - accuracy: 0.9330 - val_loss: 0.3976 - val_accuracy: 0.9130\n",
            "Epoch 192/200\n",
            "3/3 [==============================] - 0s 24ms/step - loss: 0.3252 - accuracy: 0.9163 - val_loss: 0.3961 - val_accuracy: 0.9130\n",
            "Epoch 193/200\n",
            "3/3 [==============================] - 0s 24ms/step - loss: 0.2930 - accuracy: 0.9538 - val_loss: 0.3950 - val_accuracy: 0.9130\n",
            "Epoch 194/200\n",
            "3/3 [==============================] - 0s 26ms/step - loss: 0.3227 - accuracy: 0.9288 - val_loss: 0.3915 - val_accuracy: 0.9130\n",
            "Epoch 195/200\n",
            "3/3 [==============================] - 0s 26ms/step - loss: 0.3015 - accuracy: 0.9205 - val_loss: 0.3885 - val_accuracy: 0.9130\n",
            "Epoch 196/200\n",
            "3/3 [==============================] - 0s 28ms/step - loss: 0.3075 - accuracy: 0.9288 - val_loss: 0.3878 - val_accuracy: 0.9130\n",
            "Epoch 197/200\n",
            "3/3 [==============================] - 0s 27ms/step - loss: 0.3076 - accuracy: 0.9205 - val_loss: 0.3841 - val_accuracy: 0.9130\n",
            "Epoch 198/200\n",
            "3/3 [==============================] - 0s 25ms/step - loss: 0.3123 - accuracy: 0.9121 - val_loss: 0.3811 - val_accuracy: 0.9130\n",
            "Epoch 199/200\n",
            "3/3 [==============================] - 0s 28ms/step - loss: 0.3091 - accuracy: 0.9163 - val_loss: 0.3796 - val_accuracy: 0.9130\n",
            "Epoch 200/200\n",
            "3/3 [==============================] - 0s 25ms/step - loss: 0.2758 - accuracy: 0.9552 - val_loss: 0.3769 - val_accuracy: 0.9130\n"
          ],
          "name": "stdout"
        },
        {
          "output_type": "execute_result",
          "data": {
            "text/plain": [
              "<tensorflow.python.keras.callbacks.History at 0x7f54886b3278>"
            ]
          },
          "metadata": {
            "tags": []
          },
          "execution_count": 13
        }
      ]
    },
    {
      "cell_type": "code",
      "metadata": {
        "colab": {
          "base_uri": "https://localhost:8080/"
        },
        "id": "LRMVz3u6K8K0",
        "outputId": "6d82326c-4ccb-4651-ec15-4ae163ec64f7"
      },
      "source": [
        "acc = model2.evaluate(X_test, y_test)\r\n",
        "print(f'Accuracy: {acc[1]:.4f}')"
      ],
      "execution_count": 14,
      "outputs": [
        {
          "output_type": "stream",
          "text": [
            "2/2 [==============================] - 0s 3ms/step - loss: 0.3193 - accuracy: 0.9737\n",
            "Accuracy: 0.9737\n"
          ],
          "name": "stdout"
        }
      ]
    },
    {
      "cell_type": "code",
      "metadata": {
        "id": "p7Ak5T8QLFUy"
      },
      "source": [
        ""
      ],
      "execution_count": 14,
      "outputs": []
    }
  ]
}